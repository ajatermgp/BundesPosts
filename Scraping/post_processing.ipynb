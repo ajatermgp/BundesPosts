{
 "cells": [
  {
   "cell_type": "code",
   "execution_count": 1,
   "metadata": {},
   "outputs": [
    {
     "name": "stdout",
     "output_type": "stream",
     "text": [
      "✅ Libraries imported\n"
     ]
    }
   ],
   "source": [
    "# post_processing.ipynb\n",
    "\n",
    "# [1] Initialization Cell\n",
    "# -----------------------\n",
    "import pandas as pd\n",
    "import numpy as np\n",
    "from pathlib import Path\n",
    "import json\n",
    "import traceback\n",
    "from datetime import datetime\n",
    "from tqdm.notebook import tqdm\n",
    "\n",
    "print(\"✅ Libraries imported\")"
   ]
  },
  {
   "cell_type": "code",
   "execution_count": 2,
   "metadata": {},
   "outputs": [],
   "source": [
    "pd.set_option('display.max_columns', None)"
   ]
  },
  {
   "cell_type": "code",
   "execution_count": 3,
   "metadata": {},
   "outputs": [],
   "source": [
    "# !rm data/csv/*.csv\n",
    "# !rm data/post_csvs/*.csv\n",
    "# !rm data/csv_dup_rows/*.csv\n",
    "# !rm data/global_posts.csv\n",
    "# !rm data/accounts_analysis.csv\n"
   ]
  },
  {
   "cell_type": "markdown",
   "metadata": {},
   "source": [
    "# 1. Convert NDjsons to CSVs"
   ]
  },
  {
   "cell_type": "code",
   "execution_count": 4,
   "metadata": {},
   "outputs": [],
   "source": [
    "import pandas as pd\n",
    "\n",
    "accounts_df = pd.read_csv(\"data/accounts.csv\")\n",
    "\n",
    "#accounts_df = accounts_df.head(5) #rm\n",
    "accounts_df = accounts_df.drop(index=1) #rm\n"
   ]
  },
  {
   "cell_type": "code",
   "execution_count": 5,
   "metadata": {},
   "outputs": [],
   "source": [
    "accounts_df.insert(1, 'IG_handle', accounts_df['Account-Link'].str.replace(\"https://www.instagram.com/\",\"\").str.replace(\"/\",\"\"))"
   ]
  },
  {
   "cell_type": "code",
   "execution_count": 6,
   "metadata": {},
   "outputs": [
    {
     "data": {
      "text/html": [
       "<div>\n",
       "<style scoped>\n",
       "    .dataframe tbody tr th:only-of-type {\n",
       "        vertical-align: middle;\n",
       "    }\n",
       "\n",
       "    .dataframe tbody tr th {\n",
       "        vertical-align: top;\n",
       "    }\n",
       "\n",
       "    .dataframe thead th {\n",
       "        text-align: right;\n",
       "    }\n",
       "</style>\n",
       "<table border=\"1\" class=\"dataframe\">\n",
       "  <thead>\n",
       "    <tr style=\"text-align: right;\">\n",
       "      <th></th>\n",
       "      <th>Account-Link</th>\n",
       "      <th>IG_handle</th>\n",
       "      <th>IG_Followers_manual</th>\n",
       "      <th>scrape_status</th>\n",
       "      <th>Export_Path</th>\n",
       "      <th>CSV_Path</th>\n",
       "      <th>last_scraped</th>\n",
       "      <th>ZS_count</th>\n",
       "      <th>IG_count</th>\n",
       "      <th>IG_Followers</th>\n",
       "      <th>IG_Followed</th>\n",
       "      <th>Scrape_Start</th>\n",
       "      <th>Scrape_End</th>\n",
       "      <th>Notes</th>\n",
       "      <th>Name</th>\n",
       "      <th>Lebensdaten</th>\n",
       "      <th>Fraktion oder Gruppe (Partei)</th>\n",
       "      <th>Land</th>\n",
       "      <th>Listenplatz</th>\n",
       "      <th>Wahlkreis</th>\n",
       "      <th>Erststimmenanteil</th>\n",
       "      <th>Beruflicher Hintergrund</th>\n",
       "      <th>MdB seit</th>\n",
       "      <th>Bemerkungen</th>\n",
       "      <th>Unnamed: 12</th>\n",
       "      <th>Arbeitseinteilung</th>\n",
       "    </tr>\n",
       "  </thead>\n",
       "  <tbody>\n",
       "    <tr>\n",
       "      <th>0</th>\n",
       "      <td>https://www.instagram.com/bundeskanzler/</td>\n",
       "      <td>bundeskanzler</td>\n",
       "      <td>2000000.0</td>\n",
       "      <td>completed</td>\n",
       "      <td>data/exports/20250215_190918_bundeskanzler.ndjson</td>\n",
       "      <td>NaN</td>\n",
       "      <td>2025-02-15 19:09:20.938660</td>\n",
       "      <td>1200</td>\n",
       "      <td>1200</td>\n",
       "      <td>2000000</td>\n",
       "      <td>109</td>\n",
       "      <td>2025-02-15 19:04:35</td>\n",
       "      <td>2025-02-15 19:09:18</td>\n",
       "      <td>NaN</td>\n",
       "      <td>Olaf Scholz als Bundeskanzler</td>\n",
       "      <td>NaN</td>\n",
       "      <td>NaN</td>\n",
       "      <td>NaN</td>\n",
       "      <td>NaN</td>\n",
       "      <td>NaN</td>\n",
       "      <td>NaN</td>\n",
       "      <td>NaN</td>\n",
       "      <td>NaN</td>\n",
       "      <td>NaN</td>\n",
       "      <td>NaN</td>\n",
       "      <td>NaN</td>\n",
       "    </tr>\n",
       "    <tr>\n",
       "      <th>2</th>\n",
       "      <td>https://www.instagram.com/abaerbock/</td>\n",
       "      <td>abaerbock</td>\n",
       "      <td>611000.0</td>\n",
       "      <td>completed</td>\n",
       "      <td>data/exports/20250215_191752_abaerbock.ndjson</td>\n",
       "      <td>NaN</td>\n",
       "      <td>2025-02-15 19:17:54.514807</td>\n",
       "      <td>964</td>\n",
       "      <td>964</td>\n",
       "      <td>637000</td>\n",
       "      <td>419</td>\n",
       "      <td>2025-02-15 19:13:40</td>\n",
       "      <td>2025-02-15 19:17:52</td>\n",
       "      <td>NaN</td>\n",
       "      <td>Annalena Baerbock</td>\n",
       "      <td>1980.0</td>\n",
       "      <td>Grüne</td>\n",
       "      <td>Brandenburg</td>\n",
       "      <td>Platz 1</td>\n",
       "      <td>Potsdam – Potsdam-Mittelmark II – Teltow-Flämi...</td>\n",
       "      <td>18,8 %</td>\n",
       "      <td>Völkerrechtlerin</td>\n",
       "      <td>2013</td>\n",
       "      <td>Bundesministerin des Auswärtigen,</td>\n",
       "      <td>Parteivorsitzende</td>\n",
       "      <td>(bis Februar 2022)</td>\n",
       "    </tr>\n",
       "    <tr>\n",
       "      <th>3</th>\n",
       "      <td>https://www.instagram.com/minister.habeck/</td>\n",
       "      <td>minister.habeck</td>\n",
       "      <td>560080.0</td>\n",
       "      <td>completed</td>\n",
       "      <td>data/exports/20250215_192331_minister.habeck.n...</td>\n",
       "      <td>NaN</td>\n",
       "      <td>2025-02-15 19:23:34.056458</td>\n",
       "      <td>1510</td>\n",
       "      <td>1510</td>\n",
       "      <td>575000</td>\n",
       "      <td>34</td>\n",
       "      <td>2025-02-15 19:17:56</td>\n",
       "      <td>2025-02-15 19:23:31</td>\n",
       "      <td>NaN</td>\n",
       "      <td>Robert Habeck</td>\n",
       "      <td>1969.0</td>\n",
       "      <td>Grüne</td>\n",
       "      <td>Schleswig-Holstein</td>\n",
       "      <td>Platz 2</td>\n",
       "      <td>Flensburg – Schleswig</td>\n",
       "      <td>28,1 %</td>\n",
       "      <td>Politiker</td>\n",
       "      <td>2021</td>\n",
       "      <td>Bundesminister für Wirtschaft und Klimaschutz ...</td>\n",
       "      <td>NaN</td>\n",
       "      <td>NaN</td>\n",
       "    </tr>\n",
       "    <tr>\n",
       "      <th>4</th>\n",
       "      <td>https://www.instagram.com/dorobaer/</td>\n",
       "      <td>dorobaer</td>\n",
       "      <td>502000.0</td>\n",
       "      <td>done</td>\n",
       "      <td>data/exports/20250219_022801_dorobaer.ndjson</td>\n",
       "      <td>NaN</td>\n",
       "      <td>2025-02-19T02:28:03.974044</td>\n",
       "      <td>2717</td>\n",
       "      <td>2720</td>\n",
       "      <td>51000</td>\n",
       "      <td>5630</td>\n",
       "      <td>2025-02-15 19:23:37</td>\n",
       "      <td>2025-02-19 02:28:01</td>\n",
       "      <td>Accepting partial capture (2709/2713) after 5 ...</td>\n",
       "      <td>Dorothee Bär</td>\n",
       "      <td>1978.0</td>\n",
       "      <td>CDU/CSU (CSU)</td>\n",
       "      <td>Bayern</td>\n",
       "      <td>Platz 2</td>\n",
       "      <td>Bad Kissingen</td>\n",
       "      <td>39,1 %</td>\n",
       "      <td>Politologin</td>\n",
       "      <td>2002</td>\n",
       "      <td>NaN</td>\n",
       "      <td>NaN</td>\n",
       "      <td>NaN</td>\n",
       "    </tr>\n",
       "    <tr>\n",
       "      <th>5</th>\n",
       "      <td>https://www.instagram.com/chrupallatino/</td>\n",
       "      <td>chrupallatino</td>\n",
       "      <td>393000.0</td>\n",
       "      <td>completed</td>\n",
       "      <td>data/exports/20250215_193744_chrupallatino.ndjson</td>\n",
       "      <td>NaN</td>\n",
       "      <td>2025-02-15 19:37:46.762136</td>\n",
       "      <td>700</td>\n",
       "      <td>700</td>\n",
       "      <td>52200</td>\n",
       "      <td>166</td>\n",
       "      <td>2025-02-15 19:35:09</td>\n",
       "      <td>2025-02-15 19:37:44</td>\n",
       "      <td>NaN</td>\n",
       "      <td>Tino Chrupalla</td>\n",
       "      <td>1975.0</td>\n",
       "      <td>AfD</td>\n",
       "      <td>Sachsen</td>\n",
       "      <td>Platz 1</td>\n",
       "      <td>Görlitz</td>\n",
       "      <td>35,8 %</td>\n",
       "      <td>Malermeister</td>\n",
       "      <td>2017</td>\n",
       "      <td>Fraktionsvorsitzender,</td>\n",
       "      <td>Parteivorsitzender</td>\n",
       "      <td>NaN</td>\n",
       "    </tr>\n",
       "    <tr>\n",
       "      <th>...</th>\n",
       "      <td>...</td>\n",
       "      <td>...</td>\n",
       "      <td>...</td>\n",
       "      <td>...</td>\n",
       "      <td>...</td>\n",
       "      <td>...</td>\n",
       "      <td>...</td>\n",
       "      <td>...</td>\n",
       "      <td>...</td>\n",
       "      <td>...</td>\n",
       "      <td>...</td>\n",
       "      <td>...</td>\n",
       "      <td>...</td>\n",
       "      <td>...</td>\n",
       "      <td>...</td>\n",
       "      <td>...</td>\n",
       "      <td>...</td>\n",
       "      <td>...</td>\n",
       "      <td>...</td>\n",
       "      <td>...</td>\n",
       "      <td>...</td>\n",
       "      <td>...</td>\n",
       "      <td>...</td>\n",
       "      <td>...</td>\n",
       "      <td>...</td>\n",
       "      <td>...</td>\n",
       "    </tr>\n",
       "    <tr>\n",
       "      <th>745</th>\n",
       "      <td>NaN</td>\n",
       "      <td>NaN</td>\n",
       "      <td>NaN</td>\n",
       "      <td>pending</td>\n",
       "      <td>NaN</td>\n",
       "      <td>NaN</td>\n",
       "      <td>NaN</td>\n",
       "      <td>0</td>\n",
       "      <td>0</td>\n",
       "      <td>0</td>\n",
       "      <td>0</td>\n",
       "      <td>NaN</td>\n",
       "      <td>NaN</td>\n",
       "      <td>NaN</td>\n",
       "      <td>NaN</td>\n",
       "      <td>NaN</td>\n",
       "      <td>(SSW)</td>\n",
       "      <td>NaN</td>\n",
       "      <td>NaN</td>\n",
       "      <td>NaN</td>\n",
       "      <td>NaN</td>\n",
       "      <td>NaN</td>\n",
       "      <td>NaN</td>\n",
       "      <td>NaN</td>\n",
       "      <td>NaN</td>\n",
       "      <td>NaN</td>\n",
       "    </tr>\n",
       "    <tr>\n",
       "      <th>746</th>\n",
       "      <td>NaN</td>\n",
       "      <td>NaN</td>\n",
       "      <td>NaN</td>\n",
       "      <td>pending</td>\n",
       "      <td>NaN</td>\n",
       "      <td>NaN</td>\n",
       "      <td>NaN</td>\n",
       "      <td>0</td>\n",
       "      <td>0</td>\n",
       "      <td>0</td>\n",
       "      <td>0</td>\n",
       "      <td>NaN</td>\n",
       "      <td>NaN</td>\n",
       "      <td>NaN</td>\n",
       "      <td>Max Straubinger</td>\n",
       "      <td>1954.0</td>\n",
       "      <td>CDU/CSU (CSU)</td>\n",
       "      <td>Bayern</td>\n",
       "      <td>–</td>\n",
       "      <td>Rottal-Inn</td>\n",
       "      <td>31,5 %</td>\n",
       "      <td>Versicherungskaufmann</td>\n",
       "      <td>1994</td>\n",
       "      <td>NaN</td>\n",
       "      <td>NaN</td>\n",
       "      <td>NaN</td>\n",
       "    </tr>\n",
       "    <tr>\n",
       "      <th>747</th>\n",
       "      <td>NaN</td>\n",
       "      <td>NaN</td>\n",
       "      <td>NaN</td>\n",
       "      <td>pending</td>\n",
       "      <td>NaN</td>\n",
       "      <td>NaN</td>\n",
       "      <td>NaN</td>\n",
       "      <td>0</td>\n",
       "      <td>0</td>\n",
       "      <td>0</td>\n",
       "      <td>0</td>\n",
       "      <td>NaN</td>\n",
       "      <td>NaN</td>\n",
       "      <td>NaN</td>\n",
       "      <td>Marco Wanderwitz</td>\n",
       "      <td>1975.0</td>\n",
       "      <td>CDU/CSU (CDU)</td>\n",
       "      <td>Sachsen</td>\n",
       "      <td>Platz 1</td>\n",
       "      <td>Chemnitzer Umland – Erzgebirgskreis II</td>\n",
       "      <td>23,7 %</td>\n",
       "      <td>Rechtsanwalt</td>\n",
       "      <td>2002</td>\n",
       "      <td>NaN</td>\n",
       "      <td>NaN</td>\n",
       "      <td>NaN</td>\n",
       "    </tr>\n",
       "    <tr>\n",
       "      <th>748</th>\n",
       "      <td>NaN</td>\n",
       "      <td>NaN</td>\n",
       "      <td>NaN</td>\n",
       "      <td>pending</td>\n",
       "      <td>NaN</td>\n",
       "      <td>NaN</td>\n",
       "      <td>NaN</td>\n",
       "      <td>0</td>\n",
       "      <td>0</td>\n",
       "      <td>0</td>\n",
       "      <td>0</td>\n",
       "      <td>NaN</td>\n",
       "      <td>NaN</td>\n",
       "      <td>NaN</td>\n",
       "      <td>NaN</td>\n",
       "      <td>NaN</td>\n",
       "      <td>NaN</td>\n",
       "      <td>NaN</td>\n",
       "      <td>NaN</td>\n",
       "      <td>NaN</td>\n",
       "      <td>NaN</td>\n",
       "      <td>NaN</td>\n",
       "      <td>NaN</td>\n",
       "      <td>(ab 14. Juli 2022)</td>\n",
       "      <td>NaN</td>\n",
       "      <td>NaN</td>\n",
       "    </tr>\n",
       "    <tr>\n",
       "      <th>749</th>\n",
       "      <td>NaN</td>\n",
       "      <td>NaN</td>\n",
       "      <td>NaN</td>\n",
       "      <td>pending</td>\n",
       "      <td>NaN</td>\n",
       "      <td>NaN</td>\n",
       "      <td>NaN</td>\n",
       "      <td>0</td>\n",
       "      <td>0</td>\n",
       "      <td>0</td>\n",
       "      <td>0</td>\n",
       "      <td>NaN</td>\n",
       "      <td>NaN</td>\n",
       "      <td>NaN</td>\n",
       "      <td>NaN</td>\n",
       "      <td>NaN</td>\n",
       "      <td>NaN</td>\n",
       "      <td>NaN</td>\n",
       "      <td>NaN</td>\n",
       "      <td>NaN</td>\n",
       "      <td>NaN</td>\n",
       "      <td>NaN</td>\n",
       "      <td>NaN</td>\n",
       "      <td>von Januar bis August 2022 Mitglied der Zentru...</td>\n",
       "      <td>NaN</td>\n",
       "      <td>NaN</td>\n",
       "    </tr>\n",
       "  </tbody>\n",
       "</table>\n",
       "<p>749 rows × 26 columns</p>\n",
       "</div>"
      ],
      "text/plain": [
       "                                   Account-Link        IG_handle  \\\n",
       "0      https://www.instagram.com/bundeskanzler/    bundeskanzler   \n",
       "2          https://www.instagram.com/abaerbock/        abaerbock   \n",
       "3    https://www.instagram.com/minister.habeck/  minister.habeck   \n",
       "4           https://www.instagram.com/dorobaer/         dorobaer   \n",
       "5      https://www.instagram.com/chrupallatino/    chrupallatino   \n",
       "..                                          ...              ...   \n",
       "745                                         NaN              NaN   \n",
       "746                                         NaN              NaN   \n",
       "747                                         NaN              NaN   \n",
       "748                                         NaN              NaN   \n",
       "749                                         NaN              NaN   \n",
       "\n",
       "     IG_Followers_manual scrape_status  \\\n",
       "0              2000000.0     completed   \n",
       "2               611000.0     completed   \n",
       "3               560080.0     completed   \n",
       "4               502000.0          done   \n",
       "5               393000.0     completed   \n",
       "..                   ...           ...   \n",
       "745                  NaN       pending   \n",
       "746                  NaN       pending   \n",
       "747                  NaN       pending   \n",
       "748                  NaN       pending   \n",
       "749                  NaN       pending   \n",
       "\n",
       "                                           Export_Path  CSV_Path  \\\n",
       "0    data/exports/20250215_190918_bundeskanzler.ndjson       NaN   \n",
       "2        data/exports/20250215_191752_abaerbock.ndjson       NaN   \n",
       "3    data/exports/20250215_192331_minister.habeck.n...       NaN   \n",
       "4         data/exports/20250219_022801_dorobaer.ndjson       NaN   \n",
       "5    data/exports/20250215_193744_chrupallatino.ndjson       NaN   \n",
       "..                                                 ...       ...   \n",
       "745                                                NaN       NaN   \n",
       "746                                                NaN       NaN   \n",
       "747                                                NaN       NaN   \n",
       "748                                                NaN       NaN   \n",
       "749                                                NaN       NaN   \n",
       "\n",
       "                   last_scraped  ZS_count  IG_count  IG_Followers  \\\n",
       "0    2025-02-15 19:09:20.938660      1200      1200       2000000   \n",
       "2    2025-02-15 19:17:54.514807       964       964        637000   \n",
       "3    2025-02-15 19:23:34.056458      1510      1510        575000   \n",
       "4    2025-02-19T02:28:03.974044      2717      2720         51000   \n",
       "5    2025-02-15 19:37:46.762136       700       700         52200   \n",
       "..                          ...       ...       ...           ...   \n",
       "745                         NaN         0         0             0   \n",
       "746                         NaN         0         0             0   \n",
       "747                         NaN         0         0             0   \n",
       "748                         NaN         0         0             0   \n",
       "749                         NaN         0         0             0   \n",
       "\n",
       "     IG_Followed         Scrape_Start           Scrape_End  \\\n",
       "0            109  2025-02-15 19:04:35  2025-02-15 19:09:18   \n",
       "2            419  2025-02-15 19:13:40  2025-02-15 19:17:52   \n",
       "3             34  2025-02-15 19:17:56  2025-02-15 19:23:31   \n",
       "4           5630  2025-02-15 19:23:37  2025-02-19 02:28:01   \n",
       "5            166  2025-02-15 19:35:09  2025-02-15 19:37:44   \n",
       "..           ...                  ...                  ...   \n",
       "745            0                  NaN                  NaN   \n",
       "746            0                  NaN                  NaN   \n",
       "747            0                  NaN                  NaN   \n",
       "748            0                  NaN                  NaN   \n",
       "749            0                  NaN                  NaN   \n",
       "\n",
       "                                                 Notes  \\\n",
       "0                                                  NaN   \n",
       "2                                                  NaN   \n",
       "3                                                  NaN   \n",
       "4    Accepting partial capture (2709/2713) after 5 ...   \n",
       "5                                                  NaN   \n",
       "..                                                 ...   \n",
       "745                                                NaN   \n",
       "746                                                NaN   \n",
       "747                                                NaN   \n",
       "748                                                NaN   \n",
       "749                                                NaN   \n",
       "\n",
       "                              Name  Lebensdaten Fraktion oder Gruppe (Partei)  \\\n",
       "0    Olaf Scholz als Bundeskanzler          NaN                           NaN   \n",
       "2               Annalena Baerbock        1980.0                        Grüne    \n",
       "3                   Robert Habeck        1969.0                        Grüne    \n",
       "4                    Dorothee Bär        1978.0                CDU/CSU (CSU)    \n",
       "5                  Tino Chrupalla        1975.0                          AfD    \n",
       "..                             ...          ...                           ...   \n",
       "745                            NaN          NaN                        (SSW)    \n",
       "746               Max Straubinger        1954.0                CDU/CSU (CSU)    \n",
       "747              Marco Wanderwitz        1975.0                CDU/CSU (CDU)    \n",
       "748                            NaN          NaN                           NaN   \n",
       "749                            NaN          NaN                           NaN   \n",
       "\n",
       "                    Land Listenplatz  \\\n",
       "0                    NaN         NaN   \n",
       "2           Brandenburg     Platz 1    \n",
       "3    Schleswig-Holstein     Platz 2    \n",
       "4                Bayern     Platz 2    \n",
       "5               Sachsen     Platz 1    \n",
       "..                   ...         ...   \n",
       "745                  NaN         NaN   \n",
       "746              Bayern           –    \n",
       "747             Sachsen     Platz 1    \n",
       "748                  NaN         NaN   \n",
       "749                  NaN         NaN   \n",
       "\n",
       "                                             Wahlkreis Erststimmenanteil  \\\n",
       "0                                                  NaN               NaN   \n",
       "2    Potsdam – Potsdam-Mittelmark II – Teltow-Flämi...           18,8 %    \n",
       "3                               Flensburg – Schleswig            28,1 %    \n",
       "4                                       Bad Kissingen            39,1 %    \n",
       "5                                             Görlitz            35,8 %    \n",
       "..                                                 ...               ...   \n",
       "745                                                NaN               NaN   \n",
       "746                                        Rottal-Inn            31,5 %    \n",
       "747            Chemnitzer Umland – Erzgebirgskreis II            23,7 %    \n",
       "748                                                NaN               NaN   \n",
       "749                                                NaN               NaN   \n",
       "\n",
       "    Beruflicher Hintergrund MdB seit  \\\n",
       "0                       NaN      NaN   \n",
       "2         Völkerrechtlerin      2013   \n",
       "3                Politiker      2021   \n",
       "4              Politologin      2002   \n",
       "5             Malermeister      2017   \n",
       "..                      ...      ...   \n",
       "745                     NaN      NaN   \n",
       "746  Versicherungskaufmann      1994   \n",
       "747           Rechtsanwalt      2002   \n",
       "748                     NaN      NaN   \n",
       "749                     NaN      NaN   \n",
       "\n",
       "                                           Bemerkungen          Unnamed: 12  \\\n",
       "0                                                  NaN                  NaN   \n",
       "2                    Bundesministerin des Auswärtigen,    Parteivorsitzende   \n",
       "3    Bundesminister für Wirtschaft und Klimaschutz ...                  NaN   \n",
       "4                                                  NaN                  NaN   \n",
       "5                               Fraktionsvorsitzender,  Parteivorsitzender    \n",
       "..                                                 ...                  ...   \n",
       "745                                                NaN                  NaN   \n",
       "746                                                NaN                  NaN   \n",
       "747                                                NaN                  NaN   \n",
       "748                                (ab 14. Juli 2022)                   NaN   \n",
       "749  von Januar bis August 2022 Mitglied der Zentru...                  NaN   \n",
       "\n",
       "       Arbeitseinteilung  \n",
       "0                    NaN  \n",
       "2    (bis Februar 2022)   \n",
       "3                    NaN  \n",
       "4                    NaN  \n",
       "5                    NaN  \n",
       "..                   ...  \n",
       "745                  NaN  \n",
       "746                  NaN  \n",
       "747                  NaN  \n",
       "748                  NaN  \n",
       "749                  NaN  \n",
       "\n",
       "[749 rows x 26 columns]"
      ]
     },
     "execution_count": 6,
     "metadata": {},
     "output_type": "execute_result"
    }
   ],
   "source": [
    "accounts_df"
   ]
  },
  {
   "cell_type": "code",
   "execution_count": 7,
   "metadata": {},
   "outputs": [
    {
     "name": "stdout",
     "output_type": "stream",
     "text": [
      "Requirement already satisfied: tqdm in /Users/leobru/anaconda3/envs/bundesposts_scraping/lib/python3.10/site-packages (4.67.1)\n"
     ]
    },
    {
     "name": "stderr",
     "output_type": "stream",
     "text": [
      "/Users/leobru/anaconda3/envs/bundesposts_scraping/lib/python3.10/site-packages/tqdm/auto.py:21: TqdmWarning: IProgress not found. Please update jupyter and ipywidgets. See https://ipywidgets.readthedocs.io/en/stable/user_install.html\n",
      "  from .autonotebook import tqdm as notebook_tqdm\n"
     ]
    }
   ],
   "source": [
    "!pip install tqdm\n",
    "\n",
    "from tqdm.auto import tqdm"
   ]
  },
  {
   "cell_type": "code",
   "execution_count": 8,
   "metadata": {},
   "outputs": [],
   "source": [
    "#Michael Achmann. (2023). michaelachmann/social-media-lab: 06.11.2023 (v0.0.3). Zenodo. https://doi.org/10.5281/zenodo.8199901\n",
    "\n",
    "import pandas as pd\n",
    "import json\n",
    "#@title Import Zeeschuimer Data\n",
    "#@markdown **Keep 4CAT as format to download images within this notebook.**  **Formats:** *MA* corresponds to CrowdTangle and instaloader Notebooks. Compatible with future notebooks for data annotation. *4CAT* corresponds to 4CAT CSV format.  *TODO: Import multiple images.*  This importer is based on 4CAT code, published under Mozilla Pulice License 2.0 at https://github.com/digitalmethodsinitiative/4cat/tree/master/datasources/instagram\n",
    "\n",
    "from tqdm.auto import tqdm\n",
    "#from datetime import datetime\n",
    "\n",
    "######### LB\n",
    "def convert_single_ndjson_to_csv(input_ndjson_path, output_csv_path):\n",
    "######### LB\n",
    "\n",
    "    import_format = \"4CAT\" # @param [\"MA\", \"4CAT\"]\n",
    "\n",
    "    # import_filename = 'data/exports/20250215_192331_minister.habeck.ndjson'  # @param {type: \"string\"}\n",
    "    # export_filename = 'data/csv/test_habeck.csv'  # @param {type: \"string\"}\n",
    "    \n",
    "    import_filename = input_ndjson_path\n",
    "    export_filename = output_csv_path\n",
    "\n",
    "    \"\"\"\n",
    "    Import scraped Instagram data\n",
    "\n",
    "    This code has been taken from 4CAT, available under Mozilla Public License 2.0 at https://github.com/digitalmethodsinitiative/4cat/tree/master/datasources/instagram\n",
    "    \"\"\"\n",
    "    from datetime import datetime\n",
    "    import re\n",
    "\n",
    "    # some magic numbers instagram uses\n",
    "    MEDIA_TYPE_PHOTO = 1\n",
    "    MEDIA_TYPE_VIDEO = 2\n",
    "    MEDIA_TYPE_CAROUSEL = 8\n",
    "\n",
    "    def parse_graph_item(node):\n",
    "        \"\"\"\n",
    "        Parse Instagram post in Graph format\n",
    "\n",
    "        :param node:  Data as received from Instagram\n",
    "        :return dict:  Mapped item\n",
    "        \"\"\"\n",
    "        try:\n",
    "            caption = node[\"edge_media_to_caption\"][\"edges\"][0][\"node\"][\"text\"]\n",
    "        except IndexError:\n",
    "            caption = \"\"\n",
    "\n",
    "        num_media = 1 if node[\"__typename\"] != \"GraphSidecar\" else len(node[\"edge_sidecar_to_children\"][\"edges\"])\n",
    "\n",
    "        # get media url\n",
    "        # for carousels, get the first media item, for videos, get the video\n",
    "        # url, for photos, get the highest resolution\n",
    "\n",
    "        media_nodes = []\n",
    "\n",
    "        if node[\"__typename\"] == \"GraphSidecar\":\n",
    "            for media_node in node[\"edge_sidecar_to_children\"][\"edges\"]:\n",
    "                media_nodes.append(media_node[\"node\"])\n",
    "        else:\n",
    "            media_node.apend(node)\n",
    "\n",
    "        mapped_items = []\n",
    "        for media_node in media_nodes:\n",
    "            if media_node[\"__typename\"] == \"GraphVideo\":\n",
    "                media_url = media_node[\"video_url\"]\n",
    "            elif media_node[\"__typename\"] == \"GraphImage\":\n",
    "                resources = media_node.get(\"display_resources\", media_node.get(\"thumbnail_resources\"))\n",
    "                try:\n",
    "                    media_url = resources.pop()[\"src\"]\n",
    "                except AttributeError:\n",
    "                    media_url = media_node.get(\"display_url\", \"\")\n",
    "            else:\n",
    "                media_url = media_node[\"display_url\"]\n",
    "\n",
    "            # type, 'mixed' means carousel with video and photo\n",
    "            type_map = {\"GraphSidecar\": \"photo\", \"GraphVideo\": \"video\"}\n",
    "            if node[\"__typename\"] != \"GraphSidecar\":\n",
    "                media_type = type_map.get(node[\"__typename\"], \"unknown\")\n",
    "            else:\n",
    "                media_types = set([s[\"node\"][\"__typename\"] for s in node[\"edge_sidecar_to_children\"][\"edges\"]])\n",
    "                media_type = \"mixed\" if len(media_types) > 1 else type_map.get(media_types.pop(), \"unknown\")\n",
    "\n",
    "            location = {\"name\": \"\", \"latlong\": \"\", \"city\": \"\"}\n",
    "            # location has 'id', 'has_public_page', 'name', and 'slug' keys in tested examples; no lat long or \"city\" though name seems\n",
    "            if node.get(\"location\"):\n",
    "                location[\"name\"] = node[\"location\"].get(\"name\")\n",
    "                # Leaving this though it does not appear to be used in this type; maybe we'll be surprised in the future...\n",
    "                location[\"latlong\"] = str(node[\"location\"][\"lat\"]) + \",\" + str(node[\"location\"][\"lng\"]) if node[\n",
    "                    \"location\"].get(\"lat\") else \"\"\n",
    "                location[\"city\"] = node[\"location\"].get(\"city\")\n",
    "\n",
    "\n",
    "            if num_media > 1:\n",
    "                media_filename = f\"{node['code']}_{i}\"\n",
    "            else:\n",
    "                media_filename = f\"{node['code']}\"\n",
    "\n",
    "            mapped_item = {\n",
    "                \"id\": node[\"shortcode\"],\n",
    "                \"thread_id\": node[\"shortcode\"],\n",
    "                \"parent_id\": node[\"shortcode\"],\n",
    "                \"body\": caption,\n",
    "                \"author\": node[\"owner\"][\"username\"],\n",
    "                \"timestamp\": datetime.fromtimestamp(node[\"taken_at_timestamp\"]).strftime(\"%Y-%m-%d %H:%M:%S\"),\n",
    "                \"author_fullname\": node[\"owner\"].get(\"full_name\", \"\"),\n",
    "                \"author_avatar_url\": node[\"owner\"].get(\"profile_pic_url\", \"\"),\n",
    "                \"type\": media_type,\n",
    "                \"url\": \"https://www.instagram.com/p/\" + node[\"shortcode\"],\n",
    "                \"image_url\": node[\"display_url\"],\n",
    "                \"media_url\": media_url,\n",
    "                \"hashtags\": \",\".join(re.findall(r\"#([^\\s!@#$%ˆ&*()_+{}:\\\"|<>?;'\\,./`~']+)\", caption)),\n",
    "                # \"usertags\": \",\".join(\n",
    "                #     [u[\"node\"][\"user\"][\"username\"] for u in node[\"edge_media_to_tagged_user\"][\"edges\"]]),\n",
    "                \"num_likes\": node[\"edge_media_preview_like\"][\"count\"],\n",
    "                \"num_comments\": node.get(\"edge_media_preview_comment\", {}).get(\"count\", 0),\n",
    "                \"num_media\": num_media,\n",
    "                \"location_name\": location[\"name\"],\n",
    "                \"location_latlong\": location[\"latlong\"],\n",
    "                \"location_city\": location[\"city\"],\n",
    "                \"unix_timestamp\": node[\"taken_at_timestamp\"],\n",
    "                \"media_n\": i,\n",
    "                \"media_filename\": media_filename\n",
    "            }\n",
    "            mapped_items.append(mapped_item)\n",
    "\n",
    "        return mapped_items\n",
    "\n",
    "    @staticmethod\n",
    "    def parse_itemlist_item(node):\n",
    "        \"\"\"\n",
    "        Parse Instagram post in 'item list' format\n",
    "\n",
    "        :param node:  Data as received from Instagram\n",
    "        :return dict:  Mapped item\n",
    "        \"\"\"\n",
    "        num_media = 1 if node[\"media_type\"] != MEDIA_TYPE_CAROUSEL else len(node[\"carousel_media\"])\n",
    "        caption = \"\" if not node.get(\"caption\") else node[\"caption\"][\"text\"]\n",
    "\n",
    "        # get media url\n",
    "        # for carousels, get the first media item, for videos, get the video\n",
    "        # url, for photos, get the highest resolution\n",
    "\n",
    "        media_nodes = []\n",
    "\n",
    "        if node[\"media_type\"] == MEDIA_TYPE_CAROUSEL:\n",
    "            media_nodes.extend(node[\"carousel_media\"])\n",
    "        else:\n",
    "            media_nodes.append(node)\n",
    "\n",
    "\n",
    "        mapped_items = []\n",
    "\n",
    "        for i, media_node in enumerate(media_nodes):\n",
    "            if media_node[\"media_type\"] == MEDIA_TYPE_VIDEO:\n",
    "                media_url = media_node[\"video_versions\"][0][\"url\"]\n",
    "                if \"image_versions2\" in media_node:\n",
    "                    display_url = media_node[\"image_versions2\"][\"candidates\"][0][\"url\"]\n",
    "                else:\n",
    "                    # no image links at all :-/\n",
    "                    # video is all we have\n",
    "                    display_url = media_node[\"video_versions\"][0][\"url\"]\n",
    "            elif media_node[\"media_type\"] == MEDIA_TYPE_PHOTO:\n",
    "                media_url = media_node[\"image_versions2\"][\"candidates\"][0][\"url\"]\n",
    "                display_url = media_url\n",
    "            else:\n",
    "                media_url = \"\"\n",
    "                display_url = \"\"\n",
    "\n",
    "            # type, 'mixed' means carousel with video and photo\n",
    "            type_map = {MEDIA_TYPE_PHOTO: \"photo\", MEDIA_TYPE_VIDEO: \"video\"}\n",
    "            if node[\"media_type\"] != MEDIA_TYPE_CAROUSEL:\n",
    "                media_type = type_map.get(node[\"media_type\"], \"unknown\")\n",
    "            else:\n",
    "                media_types = set([s[\"media_type\"] for s in node[\"carousel_media\"]])\n",
    "                media_type = \"mixed\" if len(media_types) > 1 else type_map.get(media_types.pop(), \"unknown\")\n",
    "\n",
    "            if \"comment_count\" in node:\n",
    "                num_comments = node[\"comment_count\"]\n",
    "            elif \"comments\" in node and type(node[\"comments\"]) is list:\n",
    "                num_comments = len(node[\"comments\"])\n",
    "            else:\n",
    "                num_comments = -1\n",
    "\n",
    "            location = {\"name\": \"\", \"latlong\": \"\", \"city\": \"\"}\n",
    "            if node.get(\"location\"):\n",
    "                location[\"name\"] = node[\"location\"].get(\"name\")\n",
    "                location[\"latlong\"] = str(node[\"location\"][\"lat\"]) + \",\" + str(node[\"location\"][\"lng\"]) if node[\n",
    "                    \"location\"].get(\"lat\") else \"\"\n",
    "                location[\"city\"] = node[\"location\"].get(\"city\")\n",
    "\n",
    "            if num_media > 1:\n",
    "                media_filename = f\"{node['code']}_{i}\"\n",
    "            else:\n",
    "                media_filename = f\"{node['code']}\"\n",
    "\n",
    "            mapped_item = {\n",
    "                \"id\": node[\"code\"],\n",
    "                \"thread_id\": node[\"code\"],\n",
    "                \"parent_id\": node[\"code\"],\n",
    "                \"body\": caption,\n",
    "                \"author\": node[\"user\"][\"username\"],\n",
    "                \"author_fullname\": node[\"user\"][\"full_name\"],\n",
    "                \"author_avatar_url\": node[\"user\"][\"profile_pic_url\"],\n",
    "                \"timestamp\": datetime.fromtimestamp(node[\"taken_at\"]).strftime(\"%Y-%m-%d %H:%M:%S\"),\n",
    "                \"type\": media_type,\n",
    "                \"url\": \"https://www.instagram.com/p/\" + node[\"code\"],\n",
    "                \"image_url\": display_url,\n",
    "                \"media_url\": media_url,\n",
    "                \"hashtags\": \",\".join(re.findall(r\"#([^\\s!@#$%ˆ&*()_+{}:\\\"|<>?;'\\,./`~']+)\", caption)),\n",
    "                # \"usertags\": \",\".join(\n",
    "                #     [u[\"node\"][\"user\"][\"username\"] for u in node[\"edge_media_to_tagged_user\"][\"edges\"]]),\n",
    "                \"num_likes\": node[\"like_count\"],\n",
    "                \"num_comments\": num_comments,\n",
    "                \"num_media\": num_media,\n",
    "                \"location_name\": location[\"name\"],\n",
    "                \"location_latlong\": location[\"latlong\"],\n",
    "                \"location_city\": location[\"city\"],\n",
    "                \"unix_timestamp\": node[\"taken_at\"],\n",
    "                \"media_n\": i,\n",
    "                \"media_filename\": media_filename\n",
    "            }\n",
    "            mapped_items.append(mapped_item)\n",
    "\n",
    "        return mapped_items\n",
    "\n",
    "    def map_item(item):\n",
    "        \"\"\"\n",
    "        Map Instagram item\n",
    "\n",
    "        Instagram importing is a little bit roundabout since we can expect\n",
    "        input in two separate and not completely overlapping formats - an \"edge\n",
    "        list\" or an \"item list\", and posts are structured differently between\n",
    "        those, and do not contain the same data. So we find a middle ground\n",
    "        here... each format has its own handler function\n",
    "\n",
    "        :param dict item:  Item to map\n",
    "        :return:  Mapped item\n",
    "        \"\"\"\n",
    "        link = item.get(\"link\", \"\")\n",
    "        if (item.get(\"product_type\", \"\") == \"ad\") or \\\n",
    "                (link and link.startswith(\"https://www.facebook.com/ads/ig_redirect\")):\n",
    "\n",
    "            return None\n",
    "\n",
    "        is_graph_response = \"__typename\" in item and item[\"__typename\"] not in (\"XDTMediaDict\",)\n",
    "\n",
    "        if is_graph_response:\n",
    "            return parse_graph_item(item)\n",
    "        else:\n",
    "            return parse_itemlist_item(item)\n",
    "\n",
    "\n",
    "\n",
    "    ##########\n",
    "    # CODE MA\n",
    "    ##########\n",
    "\n",
    "    data = []\n",
    "\n",
    "    # List to store all the dictionaries\n",
    "    data_list = []\n",
    "\n",
    "    # Read the ndjson file line by line\n",
    "    with open(import_filename, 'r') as file:\n",
    "        for line in file:\n",
    "            # Parse the JSON line and extract the 'data' field\n",
    "            json_line = json.loads(line)\n",
    "            data_field = json_line['data']\n",
    "\n",
    "            # Add the 'data' field to your list\n",
    "            data_list.append(data_field)\n",
    "\n",
    "\n",
    "    # Next, we convert the data into a table\n",
    "    for element in tqdm(data_list):\n",
    "        item = map_item(element)\n",
    "\n",
    "        if item:\n",
    "            if import_format == \"MA\":\n",
    "                data.append({\n",
    "                    'shortcode': item.get(\"id\", \"\"),\n",
    "                    'username': item.get(\"author\", \"\"),\n",
    "                    'timestamp': item.get(\"unix_timestamp\", None),\n",
    "                    'caption': item.get(\"body\", \"\"),\n",
    "                    'location': item.get(\"location_name\", None),\n",
    "                })\n",
    "\n",
    "            else:\n",
    "                data.extend(item)\n",
    "\n",
    "    posts_df = pd.DataFrame(data)\n",
    "    posts_df.to_csv(export_filename)\n",
    "\n",
    "    print(f\"Imported Zeeschuimer Data. Saved export to {export_filename}\")\n",
    "\n"
   ]
  },
  {
   "cell_type": "code",
   "execution_count": 9,
   "metadata": {},
   "outputs": [],
   "source": [
    "def convert_all_ndjson_to_csv(accounts_df):\n",
    "   \n",
    "   \n",
    "  for idx, row in accounts_df.iterrows():\n",
    "    try:\n",
    "      # Check for required fields\n",
    "      if pd.isna(row.get(\"Export_Path\")) or pd.isna(row.get(\"IG_handle\")):\n",
    "          print(f\"⚠️ Skipping row {idx}: Missing Export_Path or IG_handle\")\n",
    "          continue\n",
    "\n",
    "      import_filename = row[\"Export_Path\"]\n",
    "\n",
    "      handle = row[\"IG_handle\"]\n",
    "\n",
    "      # Verify source file exists\n",
    "      if not Path(import_filename).exists():\n",
    "          print(f\"⚠️ File not found: {import_filename} - Skipping\")\n",
    "          continue\n",
    "\n",
    "      timestamp = datetime.now().strftime(\"%Y%m%d_%H%M%S\")\n",
    "\n",
    "      export_filename = f\"data/csv_dup_rows/{timestamp}_{handle}.csv\"\n",
    "\n",
    "      # Process file with error handling\n",
    "      try:\n",
    "          convert_single_ndjson_to_csv(import_filename, export_filename)\n",
    "          accounts_df.at[idx, \"CSV_Path\"] = export_filename\n",
    "          print(f\"✅ Success: {export_filename}\")\n",
    "      except Exception as e:\n",
    "          print(f\"🔥 Error processing {import_filename}: {str(e)}\")\n",
    "          traceback.print_exc()\n",
    "\n",
    "\n",
    "    except KeyError as ke:\n",
    "        print(f\"❌ Missing column in dataframe: {str(ke)}\")\n",
    "    except Exception as e:\n",
    "        print(f\"🔥 Unexpected error with row {idx}: {str(e)}\")\n",
    "\n",
    "    # Save only if dataframe was modified        \n",
    "    if \"CSV_Path\" in accounts_df.columns:\n",
    "        accounts_df.to_csv(\"data/csv_dup_rows/accounts_dup_rows.csv\", index=False)\n",
    "        print(\"💾 Saved updated accounts list\")\n",
    "    else:\n",
    "        print(\"🔄 No changes to save\")\n",
    "\n",
    "\n",
    "\n",
    "  "
   ]
  },
  {
   "cell_type": "code",
   "execution_count": 10,
   "metadata": {},
   "outputs": [
    {
     "name": "stderr",
     "output_type": "stream",
     "text": [
      "100%|██████████| 1200/1200 [00:00<00:00, 18333.48it/s]\n"
     ]
    },
    {
     "name": "stdout",
     "output_type": "stream",
     "text": [
      "Imported Zeeschuimer Data. Saved export to data/csv_dup_rows/20250222_050038_bundeskanzler.csv\n",
      "✅ Success: data/csv_dup_rows/20250222_050038_bundeskanzler.csv\n",
      "💾 Saved updated accounts list\n"
     ]
    },
    {
     "name": "stderr",
     "output_type": "stream",
     "text": [
      "100%|██████████| 964/964 [00:00<00:00, 28025.79it/s]\n"
     ]
    },
    {
     "name": "stdout",
     "output_type": "stream",
     "text": [
      "Imported Zeeschuimer Data. Saved export to data/csv_dup_rows/20250222_050038_abaerbock.csv\n",
      "✅ Success: data/csv_dup_rows/20250222_050038_abaerbock.csv\n",
      "💾 Saved updated accounts list\n"
     ]
    },
    {
     "name": "stderr",
     "output_type": "stream",
     "text": [
      "100%|██████████| 1510/1510 [00:00<00:00, 51363.68it/s]\n"
     ]
    },
    {
     "name": "stdout",
     "output_type": "stream",
     "text": [
      "Imported Zeeschuimer Data. Saved export to data/csv_dup_rows/20250222_050039_minister.habeck.csv\n",
      "✅ Success: data/csv_dup_rows/20250222_050039_minister.habeck.csv\n",
      "💾 Saved updated accounts list\n"
     ]
    },
    {
     "name": "stderr",
     "output_type": "stream",
     "text": [
      "100%|██████████| 2717/2717 [00:00<00:00, 34102.79it/s]\n"
     ]
    },
    {
     "name": "stdout",
     "output_type": "stream",
     "text": [
      "Imported Zeeschuimer Data. Saved export to data/csv_dup_rows/20250222_050039_dorobaer.csv\n",
      "✅ Success: data/csv_dup_rows/20250222_050039_dorobaer.csv\n",
      "💾 Saved updated accounts list\n",
      "⚠️ File not found: data/exports/20250215_193744_chrupallatino.ndjson - Skipping\n",
      "⚠️ File not found: data/exports/20250215_194836_christianlindner.ndjson - Skipping\n",
      "⚠️ File not found: data/exports/20250215_195138_alice.weidel.ndjson - Skipping\n"
     ]
    },
    {
     "name": "stderr",
     "output_type": "stream",
     "text": [
      "100%|██████████| 1451/1451 [00:00<00:00, 88104.91it/s]\n"
     ]
    },
    {
     "name": "stdout",
     "output_type": "stream",
     "text": [
      "Imported Zeeschuimer Data. Saved export to data/csv_dup_rows/20250222_050040_karl_lauterbach_mdb.csv\n",
      "✅ Success: data/csv_dup_rows/20250222_050040_karl_lauterbach_mdb.csv\n",
      "💾 Saved updated accounts list\n",
      "⚠️ File not found: data/exports/20250219_023122_franziska.brantner.ndjson - Skipping\n",
      "⚠️ File not found: data/exports/20250219_024111_marcobuschmann.ndjson - Skipping\n"
     ]
    },
    {
     "name": "stderr",
     "output_type": "stream",
     "text": [
      "100%|██████████| 1057/1057 [00:00<00:00, 83248.13it/s]"
     ]
    },
    {
     "name": "stdout",
     "output_type": "stream",
     "text": [
      "Imported Zeeschuimer Data. Saved export to data/csv_dup_rows/20250222_050041_sahra_wagenknecht.csv\n"
     ]
    },
    {
     "name": "stderr",
     "output_type": "stream",
     "text": [
      "\n"
     ]
    },
    {
     "name": "stdout",
     "output_type": "stream",
     "text": [
      "✅ Success: data/csv_dup_rows/20250222_050041_sahra_wagenknecht.csv\n",
      "💾 Saved updated accounts list\n",
      "⚠️ File not found: data/exports/20250215_205112_stephanbrandner.ndjson - Skipping\n",
      "⚠️ File not found: data/exports/20250215_205601_drkarambadiaby.ndjson - Skipping\n"
     ]
    },
    {
     "name": "stderr",
     "output_type": "stream",
     "text": [
      "100%|██████████| 589/589 [00:00<00:00, 54240.66it/s]\n"
     ]
    },
    {
     "name": "stdout",
     "output_type": "stream",
     "text": [
      "Imported Zeeschuimer Data. Saved export to data/csv_dup_rows/20250222_050041_amtsbergluise.csv\n",
      "✅ Success: data/csv_dup_rows/20250222_050041_amtsbergluise.csv\n",
      "💾 Saved updated accounts list\n"
     ]
    },
    {
     "name": "stderr",
     "output_type": "stream",
     "text": [
      "100%|██████████| 1633/1633 [00:00<00:00, 70491.42it/s]\n"
     ]
    },
    {
     "name": "stdout",
     "output_type": "stream",
     "text": [
      "Imported Zeeschuimer Data. Saved export to data/csv_dup_rows/20250222_050041_olafscholz.csv\n",
      "✅ Success: data/csv_dup_rows/20250222_050041_olafscholz.csv\n",
      "💾 Saved updated accounts list\n",
      "⚠️ File not found: data/exports/20250215_210816_al_halak_m.ndjson - Skipping\n"
     ]
    },
    {
     "name": "stderr",
     "output_type": "stream",
     "text": [
      "100%|██████████| 202/202 [00:00<00:00, 53909.99it/s]\n"
     ]
    },
    {
     "name": "stdout",
     "output_type": "stream",
     "text": [
      "Imported Zeeschuimer Data. Saved export to data/csv_dup_rows/20250222_050041_robert.habeck.csv\n",
      "✅ Success: data/csv_dup_rows/20250222_050041_robert.habeck.csv\n",
      "💾 Saved updated accounts list\n"
     ]
    },
    {
     "name": "stderr",
     "output_type": "stream",
     "text": [
      "100%|██████████| 1163/1163 [00:00<00:00, 95592.22it/s]\n"
     ]
    },
    {
     "name": "stdout",
     "output_type": "stream",
     "text": [
      "Imported Zeeschuimer Data. Saved export to data/csv_dup_rows/20250222_050041_rogerbeckamp.csv\n",
      "✅ Success: data/csv_dup_rows/20250222_050041_rogerbeckamp.csv\n",
      "💾 Saved updated accounts list\n"
     ]
    },
    {
     "name": "stderr",
     "output_type": "stream",
     "text": [
      "100%|██████████| 602/602 [00:00<00:00, 73289.53it/s]\n"
     ]
    },
    {
     "name": "stdout",
     "output_type": "stream",
     "text": [
      "Imported Zeeschuimer Data. Saved export to data/csv_dup_rows/20250222_050042_gregorgysi.csv\n",
      "✅ Success: data/csv_dup_rows/20250222_050042_gregorgysi.csv\n",
      "💾 Saved updated accounts list\n",
      "⚠️ File not found: data/exports/20250215_212110_reem.alabaliradovan.ndjson - Skipping\n"
     ]
    },
    {
     "name": "stderr",
     "output_type": "stream",
     "text": [
      "100%|██████████| 951/951 [00:00<00:00, 45640.34it/s]\n"
     ]
    },
    {
     "name": "stdout",
     "output_type": "stream",
     "text": [
      "Imported Zeeschuimer Data. Saved export to data/csv_dup_rows/20250222_050042_saskiaesken.csv\n",
      "✅ Success: data/csv_dup_rows/20250222_050042_saskiaesken.csv\n",
      "💾 Saved updated accounts list\n",
      "⚠️ File not found: data/exports/20250215_212746_adis.a93.ndjson - Skipping\n",
      "⚠️ File not found: data/exports/20250215_213212_merzcdu.ndjson - Skipping\n",
      "⚠️ File not found: data/exports/20250215_213827_katharina.droege.ndjson - Skipping\n"
     ]
    },
    {
     "name": "stderr",
     "output_type": "stream",
     "text": [
      "100%|██████████| 1812/1812 [00:00<00:00, 45498.83it/s]\n"
     ]
    },
    {
     "name": "stdout",
     "output_type": "stream",
     "text": [
      "Imported Zeeschuimer Data. Saved export to data/csv_dup_rows/20250222_050042_cem.oezdemir.csv\n",
      "✅ Success: data/csv_dup_rows/20250222_050042_cem.oezdemir.csv\n",
      "💾 Saved updated accounts list\n"
     ]
    },
    {
     "name": "stderr",
     "output_type": "stream",
     "text": [
      "100%|██████████| 727/727 [00:00<00:00, 40742.07it/s]\n"
     ]
    },
    {
     "name": "stdout",
     "output_type": "stream",
     "text": [
      "Imported Zeeschuimer Data. Saved export to data/csv_dup_rows/20250222_050043_ralph_brinkhaus.csv\n",
      "✅ Success: data/csv_dup_rows/20250222_050043_ralph_brinkhaus.csv\n",
      "💾 Saved updated accounts list\n",
      "⚠️ File not found: data/exports/20250215_215523_gittaconnemann.ndjson - Skipping\n",
      "⚠️ File not found: data/exports/20250215_220152_jensspahn.ndjson - Skipping\n",
      "⚠️ File not found: data/exports/20250215_220651_olafinderbeekmdb.ndjson - Skipping\n"
     ]
    },
    {
     "name": "stderr",
     "output_type": "stream",
     "text": [
      "100%|██████████| 525/525 [00:00<00:00, 7672.05it/s]\n"
     ]
    },
    {
     "name": "stdout",
     "output_type": "stream",
     "text": [
      "Imported Zeeschuimer Data. Saved export to data/csv_dup_rows/20250222_050043_bundestagspraesidentin.csv\n",
      "✅ Success: data/csv_dup_rows/20250222_050043_bundestagspraesidentin.csv\n",
      "💾 Saved updated accounts list\n"
     ]
    },
    {
     "name": "stderr",
     "output_type": "stream",
     "text": [
      "100%|██████████| 734/734 [00:00<00:00, 17314.58it/s]\n"
     ]
    },
    {
     "name": "stdout",
     "output_type": "stream",
     "text": [
      "Imported Zeeschuimer Data. Saved export to data/csv_dup_rows/20250222_050044_philipp.amthor.csv\n",
      "✅ Success: data/csv_dup_rows/20250222_050044_philipp.amthor.csv\n",
      "💾 Saved updated accounts list\n"
     ]
    },
    {
     "name": "stderr",
     "output_type": "stream",
     "text": [
      "100%|██████████| 235/235 [00:00<00:00, 26968.22it/s]"
     ]
    },
    {
     "name": "stdout",
     "output_type": "stream",
     "text": [
      "Imported Zeeschuimer Data. Saved export to data/csv_dup_rows/20250222_050044_braunhelge.csv\n",
      "✅ Success: data/csv_dup_rows/20250222_050044_braunhelge.csv\n",
      "💾 Saved updated accounts list\n"
     ]
    },
    {
     "name": "stderr",
     "output_type": "stream",
     "text": [
      "\n",
      "100%|██████████| 446/446 [00:00<00:00, 18908.16it/s]\n"
     ]
    },
    {
     "name": "stdout",
     "output_type": "stream",
     "text": [
      "Imported Zeeschuimer Data. Saved export to data/csv_dup_rows/20250222_050044_kuehnikev.csv\n",
      "✅ Success: data/csv_dup_rows/20250222_050044_kuehnikev.csv\n",
      "💾 Saved updated accounts list\n"
     ]
    },
    {
     "name": "stderr",
     "output_type": "stream",
     "text": [
      "100%|██████████| 1735/1735 [00:00<00:00, 30541.86it/s]\n"
     ]
    },
    {
     "name": "stdout",
     "output_type": "stream",
     "text": [
      "Imported Zeeschuimer Data. Saved export to data/csv_dup_rows/20250222_050045_ricardalang.csv\n",
      "✅ Success: data/csv_dup_rows/20250222_050045_ricardalang.csv\n",
      "💾 Saved updated accounts list\n"
     ]
    },
    {
     "name": "stderr",
     "output_type": "stream",
     "text": [
      "100%|██████████| 264/264 [00:00<00:00, 29187.00it/s]"
     ]
    },
    {
     "name": "stdout",
     "output_type": "stream",
     "text": [
      "Imported Zeeschuimer Data. Saved export to data/csv_dup_rows/20250222_050046_markus_frohnmaier.csv\n",
      "✅ Success: data/csv_dup_rows/20250222_050046_markus_frohnmaier.csv\n",
      "💾 Saved updated accounts list\n"
     ]
    },
    {
     "name": "stderr",
     "output_type": "stream",
     "text": [
      "\n",
      "100%|██████████| 683/683 [00:00<00:00, 22496.01it/s]\n"
     ]
    },
    {
     "name": "stdout",
     "output_type": "stream",
     "text": [
      "Imported Zeeschuimer Data. Saved export to data/csv_dup_rows/20250222_050046_heidireichinnek.csv\n",
      "✅ Success: data/csv_dup_rows/20250222_050046_heidireichinnek.csv\n",
      "💾 Saved updated accounts list\n"
     ]
    },
    {
     "name": "stderr",
     "output_type": "stream",
     "text": [
      "100%|██████████| 2682/2682 [00:00<00:00, 54174.00it/s]\n"
     ]
    },
    {
     "name": "stdout",
     "output_type": "stream",
     "text": [
      "Imported Zeeschuimer Data. Saved export to data/csv_dup_rows/20250222_050046_larsklingbeil.csv\n",
      "✅ Success: data/csv_dup_rows/20250222_050046_larsklingbeil.csv\n",
      "💾 Saved updated accounts list\n"
     ]
    },
    {
     "name": "stderr",
     "output_type": "stream",
     "text": [
      "100%|██████████| 868/868 [00:00<00:00, 26317.49it/s]\n"
     ]
    },
    {
     "name": "stdout",
     "output_type": "stream",
     "text": [
      "Imported Zeeschuimer Data. Saved export to data/csv_dup_rows/20250222_050047_armin_laschet.csv\n",
      "✅ Success: data/csv_dup_rows/20250222_050047_armin_laschet.csv\n",
      "💾 Saved updated accounts list\n"
     ]
    },
    {
     "name": "stderr",
     "output_type": "stream",
     "text": [
      "100%|██████████| 1110/1110 [00:00<00:00, 36373.05it/s]\n"
     ]
    },
    {
     "name": "stdout",
     "output_type": "stream",
     "text": [
      "Imported Zeeschuimer Data. Saved export to data/csv_dup_rows/20250222_050048_beatrix.von.storch.csv\n",
      "✅ Success: data/csv_dup_rows/20250222_050048_beatrix.von.storch.csv\n",
      "💾 Saved updated accounts list\n",
      "⚠️ File not found: data/exports/20250215_224811_mesarosch.ndjson - Skipping\n"
     ]
    },
    {
     "name": "stderr",
     "output_type": "stream",
     "text": [
      "100%|██████████| 694/694 [00:00<00:00, 15191.99it/s]\n"
     ]
    },
    {
     "name": "stdout",
     "output_type": "stream",
     "text": [
      "Imported Zeeschuimer Data. Saved export to data/csv_dup_rows/20250222_050048_claudiaroth_official.csv\n",
      "✅ Success: data/csv_dup_rows/20250222_050048_claudiaroth_official.csv\n",
      "💾 Saved updated accounts list\n"
     ]
    },
    {
     "name": "stderr",
     "output_type": "stream",
     "text": [
      "100%|██████████| 6453/6453 [00:00<00:00, 10403.87it/s]\n"
     ]
    },
    {
     "name": "stdout",
     "output_type": "stream",
     "text": [
      "Imported Zeeschuimer Data. Saved export to data/csv_dup_rows/20250222_050049_juliakloeckner.csv\n",
      "✅ Success: data/csv_dup_rows/20250222_050049_juliakloeckner.csv\n",
      "💾 Saved updated accounts list\n"
     ]
    },
    {
     "name": "stderr",
     "output_type": "stream",
     "text": [
      "100%|██████████| 1355/1355 [00:00<00:00, 16709.05it/s]\n"
     ]
    },
    {
     "name": "stdout",
     "output_type": "stream",
     "text": [
      "Imported Zeeschuimer Data. Saved export to data/csv_dup_rows/20250222_050106_max_lks.csv\n",
      "✅ Success: data/csv_dup_rows/20250222_050106_max_lks.csv\n",
      "💾 Saved updated accounts list\n"
     ]
    },
    {
     "name": "stderr",
     "output_type": "stream",
     "text": [
      "100%|██████████| 416/416 [00:00<00:00, 47446.10it/s]"
     ]
    },
    {
     "name": "stdout",
     "output_type": "stream",
     "text": [
      "Imported Zeeschuimer Data. Saved export to data/csv_dup_rows/20250222_050107_carsten_linnemann.csv\n",
      "✅ Success: data/csv_dup_rows/20250222_050107_carsten_linnemann.csv\n",
      "💾 Saved updated accounts list\n"
     ]
    },
    {
     "name": "stderr",
     "output_type": "stream",
     "text": [
      "\n",
      "100%|██████████| 1588/1588 [00:00<00:00, 43666.03it/s]\n"
     ]
    },
    {
     "name": "stdout",
     "output_type": "stream",
     "text": [
      "Imported Zeeschuimer Data. Saved export to data/csv_dup_rows/20250222_050107_norbert_roettgen.csv\n",
      "✅ Success: data/csv_dup_rows/20250222_050107_norbert_roettgen.csv\n",
      "💾 Saved updated accounts list\n"
     ]
    },
    {
     "name": "stderr",
     "output_type": "stream",
     "text": [
      "100%|██████████| 249/249 [00:00<00:00, 27219.41it/s]"
     ]
    },
    {
     "name": "stdout",
     "output_type": "stream",
     "text": [
      "Imported Zeeschuimer Data. Saved export to data/csv_dup_rows/20250222_050112_emilyvontz.csv\n",
      "✅ Success: data/csv_dup_rows/20250222_050112_emilyvontz.csv\n",
      "💾 Saved updated accounts list\n"
     ]
    },
    {
     "name": "stderr",
     "output_type": "stream",
     "text": [
      "\n",
      "100%|██████████| 2668/2668 [00:00<00:00, 60463.50it/s]\n"
     ]
    },
    {
     "name": "stdout",
     "output_type": "stream",
     "text": [
      "Imported Zeeschuimer Data. Saved export to data/csv_dup_rows/20250222_050112_nouripour.csv\n",
      "✅ Success: data/csv_dup_rows/20250222_050112_nouripour.csv\n",
      "💾 Saved updated accounts list\n"
     ]
    },
    {
     "name": "stderr",
     "output_type": "stream",
     "text": [
      "100%|██████████| 974/974 [00:00<00:00, 46431.76it/s]\n"
     ]
    },
    {
     "name": "stdout",
     "output_type": "stream",
     "text": [
      "Imported Zeeschuimer Data. Saved export to data/csv_dup_rows/20250222_050117_toni_hofreiter.csv\n",
      "✅ Success: data/csv_dup_rows/20250222_050117_toni_hofreiter.csv\n",
      "💾 Saved updated accounts list\n"
     ]
    },
    {
     "name": "stderr",
     "output_type": "stream",
     "text": [
      "100%|██████████| 760/760 [00:00<00:00, 33625.22it/s]\n"
     ]
    },
    {
     "name": "stdout",
     "output_type": "stream",
     "text": [
      "Imported Zeeschuimer Data. Saved export to data/csv_dup_rows/20250222_050120_rasha_nasr.csv\n",
      "✅ Success: data/csv_dup_rows/20250222_050120_rasha_nasr.csv\n",
      "💾 Saved updated accounts list\n"
     ]
    },
    {
     "name": "stderr",
     "output_type": "stream",
     "text": [
      "100%|██████████| 2741/2741 [00:00<00:00, 97430.36it/s]\n"
     ]
    },
    {
     "name": "stdout",
     "output_type": "stream",
     "text": [
      "Imported Zeeschuimer Data. Saved export to data/csv_dup_rows/20250222_050120_martinsichert.csv\n",
      "✅ Success: data/csv_dup_rows/20250222_050120_martinsichert.csv\n",
      "💾 Saved updated accounts list\n"
     ]
    },
    {
     "name": "stderr",
     "output_type": "stream",
     "text": [
      "100%|██████████| 1979/1979 [00:00<00:00, 44775.75it/s]\n"
     ]
    },
    {
     "name": "stdout",
     "output_type": "stream",
     "text": [
      "Imported Zeeschuimer Data. Saved export to data/csv_dup_rows/20250222_050123_paulziemiak.csv\n",
      "✅ Success: data/csv_dup_rows/20250222_050123_paulziemiak.csv\n",
      "💾 Saved updated accounts list\n"
     ]
    },
    {
     "name": "stderr",
     "output_type": "stream",
     "text": [
      "100%|██████████| 1785/1785 [00:00<00:00, 8627.44it/s]\n"
     ]
    },
    {
     "name": "stdout",
     "output_type": "stream",
     "text": [
      "Imported Zeeschuimer Data. Saved export to data/csv_dup_rows/20250222_050128__svenlehmann_.csv\n",
      "✅ Success: data/csv_dup_rows/20250222_050128__svenlehmann_.csv\n",
      "💾 Saved updated accounts list\n"
     ]
    },
    {
     "name": "stderr",
     "output_type": "stream",
     "text": [
      "100%|██████████| 779/779 [00:00<00:00, 36356.14it/s]\n"
     ]
    },
    {
     "name": "stdout",
     "output_type": "stream",
     "text": [
      "Imported Zeeschuimer Data. Saved export to data/csv_dup_rows/20250222_050129_hubertus_heil.csv\n",
      "✅ Success: data/csv_dup_rows/20250222_050129_hubertus_heil.csv\n",
      "💾 Saved updated accounts list\n"
     ]
    },
    {
     "name": "stderr",
     "output_type": "stream",
     "text": [
      "100%|██████████| 595/595 [00:00<00:00, 31390.15it/s]\n"
     ]
    },
    {
     "name": "stdout",
     "output_type": "stream",
     "text": [
      "Imported Zeeschuimer Data. Saved export to data/csv_dup_rows/20250222_050129_emiliafester.csv\n",
      "✅ Success: data/csv_dup_rows/20250222_050129_emiliafester.csv\n",
      "💾 Saved updated accounts list\n"
     ]
    },
    {
     "name": "stderr",
     "output_type": "stream",
     "text": [
      "100%|██████████| 1299/1299 [00:00<00:00, 39655.88it/s]\n"
     ]
    },
    {
     "name": "stdout",
     "output_type": "stream",
     "text": [
      "Imported Zeeschuimer Data. Saved export to data/csv_dup_rows/20250222_050131_volkerwissing.csv\n",
      "✅ Success: data/csv_dup_rows/20250222_050131_volkerwissing.csv\n",
      "💾 Saved updated accounts list\n"
     ]
    },
    {
     "name": "stderr",
     "output_type": "stream",
     "text": [
      "100%|██████████| 1156/1156 [00:00<00:00, 37123.70it/s]\n"
     ]
    },
    {
     "name": "stdout",
     "output_type": "stream",
     "text": [
      "Imported Zeeschuimer Data. Saved export to data/csv_dup_rows/20250222_050132_janine_wissler.csv\n",
      "✅ Success: data/csv_dup_rows/20250222_050132_janine_wissler.csv\n",
      "💾 Saved updated accounts list\n"
     ]
    },
    {
     "name": "stderr",
     "output_type": "stream",
     "text": [
      "100%|██████████| 1664/1664 [00:00<00:00, 52571.37it/s]\n"
     ]
    },
    {
     "name": "stdout",
     "output_type": "stream",
     "text": [
      "Imported Zeeschuimer Data. Saved export to data/csv_dup_rows/20250222_050135_goeringeckardt.csv\n",
      "✅ Success: data/csv_dup_rows/20250222_050135_goeringeckardt.csv\n",
      "💾 Saved updated accounts list\n"
     ]
    },
    {
     "name": "stderr",
     "output_type": "stream",
     "text": [
      "100%|██████████| 550/550 [00:00<00:00, 29473.57it/s]\n"
     ]
    },
    {
     "name": "stdout",
     "output_type": "stream",
     "text": [
      "Imported Zeeschuimer Data. Saved export to data/csv_dup_rows/20250222_050136_clara.buenger.csv\n",
      "✅ Success: data/csv_dup_rows/20250222_050136_clara.buenger.csv\n",
      "💾 Saved updated accounts list\n"
     ]
    },
    {
     "name": "stderr",
     "output_type": "stream",
     "text": [
      "100%|██████████| 1934/1934 [00:00<00:00, 39521.10it/s]\n"
     ]
    },
    {
     "name": "stdout",
     "output_type": "stream",
     "text": [
      "Imported Zeeschuimer Data. Saved export to data/csv_dup_rows/20250222_050136_konstantin.kuhle.csv\n",
      "✅ Success: data/csv_dup_rows/20250222_050136_konstantin.kuhle.csv\n",
      "💾 Saved updated accounts list\n"
     ]
    },
    {
     "name": "stderr",
     "output_type": "stream",
     "text": [
      "100%|██████████| 450/450 [00:00<00:00, 14947.15it/s]\n"
     ]
    },
    {
     "name": "stdout",
     "output_type": "stream",
     "text": [
      "Imported Zeeschuimer Data. Saved export to data/csv_dup_rows/20250222_050137_j_pahlke.csv\n",
      "✅ Success: data/csv_dup_rows/20250222_050137_j_pahlke.csv\n",
      "💾 Saved updated accounts list\n"
     ]
    },
    {
     "name": "stderr",
     "output_type": "stream",
     "text": [
      "100%|██████████| 4148/4148 [00:00<00:00, 78165.38it/s]\n"
     ]
    },
    {
     "name": "stdout",
     "output_type": "stream",
     "text": [
      "Imported Zeeschuimer Data. Saved export to data/csv_dup_rows/20250222_050137_hoechstnicole.csv\n",
      "✅ Success: data/csv_dup_rows/20250222_050137_hoechstnicole.csv\n",
      "💾 Saved updated accounts list\n"
     ]
    },
    {
     "name": "stderr",
     "output_type": "stream",
     "text": [
      "100%|██████████| 686/686 [00:00<00:00, 42171.11it/s]\n"
     ]
    },
    {
     "name": "stdout",
     "output_type": "stream",
     "text": [
      "Imported Zeeschuimer Data. Saved export to data/csv_dup_rows/20250222_050142_armand_zorn.csv\n",
      "✅ Success: data/csv_dup_rows/20250222_050142_armand_zorn.csv\n",
      "💾 Saved updated accounts list\n"
     ]
    },
    {
     "name": "stderr",
     "output_type": "stream",
     "text": [
      "100%|██████████| 1176/1176 [00:00<00:00, 33281.39it/s]\n"
     ]
    },
    {
     "name": "stdout",
     "output_type": "stream",
     "text": [
      "Imported Zeeschuimer Data. Saved export to data/csv_dup_rows/20250222_050143_tilmankuban_.csv\n",
      "✅ Success: data/csv_dup_rows/20250222_050143_tilmankuban_.csv\n",
      "💾 Saved updated accounts list\n"
     ]
    },
    {
     "name": "stderr",
     "output_type": "stream",
     "text": [
      "100%|██████████| 799/799 [00:00<00:00, 54993.50it/s]\n"
     ]
    },
    {
     "name": "stdout",
     "output_type": "stream",
     "text": [
      "Imported Zeeschuimer Data. Saved export to data/csv_dup_rows/20250222_050143_michael.roth.mdb.csv\n",
      "✅ Success: data/csv_dup_rows/20250222_050143_michael.roth.mdb.csv\n",
      "💾 Saved updated accounts list\n"
     ]
    },
    {
     "name": "stderr",
     "output_type": "stream",
     "text": [
      "100%|██████████| 869/869 [00:00<00:00, 68370.85it/s]\n"
     ]
    },
    {
     "name": "stdout",
     "output_type": "stream",
     "text": [
      "Imported Zeeschuimer Data. Saved export to data/csv_dup_rows/20250222_050145_sebastian.muenzenmaier.afd.csv\n",
      "✅ Success: data/csv_dup_rows/20250222_050145_sebastian.muenzenmaier.afd.csv\n",
      "💾 Saved updated accounts list\n"
     ]
    },
    {
     "name": "stderr",
     "output_type": "stream",
     "text": [
      "100%|██████████| 282/282 [00:00<00:00, 52688.04it/s]\n"
     ]
    },
    {
     "name": "stdout",
     "output_type": "stream",
     "text": [
      "Imported Zeeschuimer Data. Saved export to data/csv_dup_rows/20250222_050146_tessa_ganserer.csv\n",
      "✅ Success: data/csv_dup_rows/20250222_050146_tessa_ganserer.csv\n",
      "💾 Saved updated accounts list\n"
     ]
    },
    {
     "name": "stderr",
     "output_type": "stream",
     "text": [
      "100%|██████████| 1291/1291 [00:00<00:00, 28358.15it/s]\n"
     ]
    },
    {
     "name": "stdout",
     "output_type": "stream",
     "text": [
      "Imported Zeeschuimer Data. Saved export to data/csv_dup_rows/20250222_050147_caren.lay.csv\n",
      "✅ Success: data/csv_dup_rows/20250222_050147_caren.lay.csv\n",
      "💾 Saved updated accounts list\n"
     ]
    },
    {
     "name": "stderr",
     "output_type": "stream",
     "text": [
      "100%|██████████| 994/994 [00:00<00:00, 54042.18it/s]\n"
     ]
    },
    {
     "name": "stdout",
     "output_type": "stream",
     "text": [
      "Imported Zeeschuimer Data. Saved export to data/csv_dup_rows/20250222_050150_jamila_anna.csv\n",
      "✅ Success: data/csv_dup_rows/20250222_050150_jamila_anna.csv\n",
      "💾 Saved updated accounts list\n"
     ]
    },
    {
     "name": "stderr",
     "output_type": "stream",
     "text": [
      "100%|██████████| 863/863 [00:00<00:00, 42122.17it/s]\n"
     ]
    },
    {
     "name": "stdout",
     "output_type": "stream",
     "text": [
      "Imported Zeeschuimer Data. Saved export to data/csv_dup_rows/20250222_050152_nykeslawik.csv\n",
      "✅ Success: data/csv_dup_rows/20250222_050152_nykeslawik.csv\n",
      "💾 Saved updated accounts list\n"
     ]
    },
    {
     "name": "stderr",
     "output_type": "stream",
     "text": [
      "100%|██████████| 1854/1854 [00:00<00:00, 49813.52it/s]\n"
     ]
    },
    {
     "name": "stdout",
     "output_type": "stream",
     "text": [
      "Imported Zeeschuimer Data. Saved export to data/csv_dup_rows/20250222_050155_johannesvogel.csv\n",
      "✅ Success: data/csv_dup_rows/20250222_050155_johannesvogel.csv\n",
      "💾 Saved updated accounts list\n"
     ]
    },
    {
     "name": "stderr",
     "output_type": "stream",
     "text": [
      "100%|██████████| 557/557 [00:00<00:00, 28329.93it/s]\n"
     ]
    },
    {
     "name": "stdout",
     "output_type": "stream",
     "text": [
      "Imported Zeeschuimer Data. Saved export to data/csv_dup_rows/20250222_050156_lindateuteberg.csv\n",
      "✅ Success: data/csv_dup_rows/20250222_050156_lindateuteberg.csv\n",
      "💾 Saved updated accounts list\n"
     ]
    },
    {
     "name": "stderr",
     "output_type": "stream",
     "text": [
      "100%|██████████| 942/942 [00:00<00:00, 59085.31it/s]\n"
     ]
    },
    {
     "name": "stdout",
     "output_type": "stream",
     "text": [
      "Imported Zeeschuimer Data. Saved export to data/csv_dup_rows/20250222_050158_bijan_djirsarai_.csv\n",
      "✅ Success: data/csv_dup_rows/20250222_050158_bijan_djirsarai_.csv\n",
      "💾 Saved updated accounts list\n"
     ]
    },
    {
     "name": "stderr",
     "output_type": "stream",
     "text": [
      "100%|██████████| 540/540 [00:00<00:00, 11839.46it/s]\n"
     ]
    },
    {
     "name": "stdout",
     "output_type": "stream",
     "text": [
      "Imported Zeeschuimer Data. Saved export to data/csv_dup_rows/20250222_050200_yeone_rhie.csv\n",
      "✅ Success: data/csv_dup_rows/20250222_050200_yeone_rhie.csv\n",
      "💾 Saved updated accounts list\n"
     ]
    },
    {
     "name": "stderr",
     "output_type": "stream",
     "text": [
      "100%|██████████| 808/808 [00:00<00:00, 26395.91it/s]\n"
     ]
    },
    {
     "name": "stdout",
     "output_type": "stream",
     "text": [
      "Imported Zeeschuimer Data. Saved export to data/csv_dup_rows/20250222_050200_bettina.starkwatzinger.csv\n",
      "✅ Success: data/csv_dup_rows/20250222_050200_bettina.starkwatzinger.csv\n",
      "💾 Saved updated accounts list\n"
     ]
    },
    {
     "name": "stderr",
     "output_type": "stream",
     "text": [
      "100%|██████████| 1013/1013 [00:00<00:00, 49304.10it/s]\n"
     ]
    },
    {
     "name": "stdout",
     "output_type": "stream",
     "text": [
      "Imported Zeeschuimer Data. Saved export to data/csv_dup_rows/20250222_050201_riaschrdr.csv\n",
      "✅ Success: data/csv_dup_rows/20250222_050201_riaschrdr.csv\n",
      "💾 Saved updated accounts list\n"
     ]
    },
    {
     "name": "stderr",
     "output_type": "stream",
     "text": [
      "100%|██████████| 1738/1738 [00:00<00:00, 37265.93it/s]\n"
     ]
    },
    {
     "name": "stdout",
     "output_type": "stream",
     "text": [
      "Imported Zeeschuimer Data. Saved export to data/csv_dup_rows/20250222_050203_lars.rohwer.politik.csv\n",
      "✅ Success: data/csv_dup_rows/20250222_050203_lars.rohwer.politik.csv\n",
      "💾 Saved updated accounts list\n"
     ]
    },
    {
     "name": "stderr",
     "output_type": "stream",
     "text": [
      "100%|██████████| 1974/1974 [00:00<00:00, 34375.69it/s]\n"
     ]
    },
    {
     "name": "stdout",
     "output_type": "stream",
     "text": [
      "Imported Zeeschuimer Data. Saved export to data/csv_dup_rows/20250222_050204_michellemuentefering.csv\n",
      "✅ Success: data/csv_dup_rows/20250222_050204_michellemuentefering.csv\n",
      "💾 Saved updated accounts list\n"
     ]
    },
    {
     "name": "stderr",
     "output_type": "stream",
     "text": [
      "100%|██████████| 556/556 [00:00<00:00, 41492.30it/s]\n"
     ]
    },
    {
     "name": "stdout",
     "output_type": "stream",
     "text": [
      "Imported Zeeschuimer Data. Saved export to data/csv_dup_rows/20250222_050208_bruno.hoenel.csv\n",
      "✅ Success: data/csv_dup_rows/20250222_050208_bruno.hoenel.csv\n",
      "💾 Saved updated accounts list\n"
     ]
    },
    {
     "name": "stderr",
     "output_type": "stream",
     "text": [
      "100%|██████████| 695/695 [00:00<00:00, 48033.24it/s]\n"
     ]
    },
    {
     "name": "stdout",
     "output_type": "stream",
     "text": [
      "Imported Zeeschuimer Data. Saved export to data/csv_dup_rows/20250222_050208_lisa.paus.csv\n",
      "✅ Success: data/csv_dup_rows/20250222_050208_lisa.paus.csv\n",
      "💾 Saved updated accounts list\n"
     ]
    },
    {
     "name": "stderr",
     "output_type": "stream",
     "text": [
      "100%|██████████| 2409/2409 [00:00<00:00, 70335.72it/s]\n"
     ]
    },
    {
     "name": "stdout",
     "output_type": "stream",
     "text": [
      "Imported Zeeschuimer Data. Saved export to data/csv_dup_rows/20250222_050210_konstantinnotz.csv\n",
      "✅ Success: data/csv_dup_rows/20250222_050210_konstantinnotz.csv\n",
      "💾 Saved updated accounts list\n"
     ]
    },
    {
     "name": "stderr",
     "output_type": "stream",
     "text": [
      "100%|██████████| 403/403 [00:00<00:00, 47167.78it/s]\n"
     ]
    },
    {
     "name": "stdout",
     "output_type": "stream",
     "text": [
      "Imported Zeeschuimer Data. Saved export to data/csv_dup_rows/20250222_050213_jessi_rosenthal.csv\n",
      "✅ Success: data/csv_dup_rows/20250222_050213_jessi_rosenthal.csv\n",
      "💾 Saved updated accounts list\n"
     ]
    },
    {
     "name": "stderr",
     "output_type": "stream",
     "text": [
      "100%|██████████| 1630/1630 [00:00<00:00, 60845.98it/s]\n"
     ]
    },
    {
     "name": "stdout",
     "output_type": "stream",
     "text": [
      "Imported Zeeschuimer Data. Saved export to data/csv_dup_rows/20250222_050215_martin.reichardt.afd.csv\n",
      "✅ Success: data/csv_dup_rows/20250222_050215_martin.reichardt.afd.csv\n",
      "💾 Saved updated accounts list\n"
     ]
    },
    {
     "name": "stderr",
     "output_type": "stream",
     "text": [
      "100%|██████████| 770/770 [00:00<00:00, 34558.70it/s]\n"
     ]
    },
    {
     "name": "stdout",
     "output_type": "stream",
     "text": [
      "Imported Zeeschuimer Data. Saved export to data/csv_dup_rows/20250222_050215_zoe.gruene.csv\n",
      "✅ Success: data/csv_dup_rows/20250222_050215_zoe.gruene.csv\n",
      "💾 Saved updated accounts list\n"
     ]
    },
    {
     "name": "stderr",
     "output_type": "stream",
     "text": [
      "100%|██████████| 1631/1631 [00:00<00:00, 24955.62it/s]\n"
     ]
    },
    {
     "name": "stdout",
     "output_type": "stream",
     "text": [
      "Imported Zeeschuimer Data. Saved export to data/csv_dup_rows/20250222_050217_siemtje_moeller.csv\n",
      "✅ Success: data/csv_dup_rows/20250222_050217_siemtje_moeller.csv\n",
      "💾 Saved updated accounts list\n"
     ]
    },
    {
     "name": "stderr",
     "output_type": "stream",
     "text": [
      "100%|██████████| 783/783 [00:00<00:00, 32006.04it/s]\n"
     ]
    },
    {
     "name": "stdout",
     "output_type": "stream",
     "text": [
      "Imported Zeeschuimer Data. Saved export to data/csv_dup_rows/20250222_050222_deryatuerknachbaur.csv\n",
      "✅ Success: data/csv_dup_rows/20250222_050222_deryatuerknachbaur.csv\n",
      "💾 Saved updated accounts list\n"
     ]
    },
    {
     "name": "stderr",
     "output_type": "stream",
     "text": [
      "100%|██████████| 1287/1287 [00:00<00:00, 32267.93it/s]\n"
     ]
    },
    {
     "name": "stdout",
     "output_type": "stream",
     "text": [
      "Imported Zeeschuimer Data. Saved export to data/csv_dup_rows/20250222_050225_silvia_breher.csv\n",
      "✅ Success: data/csv_dup_rows/20250222_050225_silvia_breher.csv\n",
      "💾 Saved updated accounts list\n"
     ]
    },
    {
     "name": "stderr",
     "output_type": "stream",
     "text": [
      "100%|██████████| 1542/1542 [00:00<00:00, 55818.83it/s]\n"
     ]
    },
    {
     "name": "stdout",
     "output_type": "stream",
     "text": [
      "Imported Zeeschuimer Data. Saved export to data/csv_dup_rows/20250222_050225_bundestagsperli.csv\n",
      "✅ Success: data/csv_dup_rows/20250222_050225_bundestagsperli.csv\n",
      "💾 Saved updated accounts list\n"
     ]
    },
    {
     "name": "stderr",
     "output_type": "stream",
     "text": [
      "100%|██████████| 1928/1928 [00:00<00:00, 89558.75it/s]\n"
     ]
    },
    {
     "name": "stdout",
     "output_type": "stream",
     "text": [
      "Imported Zeeschuimer Data. Saved export to data/csv_dup_rows/20250222_050228_jankorte77.csv\n",
      "✅ Success: data/csv_dup_rows/20250222_050228_jankorte77.csv\n",
      "💾 Saved updated accounts list\n"
     ]
    },
    {
     "name": "stderr",
     "output_type": "stream",
     "text": [
      "100%|██████████| 428/428 [00:00<00:00, 48354.54it/s]\n"
     ]
    },
    {
     "name": "stdout",
     "output_type": "stream",
     "text": [
      "Imported Zeeschuimer Data. Saved export to data/csv_dup_rows/20250222_050231_carmenwegge.csv\n",
      "✅ Success: data/csv_dup_rows/20250222_050231_carmenwegge.csv\n",
      "💾 Saved updated accounts list\n"
     ]
    },
    {
     "name": "stderr",
     "output_type": "stream",
     "text": [
      "100%|██████████| 611/611 [00:00<00:00, 40509.62it/s]\n"
     ]
    },
    {
     "name": "stdout",
     "output_type": "stream",
     "text": [
      "Imported Zeeschuimer Data. Saved export to data/csv_dup_rows/20250222_050232_lemke.steffi.csv\n",
      "✅ Success: data/csv_dup_rows/20250222_050232_lemke.steffi.csv\n",
      "💾 Saved updated accounts list\n"
     ]
    },
    {
     "name": "stderr",
     "output_type": "stream",
     "text": [
      "100%|██████████| 3095/3095 [00:00<00:00, 43009.88it/s]\n"
     ]
    },
    {
     "name": "stdout",
     "output_type": "stream",
     "text": [
      "Imported Zeeschuimer Data. Saved export to data/csv_dup_rows/20250222_050234_thorsten.frei.csv\n",
      "✅ Success: data/csv_dup_rows/20250222_050234_thorsten.frei.csv\n",
      "💾 Saved updated accounts list\n"
     ]
    },
    {
     "name": "stderr",
     "output_type": "stream",
     "text": [
      "100%|██████████| 1295/1295 [00:00<00:00, 28736.77it/s]\n"
     ]
    },
    {
     "name": "stdout",
     "output_type": "stream",
     "text": [
      "Imported Zeeschuimer Data. Saved export to data/csv_dup_rows/20250222_050235_hannes4future.csv\n",
      "✅ Success: data/csv_dup_rows/20250222_050235_hannes4future.csv\n",
      "💾 Saved updated accounts list\n"
     ]
    },
    {
     "name": "stderr",
     "output_type": "stream",
     "text": [
      "100%|██████████| 2292/2292 [00:00<00:00, 39292.83it/s]\n"
     ]
    },
    {
     "name": "stdout",
     "output_type": "stream",
     "text": [
      "Imported Zeeschuimer Data. Saved export to data/csv_dup_rows/20250222_050239_olliluksic.csv\n",
      "✅ Success: data/csv_dup_rows/20250222_050239_olliluksic.csv\n",
      "💾 Saved updated accounts list\n"
     ]
    },
    {
     "name": "stderr",
     "output_type": "stream",
     "text": [
      "100%|██████████| 1869/1869 [00:00<00:00, 66171.07it/s]\n"
     ]
    },
    {
     "name": "stdout",
     "output_type": "stream",
     "text": [
      "Imported Zeeschuimer Data. Saved export to data/csv_dup_rows/20250222_050240_goetzfroemming.csv\n",
      "✅ Success: data/csv_dup_rows/20250222_050240_goetzfroemming.csv\n",
      "💾 Saved updated accounts list\n"
     ]
    },
    {
     "name": "stderr",
     "output_type": "stream",
     "text": [
      "100%|██████████| 1279/1279 [00:00<00:00, 63441.84it/s]\n"
     ]
    },
    {
     "name": "stdout",
     "output_type": "stream",
     "text": [
      "Imported Zeeschuimer Data. Saved export to data/csv_dup_rows/20250222_050243_hakandemirnk.csv\n",
      "✅ Success: data/csv_dup_rows/20250222_050243_hakandemirnk.csv\n",
      "💾 Saved updated accounts list\n"
     ]
    },
    {
     "name": "stderr",
     "output_type": "stream",
     "text": [
      "100%|██████████| 674/674 [00:00<00:00, 32238.12it/s]\n"
     ]
    },
    {
     "name": "stdout",
     "output_type": "stream",
     "text": [
      "Imported Zeeschuimer Data. Saved export to data/csv_dup_rows/20250222_050246_verenahubertz.csv\n",
      "✅ Success: data/csv_dup_rows/20250222_050246_verenahubertz.csv\n",
      "💾 Saved updated accounts list\n"
     ]
    },
    {
     "name": "stderr",
     "output_type": "stream",
     "text": [
      "100%|██████████| 1012/1012 [00:00<00:00, 39501.89it/s]\n"
     ]
    },
    {
     "name": "stdout",
     "output_type": "stream",
     "text": [
      "Imported Zeeschuimer Data. Saved export to data/csv_dup_rows/20250222_050246_sgueler.csv\n",
      "✅ Success: data/csv_dup_rows/20250222_050246_sgueler.csv\n",
      "💾 Saved updated accounts list\n"
     ]
    },
    {
     "name": "stderr",
     "output_type": "stream",
     "text": [
      "100%|██████████| 1025/1025 [00:00<00:00, 43747.57it/s]\n"
     ]
    },
    {
     "name": "stdout",
     "output_type": "stream",
     "text": [
      "Imported Zeeschuimer Data. Saved export to data/csv_dup_rows/20250222_050246_matthiasmiersch.csv\n",
      "✅ Success: data/csv_dup_rows/20250222_050246_matthiasmiersch.csv\n",
      "💾 Saved updated accounts list\n"
     ]
    },
    {
     "name": "stderr",
     "output_type": "stream",
     "text": [
      "100%|██████████| 991/991 [00:00<00:00, 61252.82it/s]\n"
     ]
    },
    {
     "name": "stdout",
     "output_type": "stream",
     "text": [
      "Imported Zeeschuimer Data. Saved export to data/csv_dup_rows/20250222_050247_christianduerr.csv\n",
      "✅ Success: data/csv_dup_rows/20250222_050247_christianduerr.csv\n",
      "💾 Saved updated accounts list\n"
     ]
    },
    {
     "name": "stderr",
     "output_type": "stream",
     "text": [
      "100%|██████████| 1286/1286 [00:00<00:00, 40284.67it/s]\n"
     ]
    },
    {
     "name": "stdout",
     "output_type": "stream",
     "text": [
      "Imported Zeeschuimer Data. Saved export to data/csv_dup_rows/20250222_050249_aydanoezoguz.csv\n",
      "✅ Success: data/csv_dup_rows/20250222_050249_aydanoezoguz.csv\n",
      "💾 Saved updated accounts list\n"
     ]
    },
    {
     "name": "stderr",
     "output_type": "stream",
     "text": [
      "100%|██████████| 567/567 [00:00<00:00, 26064.14it/s]\n"
     ]
    },
    {
     "name": "stdout",
     "output_type": "stream",
     "text": [
      "Imported Zeeschuimer Data. Saved export to data/csv_dup_rows/20250222_050252_nicole_ae_bauer.csv\n",
      "✅ Success: data/csv_dup_rows/20250222_050252_nicole_ae_bauer.csv\n",
      "💾 Saved updated accounts list\n"
     ]
    },
    {
     "name": "stderr",
     "output_type": "stream",
     "text": [
      "100%|██████████| 236/236 [00:00<00:00, 45308.54it/s]\n"
     ]
    },
    {
     "name": "stdout",
     "output_type": "stream",
     "text": [
      "Imported Zeeschuimer Data. Saved export to data/csv_dup_rows/20250222_050253_heikeheubachspd.csv\n",
      "✅ Success: data/csv_dup_rows/20250222_050253_heikeheubachspd.csv\n",
      "💾 Saved updated accounts list\n"
     ]
    },
    {
     "name": "stderr",
     "output_type": "stream",
     "text": [
      "100%|██████████| 749/749 [00:00<00:00, 55013.29it/s]\n"
     ]
    },
    {
     "name": "stdout",
     "output_type": "stream",
     "text": [
      "Imported Zeeschuimer Data. Saved export to data/csv_dup_rows/20250222_050254_johannes.steiniger.csv\n",
      "✅ Success: data/csv_dup_rows/20250222_050254_johannes.steiniger.csv\n",
      "💾 Saved updated accounts list\n"
     ]
    },
    {
     "name": "stderr",
     "output_type": "stream",
     "text": [
      "100%|██████████| 2499/2499 [00:00<00:00, 38285.89it/s]\n"
     ]
    },
    {
     "name": "stdout",
     "output_type": "stream",
     "text": [
      "Imported Zeeschuimer Data. Saved export to data/csv_dup_rows/20250222_050254_kai.gehring.csv\n",
      "✅ Success: data/csv_dup_rows/20250222_050254_kai.gehring.csv\n",
      "💾 Saved updated accounts list\n"
     ]
    },
    {
     "name": "stderr",
     "output_type": "stream",
     "text": [
      "100%|██████████| 756/756 [00:00<00:00, 63496.61it/s]\n"
     ]
    },
    {
     "name": "stdout",
     "output_type": "stream",
     "text": [
      "Imported Zeeschuimer Data. Saved export to data/csv_dup_rows/20250222_050255_joanacotar.csv\n",
      "✅ Success: data/csv_dup_rows/20250222_050255_joanacotar.csv\n",
      "💾 Saved updated accounts list\n"
     ]
    },
    {
     "name": "stderr",
     "output_type": "stream",
     "text": [
      "100%|██████████| 1541/1541 [00:00<00:00, 46888.72it/s]\n"
     ]
    },
    {
     "name": "stdout",
     "output_type": "stream",
     "text": [
      "Imported Zeeschuimer Data. Saved export to data/csv_dup_rows/20250222_050255_christophplossmdb.csv\n",
      "✅ Success: data/csv_dup_rows/20250222_050255_christophplossmdb.csv\n",
      "💾 Saved updated accounts list\n"
     ]
    },
    {
     "name": "stderr",
     "output_type": "stream",
     "text": [
      "100%|██████████| 734/734 [00:00<00:00, 32275.04it/s]\n"
     ]
    },
    {
     "name": "stdout",
     "output_type": "stream",
     "text": [
      "Imported Zeeschuimer Data. Saved export to data/csv_dup_rows/20250222_050255_kassem.tahersaleh.csv\n",
      "✅ Success: data/csv_dup_rows/20250222_050255_kassem.tahersaleh.csv\n",
      "💾 Saved updated accounts list\n"
     ]
    },
    {
     "name": "stderr",
     "output_type": "stream",
     "text": [
      "100%|██████████| 1696/1696 [00:00<00:00, 52358.95it/s]\n"
     ]
    },
    {
     "name": "stdout",
     "output_type": "stream",
     "text": [
      "Imported Zeeschuimer Data. Saved export to data/csv_dup_rows/20250222_050256_helgelindh.csv\n",
      "✅ Success: data/csv_dup_rows/20250222_050256_helgelindh.csv\n",
      "💾 Saved updated accounts list\n"
     ]
    },
    {
     "name": "stderr",
     "output_type": "stream",
     "text": [
      "100%|██████████| 809/809 [00:00<00:00, 39072.27it/s]\n"
     ]
    },
    {
     "name": "stdout",
     "output_type": "stream",
     "text": [
      "Imported Zeeschuimer Data. Saved export to data/csv_dup_rows/20250222_050256_michaelmueller.berlin.csv\n",
      "✅ Success: data/csv_dup_rows/20250222_050256_michaelmueller.berlin.csv\n",
      "💾 Saved updated accounts list\n"
     ]
    },
    {
     "name": "stderr",
     "output_type": "stream",
     "text": [
      "100%|██████████| 1129/1129 [00:00<00:00, 78082.14it/s]\n"
     ]
    },
    {
     "name": "stdout",
     "output_type": "stream",
     "text": [
      "Imported Zeeschuimer Data. Saved export to data/csv_dup_rows/20250222_050258_sevim_dagdelen_.csv\n",
      "✅ Success: data/csv_dup_rows/20250222_050258_sevim_dagdelen_.csv\n",
      "💾 Saved updated accounts list\n"
     ]
    },
    {
     "name": "stderr",
     "output_type": "stream",
     "text": [
      "100%|██████████| 1416/1416 [00:00<00:00, 48661.49it/s]\n"
     ]
    },
    {
     "name": "stdout",
     "output_type": "stream",
     "text": [
      "Imported Zeeschuimer Data. Saved export to data/csv_dup_rows/20250222_050300_josephineortleb.csv\n",
      "✅ Success: data/csv_dup_rows/20250222_050300_josephineortleb.csv\n",
      "💾 Saved updated accounts list\n"
     ]
    },
    {
     "name": "stderr",
     "output_type": "stream",
     "text": [
      "100%|██████████| 955/955 [00:00<00:00, 42537.22it/s]\n"
     ]
    },
    {
     "name": "stdout",
     "output_type": "stream",
     "text": [
      "Imported Zeeschuimer Data. Saved export to data/csv_dup_rows/20250222_050303_mi.kellner.csv\n",
      "✅ Success: data/csv_dup_rows/20250222_050303_mi.kellner.csv\n",
      "💾 Saved updated accounts list\n"
     ]
    },
    {
     "name": "stderr",
     "output_type": "stream",
     "text": [
      "100%|██████████| 772/772 [00:00<00:00, 13112.35it/s]\n"
     ]
    },
    {
     "name": "stdout",
     "output_type": "stream",
     "text": [
      "Imported Zeeschuimer Data. Saved export to data/csv_dup_rows/20250222_050304_svenja.schulze.nrw.csv\n",
      "✅ Success: data/csv_dup_rows/20250222_050304_svenja.schulze.nrw.csv\n",
      "💾 Saved updated accounts list\n"
     ]
    },
    {
     "name": "stderr",
     "output_type": "stream",
     "text": [
      "100%|██████████| 4219/4219 [00:00<00:00, 70030.66it/s]\n"
     ]
    },
    {
     "name": "stdout",
     "output_type": "stream",
     "text": [
      "Imported Zeeschuimer Data. Saved export to data/csv_dup_rows/20250222_050307_dirk_heidenblut.csv\n",
      "✅ Success: data/csv_dup_rows/20250222_050307_dirk_heidenblut.csv\n",
      "💾 Saved updated accounts list\n"
     ]
    },
    {
     "name": "stderr",
     "output_type": "stream",
     "text": [
      "100%|██████████| 1494/1494 [00:00<00:00, 56931.60it/s]\n"
     ]
    },
    {
     "name": "stdout",
     "output_type": "stream",
     "text": [
      "Imported Zeeschuimer Data. Saved export to data/csv_dup_rows/20250222_050312_martinarenner_linke.csv\n",
      "✅ Success: data/csv_dup_rows/20250222_050312_martinarenner_linke.csv\n",
      "💾 Saved updated accounts list\n"
     ]
    },
    {
     "name": "stderr",
     "output_type": "stream",
     "text": [
      "100%|██████████| 890/890 [00:00<00:00, 32229.89it/s]\n"
     ]
    },
    {
     "name": "stdout",
     "output_type": "stream",
     "text": [
      "Imported Zeeschuimer Data. Saved export to data/csv_dup_rows/20250222_050318_mario_czaja.csv\n",
      "✅ Success: data/csv_dup_rows/20250222_050318_mario_czaja.csv\n",
      "💾 Saved updated accounts list\n"
     ]
    },
    {
     "name": "stderr",
     "output_type": "stream",
     "text": [
      "100%|██████████| 1063/1063 [00:00<00:00, 36286.10it/s]\n"
     ]
    },
    {
     "name": "stdout",
     "output_type": "stream",
     "text": [
      "Imported Zeeschuimer Data. Saved export to data/csv_dup_rows/20250222_050319_stumpp_christina.csv\n",
      "✅ Success: data/csv_dup_rows/20250222_050319_stumpp_christina.csv\n",
      "💾 Saved updated accounts list\n"
     ]
    },
    {
     "name": "stderr",
     "output_type": "stream",
     "text": [
      "100%|██████████| 1125/1125 [00:00<00:00, 40570.84it/s]\n"
     ]
    },
    {
     "name": "stdout",
     "output_type": "stream",
     "text": [
      "Imported Zeeschuimer Data. Saved export to data/csv_dup_rows/20250222_050323_lamyakaddor.csv\n",
      "✅ Success: data/csv_dup_rows/20250222_050323_lamyakaddor.csv\n",
      "💾 Saved updated accounts list\n"
     ]
    },
    {
     "name": "stderr",
     "output_type": "stream",
     "text": [
      "100%|██████████| 1568/1568 [00:00<00:00, 44982.52it/s]\n"
     ]
    },
    {
     "name": "stdout",
     "output_type": "stream",
     "text": [
      "Imported Zeeschuimer Data. Saved export to data/csv_dup_rows/20250222_050323_dfoest.csv\n",
      "✅ Success: data/csv_dup_rows/20250222_050323_dfoest.csv\n",
      "💾 Saved updated accounts list\n"
     ]
    },
    {
     "name": "stderr",
     "output_type": "stream",
     "text": [
      "100%|██████████| 350/350 [00:00<00:00, 37792.36it/s]\n"
     ]
    },
    {
     "name": "stdout",
     "output_type": "stream",
     "text": [
      "Imported Zeeschuimer Data. Saved export to data/csv_dup_rows/20250222_050327_jensteutrine.csv\n",
      "✅ Success: data/csv_dup_rows/20250222_050327_jensteutrine.csv\n",
      "💾 Saved updated accounts list\n"
     ]
    },
    {
     "name": "stderr",
     "output_type": "stream",
     "text": [
      "100%|██████████| 1329/1329 [00:00<00:00, 59079.71it/s]\n"
     ]
    },
    {
     "name": "stdout",
     "output_type": "stream",
     "text": [
      "Imported Zeeschuimer Data. Saved export to data/csv_dup_rows/20250222_050328_marc_bernhard.csv\n",
      "✅ Success: data/csv_dup_rows/20250222_050328_marc_bernhard.csv\n",
      "💾 Saved updated accounts list\n"
     ]
    },
    {
     "name": "stderr",
     "output_type": "stream",
     "text": [
      "100%|██████████| 97/97 [00:00<00:00, 51408.58it/s]\n"
     ]
    },
    {
     "name": "stdout",
     "output_type": "stream",
     "text": [
      "Imported Zeeschuimer Data. Saved export to data/csv_dup_rows/20250222_050329_thomas.ehrhorn.csv\n",
      "✅ Success: data/csv_dup_rows/20250222_050329_thomas.ehrhorn.csv\n",
      "💾 Saved updated accounts list\n"
     ]
    },
    {
     "name": "stderr",
     "output_type": "stream",
     "text": [
      "100%|██████████| 1588/1588 [00:00<00:00, 24995.61it/s]\n"
     ]
    },
    {
     "name": "stdout",
     "output_type": "stream",
     "text": [
      "Imported Zeeschuimer Data. Saved export to data/csv_dup_rows/20250222_050329_johannes.schraps.csv\n",
      "✅ Success: data/csv_dup_rows/20250222_050329_johannes.schraps.csv\n",
      "💾 Saved updated accounts list\n"
     ]
    },
    {
     "name": "stderr",
     "output_type": "stream",
     "text": [
      "100%|██████████| 401/401 [00:00<00:00, 23191.16it/s]\n"
     ]
    },
    {
     "name": "stdout",
     "output_type": "stream",
     "text": [
      "Imported Zeeschuimer Data. Saved export to data/csv_dup_rows/20250222_050330_tim.kluessendorf.csv\n",
      "✅ Success: data/csv_dup_rows/20250222_050330_tim.kluessendorf.csv\n",
      "💾 Saved updated accounts list\n"
     ]
    },
    {
     "name": "stderr",
     "output_type": "stream",
     "text": [
      "100%|██████████| 440/440 [00:00<00:00, 37130.43it/s]\n"
     ]
    },
    {
     "name": "stdout",
     "output_type": "stream",
     "text": [
      "Imported Zeeschuimer Data. Saved export to data/csv_dup_rows/20250222_050331_britta.hasselmann.csv\n",
      "✅ Success: data/csv_dup_rows/20250222_050331_britta.hasselmann.csv\n",
      "💾 Saved updated accounts list\n"
     ]
    },
    {
     "name": "stderr",
     "output_type": "stream",
     "text": [
      "100%|██████████| 578/578 [00:00<00:00, 35026.26it/s]\n"
     ]
    },
    {
     "name": "stdout",
     "output_type": "stream",
     "text": [
      "Imported Zeeschuimer Data. Saved export to data/csv_dup_rows/20250222_050333_takis_ma2021.csv\n",
      "✅ Success: data/csv_dup_rows/20250222_050333_takis_ma2021.csv\n",
      "💾 Saved updated accounts list\n"
     ]
    },
    {
     "name": "stderr",
     "output_type": "stream",
     "text": [
      "100%|██████████| 2218/2218 [00:00<00:00, 43651.72it/s]\n"
     ]
    },
    {
     "name": "stdout",
     "output_type": "stream",
     "text": [
      "Imported Zeeschuimer Data. Saved export to data/csv_dup_rows/20250222_050335_badumlisa.csv\n",
      "✅ Success: data/csv_dup_rows/20250222_050335_badumlisa.csv\n",
      "💾 Saved updated accounts list\n"
     ]
    },
    {
     "name": "stderr",
     "output_type": "stream",
     "text": [
      "100%|██████████| 1602/1602 [00:00<00:00, 42603.10it/s]\n"
     ]
    },
    {
     "name": "stdout",
     "output_type": "stream",
     "text": [
      "Imported Zeeschuimer Data. Saved export to data/csv_dup_rows/20250222_050336_agnieszka_mdb.csv\n",
      "✅ Success: data/csv_dup_rows/20250222_050336_agnieszka_mdb.csv\n",
      "💾 Saved updated accounts list\n"
     ]
    },
    {
     "name": "stderr",
     "output_type": "stream",
     "text": [
      "100%|██████████| 3143/3143 [00:00<00:00, 18568.49it/s]\n"
     ]
    },
    {
     "name": "stdout",
     "output_type": "stream",
     "text": [
      "Imported Zeeschuimer Data. Saved export to data/csv_dup_rows/20250222_050336_malte.kaufmann.csv\n",
      "✅ Success: data/csv_dup_rows/20250222_050336_malte.kaufmann.csv\n",
      "💾 Saved updated accounts list\n"
     ]
    },
    {
     "name": "stderr",
     "output_type": "stream",
     "text": [
      "100%|██████████| 687/687 [00:00<00:00, 34265.89it/s]\n"
     ]
    },
    {
     "name": "stdout",
     "output_type": "stream",
     "text": [
      "Imported Zeeschuimer Data. Saved export to data/csv_dup_rows/20250222_050337_natalie.pawlik.csv\n",
      "✅ Success: data/csv_dup_rows/20250222_050337_natalie.pawlik.csv\n",
      "💾 Saved updated accounts list\n"
     ]
    },
    {
     "name": "stderr",
     "output_type": "stream",
     "text": [
      "100%|██████████| 5238/5238 [00:00<00:00, 54998.52it/s]\n"
     ]
    },
    {
     "name": "stdout",
     "output_type": "stream",
     "text": [
      "Imported Zeeschuimer Data. Saved export to data/csv_dup_rows/20250222_050340_dirkwiesespd.csv\n",
      "✅ Success: data/csv_dup_rows/20250222_050340_dirkwiesespd.csv\n",
      "💾 Saved updated accounts list\n"
     ]
    },
    {
     "name": "stderr",
     "output_type": "stream",
     "text": [
      "100%|██████████| 1418/1418 [00:00<00:00, 45258.60it/s]\n"
     ]
    },
    {
     "name": "stdout",
     "output_type": "stream",
     "text": [
      "Imported Zeeschuimer Data. Saved export to data/csv_dup_rows/20250222_050346_lime_green_leni.csv\n",
      "✅ Success: data/csv_dup_rows/20250222_050346_lime_green_leni.csv\n",
      "💾 Saved updated accounts list\n"
     ]
    },
    {
     "name": "stderr",
     "output_type": "stream",
     "text": [
      "100%|██████████| 2395/2395 [00:00<00:00, 58882.52it/s]\n"
     ]
    },
    {
     "name": "stdout",
     "output_type": "stream",
     "text": [
      "Imported Zeeschuimer Data. Saved export to data/csv_dup_rows/20250222_050350_larscastellucci.csv\n",
      "✅ Success: data/csv_dup_rows/20250222_050350_larscastellucci.csv\n",
      "💾 Saved updated accounts list\n"
     ]
    },
    {
     "name": "stderr",
     "output_type": "stream",
     "text": [
      "100%|██████████| 1666/1666 [00:00<00:00, 26577.33it/s]\n"
     ]
    },
    {
     "name": "stdout",
     "output_type": "stream",
     "text": [
      "Imported Zeeschuimer Data. Saved export to data/csv_dup_rows/20250222_050350_daniludwigmdb.csv\n",
      "✅ Success: data/csv_dup_rows/20250222_050350_daniludwigmdb.csv\n",
      "💾 Saved updated accounts list\n"
     ]
    },
    {
     "name": "stderr",
     "output_type": "stream",
     "text": [
      "100%|██████████| 632/632 [00:00<00:00, 64886.30it/s]"
     ]
    },
    {
     "name": "stdout",
     "output_type": "stream",
     "text": [
      "Imported Zeeschuimer Data. Saved export to data/csv_dup_rows/20250222_050355_renatekuenast.csv\n",
      "✅ Success: data/csv_dup_rows/20250222_050355_renatekuenast.csv\n"
     ]
    },
    {
     "name": "stderr",
     "output_type": "stream",
     "text": [
      "\n"
     ]
    },
    {
     "name": "stdout",
     "output_type": "stream",
     "text": [
      "💾 Saved updated accounts list\n"
     ]
    },
    {
     "name": "stderr",
     "output_type": "stream",
     "text": [
      "100%|██████████| 1290/1290 [00:00<00:00, 79292.06it/s]\n"
     ]
    },
    {
     "name": "stdout",
     "output_type": "stream",
     "text": [
      "Imported Zeeschuimer Data. Saved export to data/csv_dup_rows/20250222_050355_matthiashelferichafd.csv\n",
      "✅ Success: data/csv_dup_rows/20250222_050355_matthiashelferichafd.csv\n",
      "💾 Saved updated accounts list\n"
     ]
    },
    {
     "name": "stderr",
     "output_type": "stream",
     "text": [
      "100%|██████████| 751/751 [00:00<00:00, 35602.40it/s]\n"
     ]
    },
    {
     "name": "stdout",
     "output_type": "stream",
     "text": [
      "Imported Zeeschuimer Data. Saved export to data/csv_dup_rows/20250222_050356_annikloseberlin.csv\n",
      "✅ Success: data/csv_dup_rows/20250222_050356_annikloseberlin.csv\n",
      "💾 Saved updated accounts list\n"
     ]
    },
    {
     "name": "stderr",
     "output_type": "stream",
     "text": [
      "100%|██████████| 1423/1423 [00:00<00:00, 50335.61it/s]\n"
     ]
    },
    {
     "name": "stdout",
     "output_type": "stream",
     "text": [
      "Imported Zeeschuimer Data. Saved export to data/csv_dup_rows/20250222_050356_schoenunterwegs.csv\n",
      "✅ Success: data/csv_dup_rows/20250222_050356_schoenunterwegs.csv\n",
      "💾 Saved updated accounts list\n"
     ]
    },
    {
     "name": "stderr",
     "output_type": "stream",
     "text": [
      "100%|██████████| 2657/2657 [00:00<00:00, 38323.44it/s]\n"
     ]
    },
    {
     "name": "stdout",
     "output_type": "stream",
     "text": [
      "Imported Zeeschuimer Data. Saved export to data/csv_dup_rows/20250222_050357_marjavoellers.csv\n",
      "✅ Success: data/csv_dup_rows/20250222_050357_marjavoellers.csv\n",
      "💾 Saved updated accounts list\n"
     ]
    },
    {
     "name": "stderr",
     "output_type": "stream",
     "text": [
      "100%|██████████| 425/425 [00:00<00:00, 47170.66it/s]\n"
     ]
    },
    {
     "name": "stdout",
     "output_type": "stream",
     "text": [
      "Imported Zeeschuimer Data. Saved export to data/csv_dup_rows/20250222_050403_awettesfaiesus.csv\n",
      "✅ Success: data/csv_dup_rows/20250222_050403_awettesfaiesus.csv\n",
      "💾 Saved updated accounts list\n"
     ]
    },
    {
     "name": "stderr",
     "output_type": "stream",
     "text": [
      "100%|██████████| 914/914 [00:00<00:00, 17022.08it/s]\n"
     ]
    },
    {
     "name": "stdout",
     "output_type": "stream",
     "text": [
      "Imported Zeeschuimer Data. Saved export to data/csv_dup_rows/20250222_050404_hannesgnauck.csv\n",
      "✅ Success: data/csv_dup_rows/20250222_050404_hannesgnauck.csv\n",
      "💾 Saved updated accounts list\n"
     ]
    },
    {
     "name": "stderr",
     "output_type": "stream",
     "text": [
      "100%|██████████| 784/784 [00:00<00:00, 54718.02it/s]\n"
     ]
    },
    {
     "name": "stdout",
     "output_type": "stream",
     "text": [
      "Imported Zeeschuimer Data. Saved export to data/csv_dup_rows/20250222_050405_jasminahostert.csv\n",
      "✅ Success: data/csv_dup_rows/20250222_050405_jasminahostert.csv\n",
      "💾 Saved updated accounts list\n"
     ]
    },
    {
     "name": "stderr",
     "output_type": "stream",
     "text": [
      "100%|██████████| 508/508 [00:00<00:00, 29680.12it/s]\n"
     ]
    },
    {
     "name": "stdout",
     "output_type": "stream",
     "text": [
      "Imported Zeeschuimer Data. Saved export to data/csv_dup_rows/20250222_050407_jandieren.csv\n",
      "✅ Success: data/csv_dup_rows/20250222_050407_jandieren.csv\n",
      "💾 Saved updated accounts list\n"
     ]
    },
    {
     "name": "stderr",
     "output_type": "stream",
     "text": [
      "100%|██████████| 3183/3183 [00:00<00:00, 67295.08it/s]\n"
     ]
    },
    {
     "name": "stdout",
     "output_type": "stream",
     "text": [
      "Imported Zeeschuimer Data. Saved export to data/csv_dup_rows/20250222_050407_j.saathoff.csv\n",
      "✅ Success: data/csv_dup_rows/20250222_050407_j.saathoff.csv\n",
      "💾 Saved updated accounts list\n"
     ]
    },
    {
     "name": "stderr",
     "output_type": "stream",
     "text": [
      "100%|██████████| 611/611 [00:00<00:00, 30743.91it/s]\n"
     ]
    },
    {
     "name": "stdout",
     "output_type": "stream",
     "text": [
      "Imported Zeeschuimer Data. Saved export to data/csv_dup_rows/20250222_050408_roderich_kiesewetter.csv\n",
      "✅ Success: data/csv_dup_rows/20250222_050408_roderich_kiesewetter.csv\n",
      "💾 Saved updated accounts list\n"
     ]
    },
    {
     "name": "stderr",
     "output_type": "stream",
     "text": [
      "100%|██████████| 645/645 [00:00<00:00, 22433.15it/s]\n"
     ]
    },
    {
     "name": "stdout",
     "output_type": "stream",
     "text": [
      "Imported Zeeschuimer Data. Saved export to data/csv_dup_rows/20250222_050408_maja_wallstein.csv\n",
      "✅ Success: data/csv_dup_rows/20250222_050408_maja_wallstein.csv\n",
      "💾 Saved updated accounts list\n"
     ]
    },
    {
     "name": "stderr",
     "output_type": "stream",
     "text": [
      "100%|██████████| 940/940 [00:00<00:00, 70312.73it/s]\n"
     ]
    },
    {
     "name": "stdout",
     "output_type": "stream",
     "text": [
      "Imported Zeeschuimer Data. Saved export to data/csv_dup_rows/20250222_050408_susanne_hennig_wellsow.csv\n",
      "✅ Success: data/csv_dup_rows/20250222_050408_susanne_hennig_wellsow.csv\n",
      "💾 Saved updated accounts list\n"
     ]
    },
    {
     "name": "stderr",
     "output_type": "stream",
     "text": [
      "100%|██████████| 1425/1425 [00:00<00:00, 41321.05it/s]\n"
     ]
    },
    {
     "name": "stdout",
     "output_type": "stream",
     "text": [
      "Imported Zeeschuimer Data. Saved export to data/csv_dup_rows/20250222_050410_nicolegohlke.mdb.csv\n",
      "✅ Success: data/csv_dup_rows/20250222_050410_nicolegohlke.mdb.csv\n",
      "💾 Saved updated accounts list\n"
     ]
    },
    {
     "name": "stderr",
     "output_type": "stream",
     "text": [
      "100%|██████████| 1108/1108 [00:00<00:00, 35164.64it/s]\n"
     ]
    },
    {
     "name": "stdout",
     "output_type": "stream",
     "text": [
      "Imported Zeeschuimer Data. Saved export to data/csv_dup_rows/20250222_050411_ulle_schauws.csv\n",
      "✅ Success: data/csv_dup_rows/20250222_050411_ulle_schauws.csv\n",
      "💾 Saved updated accounts list\n"
     ]
    },
    {
     "name": "stderr",
     "output_type": "stream",
     "text": [
      "100%|██████████| 1586/1586 [00:00<00:00, 43705.02it/s]\n"
     ]
    },
    {
     "name": "stdout",
     "output_type": "stream",
     "text": [
      "Imported Zeeschuimer Data. Saved export to data/csv_dup_rows/20250222_050414_anja.karliczek.csv\n",
      "✅ Success: data/csv_dup_rows/20250222_050414_anja.karliczek.csv\n",
      "💾 Saved updated accounts list\n"
     ]
    },
    {
     "name": "stderr",
     "output_type": "stream",
     "text": [
      "100%|██████████| 2980/2980 [00:00<00:00, 89262.18it/s]\n"
     ]
    },
    {
     "name": "stdout",
     "output_type": "stream",
     "text": [
      "Imported Zeeschuimer Data. Saved export to data/csv_dup_rows/20250222_050417_stephan.protschka.mdb.csv\n",
      "✅ Success: data/csv_dup_rows/20250222_050417_stephan.protschka.mdb.csv\n",
      "💾 Saved updated accounts list\n"
     ]
    },
    {
     "name": "stderr",
     "output_type": "stream",
     "text": [
      "100%|██████████| 1588/1588 [00:00<00:00, 84724.79it/s]\n"
     ]
    },
    {
     "name": "stdout",
     "output_type": "stream",
     "text": [
      "Imported Zeeschuimer Data. Saved export to data/csv_dup_rows/20250222_050420_martinhess.afd.csv\n",
      "✅ Success: data/csv_dup_rows/20250222_050420_martinhess.afd.csv\n",
      "💾 Saved updated accounts list\n"
     ]
    },
    {
     "name": "stderr",
     "output_type": "stream",
     "text": [
      "100%|██████████| 2004/2004 [00:00<00:00, 68284.28it/s]\n"
     ]
    },
    {
     "name": "stdout",
     "output_type": "stream",
     "text": [
      "Imported Zeeschuimer Data. Saved export to data/csv_dup_rows/20250222_050421_lenibreymaier.csv\n",
      "✅ Success: data/csv_dup_rows/20250222_050421_lenibreymaier.csv\n",
      "💾 Saved updated accounts list\n"
     ]
    },
    {
     "name": "stderr",
     "output_type": "stream",
     "text": [
      "100%|██████████| 1257/1257 [00:00<00:00, 36358.77it/s]\n"
     ]
    },
    {
     "name": "stdout",
     "output_type": "stream",
     "text": [
      "Imported Zeeschuimer Data. Saved export to data/csv_dup_rows/20250222_050424_atesgurpinar.csv\n",
      "✅ Success: data/csv_dup_rows/20250222_050424_atesgurpinar.csv\n",
      "💾 Saved updated accounts list\n"
     ]
    },
    {
     "name": "stderr",
     "output_type": "stream",
     "text": [
      "100%|██████████| 1883/1883 [00:00<00:00, 30034.85it/s]\n"
     ]
    },
    {
     "name": "stdout",
     "output_type": "stream",
     "text": [
      "Imported Zeeschuimer Data. Saved export to data/csv_dup_rows/20250222_050424_thomasbareiss.csv\n",
      "✅ Success: data/csv_dup_rows/20250222_050424_thomasbareiss.csv\n",
      "💾 Saved updated accounts list\n"
     ]
    },
    {
     "name": "stderr",
     "output_type": "stream",
     "text": [
      "100%|██████████| 22/22 [00:00<00:00, 64890.78it/s]"
     ]
    },
    {
     "name": "stdout",
     "output_type": "stream",
     "text": [
      "Imported Zeeschuimer Data. Saved export to data/csv_dup_rows/20250222_050424_andreasjung.kn.csv\n",
      "✅ Success: data/csv_dup_rows/20250222_050424_andreasjung.kn.csv\n",
      "💾 Saved updated accounts list\n"
     ]
    },
    {
     "name": "stderr",
     "output_type": "stream",
     "text": [
      "\n",
      "100%|██████████| 2380/2380 [00:00<00:00, 45571.32it/s]\n"
     ]
    },
    {
     "name": "stdout",
     "output_type": "stream",
     "text": [
      "Imported Zeeschuimer Data. Saved export to data/csv_dup_rows/20250222_050425_andreas.lenz.bundestag.csv\n",
      "✅ Success: data/csv_dup_rows/20250222_050425_andreas.lenz.bundestag.csv\n",
      "💾 Saved updated accounts list\n"
     ]
    },
    {
     "name": "stderr",
     "output_type": "stream",
     "text": [
      "100%|██████████| 1296/1296 [00:00<00:00, 35163.03it/s]\n"
     ]
    },
    {
     "name": "stdout",
     "output_type": "stream",
     "text": [
      "Imported Zeeschuimer Data. Saved export to data/csv_dup_rows/20250222_050427_sepp.mueller_mdb.csv\n",
      "✅ Success: data/csv_dup_rows/20250222_050427_sepp.mueller_mdb.csv\n",
      "💾 Saved updated accounts list\n"
     ]
    },
    {
     "name": "stderr",
     "output_type": "stream",
     "text": [
      "100%|██████████| 581/581 [00:00<00:00, 45972.13it/s]"
     ]
    },
    {
     "name": "stdout",
     "output_type": "stream",
     "text": [
      "Imported Zeeschuimer Data. Saved export to data/csv_dup_rows/20250222_050430_reinhard.brandl.csv\n",
      "✅ Success: data/csv_dup_rows/20250222_050430_reinhard.brandl.csv\n"
     ]
    },
    {
     "name": "stderr",
     "output_type": "stream",
     "text": [
      "\n"
     ]
    },
    {
     "name": "stdout",
     "output_type": "stream",
     "text": [
      "💾 Saved updated accounts list\n"
     ]
    },
    {
     "name": "stderr",
     "output_type": "stream",
     "text": [
      "100%|██████████| 718/718 [00:00<00:00, 42010.33it/s]\n"
     ]
    },
    {
     "name": "stdout",
     "output_type": "stream",
     "text": [
      "Imported Zeeschuimer Data. Saved export to data/csv_dup_rows/20250222_050430_annaluehrmann.csv\n",
      "✅ Success: data/csv_dup_rows/20250222_050430_annaluehrmann.csv\n",
      "💾 Saved updated accounts list\n"
     ]
    },
    {
     "name": "stderr",
     "output_type": "stream",
     "text": [
      "100%|██████████| 1062/1062 [00:00<00:00, 41057.71it/s]\n"
     ]
    },
    {
     "name": "stdout",
     "output_type": "stream",
     "text": [
      "Imported Zeeschuimer Data. Saved export to data/csv_dup_rows/20250222_050431_schneidercar_spd.csv\n",
      "✅ Success: data/csv_dup_rows/20250222_050431_schneidercar_spd.csv\n",
      "💾 Saved updated accounts list\n"
     ]
    },
    {
     "name": "stderr",
     "output_type": "stream",
     "text": [
      "100%|██████████| 1148/1148 [00:00<00:00, 48557.52it/s]\n"
     ]
    },
    {
     "name": "stdout",
     "output_type": "stream",
     "text": [
      "Imported Zeeschuimer Data. Saved export to data/csv_dup_rows/20250222_050431_katja.leikert.csv\n",
      "✅ Success: data/csv_dup_rows/20250222_050431_katja.leikert.csv\n",
      "💾 Saved updated accounts list\n"
     ]
    },
    {
     "name": "stderr",
     "output_type": "stream",
     "text": [
      "100%|██████████| 800/800 [00:00<00:00, 38621.14it/s]\n"
     ]
    },
    {
     "name": "stdout",
     "output_type": "stream",
     "text": [
      "Imported Zeeschuimer Data. Saved export to data/csv_dup_rows/20250222_050433_tobias.lindner.mdb.csv\n",
      "✅ Success: data/csv_dup_rows/20250222_050433_tobias.lindner.mdb.csv\n",
      "💾 Saved updated accounts list\n"
     ]
    },
    {
     "name": "stderr",
     "output_type": "stream",
     "text": [
      "100%|██████████| 586/586 [00:00<00:00, 69564.76it/s]\n"
     ]
    },
    {
     "name": "stdout",
     "output_type": "stream",
     "text": [
      "Imported Zeeschuimer Data. Saved export to data/csv_dup_rows/20250222_050433_gerohocker.csv\n",
      "✅ Success: data/csv_dup_rows/20250222_050433_gerohocker.csv\n",
      "💾 Saved updated accounts list\n"
     ]
    },
    {
     "name": "stderr",
     "output_type": "stream",
     "text": [
      "100%|██████████| 1536/1536 [00:00<00:00, 39276.05it/s]\n"
     ]
    },
    {
     "name": "stdout",
     "output_type": "stream",
     "text": [
      "Imported Zeeschuimer Data. Saved export to data/csv_dup_rows/20250222_050434_silkelaunert.csv\n",
      "✅ Success: data/csv_dup_rows/20250222_050434_silkelaunert.csv\n",
      "💾 Saved updated accounts list\n"
     ]
    },
    {
     "name": "stderr",
     "output_type": "stream",
     "text": [
      "100%|██████████| 3066/3066 [00:00<00:00, 47661.84it/s]\n"
     ]
    },
    {
     "name": "stdout",
     "output_type": "stream",
     "text": [
      "Imported Zeeschuimer Data. Saved export to data/csv_dup_rows/20250222_050436_soerenpellmann.csv\n",
      "✅ Success: data/csv_dup_rows/20250222_050436_soerenpellmann.csv\n",
      "💾 Saved updated accounts list\n"
     ]
    },
    {
     "name": "stderr",
     "output_type": "stream",
     "text": [
      "100%|██████████| 2215/2215 [00:00<00:00, 49642.44it/s]\n"
     ]
    },
    {
     "name": "stdout",
     "output_type": "stream",
     "text": [
      "Imported Zeeschuimer Data. Saved export to data/csv_dup_rows/20250222_050437_nielsannen.csv\n",
      "✅ Success: data/csv_dup_rows/20250222_050437_nielsannen.csv\n",
      "💾 Saved updated accounts list\n"
     ]
    },
    {
     "name": "stderr",
     "output_type": "stream",
     "text": [
      "100%|██████████| 129/129 [00:00<00:00, 56954.23it/s]\n"
     ]
    },
    {
     "name": "stdout",
     "output_type": "stream",
     "text": [
      "Imported Zeeschuimer Data. Saved export to data/csv_dup_rows/20250222_050437_amira.mohamedali.offiziell.csv\n",
      "✅ Success: data/csv_dup_rows/20250222_050437_amira.mohamedali.offiziell.csv\n",
      "💾 Saved updated accounts list\n"
     ]
    },
    {
     "name": "stderr",
     "output_type": "stream",
     "text": [
      "100%|██████████| 1116/1116 [00:00<00:00, 42990.45it/s]\n"
     ]
    },
    {
     "name": "stdout",
     "output_type": "stream",
     "text": [
      "Imported Zeeschuimer Data. Saved export to data/csv_dup_rows/20250222_050438_ronjakemmer.csv\n",
      "✅ Success: data/csv_dup_rows/20250222_050438_ronjakemmer.csv\n",
      "💾 Saved updated accounts list\n"
     ]
    },
    {
     "name": "stderr",
     "output_type": "stream",
     "text": [
      "100%|██████████| 681/681 [00:00<00:00, 29203.65it/s]\n"
     ]
    },
    {
     "name": "stdout",
     "output_type": "stream",
     "text": [
      "Imported Zeeschuimer Data. Saved export to data/csv_dup_rows/20250222_050438_falko.drossmann.csv\n",
      "✅ Success: data/csv_dup_rows/20250222_050438_falko.drossmann.csv\n",
      "💾 Saved updated accounts list\n"
     ]
    },
    {
     "name": "stderr",
     "output_type": "stream",
     "text": [
      "100%|██████████| 1529/1529 [00:00<00:00, 64117.44it/s]\n"
     ]
    },
    {
     "name": "stdout",
     "output_type": "stream",
     "text": [
      "Imported Zeeschuimer Data. Saved export to data/csv_dup_rows/20250222_050439_macit.spd.csv\n",
      "✅ Success: data/csv_dup_rows/20250222_050439_macit.spd.csv\n",
      "💾 Saved updated accounts list\n"
     ]
    },
    {
     "name": "stderr",
     "output_type": "stream",
     "text": [
      "100%|██████████| 1112/1112 [00:00<00:00, 54766.99it/s]\n"
     ]
    },
    {
     "name": "stdout",
     "output_type": "stream",
     "text": [
      "Imported Zeeschuimer Data. Saved export to data/csv_dup_rows/20250222_050441_matthiasseesternpauly.csv\n",
      "✅ Success: data/csv_dup_rows/20250222_050441_matthiasseesternpauly.csv\n",
      "💾 Saved updated accounts list\n"
     ]
    },
    {
     "name": "stderr",
     "output_type": "stream",
     "text": [
      "100%|██████████| 793/793 [00:00<00:00, 42401.27it/s]\n"
     ]
    },
    {
     "name": "stdout",
     "output_type": "stream",
     "text": [
      "Imported Zeeschuimer Data. Saved export to data/csv_dup_rows/20250222_050442_kai_whittaker.csv\n",
      "✅ Success: data/csv_dup_rows/20250222_050442_kai_whittaker.csv\n",
      "💾 Saved updated accounts list\n"
     ]
    },
    {
     "name": "stderr",
     "output_type": "stream",
     "text": [
      "100%|██████████| 683/683 [00:00<00:00, 46475.60it/s]\n"
     ]
    },
    {
     "name": "stdout",
     "output_type": "stream",
     "text": [
      "Imported Zeeschuimer Data. Saved export to data/csv_dup_rows/20250222_050444_melis_sekmen.csv\n",
      "✅ Success: data/csv_dup_rows/20250222_050444_melis_sekmen.csv\n",
      "💾 Saved updated accounts list\n"
     ]
    },
    {
     "name": "stderr",
     "output_type": "stream",
     "text": [
      "100%|██████████| 769/769 [00:00<00:00, 23103.40it/s]\n"
     ]
    },
    {
     "name": "stdout",
     "output_type": "stream",
     "text": [
      "Imported Zeeschuimer Data. Saved export to data/csv_dup_rows/20250222_050445_paula.piechotta.csv\n",
      "✅ Success: data/csv_dup_rows/20250222_050445_paula.piechotta.csv\n",
      "💾 Saved updated accounts list\n"
     ]
    },
    {
     "name": "stderr",
     "output_type": "stream",
     "text": [
      "100%|██████████| 524/524 [00:00<00:00, 25629.60it/s]\n"
     ]
    },
    {
     "name": "stdout",
     "output_type": "stream",
     "text": [
      "Imported Zeeschuimer Data. Saved export to data/csv_dup_rows/20250222_050446_andreasaudretsch.csv\n",
      "✅ Success: data/csv_dup_rows/20250222_050446_andreasaudretsch.csv\n",
      "💾 Saved updated accounts list\n"
     ]
    },
    {
     "name": "stderr",
     "output_type": "stream",
     "text": [
      "100%|██████████| 1389/1389 [00:00<00:00, 33614.06it/s]\n"
     ]
    },
    {
     "name": "stdout",
     "output_type": "stream",
     "text": [
      "Imported Zeeschuimer Data. Saved export to data/csv_dup_rows/20250222_050446_yvonne_magwas.csv\n",
      "✅ Success: data/csv_dup_rows/20250222_050446_yvonne_magwas.csv\n",
      "💾 Saved updated accounts list\n"
     ]
    },
    {
     "name": "stderr",
     "output_type": "stream",
     "text": [
      "100%|██████████| 1161/1161 [00:00<00:00, 40127.12it/s]\n"
     ]
    },
    {
     "name": "stdout",
     "output_type": "stream",
     "text": [
      "Imported Zeeschuimer Data. Saved export to data/csv_dup_rows/20250222_050448_zaklinnastic.csv\n",
      "✅ Success: data/csv_dup_rows/20250222_050448_zaklinnastic.csv\n",
      "💾 Saved updated accounts list\n"
     ]
    },
    {
     "name": "stderr",
     "output_type": "stream",
     "text": [
      "100%|██████████| 1471/1471 [00:00<00:00, 87403.62it/s]\n"
     ]
    },
    {
     "name": "stdout",
     "output_type": "stream",
     "text": [
      "Imported Zeeschuimer Data. Saved export to data/csv_dup_rows/20250222_050451_kay.gottschalk.mdb.111.csv\n",
      "✅ Success: data/csv_dup_rows/20250222_050451_kay.gottschalk.mdb.111.csv\n",
      "💾 Saved updated accounts list\n"
     ]
    },
    {
     "name": "stderr",
     "output_type": "stream",
     "text": [
      "100%|██████████| 467/467 [00:00<00:00, 34097.06it/s]\n"
     ]
    },
    {
     "name": "stdout",
     "output_type": "stream",
     "text": [
      "Imported Zeeschuimer Data. Saved export to data/csv_dup_rows/20250222_050452_otto_fricke.csv\n",
      "✅ Success: data/csv_dup_rows/20250222_050452_otto_fricke.csv\n",
      "💾 Saved updated accounts list\n"
     ]
    },
    {
     "name": "stderr",
     "output_type": "stream",
     "text": [
      "100%|██████████| 1982/1982 [00:00<00:00, 42180.97it/s]\n"
     ]
    },
    {
     "name": "stdout",
     "output_type": "stream",
     "text": [
      "Imported Zeeschuimer Data. Saved export to data/csv_dup_rows/20250222_050452_frank.schwabe.csv\n",
      "✅ Success: data/csv_dup_rows/20250222_050452_frank.schwabe.csv\n",
      "💾 Saved updated accounts list\n"
     ]
    },
    {
     "name": "stderr",
     "output_type": "stream",
     "text": [
      "100%|██████████| 559/559 [00:00<00:00, 40705.14it/s]"
     ]
    },
    {
     "name": "stdout",
     "output_type": "stream",
     "text": [
      "Imported Zeeschuimer Data. Saved export to data/csv_dup_rows/20250222_050455_merle_spellerberg.csv\n",
      "✅ Success: data/csv_dup_rows/20250222_050455_merle_spellerberg.csv\n",
      "💾 Saved updated accounts list\n"
     ]
    },
    {
     "name": "stderr",
     "output_type": "stream",
     "text": [
      "\n",
      "100%|██████████| 1225/1225 [00:00<00:00, 41669.55it/s]\n"
     ]
    },
    {
     "name": "stdout",
     "output_type": "stream",
     "text": [
      "Imported Zeeschuimer Data. Saved export to data/csv_dup_rows/20250222_050455_bstrasser.csv\n",
      "✅ Success: data/csv_dup_rows/20250222_050455_bstrasser.csv\n",
      "💾 Saved updated accounts list\n"
     ]
    },
    {
     "name": "stderr",
     "output_type": "stream",
     "text": [
      "100%|██████████| 1211/1211 [00:00<00:00, 36382.86it/s]\n"
     ]
    },
    {
     "name": "stdout",
     "output_type": "stream",
     "text": [
      "Imported Zeeschuimer Data. Saved export to data/csv_dup_rows/20250222_050457_emmi_zeulner.csv\n",
      "✅ Success: data/csv_dup_rows/20250222_050457_emmi_zeulner.csv\n",
      "💾 Saved updated accounts list\n"
     ]
    },
    {
     "name": "stderr",
     "output_type": "stream",
     "text": [
      "100%|██████████| 687/687 [00:00<00:00, 50109.33it/s]"
     ]
    },
    {
     "name": "stdout",
     "output_type": "stream",
     "text": [
      "Imported Zeeschuimer Data. Saved export to data/csv_dup_rows/20250222_050459_janaschimke.csv\n",
      "✅ Success: data/csv_dup_rows/20250222_050459_janaschimke.csv\n",
      "💾 Saved updated accounts list\n"
     ]
    },
    {
     "name": "stderr",
     "output_type": "stream",
     "text": [
      "\n",
      "100%|██████████| 2269/2269 [00:00<00:00, 27098.94it/s]\n"
     ]
    },
    {
     "name": "stdout",
     "output_type": "stream",
     "text": [
      "Imported Zeeschuimer Data. Saved export to data/csv_dup_rows/20250222_050459_anjaweisgerber.csv\n",
      "✅ Success: data/csv_dup_rows/20250222_050459_anjaweisgerber.csv\n",
      "💾 Saved updated accounts list\n"
     ]
    },
    {
     "name": "stderr",
     "output_type": "stream",
     "text": [
      "100%|██████████| 610/610 [00:00<00:00, 30315.36it/s]\n"
     ]
    },
    {
     "name": "stdout",
     "output_type": "stream",
     "text": [
      "Imported Zeeschuimer Data. Saved export to data/csv_dup_rows/20250222_050503_thereallenzii.csv\n",
      "✅ Success: data/csv_dup_rows/20250222_050503_thereallenzii.csv\n",
      "💾 Saved updated accounts list\n"
     ]
    },
    {
     "name": "stderr",
     "output_type": "stream",
     "text": [
      "100%|██████████| 578/578 [00:00<00:00, 47403.46it/s]\n"
     ]
    },
    {
     "name": "stdout",
     "output_type": "stream",
     "text": [
      "Imported Zeeschuimer Data. Saved export to data/csv_dup_rows/20250222_050504_annakassautzki.csv\n",
      "✅ Success: data/csv_dup_rows/20250222_050504_annakassautzki.csv\n",
      "💾 Saved updated accounts list\n"
     ]
    },
    {
     "name": "stderr",
     "output_type": "stream",
     "text": [
      "100%|██████████| 1837/1837 [00:00<00:00, 53534.76it/s]\n"
     ]
    },
    {
     "name": "stdout",
     "output_type": "stream",
     "text": [
      "Imported Zeeschuimer Data. Saved export to data/csv_dup_rows/20250222_050504_felixschreiner.csv\n",
      "✅ Success: data/csv_dup_rows/20250222_050504_felixschreiner.csv\n",
      "💾 Saved updated accounts list\n"
     ]
    },
    {
     "name": "stderr",
     "output_type": "stream",
     "text": [
      "100%|██████████| 1442/1442 [00:00<00:00, 41240.07it/s]\n"
     ]
    },
    {
     "name": "stdout",
     "output_type": "stream",
     "text": [
      "Imported Zeeschuimer Data. Saved export to data/csv_dup_rows/20250222_050506_jensbeeck.csv\n",
      "✅ Success: data/csv_dup_rows/20250222_050506_jensbeeck.csv\n",
      "💾 Saved updated accounts list\n"
     ]
    },
    {
     "name": "stderr",
     "output_type": "stream",
     "text": [
      "100%|██████████| 684/684 [00:00<00:00, 52082.35it/s]\n"
     ]
    },
    {
     "name": "stdout",
     "output_type": "stream",
     "text": [
      "Imported Zeeschuimer Data. Saved export to data/csv_dup_rows/20250222_050507_filiz.polat.mdb.csv\n",
      "✅ Success: data/csv_dup_rows/20250222_050507_filiz.polat.mdb.csv\n",
      "💾 Saved updated accounts list\n"
     ]
    },
    {
     "name": "stderr",
     "output_type": "stream",
     "text": [
      "100%|██████████| 2180/2180 [00:00<00:00, 51987.92it/s]\n"
     ]
    },
    {
     "name": "stdout",
     "output_type": "stream",
     "text": [
      "Imported Zeeschuimer Data. Saved export to data/csv_dup_rows/20250222_050508_marc.biadacz.csv\n",
      "✅ Success: data/csv_dup_rows/20250222_050508_marc.biadacz.csv\n",
      "💾 Saved updated accounts list\n"
     ]
    },
    {
     "name": "stderr",
     "output_type": "stream",
     "text": [
      "100%|██████████| 447/447 [00:00<00:00, 39533.03it/s]"
     ]
    },
    {
     "name": "stdout",
     "output_type": "stream",
     "text": [
      "Imported Zeeschuimer Data. Saved export to data/csv_dup_rows/20250222_050509_jakob.blankenburg.csv\n",
      "✅ Success: data/csv_dup_rows/20250222_050509_jakob.blankenburg.csv\n",
      "💾 Saved updated accounts list\n"
     ]
    },
    {
     "name": "stderr",
     "output_type": "stream",
     "text": [
      "\n",
      "100%|██████████| 630/630 [00:00<00:00, 43124.51it/s]\n"
     ]
    },
    {
     "name": "stdout",
     "output_type": "stream",
     "text": [
      "Imported Zeeschuimer Data. Saved export to data/csv_dup_rows/20250222_050509_koehler_fdp.csv\n",
      "✅ Success: data/csv_dup_rows/20250222_050509_koehler_fdp.csv\n",
      "💾 Saved updated accounts list\n"
     ]
    },
    {
     "name": "stderr",
     "output_type": "stream",
     "text": [
      "100%|██████████| 315/315 [00:00<00:00, 55456.92it/s]\n"
     ]
    },
    {
     "name": "stdout",
     "output_type": "stream",
     "text": [
      "Imported Zeeschuimer Data. Saved export to data/csv_dup_rows/20250222_050511_dietmarbartschmv.csv\n",
      "✅ Success: data/csv_dup_rows/20250222_050511_dietmarbartschmv.csv\n",
      "💾 Saved updated accounts list\n"
     ]
    },
    {
     "name": "stderr",
     "output_type": "stream",
     "text": [
      "100%|██████████| 732/732 [00:00<00:00, 34313.07it/s]\n"
     ]
    },
    {
     "name": "stdout",
     "output_type": "stream",
     "text": [
      "Imported Zeeschuimer Data. Saved export to data/csv_dup_rows/20250222_050511_hendrikhoppenstedt.csv\n",
      "✅ Success: data/csv_dup_rows/20250222_050511_hendrikhoppenstedt.csv\n",
      "💾 Saved updated accounts list\n"
     ]
    },
    {
     "name": "stderr",
     "output_type": "stream",
     "text": [
      "100%|██████████| 5534/5534 [00:00<00:00, 16524.25it/s]\n"
     ]
    },
    {
     "name": "stdout",
     "output_type": "stream",
     "text": [
      "Imported Zeeschuimer Data. Saved export to data/csv_dup_rows/20250222_050511_michaeldonthmdb.csv\n",
      "✅ Success: data/csv_dup_rows/20250222_050511_michaeldonthmdb.csv\n",
      "💾 Saved updated accounts list\n"
     ]
    },
    {
     "name": "stderr",
     "output_type": "stream",
     "text": [
      "100%|██████████| 1789/1789 [00:00<00:00, 23589.66it/s]\n"
     ]
    },
    {
     "name": "stdout",
     "output_type": "stream",
     "text": [
      "Imported Zeeschuimer Data. Saved export to data/csv_dup_rows/20250222_050521_ca.konrad.csv\n",
      "✅ Success: data/csv_dup_rows/20250222_050521_ca.konrad.csv\n",
      "💾 Saved updated accounts list\n"
     ]
    },
    {
     "name": "stderr",
     "output_type": "stream",
     "text": [
      "100%|██████████| 599/599 [00:00<00:00, 31633.00it/s]\n"
     ]
    },
    {
     "name": "stdout",
     "output_type": "stream",
     "text": [
      "Imported Zeeschuimer Data. Saved export to data/csv_dup_rows/20250222_050521_pascalkober.csv\n",
      "✅ Success: data/csv_dup_rows/20250222_050521_pascalkober.csv\n",
      "💾 Saved updated accounts list\n"
     ]
    },
    {
     "name": "stderr",
     "output_type": "stream",
     "text": [
      "100%|██████████| 753/753 [00:00<00:00, 15806.73it/s]\n"
     ]
    },
    {
     "name": "stdout",
     "output_type": "stream",
     "text": [
      "Imported Zeeschuimer Data. Saved export to data/csv_dup_rows/20250222_050523_kirstenkappertgonther.csv\n",
      "✅ Success: data/csv_dup_rows/20250222_050523_kirstenkappertgonther.csv\n",
      "💾 Saved updated accounts list\n"
     ]
    },
    {
     "name": "stderr",
     "output_type": "stream",
     "text": [
      "100%|██████████| 492/492 [00:00<00:00, 9814.13it/s]\n"
     ]
    },
    {
     "name": "stdout",
     "output_type": "stream",
     "text": [
      "Imported Zeeschuimer Data. Saved export to data/csv_dup_rows/20250222_050523_erikvonmalottki.csv\n",
      "✅ Success: data/csv_dup_rows/20250222_050523_erikvonmalottki.csv\n",
      "💾 Saved updated accounts list\n"
     ]
    },
    {
     "name": "stderr",
     "output_type": "stream",
     "text": [
      "100%|██████████| 468/468 [00:00<00:00, 19485.54it/s]\n"
     ]
    },
    {
     "name": "stdout",
     "output_type": "stream",
     "text": [
      "Imported Zeeschuimer Data. Saved export to data/csv_dup_rows/20250222_050523_debbie.duering.csv\n",
      "✅ Success: data/csv_dup_rows/20250222_050523_debbie.duering.csv\n",
      "💾 Saved updated accounts list\n"
     ]
    },
    {
     "name": "stderr",
     "output_type": "stream",
     "text": [
      "100%|██████████| 1566/1566 [00:00<00:00, 34705.80it/s]\n"
     ]
    },
    {
     "name": "stdout",
     "output_type": "stream",
     "text": [
      "Imported Zeeschuimer Data. Saved export to data/csv_dup_rows/20250222_050524_kerstingriese.csv\n",
      "✅ Success: data/csv_dup_rows/20250222_050524_kerstingriese.csv\n",
      "💾 Saved updated accounts list\n"
     ]
    },
    {
     "name": "stderr",
     "output_type": "stream",
     "text": [
      "100%|██████████| 1251/1251 [00:00<00:00, 56806.81it/s]\n"
     ]
    },
    {
     "name": "stdout",
     "output_type": "stream",
     "text": [
      "Imported Zeeschuimer Data. Saved export to data/csv_dup_rows/20250222_050526_gastelmatthias.csv\n",
      "✅ Success: data/csv_dup_rows/20250222_050526_gastelmatthias.csv\n",
      "💾 Saved updated accounts list\n"
     ]
    },
    {
     "name": "stderr",
     "output_type": "stream",
     "text": [
      "100%|██████████| 1701/1701 [00:00<00:00, 34503.07it/s]\n"
     ]
    },
    {
     "name": "stdout",
     "output_type": "stream",
     "text": [
      "Imported Zeeschuimer Data. Saved export to data/csv_dup_rows/20250222_050528_gesine.loetzsch.csv\n",
      "✅ Success: data/csv_dup_rows/20250222_050528_gesine.loetzsch.csv\n",
      "💾 Saved updated accounts list\n"
     ]
    },
    {
     "name": "stderr",
     "output_type": "stream",
     "text": [
      "100%|██████████| 659/659 [00:00<00:00, 33800.21it/s]\n"
     ]
    },
    {
     "name": "stdout",
     "output_type": "stream",
     "text": [
      "Imported Zeeschuimer Data. Saved export to data/csv_dup_rows/20250222_050528_franziskakrumwiede.csv\n",
      "✅ Success: data/csv_dup_rows/20250222_050528_franziskakrumwiede.csv\n",
      "💾 Saved updated accounts list\n"
     ]
    },
    {
     "name": "stderr",
     "output_type": "stream",
     "text": [
      "100%|██████████| 754/754 [00:00<00:00, 35342.76it/s]\n"
     ]
    },
    {
     "name": "stdout",
     "output_type": "stream",
     "text": [
      "Imported Zeeschuimer Data. Saved export to data/csv_dup_rows/20250222_050528_schahinag.csv\n",
      "✅ Success: data/csv_dup_rows/20250222_050528_schahinag.csv\n",
      "💾 Saved updated accounts list\n"
     ]
    },
    {
     "name": "stderr",
     "output_type": "stream",
     "text": [
      "100%|██████████| 2180/2180 [00:00<00:00, 40295.01it/s]\n"
     ]
    },
    {
     "name": "stdout",
     "output_type": "stream",
     "text": [
      "Imported Zeeschuimer Data. Saved export to data/csv_dup_rows/20250222_050530_marcusfaberfdp.csv\n",
      "✅ Success: data/csv_dup_rows/20250222_050530_marcusfaberfdp.csv\n",
      "💾 Saved updated accounts list\n"
     ]
    },
    {
     "name": "stderr",
     "output_type": "stream",
     "text": [
      "100%|██████████| 2422/2422 [00:00<00:00, 47205.85it/s]\n"
     ]
    },
    {
     "name": "stdout",
     "output_type": "stream",
     "text": [
      "Imported Zeeschuimer Data. Saved export to data/csv_dup_rows/20250222_050538_katja.mast.politik.csv\n",
      "✅ Success: data/csv_dup_rows/20250222_050538_katja.mast.politik.csv\n",
      "💾 Saved updated accounts list\n"
     ]
    },
    {
     "name": "stderr",
     "output_type": "stream",
     "text": [
      "100%|██████████| 1784/1784 [00:00<00:00, 53057.07it/s]\n"
     ]
    },
    {
     "name": "stdout",
     "output_type": "stream",
     "text": [
      "Imported Zeeschuimer Data. Saved export to data/csv_dup_rows/20250222_050539_michael_frieser.csv\n",
      "✅ Success: data/csv_dup_rows/20250222_050539_michael_frieser.csv\n",
      "💾 Saved updated accounts list\n"
     ]
    },
    {
     "name": "stderr",
     "output_type": "stream",
     "text": [
      "0it [00:00, ?it/s]\n"
     ]
    },
    {
     "name": "stdout",
     "output_type": "stream",
     "text": [
      "Imported Zeeschuimer Data. Saved export to data/csv_dup_rows/20250222_050540_pschnieder.csv\n",
      "✅ Success: data/csv_dup_rows/20250222_050540_pschnieder.csv\n",
      "💾 Saved updated accounts list\n"
     ]
    },
    {
     "name": "stderr",
     "output_type": "stream",
     "text": [
      "100%|██████████| 816/816 [00:00<00:00, 60216.97it/s]\n"
     ]
    },
    {
     "name": "stdout",
     "output_type": "stream",
     "text": [
      "Imported Zeeschuimer Data. Saved export to data/csv_dup_rows/20250222_050540_doering.felix.csv\n",
      "✅ Success: data/csv_dup_rows/20250222_050540_doering.felix.csv\n",
      "💾 Saved updated accounts list\n"
     ]
    },
    {
     "name": "stderr",
     "output_type": "stream",
     "text": [
      "100%|██████████| 1586/1586 [00:00<00:00, 36011.96it/s]\n"
     ]
    },
    {
     "name": "stdout",
     "output_type": "stream",
     "text": [
      "Imported Zeeschuimer Data. Saved export to data/csv_dup_rows/20250222_050541_ralph_edelhaeusser.csv\n",
      "✅ Success: data/csv_dup_rows/20250222_050541_ralph_edelhaeusser.csv\n",
      "💾 Saved updated accounts list\n"
     ]
    },
    {
     "name": "stderr",
     "output_type": "stream",
     "text": [
      "100%|██████████| 739/739 [00:00<00:00, 25135.96it/s]\n"
     ]
    },
    {
     "name": "stdout",
     "output_type": "stream",
     "text": [
      "Imported Zeeschuimer Data. Saved export to data/csv_dup_rows/20250222_050543_johannes_arlt.csv\n",
      "✅ Success: data/csv_dup_rows/20250222_050543_johannes_arlt.csv\n",
      "💾 Saved updated accounts list\n"
     ]
    },
    {
     "name": "stderr",
     "output_type": "stream",
     "text": [
      "100%|██████████| 1098/1098 [00:00<00:00, 42477.69it/s]\n"
     ]
    },
    {
     "name": "stdout",
     "output_type": "stream",
     "text": [
      "Imported Zeeschuimer Data. Saved export to data/csv_dup_rows/20250222_050545_fabian.gramling.csv\n",
      "✅ Success: data/csv_dup_rows/20250222_050545_fabian.gramling.csv\n",
      "💾 Saved updated accounts list\n"
     ]
    },
    {
     "name": "stderr",
     "output_type": "stream",
     "text": [
      "100%|██████████| 558/558 [00:00<00:00, 64641.82it/s]\n"
     ]
    },
    {
     "name": "stdout",
     "output_type": "stream",
     "text": [
      "Imported Zeeschuimer Data. Saved export to data/csv_dup_rows/20250222_050547_martindiedenhofen.csv\n",
      "✅ Success: data/csv_dup_rows/20250222_050547_martindiedenhofen.csv\n",
      "💾 Saved updated accounts list\n"
     ]
    },
    {
     "name": "stderr",
     "output_type": "stream",
     "text": [
      "100%|██████████| 1561/1561 [00:00<00:00, 68172.02it/s]\n"
     ]
    },
    {
     "name": "stdout",
     "output_type": "stream",
     "text": [
      "Imported Zeeschuimer Data. Saved export to data/csv_dup_rows/20250222_050547_thomas__gebhart.csv\n",
      "✅ Success: data/csv_dup_rows/20250222_050547_thomas__gebhart.csv\n",
      "💾 Saved updated accounts list\n"
     ]
    },
    {
     "name": "stderr",
     "output_type": "stream",
     "text": [
      "100%|██████████| 2491/2491 [00:00<00:00, 106030.28it/s]\n"
     ]
    },
    {
     "name": "stdout",
     "output_type": "stream",
     "text": [
      "Imported Zeeschuimer Data. Saved export to data/csv_dup_rows/20250222_050548_stegner_smiles.csv\n",
      "✅ Success: data/csv_dup_rows/20250222_050548_stegner_smiles.csv\n",
      "💾 Saved updated accounts list\n"
     ]
    },
    {
     "name": "stderr",
     "output_type": "stream",
     "text": [
      "100%|██████████| 594/594 [00:00<00:00, 39276.97it/s]\n"
     ]
    },
    {
     "name": "stdout",
     "output_type": "stream",
     "text": [
      "Imported Zeeschuimer Data. Saved export to data/csv_dup_rows/20250222_050550_catarinadossantos_mdb.csv\n",
      "✅ Success: data/csv_dup_rows/20250222_050550_catarinadossantos_mdb.csv\n",
      "💾 Saved updated accounts list\n"
     ]
    },
    {
     "name": "stderr",
     "output_type": "stream",
     "text": [
      "100%|██████████| 623/623 [00:00<00:00, 45741.89it/s]\n"
     ]
    },
    {
     "name": "stdout",
     "output_type": "stream",
     "text": [
      "Imported Zeeschuimer Data. Saved export to data/csv_dup_rows/20250222_050552_thomas_heilmann.csv\n",
      "✅ Success: data/csv_dup_rows/20250222_050552_thomas_heilmann.csv\n",
      "💾 Saved updated accounts list\n"
     ]
    },
    {
     "name": "stderr",
     "output_type": "stream",
     "text": [
      "100%|██████████| 650/650 [00:00<00:00, 20787.31it/s]\n"
     ]
    },
    {
     "name": "stdout",
     "output_type": "stream",
     "text": [
      "Imported Zeeschuimer Data. Saved export to data/csv_dup_rows/20250222_050552_matthiasmieves.csv\n",
      "✅ Success: data/csv_dup_rows/20250222_050552_matthiasmieves.csv\n",
      "💾 Saved updated accounts list\n"
     ]
    },
    {
     "name": "stderr",
     "output_type": "stream",
     "text": [
      "100%|██████████| 1651/1651 [00:00<00:00, 63708.50it/s]\n"
     ]
    },
    {
     "name": "stdout",
     "output_type": "stream",
     "text": [
      "Imported Zeeschuimer Data. Saved export to data/csv_dup_rows/20250222_050552_norbert.kleinwaechter.csv\n",
      "✅ Success: data/csv_dup_rows/20250222_050552_norbert.kleinwaechter.csv\n",
      "💾 Saved updated accounts list\n"
     ]
    },
    {
     "name": "stderr",
     "output_type": "stream",
     "text": [
      "100%|██████████| 1352/1352 [00:00<00:00, 38850.52it/s]\n"
     ]
    },
    {
     "name": "stdout",
     "output_type": "stream",
     "text": [
      "Imported Zeeschuimer Data. Saved export to data/csv_dup_rows/20250222_050554_kathrin.henneberger.csv\n",
      "✅ Success: data/csv_dup_rows/20250222_050554_kathrin.henneberger.csv\n",
      "💾 Saved updated accounts list\n"
     ]
    },
    {
     "name": "stderr",
     "output_type": "stream",
     "text": [
      "100%|██████████| 915/915 [00:00<00:00, 65581.92it/s]\n"
     ]
    },
    {
     "name": "stdout",
     "output_type": "stream",
     "text": [
      "Imported Zeeschuimer Data. Saved export to data/csv_dup_rows/20250222_050554_sebastianbrehmmdb.csv\n",
      "✅ Success: data/csv_dup_rows/20250222_050554_sebastianbrehmmdb.csv\n",
      "💾 Saved updated accounts list\n"
     ]
    },
    {
     "name": "stderr",
     "output_type": "stream",
     "text": [
      "100%|██████████| 980/980 [00:00<00:00, 48299.90it/s]\n"
     ]
    },
    {
     "name": "stdout",
     "output_type": "stream",
     "text": [
      "Imported Zeeschuimer Data. Saved export to data/csv_dup_rows/20250222_050556_hahnflo.csv\n",
      "✅ Success: data/csv_dup_rows/20250222_050556_hahnflo.csv\n",
      "💾 Saved updated accounts list\n"
     ]
    },
    {
     "name": "stderr",
     "output_type": "stream",
     "text": [
      "100%|██████████| 1505/1505 [00:00<00:00, 50753.59it/s]\n"
     ]
    },
    {
     "name": "stdout",
     "output_type": "stream",
     "text": [
      "Imported Zeeschuimer Data. Saved export to data/csv_dup_rows/20250222_050557_doromartin_hamburg.csv\n",
      "✅ Success: data/csv_dup_rows/20250222_050557_doromartin_hamburg.csv\n",
      "💾 Saved updated accounts list\n"
     ]
    },
    {
     "name": "stderr",
     "output_type": "stream",
     "text": [
      "100%|██████████| 271/271 [00:00<00:00, 54757.51it/s]\n"
     ]
    },
    {
     "name": "stdout",
     "output_type": "stream",
     "text": [
      "Imported Zeeschuimer Data. Saved export to data/csv_dup_rows/20250222_050559_jens.brandenburg.csv\n",
      "✅ Success: data/csv_dup_rows/20250222_050559_jens.brandenburg.csv\n",
      "💾 Saved updated accounts list\n"
     ]
    },
    {
     "name": "stderr",
     "output_type": "stream",
     "text": [
      "100%|██████████| 469/469 [00:00<00:00, 44894.19it/s]\n"
     ]
    },
    {
     "name": "stdout",
     "output_type": "stream",
     "text": [
      "Imported Zeeschuimer Data. Saved export to data/csv_dup_rows/20250222_050600_claudia_moll_.csv\n",
      "✅ Success: data/csv_dup_rows/20250222_050600_claudia_moll_.csv\n",
      "💾 Saved updated accounts list\n"
     ]
    },
    {
     "name": "stderr",
     "output_type": "stream",
     "text": [
      "100%|██████████| 1077/1077 [00:00<00:00, 57614.51it/s]\n"
     ]
    },
    {
     "name": "stdout",
     "output_type": "stream",
     "text": [
      "Imported Zeeschuimer Data. Saved export to data/csv_dup_rows/20250222_050601_volkermayerlay.csv\n",
      "✅ Success: data/csv_dup_rows/20250222_050601_volkermayerlay.csv\n",
      "💾 Saved updated accounts list\n"
     ]
    },
    {
     "name": "stderr",
     "output_type": "stream",
     "text": [
      "100%|██████████| 700/700 [00:00<00:00, 81047.12it/s]\n"
     ]
    },
    {
     "name": "stdout",
     "output_type": "stream",
     "text": [
      "Imported Zeeschuimer Data. Saved export to data/csv_dup_rows/20250222_050603_jan.metzler.csv\n",
      "✅ Success: data/csv_dup_rows/20250222_050603_jan.metzler.csv\n",
      "💾 Saved updated accounts list\n"
     ]
    },
    {
     "name": "stderr",
     "output_type": "stream",
     "text": [
      "100%|██████████| 1260/1260 [00:00<00:00, 40547.06it/s]\n"
     ]
    },
    {
     "name": "stdout",
     "output_type": "stream",
     "text": [
      "Imported Zeeschuimer Data. Saved export to data/csv_dup_rows/20250222_050604_ottilie.klein.csv\n",
      "✅ Success: data/csv_dup_rows/20250222_050604_ottilie.klein.csv\n",
      "💾 Saved updated accounts list\n"
     ]
    },
    {
     "name": "stderr",
     "output_type": "stream",
     "text": [
      "100%|██████████| 1067/1067 [00:00<00:00, 32804.51it/s]\n"
     ]
    },
    {
     "name": "stdout",
     "output_type": "stream",
     "text": [
      "Imported Zeeschuimer Data. Saved export to data/csv_dup_rows/20250222_050604_soeren.bartol.csv\n",
      "✅ Success: data/csv_dup_rows/20250222_050604_soeren.bartol.csv\n",
      "💾 Saved updated accounts list\n"
     ]
    },
    {
     "name": "stderr",
     "output_type": "stream",
     "text": [
      "100%|██████████| 989/989 [00:00<00:00, 34602.08it/s]\n"
     ]
    },
    {
     "name": "stdout",
     "output_type": "stream",
     "text": [
      "Imported Zeeschuimer Data. Saved export to data/csv_dup_rows/20250222_050605_tbbacherle.csv\n",
      "✅ Success: data/csv_dup_rows/20250222_050605_tbbacherle.csv\n",
      "💾 Saved updated accounts list\n"
     ]
    },
    {
     "name": "stderr",
     "output_type": "stream",
     "text": [
      "100%|██████████| 575/575 [00:00<00:00, 56087.93it/s]"
     ]
    },
    {
     "name": "stdout",
     "output_type": "stream",
     "text": [
      "Imported Zeeschuimer Data. Saved export to data/csv_dup_rows/20250222_050606_0711max.csv\n",
      "✅ Success: data/csv_dup_rows/20250222_050606_0711max.csv\n",
      "💾 Saved updated accounts list\n"
     ]
    },
    {
     "name": "stderr",
     "output_type": "stream",
     "text": [
      "\n",
      "100%|██████████| 821/821 [00:00<00:00, 47617.07it/s]\n"
     ]
    },
    {
     "name": "stdout",
     "output_type": "stream",
     "text": [
      "Imported Zeeschuimer Data. Saved export to data/csv_dup_rows/20250222_050607_max_fksr.csv\n",
      "✅ Success: data/csv_dup_rows/20250222_050607_max_fksr.csv\n",
      "💾 Saved updated accounts list\n"
     ]
    },
    {
     "name": "stderr",
     "output_type": "stream",
     "text": [
      "100%|██████████| 1387/1387 [00:00<00:00, 90742.47it/s]\n"
     ]
    },
    {
     "name": "stdout",
     "output_type": "stream",
     "text": [
      "Imported Zeeschuimer Data. Saved export to data/csv_dup_rows/20250222_050608_tobiaspeterkamdb.csv\n",
      "✅ Success: data/csv_dup_rows/20250222_050608_tobiaspeterkamdb.csv\n",
      "💾 Saved updated accounts list\n"
     ]
    },
    {
     "name": "stderr",
     "output_type": "stream",
     "text": [
      "100%|██████████| 1236/1236 [00:00<00:00, 61520.64it/s]\n"
     ]
    },
    {
     "name": "stdout",
     "output_type": "stream",
     "text": [
      "Imported Zeeschuimer Data. Saved export to data/csv_dup_rows/20250222_050609_wolfgangstefinger.csv\n",
      "✅ Success: data/csv_dup_rows/20250222_050609_wolfgangstefinger.csv\n",
      "💾 Saved updated accounts list\n"
     ]
    },
    {
     "name": "stderr",
     "output_type": "stream",
     "text": [
      "100%|██████████| 1287/1287 [00:00<00:00, 36882.89it/s]\n"
     ]
    },
    {
     "name": "stdout",
     "output_type": "stream",
     "text": [
      "Imported Zeeschuimer Data. Saved export to data/csv_dup_rows/20250222_050611_steffen.bilger.csv\n",
      "✅ Success: data/csv_dup_rows/20250222_050611_steffen.bilger.csv\n",
      "💾 Saved updated accounts list\n"
     ]
    },
    {
     "name": "stderr",
     "output_type": "stream",
     "text": [
      "100%|██████████| 901/901 [00:00<00:00, 27894.74it/s]\n"
     ]
    },
    {
     "name": "stdout",
     "output_type": "stream",
     "text": [
      "Imported Zeeschuimer Data. Saved export to data/csv_dup_rows/20250222_050613_nina.warken.csv\n",
      "✅ Success: data/csv_dup_rows/20250222_050613_nina.warken.csv\n",
      "💾 Saved updated accounts list\n"
     ]
    },
    {
     "name": "stderr",
     "output_type": "stream",
     "text": [
      "100%|██████████| 1403/1403 [00:00<00:00, 44004.64it/s]\n"
     ]
    },
    {
     "name": "stdout",
     "output_type": "stream",
     "text": [
      "Imported Zeeschuimer Data. Saved export to data/csv_dup_rows/20250222_050613_kristine_lutke.csv\n",
      "✅ Success: data/csv_dup_rows/20250222_050613_kristine_lutke.csv\n",
      "💾 Saved updated accounts list\n"
     ]
    },
    {
     "name": "stderr",
     "output_type": "stream",
     "text": [
      "100%|██████████| 1515/1515 [00:00<00:00, 27614.37it/s]\n"
     ]
    },
    {
     "name": "stdout",
     "output_type": "stream",
     "text": [
      "Imported Zeeschuimer Data. Saved export to data/csv_dup_rows/20250222_050615_oezdemir.spd.csv\n",
      "✅ Success: data/csv_dup_rows/20250222_050615_oezdemir.spd.csv\n",
      "💾 Saved updated accounts list\n"
     ]
    },
    {
     "name": "stderr",
     "output_type": "stream",
     "text": [
      "100%|██████████| 336/336 [00:00<00:00, 35101.40it/s]\n"
     ]
    },
    {
     "name": "stdout",
     "output_type": "stream",
     "text": [
      "Imported Zeeschuimer Data. Saved export to data/csv_dup_rows/20250222_050617_saslearaq.csv\n",
      "✅ Success: data/csv_dup_rows/20250222_050617_saslearaq.csv\n",
      "💾 Saved updated accounts list\n"
     ]
    },
    {
     "name": "stderr",
     "output_type": "stream",
     "text": [
      "100%|██████████| 662/662 [00:00<00:00, 48996.46it/s]\n"
     ]
    },
    {
     "name": "stdout",
     "output_type": "stream",
     "text": [
      "Imported Zeeschuimer Data. Saved export to data/csv_dup_rows/20250222_050618_isacademartori.csv\n",
      "✅ Success: data/csv_dup_rows/20250222_050618_isacademartori.csv\n",
      "💾 Saved updated accounts list\n"
     ]
    },
    {
     "name": "stderr",
     "output_type": "stream",
     "text": [
      "100%|██████████| 630/630 [00:00<00:00, 39283.60it/s]\n"
     ]
    },
    {
     "name": "stdout",
     "output_type": "stream",
     "text": [
      "Imported Zeeschuimer Data. Saved export to data/csv_dup_rows/20250222_050619_mareikelottewulf.csv\n",
      "✅ Success: data/csv_dup_rows/20250222_050619_mareikelottewulf.csv\n",
      "💾 Saved updated accounts list\n"
     ]
    },
    {
     "name": "stderr",
     "output_type": "stream",
     "text": [
      "100%|██████████| 648/648 [00:00<00:00, 41392.42it/s]\n"
     ]
    },
    {
     "name": "stdout",
     "output_type": "stream",
     "text": [
      "Imported Zeeschuimer Data. Saved export to data/csv_dup_rows/20250222_050621_ariane_faescher.csv\n",
      "✅ Success: data/csv_dup_rows/20250222_050621_ariane_faescher.csv\n",
      "💾 Saved updated accounts list\n"
     ]
    },
    {
     "name": "stderr",
     "output_type": "stream",
     "text": [
      "100%|██████████| 1130/1130 [00:00<00:00, 60638.47it/s]\n"
     ]
    },
    {
     "name": "stdout",
     "output_type": "stream",
     "text": [
      "Imported Zeeschuimer Data. Saved export to data/csv_dup_rows/20250222_050621_carolin.bachmann.csv\n",
      "✅ Success: data/csv_dup_rows/20250222_050621_carolin.bachmann.csv\n",
      "💾 Saved updated accounts list\n"
     ]
    },
    {
     "name": "stderr",
     "output_type": "stream",
     "text": [
      "100%|██████████| 1642/1642 [00:00<00:00, 46678.24it/s]\n"
     ]
    },
    {
     "name": "stdout",
     "output_type": "stream",
     "text": [
      "Imported Zeeschuimer Data. Saved export to data/csv_dup_rows/20250222_050623_volkerullrich.csv\n",
      "✅ Success: data/csv_dup_rows/20250222_050623_volkerullrich.csv\n",
      "💾 Saved updated accounts list\n"
     ]
    },
    {
     "name": "stderr",
     "output_type": "stream",
     "text": [
      "100%|██████████| 797/797 [00:00<00:00, 33287.13it/s]\n"
     ]
    },
    {
     "name": "stdout",
     "output_type": "stream",
     "text": [
      "Imported Zeeschuimer Data. Saved export to data/csv_dup_rows/20250222_050623_esralimbacher.csv\n",
      "✅ Success: data/csv_dup_rows/20250222_050623_esralimbacher.csv\n",
      "💾 Saved updated accounts list\n"
     ]
    },
    {
     "name": "stderr",
     "output_type": "stream",
     "text": [
      "100%|██████████| 1523/1523 [00:00<00:00, 70587.93it/s]\n"
     ]
    },
    {
     "name": "stdout",
     "output_type": "stream",
     "text": [
      "Imported Zeeschuimer Data. Saved export to data/csv_dup_rows/20250222_050625_christoph.devries.mdb.csv\n",
      "✅ Success: data/csv_dup_rows/20250222_050625_christoph.devries.mdb.csv\n",
      "💾 Saved updated accounts list\n"
     ]
    },
    {
     "name": "stderr",
     "output_type": "stream",
     "text": [
      "100%|██████████| 285/285 [00:00<00:00, 25288.81it/s]\n"
     ]
    },
    {
     "name": "stdout",
     "output_type": "stream",
     "text": [
      "Imported Zeeschuimer Data. Saved export to data/csv_dup_rows/20250222_050627_benner_lukas.csv\n",
      "✅ Success: data/csv_dup_rows/20250222_050627_benner_lukas.csv\n",
      "💾 Saved updated accounts list\n"
     ]
    },
    {
     "name": "stderr",
     "output_type": "stream",
     "text": [
      "100%|██████████| 546/546 [00:00<00:00, 56637.73it/s]\n"
     ]
    },
    {
     "name": "stdout",
     "output_type": "stream",
     "text": [
      "Imported Zeeschuimer Data. Saved export to data/csv_dup_rows/20250222_050628_albert.stegemann.csv\n",
      "✅ Success: data/csv_dup_rows/20250222_050628_albert.stegemann.csv\n",
      "💾 Saved updated accounts list\n"
     ]
    },
    {
     "name": "stderr",
     "output_type": "stream",
     "text": [
      "100%|██████████| 240/240 [00:00<00:00, 51624.85it/s]\n"
     ]
    },
    {
     "name": "stdout",
     "output_type": "stream",
     "text": [
      "Imported Zeeschuimer Data. Saved export to data/csv_dup_rows/20250222_050629_springer_rene.csv\n",
      "✅ Success: data/csv_dup_rows/20250222_050629_springer_rene.csv\n",
      "💾 Saved updated accounts list\n"
     ]
    },
    {
     "name": "stderr",
     "output_type": "stream",
     "text": [
      "100%|██████████| 499/499 [00:00<00:00, 55096.68it/s]\n"
     ]
    },
    {
     "name": "stdout",
     "output_type": "stream",
     "text": [
      "Imported Zeeschuimer Data. Saved export to data/csv_dup_rows/20250222_050630_f_schaeffler.csv\n",
      "✅ Success: data/csv_dup_rows/20250222_050630_f_schaeffler.csv\n",
      "💾 Saved updated accounts list\n"
     ]
    },
    {
     "name": "stderr",
     "output_type": "stream",
     "text": [
      "100%|██████████| 1119/1119 [00:00<00:00, 61053.49it/s]\n"
     ]
    },
    {
     "name": "stdout",
     "output_type": "stream",
     "text": [
      "Imported Zeeschuimer Data. Saved export to data/csv_dup_rows/20250222_050631_floriantoncar.csv\n",
      "✅ Success: data/csv_dup_rows/20250222_050631_floriantoncar.csv\n",
      "💾 Saved updated accounts list\n"
     ]
    },
    {
     "name": "stderr",
     "output_type": "stream",
     "text": [
      "100%|██████████| 564/564 [00:00<00:00, 48069.32it/s]\n"
     ]
    },
    {
     "name": "stdout",
     "output_type": "stream",
     "text": [
      "Imported Zeeschuimer Data. Saved export to data/csv_dup_rows/20250222_050631_sanae_ccaa.csv\n",
      "✅ Success: data/csv_dup_rows/20250222_050631_sanae_ccaa.csv\n",
      "💾 Saved updated accounts list\n"
     ]
    },
    {
     "name": "stderr",
     "output_type": "stream",
     "text": [
      "100%|██████████| 475/475 [00:00<00:00, 48336.72it/s]\n"
     ]
    },
    {
     "name": "stdout",
     "output_type": "stream",
     "text": [
      "Imported Zeeschuimer Data. Saved export to data/csv_dup_rows/20250222_050632_maximilianmordhorst.csv\n",
      "✅ Success: data/csv_dup_rows/20250222_050632_maximilianmordhorst.csv\n",
      "💾 Saved updated accounts list\n"
     ]
    },
    {
     "name": "stderr",
     "output_type": "stream",
     "text": [
      "100%|██████████| 681/681 [00:00<00:00, 33462.84it/s]\n"
     ]
    },
    {
     "name": "stdout",
     "output_type": "stream",
     "text": [
      "Imported Zeeschuimer Data. Saved export to data/csv_dup_rows/20250222_050633_chantalkopf.csv\n",
      "✅ Success: data/csv_dup_rows/20250222_050633_chantalkopf.csv\n",
      "💾 Saved updated accounts list\n"
     ]
    },
    {
     "name": "stderr",
     "output_type": "stream",
     "text": [
      "100%|██████████| 1591/1591 [00:00<00:00, 49937.42it/s]\n"
     ]
    },
    {
     "name": "stdout",
     "output_type": "stream",
     "text": [
      "Imported Zeeschuimer Data. Saved export to data/csv_dup_rows/20250222_050635_pete_aum.csv\n",
      "✅ Success: data/csv_dup_rows/20250222_050635_pete_aum.csv\n",
      "💾 Saved updated accounts list\n"
     ]
    },
    {
     "name": "stderr",
     "output_type": "stream",
     "text": [
      "100%|██████████| 293/293 [00:00<00:00, 70064.49it/s]\n"
     ]
    },
    {
     "name": "stdout",
     "output_type": "stream",
     "text": [
      "Imported Zeeschuimer Data. Saved export to data/csv_dup_rows/20250222_050637_albrecht.glaser.csv\n",
      "✅ Success: data/csv_dup_rows/20250222_050637_albrecht.glaser.csv\n",
      "💾 Saved updated accounts list\n"
     ]
    },
    {
     "name": "stderr",
     "output_type": "stream",
     "text": [
      "100%|██████████| 684/684 [00:00<00:00, 48169.11it/s]\n"
     ]
    },
    {
     "name": "stdout",
     "output_type": "stream",
     "text": [
      "Imported Zeeschuimer Data. Saved export to data/csv_dup_rows/20250222_050638_katharina.beck.csv\n",
      "✅ Success: data/csv_dup_rows/20250222_050638_katharina.beck.csv\n",
      "💾 Saved updated accounts list\n"
     ]
    },
    {
     "name": "stderr",
     "output_type": "stream",
     "text": [
      "100%|██████████| 368/368 [00:00<00:00, 41670.15it/s]\n"
     ]
    },
    {
     "name": "stdout",
     "output_type": "stream",
     "text": [
      "Imported Zeeschuimer Data. Saved export to data/csv_dup_rows/20250222_050638_stephan.pilsinger.csv\n",
      "✅ Success: data/csv_dup_rows/20250222_050638_stephan.pilsinger.csv\n",
      "💾 Saved updated accounts list\n"
     ]
    },
    {
     "name": "stderr",
     "output_type": "stream",
     "text": [
      "100%|██████████| 1773/1773 [00:00<00:00, 48877.72it/s]\n"
     ]
    },
    {
     "name": "stdout",
     "output_type": "stream",
     "text": [
      "Imported Zeeschuimer Data. Saved export to data/csv_dup_rows/20250222_050639_jenszspd.csv\n",
      "✅ Success: data/csv_dup_rows/20250222_050639_jenszspd.csv\n",
      "💾 Saved updated accounts list\n"
     ]
    },
    {
     "name": "stderr",
     "output_type": "stream",
     "text": [
      "100%|██████████| 697/697 [00:00<00:00, 3618.96it/s]\n"
     ]
    },
    {
     "name": "stdout",
     "output_type": "stream",
     "text": [
      "Imported Zeeschuimer Data. Saved export to data/csv_dup_rows/20250222_050641_philipphartewig.csv\n",
      "✅ Success: data/csv_dup_rows/20250222_050641_philipphartewig.csv\n",
      "💾 Saved updated accounts list\n"
     ]
    },
    {
     "name": "stderr",
     "output_type": "stream",
     "text": [
      "100%|██████████| 656/656 [00:00<00:00, 54461.78it/s]\n"
     ]
    },
    {
     "name": "stdout",
     "output_type": "stream",
     "text": [
      "Imported Zeeschuimer Data. Saved export to data/csv_dup_rows/20250222_050641_irene.mihalic.csv\n",
      "✅ Success: data/csv_dup_rows/20250222_050641_irene.mihalic.csv\n",
      "💾 Saved updated accounts list\n"
     ]
    },
    {
     "name": "stderr",
     "output_type": "stream",
     "text": [
      "100%|██████████| 1181/1181 [00:00<00:00, 40835.20it/s]\n"
     ]
    },
    {
     "name": "stdout",
     "output_type": "stream",
     "text": [
      "Imported Zeeschuimer Data. Saved export to data/csv_dup_rows/20250222_050643_daniela_kluckert.csv\n",
      "✅ Success: data/csv_dup_rows/20250222_050643_daniela_kluckert.csv\n",
      "💾 Saved updated accounts list\n"
     ]
    },
    {
     "name": "stderr",
     "output_type": "stream",
     "text": [
      "100%|██████████| 1920/1920 [00:00<00:00, 24346.27it/s]\n"
     ]
    },
    {
     "name": "stdout",
     "output_type": "stream",
     "text": [
      "Imported Zeeschuimer Data. Saved export to data/csv_dup_rows/20250222_050645_adomscheitberg.csv\n",
      "✅ Success: data/csv_dup_rows/20250222_050645_adomscheitberg.csv\n",
      "💾 Saved updated accounts list\n"
     ]
    },
    {
     "name": "stderr",
     "output_type": "stream",
     "text": [
      "100%|██████████| 340/340 [00:00<00:00, 32470.31it/s]\n"
     ]
    },
    {
     "name": "stdout",
     "output_type": "stream",
     "text": [
      "Imported Zeeschuimer Data. Saved export to data/csv_dup_rows/20250222_050648_car.los.kasper.csv\n",
      "✅ Success: data/csv_dup_rows/20250222_050648_car.los.kasper.csv\n",
      "💾 Saved updated accounts list\n"
     ]
    },
    {
     "name": "stderr",
     "output_type": "stream",
     "text": [
      "100%|██████████| 1169/1169 [00:00<00:00, 30208.31it/s]\n"
     ]
    },
    {
     "name": "stdout",
     "output_type": "stream",
     "text": [
      "Imported Zeeschuimer Data. Saved export to data/csv_dup_rows/20250222_050649_ophelianick.csv\n",
      "✅ Success: data/csv_dup_rows/20250222_050649_ophelianick.csv\n",
      "💾 Saved updated accounts list\n"
     ]
    },
    {
     "name": "stderr",
     "output_type": "stream",
     "text": [
      "100%|██████████| 554/554 [00:00<00:00, 57876.97it/s]\n"
     ]
    },
    {
     "name": "stdout",
     "output_type": "stream",
     "text": [
      "Imported Zeeschuimer Data. Saved export to data/csv_dup_rows/20250222_050650_baldy.daniel.csv\n",
      "✅ Success: data/csv_dup_rows/20250222_050650_baldy.daniel.csv\n",
      "💾 Saved updated accounts list\n"
     ]
    },
    {
     "name": "stderr",
     "output_type": "stream",
     "text": [
      "100%|██████████| 1332/1332 [00:00<00:00, 63495.17it/s]\n"
     ]
    },
    {
     "name": "stdout",
     "output_type": "stream",
     "text": [
      "Imported Zeeschuimer Data. Saved export to data/csv_dup_rows/20250222_050651_lieblingxhain.csv\n",
      "✅ Success: data/csv_dup_rows/20250222_050651_lieblingxhain.csv\n",
      "💾 Saved updated accounts list\n"
     ]
    },
    {
     "name": "stderr",
     "output_type": "stream",
     "text": [
      "100%|██████████| 1192/1192 [00:00<00:00, 47554.65it/s]\n"
     ]
    },
    {
     "name": "stdout",
     "output_type": "stream",
     "text": [
      "Imported Zeeschuimer Data. Saved export to data/csv_dup_rows/20250222_050654_wiebkeesdar.csv\n",
      "✅ Success: data/csv_dup_rows/20250222_050654_wiebkeesdar.csv\n",
      "💾 Saved updated accounts list\n"
     ]
    },
    {
     "name": "stderr",
     "output_type": "stream",
     "text": [
      "100%|██████████| 761/761 [00:00<00:00, 44000.85it/s]\n"
     ]
    },
    {
     "name": "stdout",
     "output_type": "stream",
     "text": [
      "Imported Zeeschuimer Data. Saved export to data/csv_dup_rows/20250222_050654_hanna_steinmueller.csv\n",
      "✅ Success: data/csv_dup_rows/20250222_050654_hanna_steinmueller.csv\n",
      "💾 Saved updated accounts list\n"
     ]
    },
    {
     "name": "stderr",
     "output_type": "stream",
     "text": [
      "100%|██████████| 1104/1104 [00:00<00:00, 38486.89it/s]\n"
     ]
    },
    {
     "name": "stdout",
     "output_type": "stream",
     "text": [
      "Imported Zeeschuimer Data. Saved export to data/csv_dup_rows/20250222_050654_elisabeth_kaiser_th.csv\n",
      "✅ Success: data/csv_dup_rows/20250222_050654_elisabeth_kaiser_th.csv\n",
      "💾 Saved updated accounts list\n"
     ]
    },
    {
     "name": "stderr",
     "output_type": "stream",
     "text": [
      "100%|██████████| 1208/1208 [00:00<00:00, 42042.58it/s]\n"
     ]
    },
    {
     "name": "stdout",
     "output_type": "stream",
     "text": [
      "Imported Zeeschuimer Data. Saved export to data/csv_dup_rows/20250222_050656_annekoenig_.csv\n",
      "✅ Success: data/csv_dup_rows/20250222_050656_annekoenig_.csv\n",
      "💾 Saved updated accounts list\n"
     ]
    },
    {
     "name": "stderr",
     "output_type": "stream",
     "text": [
      "100%|██████████| 1682/1682 [00:00<00:00, 47886.10it/s]\n"
     ]
    },
    {
     "name": "stdout",
     "output_type": "stream",
     "text": [
      "Imported Zeeschuimer Data. Saved export to data/csv_dup_rows/20250222_050657_svenja.stadler.csv\n",
      "✅ Success: data/csv_dup_rows/20250222_050657_svenja.stadler.csv\n",
      "💾 Saved updated accounts list\n"
     ]
    },
    {
     "name": "stderr",
     "output_type": "stream",
     "text": [
      "100%|██████████| 1114/1114 [00:00<00:00, 54725.40it/s]\n"
     ]
    },
    {
     "name": "stdout",
     "output_type": "stream",
     "text": [
      "Imported Zeeschuimer Data. Saved export to data/csv_dup_rows/20250222_050657_mario.brandenburg.csv\n",
      "✅ Success: data/csv_dup_rows/20250222_050657_mario.brandenburg.csv\n",
      "💾 Saved updated accounts list\n"
     ]
    },
    {
     "name": "stderr",
     "output_type": "stream",
     "text": [
      "100%|██████████| 1500/1500 [00:00<00:00, 44919.72it/s]\n"
     ]
    },
    {
     "name": "stdout",
     "output_type": "stream",
     "text": [
      "Imported Zeeschuimer Data. Saved export to data/csv_dup_rows/20250222_050658_ekin_deligoez.csv\n",
      "✅ Success: data/csv_dup_rows/20250222_050658_ekin_deligoez.csv\n",
      "💾 Saved updated accounts list\n"
     ]
    },
    {
     "name": "stderr",
     "output_type": "stream",
     "text": [
      "100%|██████████| 657/657 [00:00<00:00, 45479.65it/s]\n"
     ]
    },
    {
     "name": "stdout",
     "output_type": "stream",
     "text": [
      "Imported Zeeschuimer Data. Saved export to data/csv_dup_rows/20250222_050659_nadja_sthamer.csv\n",
      "✅ Success: data/csv_dup_rows/20250222_050659_nadja_sthamer.csv\n",
      "💾 Saved updated accounts list\n"
     ]
    },
    {
     "name": "stderr",
     "output_type": "stream",
     "text": [
      "100%|██████████| 721/721 [00:00<00:00, 18074.14it/s]\n"
     ]
    },
    {
     "name": "stdout",
     "output_type": "stream",
     "text": [
      "Imported Zeeschuimer Data. Saved export to data/csv_dup_rows/20250222_050700_guelistan.yueksel.csv\n",
      "✅ Success: data/csv_dup_rows/20250222_050700_guelistan.yueksel.csv\n",
      "💾 Saved updated accounts list\n"
     ]
    },
    {
     "name": "stderr",
     "output_type": "stream",
     "text": [
      "100%|██████████| 975/975 [00:00<00:00, 43800.64it/s]\n"
     ]
    },
    {
     "name": "stdout",
     "output_type": "stream",
     "text": [
      "Imported Zeeschuimer Data. Saved export to data/csv_dup_rows/20250222_050701_dieterstier_mdb.csv\n",
      "✅ Success: data/csv_dup_rows/20250222_050701_dieterstier_mdb.csv\n",
      "💾 Saved updated accounts list\n"
     ]
    },
    {
     "name": "stderr",
     "output_type": "stream",
     "text": [
      "100%|██████████| 321/321 [00:00<00:00, 55824.35it/s]\n"
     ]
    },
    {
     "name": "stdout",
     "output_type": "stream",
     "text": [
      "Imported Zeeschuimer Data. Saved export to data/csv_dup_rows/20250222_050702_stefangelbhaar.csv\n",
      "✅ Success: data/csv_dup_rows/20250222_050702_stefangelbhaar.csv\n",
      "💾 Saved updated accounts list\n"
     ]
    },
    {
     "name": "stderr",
     "output_type": "stream",
     "text": [
      "100%|██████████| 413/413 [00:00<00:00, 46295.74it/s]\n"
     ]
    },
    {
     "name": "stdout",
     "output_type": "stream",
     "text": [
      "Imported Zeeschuimer Data. Saved export to data/csv_dup_rows/20250222_050703_jessica_tatti.csv\n",
      "✅ Success: data/csv_dup_rows/20250222_050703_jessica_tatti.csv\n",
      "💾 Saved updated accounts list\n"
     ]
    },
    {
     "name": "stderr",
     "output_type": "stream",
     "text": [
      "100%|██████████| 388/388 [00:00<00:00, 34907.55it/s]\n"
     ]
    },
    {
     "name": "stdout",
     "output_type": "stream",
     "text": [
      "Imported Zeeschuimer Data. Saved export to data/csv_dup_rows/20250222_050704_manuelosna.csv\n",
      "✅ Success: data/csv_dup_rows/20250222_050704_manuelosna.csv\n",
      "💾 Saved updated accounts list\n"
     ]
    },
    {
     "name": "stderr",
     "output_type": "stream",
     "text": [
      "100%|██████████| 834/834 [00:00<00:00, 72520.98it/s]\n"
     ]
    },
    {
     "name": "stdout",
     "output_type": "stream",
     "text": [
      "Imported Zeeschuimer Data. Saved export to data/csv_dup_rows/20250222_050704_g.akbulut_mdb.csv\n",
      "✅ Success: data/csv_dup_rows/20250222_050704_g.akbulut_mdb.csv\n",
      "💾 Saved updated accounts list\n"
     ]
    },
    {
     "name": "stderr",
     "output_type": "stream",
     "text": [
      "100%|██████████| 347/347 [00:00<00:00, 37287.00it/s]\n"
     ]
    },
    {
     "name": "stdout",
     "output_type": "stream",
     "text": [
      "Imported Zeeschuimer Data. Saved export to data/csv_dup_rows/20250222_050704_sarah.ryglewski.csv\n",
      "✅ Success: data/csv_dup_rows/20250222_050704_sarah.ryglewski.csv\n",
      "💾 Saved updated accounts list\n"
     ]
    },
    {
     "name": "stderr",
     "output_type": "stream",
     "text": [
      "100%|██████████| 953/953 [00:00<00:00, 18228.79it/s]\n"
     ]
    },
    {
     "name": "stdout",
     "output_type": "stream",
     "text": [
      "Imported Zeeschuimer Data. Saved export to data/csv_dup_rows/20250222_050706_frank.ullrich.biathlon.csv\n",
      "✅ Success: data/csv_dup_rows/20250222_050706_frank.ullrich.biathlon.csv\n",
      "💾 Saved updated accounts list\n"
     ]
    },
    {
     "name": "stderr",
     "output_type": "stream",
     "text": [
      "100%|██████████| 332/332 [00:00<00:00, 56511.87it/s]\n"
     ]
    },
    {
     "name": "stdout",
     "output_type": "stream",
     "text": [
      "Imported Zeeschuimer Data. Saved export to data/csv_dup_rows/20250222_050708_hanspeter.friedrich.csv\n",
      "✅ Success: data/csv_dup_rows/20250222_050708_hanspeter.friedrich.csv\n",
      "💾 Saved updated accounts list\n"
     ]
    },
    {
     "name": "stderr",
     "output_type": "stream",
     "text": [
      "100%|██████████| 1021/1021 [00:00<00:00, 59123.64it/s]\n"
     ]
    },
    {
     "name": "stdout",
     "output_type": "stream",
     "text": [
      "Imported Zeeschuimer Data. Saved export to data/csv_dup_rows/20250222_050709_michael.kruse.75.csv\n",
      "✅ Success: data/csv_dup_rows/20250222_050709_michael.kruse.75.csv\n",
      "💾 Saved updated accounts list\n"
     ]
    },
    {
     "name": "stderr",
     "output_type": "stream",
     "text": [
      "100%|██████████| 1717/1717 [00:00<00:00, 43044.34it/s]\n"
     ]
    },
    {
     "name": "stdout",
     "output_type": "stream",
     "text": [
      "Imported Zeeschuimer Data. Saved export to data/csv_dup_rows/20250222_050710_aschenbergdugnus.csv\n",
      "✅ Success: data/csv_dup_rows/20250222_050710_aschenbergdugnus.csv\n",
      "💾 Saved updated accounts list\n"
     ]
    },
    {
     "name": "stderr",
     "output_type": "stream",
     "text": [
      "100%|██████████| 452/452 [00:00<00:00, 57192.75it/s]\n"
     ]
    },
    {
     "name": "stdout",
     "output_type": "stream",
     "text": [
      "Imported Zeeschuimer Data. Saved export to data/csv_dup_rows/20250222_050711_steffenkotre.csv\n",
      "✅ Success: data/csv_dup_rows/20250222_050711_steffenkotre.csv\n",
      "💾 Saved updated accounts list\n"
     ]
    },
    {
     "name": "stderr",
     "output_type": "stream",
     "text": [
      "100%|██████████| 1287/1287 [00:00<00:00, 39291.83it/s]\n"
     ]
    },
    {
     "name": "stdout",
     "output_type": "stream",
     "text": [
      "Imported Zeeschuimer Data. Saved export to data/csv_dup_rows/20250222_050712_christmannanna.csv\n",
      "✅ Success: data/csv_dup_rows/20250222_050712_christmannanna.csv\n",
      "💾 Saved updated accounts list\n"
     ]
    },
    {
     "name": "stderr",
     "output_type": "stream",
     "text": [
      "100%|██████████| 1289/1289 [00:00<00:00, 47518.86it/s]\n"
     ]
    },
    {
     "name": "stdout",
     "output_type": "stream",
     "text": [
      "Imported Zeeschuimer Data. Saved export to data/csv_dup_rows/20250222_050715_sandra_weeser.csv\n",
      "✅ Success: data/csv_dup_rows/20250222_050715_sandra_weeser.csv\n",
      "💾 Saved updated accounts list\n"
     ]
    },
    {
     "name": "stderr",
     "output_type": "stream",
     "text": [
      "100%|██████████| 1704/1704 [00:00<00:00, 51016.78it/s]\n"
     ]
    },
    {
     "name": "stdout",
     "output_type": "stream",
     "text": [
      "Imported Zeeschuimer Data. Saved export to data/csv_dup_rows/20250222_050718_svenchristiankindler.csv\n",
      "✅ Success: data/csv_dup_rows/20250222_050718_svenchristiankindler.csv\n",
      "💾 Saved updated accounts list\n"
     ]
    },
    {
     "name": "stderr",
     "output_type": "stream",
     "text": [
      "100%|██████████| 786/786 [00:00<00:00, 44354.31it/s]\n"
     ]
    },
    {
     "name": "stdout",
     "output_type": "stream",
     "text": [
      "Imported Zeeschuimer Data. Saved export to data/csv_dup_rows/20250222_050719_janni_gesenhues.csv\n",
      "✅ Success: data/csv_dup_rows/20250222_050719_janni_gesenhues.csv\n",
      "💾 Saved updated accounts list\n"
     ]
    },
    {
     "name": "stderr",
     "output_type": "stream",
     "text": [
      "100%|██████████| 1561/1561 [00:00<00:00, 29817.28it/s]\n"
     ]
    },
    {
     "name": "stdout",
     "output_type": "stream",
     "text": [
      "Imported Zeeschuimer Data. Saved export to data/csv_dup_rows/20250222_050719_metin.hakverdi.csv\n",
      "✅ Success: data/csv_dup_rows/20250222_050719_metin.hakverdi.csv\n",
      "💾 Saved updated accounts list\n"
     ]
    },
    {
     "name": "stderr",
     "output_type": "stream",
     "text": [
      "100%|██████████| 1417/1417 [00:00<00:00, 50031.81it/s]\n"
     ]
    },
    {
     "name": "stdout",
     "output_type": "stream",
     "text": [
      "Imported Zeeschuimer Data. Saved export to data/csv_dup_rows/20250222_050724_dieterjanecek.csv\n",
      "✅ Success: data/csv_dup_rows/20250222_050724_dieterjanecek.csv\n",
      "💾 Saved updated accounts list\n"
     ]
    },
    {
     "name": "stderr",
     "output_type": "stream",
     "text": [
      "100%|██████████| 689/689 [00:00<00:00, 46084.64it/s]\n"
     ]
    },
    {
     "name": "stdout",
     "output_type": "stream",
     "text": [
      "Imported Zeeschuimer Data. Saved export to data/csv_dup_rows/20250222_050727_petra.pau.direkt.csv\n",
      "✅ Success: data/csv_dup_rows/20250222_050727_petra.pau.direkt.csv\n",
      "💾 Saved updated accounts list\n"
     ]
    },
    {
     "name": "stderr",
     "output_type": "stream",
     "text": [
      "100%|██████████| 1060/1060 [00:00<00:00, 55458.76it/s]\n"
     ]
    },
    {
     "name": "stdout",
     "output_type": "stream",
     "text": [
      "Imported Zeeschuimer Data. Saved export to data/csv_dup_rows/20250222_050729_markusuhlmdb.csv\n",
      "✅ Success: data/csv_dup_rows/20250222_050729_markusuhlmdb.csv\n",
      "💾 Saved updated accounts list\n"
     ]
    },
    {
     "name": "stderr",
     "output_type": "stream",
     "text": [
      "100%|██████████| 1100/1100 [00:00<00:00, 43476.58it/s]\n"
     ]
    },
    {
     "name": "stdout",
     "output_type": "stream",
     "text": [
      "Imported Zeeschuimer Data. Saved export to data/csv_dup_rows/20250222_050731_j_verlinden.csv\n",
      "✅ Success: data/csv_dup_rows/20250222_050731_j_verlinden.csv\n",
      "💾 Saved updated accounts list\n"
     ]
    },
    {
     "name": "stderr",
     "output_type": "stream",
     "text": [
      "100%|██████████| 834/834 [00:00<00:00, 32379.75it/s]\n"
     ]
    },
    {
     "name": "stdout",
     "output_type": "stream",
     "text": [
      "Imported Zeeschuimer Data. Saved export to data/csv_dup_rows/20250222_050731_franziskahoppermann.cdu.csv\n",
      "✅ Success: data/csv_dup_rows/20250222_050731_franziskahoppermann.cdu.csv\n",
      "💾 Saved updated accounts list\n"
     ]
    },
    {
     "name": "stderr",
     "output_type": "stream",
     "text": [
      "100%|██████████| 1933/1933 [00:00<00:00, 43555.47it/s]\n"
     ]
    },
    {
     "name": "stdout",
     "output_type": "stream",
     "text": [
      "Imported Zeeschuimer Data. Saved export to data/csv_dup_rows/20250222_050734_juergenhardt_mdb.csv\n",
      "✅ Success: data/csv_dup_rows/20250222_050734_juergenhardt_mdb.csv\n",
      "💾 Saved updated accounts list\n"
     ]
    },
    {
     "name": "stderr",
     "output_type": "stream",
     "text": [
      "100%|██████████| 851/851 [00:00<00:00, 39921.63it/s]\n"
     ]
    },
    {
     "name": "stdout",
     "output_type": "stream",
     "text": [
      "Imported Zeeschuimer Data. Saved export to data/csv_dup_rows/20250222_050739_robin_wagener.csv\n",
      "✅ Success: data/csv_dup_rows/20250222_050739_robin_wagener.csv\n",
      "💾 Saved updated accounts list\n"
     ]
    },
    {
     "name": "stderr",
     "output_type": "stream",
     "text": [
      "100%|██████████| 1013/1013 [00:00<00:00, 25030.37it/s]\n"
     ]
    },
    {
     "name": "stdout",
     "output_type": "stream",
     "text": [
      "Imported Zeeschuimer Data. Saved export to data/csv_dup_rows/20250222_050742_florian_ossner.csv\n",
      "✅ Success: data/csv_dup_rows/20250222_050742_florian_ossner.csv\n",
      "💾 Saved updated accounts list\n"
     ]
    },
    {
     "name": "stderr",
     "output_type": "stream",
     "text": [
      "100%|██████████| 978/978 [00:00<00:00, 33494.43it/s]\n"
     ]
    },
    {
     "name": "stdout",
     "output_type": "stream",
     "text": [
      "Imported Zeeschuimer Data. Saved export to data/csv_dup_rows/20250222_050745_matthias.hauer.mdb.csv\n",
      "✅ Success: data/csv_dup_rows/20250222_050745_matthias.hauer.mdb.csv\n",
      "💾 Saved updated accounts list\n"
     ]
    },
    {
     "name": "stderr",
     "output_type": "stream",
     "text": [
      "100%|██████████| 1076/1076 [00:00<00:00, 45773.37it/s]\n"
     ]
    },
    {
     "name": "stdout",
     "output_type": "stream",
     "text": [
      "Imported Zeeschuimer Data. Saved export to data/csv_dup_rows/20250222_050745_peterbeyerbundestag.csv\n",
      "✅ Success: data/csv_dup_rows/20250222_050745_peterbeyerbundestag.csv\n",
      "💾 Saved updated accounts list\n"
     ]
    },
    {
     "name": "stderr",
     "output_type": "stream",
     "text": [
      "100%|██████████| 209/209 [00:00<00:00, 51045.80it/s]\n"
     ]
    },
    {
     "name": "stdout",
     "output_type": "stream",
     "text": [
      "Imported Zeeschuimer Data. Saved export to data/csv_dup_rows/20250222_050746_klauspeterwillsch.csv\n",
      "✅ Success: data/csv_dup_rows/20250222_050746_klauspeterwillsch.csv\n",
      "💾 Saved updated accounts list\n"
     ]
    },
    {
     "name": "stderr",
     "output_type": "stream",
     "text": [
      "100%|██████████| 498/498 [00:00<00:00, 50645.28it/s]\n"
     ]
    },
    {
     "name": "stdout",
     "output_type": "stream",
     "text": [
      "Imported Zeeschuimer Data. Saved export to data/csv_dup_rows/20250222_050747_helgelimburg.csv\n",
      "✅ Success: data/csv_dup_rows/20250222_050747_helgelimburg.csv\n",
      "💾 Saved updated accounts list\n"
     ]
    },
    {
     "name": "stderr",
     "output_type": "stream",
     "text": [
      "100%|██████████| 344/344 [00:00<00:00, 48787.47it/s]\n"
     ]
    },
    {
     "name": "stdout",
     "output_type": "stream",
     "text": [
      "Imported Zeeschuimer Data. Saved export to data/csv_dup_rows/20250222_050748_stuttgartstefan.csv\n",
      "✅ Success: data/csv_dup_rows/20250222_050748_stuttgartstefan.csv\n",
      "💾 Saved updated accounts list\n"
     ]
    },
    {
     "name": "stderr",
     "output_type": "stream",
     "text": [
      "100%|██████████| 870/870 [00:00<00:00, 40974.26it/s]\n"
     ]
    },
    {
     "name": "stdout",
     "output_type": "stream",
     "text": [
      "Imported Zeeschuimer Data. Saved export to data/csv_dup_rows/20250222_050750_lina_seitzl.csv\n",
      "✅ Success: data/csv_dup_rows/20250222_050750_lina_seitzl.csv\n",
      "💾 Saved updated accounts list\n"
     ]
    },
    {
     "name": "stderr",
     "output_type": "stream",
     "text": [
      "100%|██████████| 532/532 [00:00<00:00, 28923.98it/s]\n"
     ]
    },
    {
     "name": "stdout",
     "output_type": "stream",
     "text": [
      "Imported Zeeschuimer Data. Saved export to data/csv_dup_rows/20250222_050750_sandra_detzer.csv\n",
      "✅ Success: data/csv_dup_rows/20250222_050750_sandra_detzer.csv\n",
      "💾 Saved updated accounts list\n"
     ]
    },
    {
     "name": "stderr",
     "output_type": "stream",
     "text": [
      "100%|██████████| 1244/1244 [00:00<00:00, 38186.41it/s]\n"
     ]
    },
    {
     "name": "stdout",
     "output_type": "stream",
     "text": [
      "Imported Zeeschuimer Data. Saved export to data/csv_dup_rows/20250222_050750_erhard.grundl.csv\n",
      "✅ Success: data/csv_dup_rows/20250222_050750_erhard.grundl.csv\n",
      "💾 Saved updated accounts list\n"
     ]
    },
    {
     "name": "stderr",
     "output_type": "stream",
     "text": [
      "100%|██████████| 511/511 [00:00<00:00, 56672.29it/s]\n"
     ]
    },
    {
     "name": "stdout",
     "output_type": "stream",
     "text": [
      "Imported Zeeschuimer Data. Saved export to data/csv_dup_rows/20250222_050751_fiedelseb.csv\n",
      "✅ Success: data/csv_dup_rows/20250222_050751_fiedelseb.csv\n",
      "💾 Saved updated accounts list\n"
     ]
    },
    {
     "name": "stderr",
     "output_type": "stream",
     "text": [
      "100%|██████████| 1328/1328 [00:00<00:00, 23030.00it/s]\n"
     ]
    },
    {
     "name": "stdout",
     "output_type": "stream",
     "text": [
      "Imported Zeeschuimer Data. Saved export to data/csv_dup_rows/20250222_050753_thomas_rachel_mdb.csv\n",
      "✅ Success: data/csv_dup_rows/20250222_050753_thomas_rachel_mdb.csv\n",
      "💾 Saved updated accounts list\n"
     ]
    },
    {
     "name": "stderr",
     "output_type": "stream",
     "text": [
      "100%|██████████| 1417/1417 [00:00<00:00, 57914.20it/s]\n"
     ]
    },
    {
     "name": "stdout",
     "output_type": "stream",
     "text": [
      "Imported Zeeschuimer Data. Saved export to data/csv_dup_rows/20250222_050803_thomashitschler.csv\n",
      "✅ Success: data/csv_dup_rows/20250222_050803_thomashitschler.csv\n",
      "💾 Saved updated accounts list\n"
     ]
    },
    {
     "name": "stderr",
     "output_type": "stream",
     "text": [
      "100%|██████████| 955/955 [00:00<00:00, 39211.38it/s]\n"
     ]
    },
    {
     "name": "stdout",
     "output_type": "stream",
     "text": [
      "Imported Zeeschuimer Data. Saved export to data/csv_dup_rows/20250222_050803_tabearoessner.csv\n",
      "✅ Success: data/csv_dup_rows/20250222_050803_tabearoessner.csv\n",
      "💾 Saved updated accounts list\n"
     ]
    },
    {
     "name": "stderr",
     "output_type": "stream",
     "text": [
      "100%|██████████| 760/760 [00:00<00:00, 14819.42it/s]\n"
     ]
    },
    {
     "name": "stdout",
     "output_type": "stream",
     "text": [
      "Imported Zeeschuimer Data. Saved export to data/csv_dup_rows/20250222_050806_nicotippelt.csv\n",
      "✅ Success: data/csv_dup_rows/20250222_050806_nicotippelt.csv\n",
      "💾 Saved updated accounts list\n"
     ]
    },
    {
     "name": "stderr",
     "output_type": "stream",
     "text": [
      "100%|██████████| 1119/1119 [00:00<00:00, 41276.13it/s]\n"
     ]
    },
    {
     "name": "stdout",
     "output_type": "stream",
     "text": [
      "Imported Zeeschuimer Data. Saved export to data/csv_dup_rows/20250222_050807_katrinstaffler.mdb.csv\n",
      "✅ Success: data/csv_dup_rows/20250222_050807_katrinstaffler.mdb.csv\n",
      "💾 Saved updated accounts list\n"
     ]
    },
    {
     "name": "stderr",
     "output_type": "stream",
     "text": [
      "100%|██████████| 641/641 [00:00<00:00, 31286.57it/s]\n"
     ]
    },
    {
     "name": "stdout",
     "output_type": "stream",
     "text": [
      "Imported Zeeschuimer Data. Saved export to data/csv_dup_rows/20250222_050810_stefan.seidler.ssw.csv\n",
      "✅ Success: data/csv_dup_rows/20250222_050810_stefan.seidler.ssw.csv\n",
      "💾 Saved updated accounts list\n"
     ]
    },
    {
     "name": "stderr",
     "output_type": "stream",
     "text": [
      "100%|██████████| 505/505 [00:00<00:00, 27102.61it/s]\n"
     ]
    },
    {
     "name": "stdout",
     "output_type": "stream",
     "text": [
      "Imported Zeeschuimer Data. Saved export to data/csv_dup_rows/20250222_050812_n_zippelius.csv\n",
      "✅ Success: data/csv_dup_rows/20250222_050812_n_zippelius.csv\n",
      "💾 Saved updated accounts list\n"
     ]
    },
    {
     "name": "stderr",
     "output_type": "stream",
     "text": [
      "100%|██████████| 767/767 [00:00<00:00, 47278.69it/s]\n"
     ]
    },
    {
     "name": "stdout",
     "output_type": "stream",
     "text": [
      "Imported Zeeschuimer Data. Saved export to data/csv_dup_rows/20250222_050815_nicole.westig.csv\n",
      "✅ Success: data/csv_dup_rows/20250222_050815_nicole.westig.csv\n",
      "💾 Saved updated accounts list\n"
     ]
    },
    {
     "name": "stderr",
     "output_type": "stream",
     "text": [
      "100%|██████████| 493/493 [00:00<00:00, 35234.24it/s]\n"
     ]
    },
    {
     "name": "stdout",
     "output_type": "stream",
     "text": [
      "Imported Zeeschuimer Data. Saved export to data/csv_dup_rows/20250222_050816_hacker_thomas.csv\n",
      "✅ Success: data/csv_dup_rows/20250222_050816_hacker_thomas.csv\n",
      "💾 Saved updated accounts list\n"
     ]
    },
    {
     "name": "stderr",
     "output_type": "stream",
     "text": [
      "100%|██████████| 1019/1019 [00:00<00:00, 49277.05it/s]\n"
     ]
    },
    {
     "name": "stdout",
     "output_type": "stream",
     "text": [
      "Imported Zeeschuimer Data. Saved export to data/csv_dup_rows/20250222_050817_klein.karsten.csv\n",
      "✅ Success: data/csv_dup_rows/20250222_050817_klein.karsten.csv\n",
      "💾 Saved updated accounts list\n"
     ]
    },
    {
     "name": "stderr",
     "output_type": "stream",
     "text": [
      "100%|██████████| 3114/3114 [00:00<00:00, 44140.12it/s]\n"
     ]
    },
    {
     "name": "stdout",
     "output_type": "stream",
     "text": [
      "Imported Zeeschuimer Data. Saved export to data/csv_dup_rows/20250222_050818_andreas.schwarz.mdb.csv\n",
      "✅ Success: data/csv_dup_rows/20250222_050818_andreas.schwarz.mdb.csv\n",
      "💾 Saved updated accounts list\n"
     ]
    },
    {
     "name": "stderr",
     "output_type": "stream",
     "text": [
      "100%|██████████| 2116/2116 [00:00<00:00, 34490.43it/s]\n"
     ]
    },
    {
     "name": "stdout",
     "output_type": "stream",
     "text": [
      "Imported Zeeschuimer Data. Saved export to data/csv_dup_rows/20250222_050823_dr.christos.pantazis.csv\n",
      "✅ Success: data/csv_dup_rows/20250222_050823_dr.christos.pantazis.csv\n",
      "💾 Saved updated accounts list\n"
     ]
    },
    {
     "name": "stderr",
     "output_type": "stream",
     "text": [
      "100%|██████████| 957/957 [00:00<00:00, 41421.48it/s]\n"
     ]
    },
    {
     "name": "stdout",
     "output_type": "stream",
     "text": [
      "Imported Zeeschuimer Data. Saved export to data/csv_dup_rows/20250222_050824_leckert_.csv\n",
      "✅ Success: data/csv_dup_rows/20250222_050824_leckert_.csv\n",
      "💾 Saved updated accounts list\n"
     ]
    },
    {
     "name": "stderr",
     "output_type": "stream",
     "text": [
      "100%|██████████| 860/860 [00:00<00:00, 22553.97it/s]\n"
     ]
    },
    {
     "name": "stdout",
     "output_type": "stream",
     "text": [
      "Imported Zeeschuimer Data. Saved export to data/csv_dup_rows/20250222_050824_sonjaeichwede.csv\n",
      "✅ Success: data/csv_dup_rows/20250222_050824_sonjaeichwede.csv\n",
      "💾 Saved updated accounts list\n"
     ]
    },
    {
     "name": "stderr",
     "output_type": "stream",
     "text": [
      "100%|██████████| 114/114 [00:00<00:00, 31241.47it/s]"
     ]
    },
    {
     "name": "stdout",
     "output_type": "stream",
     "text": [
      "Imported Zeeschuimer Data. Saved export to data/csv_dup_rows/20250222_050828_pboehringer.csv\n",
      "✅ Success: data/csv_dup_rows/20250222_050828_pboehringer.csv\n",
      "💾 Saved updated accounts list\n"
     ]
    },
    {
     "name": "stderr",
     "output_type": "stream",
     "text": [
      "\n",
      "100%|██████████| 1486/1486 [00:00<00:00, 35748.00it/s]\n"
     ]
    },
    {
     "name": "stdout",
     "output_type": "stream",
     "text": [
      "Imported Zeeschuimer Data. Saved export to data/csv_dup_rows/20250222_050828_stephanthomae.csv\n",
      "✅ Success: data/csv_dup_rows/20250222_050828_stephanthomae.csv\n",
      "💾 Saved updated accounts list\n"
     ]
    },
    {
     "name": "stderr",
     "output_type": "stream",
     "text": [
      "100%|██████████| 1807/1807 [00:01<00:00, 1145.20it/s]\n"
     ]
    },
    {
     "name": "stdout",
     "output_type": "stream",
     "text": [
      "Imported Zeeschuimer Data. Saved export to data/csv_dup_rows/20250222_050832_ingobodtke.csv\n",
      "✅ Success: data/csv_dup_rows/20250222_050832_ingobodtke.csv\n",
      "💾 Saved updated accounts list\n"
     ]
    },
    {
     "name": "stderr",
     "output_type": "stream",
     "text": [
      "100%|██████████| 934/934 [00:00<00:00, 16642.30it/s]\n"
     ]
    },
    {
     "name": "stdout",
     "output_type": "stream",
     "text": [
      "Imported Zeeschuimer Data. Saved export to data/csv_dup_rows/20250222_050839_olivervogt.de.csv\n",
      "✅ Success: data/csv_dup_rows/20250222_050839_olivervogt.de.csv\n",
      "💾 Saved updated accounts list\n"
     ]
    },
    {
     "name": "stderr",
     "output_type": "stream",
     "text": [
      "100%|██████████| 2198/2198 [00:00<00:00, 6352.18it/s]\n"
     ]
    },
    {
     "name": "stdout",
     "output_type": "stream",
     "text": [
      "Imported Zeeschuimer Data. Saved export to data/csv_dup_rows/20250222_050840_frank.junge.csv\n",
      "✅ Success: data/csv_dup_rows/20250222_050840_frank.junge.csv\n",
      "💾 Saved updated accounts list\n"
     ]
    },
    {
     "name": "stderr",
     "output_type": "stream",
     "text": [
      "100%|██████████| 959/959 [00:00<00:00, 21934.56it/s]\n"
     ]
    },
    {
     "name": "stdout",
     "output_type": "stream",
     "text": [
      "Imported Zeeschuimer Data. Saved export to data/csv_dup_rows/20250222_050844_irlstorfer.mdb.csv\n",
      "✅ Success: data/csv_dup_rows/20250222_050844_irlstorfer.mdb.csv\n",
      "💾 Saved updated accounts list\n"
     ]
    },
    {
     "name": "stderr",
     "output_type": "stream",
     "text": [
      "100%|██████████| 812/812 [00:00<00:00, 38862.74it/s]\n"
     ]
    },
    {
     "name": "stdout",
     "output_type": "stream",
     "text": [
      "Imported Zeeschuimer Data. Saved export to data/csv_dup_rows/20250222_050845_edgar.franke1.csv\n",
      "✅ Success: data/csv_dup_rows/20250222_050845_edgar.franke1.csv\n",
      "💾 Saved updated accounts list\n"
     ]
    },
    {
     "name": "stderr",
     "output_type": "stream",
     "text": [
      "100%|██████████| 1066/1066 [00:00<00:00, 26342.28it/s]\n"
     ]
    },
    {
     "name": "stdout",
     "output_type": "stream",
     "text": [
      "Imported Zeeschuimer Data. Saved export to data/csv_dup_rows/20250222_050846_herr_emmerich.csv\n",
      "✅ Success: data/csv_dup_rows/20250222_050846_herr_emmerich.csv\n",
      "💾 Saved updated accounts list\n"
     ]
    },
    {
     "name": "stderr",
     "output_type": "stream",
     "text": [
      "100%|██████████| 1275/1275 [00:00<00:00, 48410.71it/s]\n"
     ]
    },
    {
     "name": "stdout",
     "output_type": "stream",
     "text": [
      "Imported Zeeschuimer Data. Saved export to data/csv_dup_rows/20250222_050902_fguentzler.csv\n",
      "✅ Success: data/csv_dup_rows/20250222_050902_fguentzler.csv\n",
      "💾 Saved updated accounts list\n"
     ]
    },
    {
     "name": "stderr",
     "output_type": "stream",
     "text": [
      "100%|██████████| 354/354 [00:00<00:00, 37033.49it/s]\n"
     ]
    },
    {
     "name": "stdout",
     "output_type": "stream",
     "text": [
      "Imported Zeeschuimer Data. Saved export to data/csv_dup_rows/20250222_050906_misbah.s.khan.csv\n",
      "✅ Success: data/csv_dup_rows/20250222_050906_misbah.s.khan.csv\n",
      "💾 Saved updated accounts list\n"
     ]
    },
    {
     "name": "stderr",
     "output_type": "stream",
     "text": [
      "100%|██████████| 370/370 [00:00<00:00, 45594.28it/s]\n"
     ]
    },
    {
     "name": "stdout",
     "output_type": "stream",
     "text": [
      "Imported Zeeschuimer Data. Saved export to data/csv_dup_rows/20250222_050906_peter_felser.csv\n",
      "✅ Success: data/csv_dup_rows/20250222_050906_peter_felser.csv\n",
      "💾 Saved updated accounts list\n"
     ]
    },
    {
     "name": "stderr",
     "output_type": "stream",
     "text": [
      "100%|██████████| 1613/1613 [00:00<00:00, 35960.41it/s]\n"
     ]
    },
    {
     "name": "stdout",
     "output_type": "stream",
     "text": [
      "Imported Zeeschuimer Data. Saved export to data/csv_dup_rows/20250222_050906_baerbelkofler.csv\n",
      "✅ Success: data/csv_dup_rows/20250222_050906_baerbelkofler.csv\n",
      "💾 Saved updated accounts list\n"
     ]
    },
    {
     "name": "stderr",
     "output_type": "stream",
     "text": [
      "100%|██████████| 577/577 [00:00<00:00, 26431.42it/s]\n"
     ]
    },
    {
     "name": "stdout",
     "output_type": "stream",
     "text": [
      "Imported Zeeschuimer Data. Saved export to data/csv_dup_rows/20250222_050910_andrea.lindholz.csv\n",
      "✅ Success: data/csv_dup_rows/20250222_050910_andrea.lindholz.csv\n",
      "💾 Saved updated accounts list\n"
     ]
    },
    {
     "name": "stderr",
     "output_type": "stream",
     "text": [
      "100%|██████████| 1724/1724 [00:00<00:00, 51093.31it/s]\n"
     ]
    },
    {
     "name": "stdout",
     "output_type": "stream",
     "text": [
      "Imported Zeeschuimer Data. Saved export to data/csv_dup_rows/20250222_050911_nezahatbaradari.csv\n",
      "✅ Success: data/csv_dup_rows/20250222_050911_nezahatbaradari.csv\n",
      "💾 Saved updated accounts list\n"
     ]
    },
    {
     "name": "stderr",
     "output_type": "stream",
     "text": [
      "100%|██████████| 725/725 [00:00<00:00, 50388.92it/s]\n"
     ]
    },
    {
     "name": "stdout",
     "output_type": "stream",
     "text": [
      "Imported Zeeschuimer Data. Saved export to data/csv_dup_rows/20250222_050915_karo_otte.csv\n",
      "✅ Success: data/csv_dup_rows/20250222_050915_karo_otte.csv\n",
      "💾 Saved updated accounts list\n"
     ]
    },
    {
     "name": "stderr",
     "output_type": "stream",
     "text": [
      "100%|██████████| 2054/2054 [00:00<00:00, 86658.82it/s]\n"
     ]
    },
    {
     "name": "stdout",
     "output_type": "stream",
     "text": [
      "Imported Zeeschuimer Data. Saved export to data/csv_dup_rows/20250222_050918__klausmack_.csv\n",
      "✅ Success: data/csv_dup_rows/20250222_050918__klausmack_.csv\n",
      "💾 Saved updated accounts list\n"
     ]
    },
    {
     "name": "stderr",
     "output_type": "stream",
     "text": [
      "100%|██████████| 1244/1244 [00:00<00:00, 64526.16it/s]\n"
     ]
    },
    {
     "name": "stdout",
     "output_type": "stream",
     "text": [
      "Imported Zeeschuimer Data. Saved export to data/csv_dup_rows/20250222_050921_bernharddaldrup.csv\n",
      "✅ Success: data/csv_dup_rows/20250222_050921_bernharddaldrup.csv\n",
      "💾 Saved updated accounts list\n"
     ]
    },
    {
     "name": "stderr",
     "output_type": "stream",
     "text": [
      "100%|██████████| 445/445 [00:00<00:00, 54289.28it/s]\n"
     ]
    },
    {
     "name": "stdout",
     "output_type": "stream",
     "text": [
      "Imported Zeeschuimer Data. Saved export to data/csv_dup_rows/20250222_050922_ullmannmdb.csv\n",
      "✅ Success: data/csv_dup_rows/20250222_050922_ullmannmdb.csv\n",
      "💾 Saved updated accounts list\n"
     ]
    },
    {
     "name": "stderr",
     "output_type": "stream",
     "text": [
      "100%|██████████| 897/897 [00:00<00:00, 40947.87it/s]\n"
     ]
    },
    {
     "name": "stdout",
     "output_type": "stream",
     "text": [
      "Imported Zeeschuimer Data. Saved export to data/csv_dup_rows/20250222_050923_bundesbartz.csv\n",
      "✅ Success: data/csv_dup_rows/20250222_050923_bundesbartz.csv\n",
      "💾 Saved updated accounts list\n"
     ]
    },
    {
     "name": "stderr",
     "output_type": "stream",
     "text": [
      "100%|██████████| 1074/1074 [00:00<00:00, 59792.17it/s]\n"
     ]
    },
    {
     "name": "stdout",
     "output_type": "stream",
     "text": [
      "Imported Zeeschuimer Data. Saved export to data/csv_dup_rows/20250222_050924_stein.mathias.csv\n",
      "✅ Success: data/csv_dup_rows/20250222_050924_stein.mathias.csv\n",
      "💾 Saved updated accounts list\n"
     ]
    },
    {
     "name": "stderr",
     "output_type": "stream",
     "text": [
      "100%|██████████| 1021/1021 [00:00<00:00, 44125.09it/s]\n"
     ]
    },
    {
     "name": "stdout",
     "output_type": "stream",
     "text": [
      "Imported Zeeschuimer Data. Saved export to data/csv_dup_rows/20250222_050926_florianmuellercdu.csv\n",
      "✅ Success: data/csv_dup_rows/20250222_050926_florianmuellercdu.csv\n",
      "💾 Saved updated accounts list\n"
     ]
    },
    {
     "name": "stderr",
     "output_type": "stream",
     "text": [
      "100%|██████████| 601/601 [00:00<00:00, 29255.91it/s]\n"
     ]
    },
    {
     "name": "stdout",
     "output_type": "stream",
     "text": [
      "Imported Zeeschuimer Data. Saved export to data/csv_dup_rows/20250222_050929_dr_espendiller.csv\n",
      "✅ Success: data/csv_dup_rows/20250222_050929_dr_espendiller.csv\n",
      "💾 Saved updated accounts list\n"
     ]
    },
    {
     "name": "stderr",
     "output_type": "stream",
     "text": [
      "100%|██████████| 800/800 [00:00<00:00, 61986.31it/s]\n"
     ]
    },
    {
     "name": "stdout",
     "output_type": "stream",
     "text": [
      "Imported Zeeschuimer Data. Saved export to data/csv_dup_rows/20250222_050931_eugen_schmidt_mdb.csv\n",
      "✅ Success: data/csv_dup_rows/20250222_050931_eugen_schmidt_mdb.csv\n",
      "💾 Saved updated accounts list\n"
     ]
    },
    {
     "name": "stderr",
     "output_type": "stream",
     "text": [
      "100%|██████████| 698/698 [00:00<00:00, 53169.59it/s]\n"
     ]
    },
    {
     "name": "stdout",
     "output_type": "stream",
     "text": [
      "Imported Zeeschuimer Data. Saved export to data/csv_dup_rows/20250222_050931_fechnerjohannes.csv\n",
      "✅ Success: data/csv_dup_rows/20250222_050931_fechnerjohannes.csv\n",
      "💾 Saved updated accounts list\n"
     ]
    },
    {
     "name": "stderr",
     "output_type": "stream",
     "text": [
      "100%|██████████| 559/559 [00:00<00:00, 29734.01it/s]\n"
     ]
    },
    {
     "name": "stdout",
     "output_type": "stream",
     "text": [
      "Imported Zeeschuimer Data. Saved export to data/csv_dup_rows/20250222_050934_danielschneidercuxhaven.csv\n",
      "✅ Success: data/csv_dup_rows/20250222_050934_danielschneidercuxhaven.csv\n",
      "💾 Saved updated accounts list\n"
     ]
    },
    {
     "name": "stderr",
     "output_type": "stream",
     "text": [
      "100%|██████████| 576/576 [00:00<00:00, 41640.14it/s]"
     ]
    },
    {
     "name": "stdout",
     "output_type": "stream",
     "text": [
      "Imported Zeeschuimer Data. Saved export to data/csv_dup_rows/20250222_050936_alexmuellerfdp.csv\n",
      "✅ Success: data/csv_dup_rows/20250222_050936_alexmuellerfdp.csv\n",
      "💾 Saved updated accounts list\n"
     ]
    },
    {
     "name": "stderr",
     "output_type": "stream",
     "text": [
      "\n",
      "100%|██████████| 945/945 [00:00<00:00, 41309.63it/s]\n"
     ]
    },
    {
     "name": "stdout",
     "output_type": "stream",
     "text": [
      "Imported Zeeschuimer Data. Saved export to data/csv_dup_rows/20250222_050937_isabelmackensen.csv\n",
      "✅ Success: data/csv_dup_rows/20250222_050937_isabelmackensen.csv\n",
      "💾 Saved updated accounts list\n"
     ]
    },
    {
     "name": "stderr",
     "output_type": "stream",
     "text": [
      "100%|██████████| 1427/1427 [00:00<00:00, 20230.56it/s]\n"
     ]
    },
    {
     "name": "stdout",
     "output_type": "stream",
     "text": [
      "Imported Zeeschuimer Data. Saved export to data/csv_dup_rows/20250222_050937_jenslehmann.leipzig.csv\n",
      "✅ Success: data/csv_dup_rows/20250222_050937_jenslehmann.leipzig.csv\n",
      "💾 Saved updated accounts list\n"
     ]
    },
    {
     "name": "stderr",
     "output_type": "stream",
     "text": [
      "100%|██████████| 866/866 [00:00<00:00, 33180.18it/s]\n"
     ]
    },
    {
     "name": "stdout",
     "output_type": "stream",
     "text": [
      "Imported Zeeschuimer Data. Saved export to data/csv_dup_rows/20250222_050943_reutherbernd.csv\n",
      "✅ Success: data/csv_dup_rows/20250222_050943_reutherbernd.csv\n",
      "💾 Saved updated accounts list\n"
     ]
    },
    {
     "name": "stderr",
     "output_type": "stream",
     "text": [
      "100%|██████████| 1322/1322 [00:00<00:00, 35191.45it/s]\n"
     ]
    },
    {
     "name": "stdout",
     "output_type": "stream",
     "text": [
      "Imported Zeeschuimer Data. Saved export to data/csv_dup_rows/20250222_050943_thomaserndl.csv\n",
      "✅ Success: data/csv_dup_rows/20250222_050943_thomaserndl.csv\n",
      "💾 Saved updated accounts list\n"
     ]
    },
    {
     "name": "stderr",
     "output_type": "stream",
     "text": [
      "100%|██████████| 1158/1158 [00:00<00:00, 41677.07it/s]\n"
     ]
    },
    {
     "name": "stdout",
     "output_type": "stream",
     "text": [
      "Imported Zeeschuimer Data. Saved export to data/csv_dup_rows/20250222_050947_renataalt_mdb.csv\n",
      "✅ Success: data/csv_dup_rows/20250222_050947_renataalt_mdb.csv\n",
      "💾 Saved updated accounts list\n"
     ]
    },
    {
     "name": "stderr",
     "output_type": "stream",
     "text": [
      "100%|██████████| 1560/1560 [00:00<00:00, 44176.50it/s]\n"
     ]
    },
    {
     "name": "stdout",
     "output_type": "stream",
     "text": [
      "Imported Zeeschuimer Data. Saved export to data/csv_dup_rows/20250222_050950_rixsoenke.csv\n",
      "✅ Success: data/csv_dup_rows/20250222_050950_rixsoenke.csv\n",
      "💾 Saved updated accounts list\n"
     ]
    },
    {
     "name": "stderr",
     "output_type": "stream",
     "text": [
      "100%|██████████| 679/679 [00:00<00:00, 42779.73it/s]\n"
     ]
    },
    {
     "name": "stdout",
     "output_type": "stream",
     "text": [
      "Imported Zeeschuimer Data. Saved export to data/csv_dup_rows/20250222_050954_yannickbury.csv\n",
      "✅ Success: data/csv_dup_rows/20250222_050954_yannickbury.csv\n",
      "💾 Saved updated accounts list\n"
     ]
    },
    {
     "name": "stderr",
     "output_type": "stream",
     "text": [
      "100%|██████████| 1172/1172 [00:00<00:00, 69624.86it/s]\n"
     ]
    },
    {
     "name": "stdout",
     "output_type": "stream",
     "text": [
      "Imported Zeeschuimer Data. Saved export to data/csv_dup_rows/20250222_050954_alexander.hoffmannmdb.csv\n",
      "✅ Success: data/csv_dup_rows/20250222_050954_alexander.hoffmannmdb.csv\n",
      "💾 Saved updated accounts list\n"
     ]
    },
    {
     "name": "stderr",
     "output_type": "stream",
     "text": [
      "100%|██████████| 741/741 [00:00<00:00, 6110.34it/s]\n"
     ]
    },
    {
     "name": "stdout",
     "output_type": "stream",
     "text": [
      "Imported Zeeschuimer Data. Saved export to data/csv_dup_rows/20250222_050958_till_steffen.csv\n",
      "✅ Success: data/csv_dup_rows/20250222_050958_till_steffen.csv\n",
      "💾 Saved updated accounts list\n"
     ]
    },
    {
     "name": "stderr",
     "output_type": "stream",
     "text": [
      "100%|██████████| 1026/1026 [00:00<00:00, 28245.95it/s]\n"
     ]
    },
    {
     "name": "stdout",
     "output_type": "stream",
     "text": [
      "Imported Zeeschuimer Data. Saved export to data/csv_dup_rows/20250222_051003_dennis_rohde.csv\n",
      "✅ Success: data/csv_dup_rows/20250222_051003_dennis_rohde.csv\n",
      "💾 Saved updated accounts list\n"
     ]
    },
    {
     "name": "stderr",
     "output_type": "stream",
     "text": [
      "100%|██████████| 741/741 [00:00<00:00, 31851.88it/s]\n"
     ]
    },
    {
     "name": "stdout",
     "output_type": "stream",
     "text": [
      "Imported Zeeschuimer Data. Saved export to data/csv_dup_rows/20250222_051003_hermann.groehe.csv\n",
      "✅ Success: data/csv_dup_rows/20250222_051003_hermann.groehe.csv\n",
      "💾 Saved updated accounts list\n"
     ]
    },
    {
     "name": "stderr",
     "output_type": "stream",
     "text": [
      "100%|██████████| 444/444 [00:00<00:00, 29798.72it/s]\n"
     ]
    },
    {
     "name": "stdout",
     "output_type": "stream",
     "text": [
      "Imported Zeeschuimer Data. Saved export to data/csv_dup_rows/20250222_051007_michaelgrossebroemer.csv\n",
      "✅ Success: data/csv_dup_rows/20250222_051007_michaelgrossebroemer.csv\n",
      "💾 Saved updated accounts list\n"
     ]
    },
    {
     "name": "stderr",
     "output_type": "stream",
     "text": [
      "100%|██████████| 1467/1467 [00:00<00:00, 25005.16it/s]\n"
     ]
    },
    {
     "name": "stdout",
     "output_type": "stream",
     "text": [
      "Imported Zeeschuimer Data. Saved export to data/csv_dup_rows/20250222_051011_huberthueppe.csv\n",
      "✅ Success: data/csv_dup_rows/20250222_051011_huberthueppe.csv\n",
      "💾 Saved updated accounts list\n"
     ]
    },
    {
     "name": "stderr",
     "output_type": "stream",
     "text": [
      "100%|██████████| 775/775 [00:00<00:00, 47137.95it/s]\n"
     ]
    },
    {
     "name": "stdout",
     "output_type": "stream",
     "text": [
      "Imported Zeeschuimer Data. Saved export to data/csv_dup_rows/20250222_051017_jowadephul.csv\n",
      "✅ Success: data/csv_dup_rows/20250222_051017_jowadephul.csv\n",
      "💾 Saved updated accounts list\n"
     ]
    },
    {
     "name": "stderr",
     "output_type": "stream",
     "text": [
      "100%|██████████| 665/665 [00:00<00:00, 42278.73it/s]\n"
     ]
    },
    {
     "name": "stdout",
     "output_type": "stream",
     "text": [
      "Imported Zeeschuimer Data. Saved export to data/csv_dup_rows/20250222_051019_arturauernhammer.csv\n",
      "✅ Success: data/csv_dup_rows/20250222_051019_arturauernhammer.csv\n",
      "💾 Saved updated accounts list\n"
     ]
    },
    {
     "name": "stderr",
     "output_type": "stream",
     "text": [
      "100%|██████████| 1249/1249 [00:00<00:00, 30083.36it/s]\n"
     ]
    },
    {
     "name": "stdout",
     "output_type": "stream",
     "text": [
      "Imported Zeeschuimer Data. Saved export to data/csv_dup_rows/20250222_051022_aniko_teamwunderkerze.csv\n",
      "✅ Success: data/csv_dup_rows/20250222_051022_aniko_teamwunderkerze.csv\n",
      "💾 Saved updated accounts list\n"
     ]
    },
    {
     "name": "stderr",
     "output_type": "stream",
     "text": [
      "100%|██████████| 807/807 [00:00<00:00, 61899.77it/s]\n"
     ]
    },
    {
     "name": "stdout",
     "output_type": "stream",
     "text": [
      "Imported Zeeschuimer Data. Saved export to data/csv_dup_rows/20250222_051026_katrinhellingplahr.csv\n",
      "✅ Success: data/csv_dup_rows/20250222_051026_katrinhellingplahr.csv\n",
      "💾 Saved updated accounts list\n"
     ]
    },
    {
     "name": "stderr",
     "output_type": "stream",
     "text": [
      "100%|██████████| 1346/1346 [00:00<00:00, 56990.47it/s]\n"
     ]
    },
    {
     "name": "stdout",
     "output_type": "stream",
     "text": [
      "Imported Zeeschuimer Data. Saved export to data/csv_dup_rows/20250222_051028_michaelschrodi.csv\n",
      "✅ Success: data/csv_dup_rows/20250222_051028_michaelschrodi.csv\n",
      "💾 Saved updated accounts list\n"
     ]
    },
    {
     "name": "stderr",
     "output_type": "stream",
     "text": [
      "100%|██████████| 1842/1842 [00:00<00:00, 72953.37it/s]\n"
     ]
    },
    {
     "name": "stdout",
     "output_type": "stream",
     "text": [
      "Imported Zeeschuimer Data. Saved export to data/csv_dup_rows/20250222_051028_seb_roloff.csv\n",
      "✅ Success: data/csv_dup_rows/20250222_051028_seb_roloff.csv\n",
      "💾 Saved updated accounts list\n"
     ]
    },
    {
     "name": "stderr",
     "output_type": "stream",
     "text": [
      "100%|██████████| 449/449 [00:00<00:00, 40039.17it/s]\n"
     ]
    },
    {
     "name": "stdout",
     "output_type": "stream",
     "text": [
      "Imported Zeeschuimer Data. Saved export to data/csv_dup_rows/20250222_051028_katjakeul.csv\n",
      "✅ Success: data/csv_dup_rows/20250222_051028_katjakeul.csv\n",
      "💾 Saved updated accounts list\n"
     ]
    },
    {
     "name": "stderr",
     "output_type": "stream",
     "text": [
      "100%|██████████| 1076/1076 [00:00<00:00, 40505.76it/s]\n"
     ]
    },
    {
     "name": "stdout",
     "output_type": "stream",
     "text": [
      "Imported Zeeschuimer Data. Saved export to data/csv_dup_rows/20250222_051029_anne_janssen_26.csv\n",
      "✅ Success: data/csv_dup_rows/20250222_051029_anne_janssen_26.csv\n",
      "💾 Saved updated accounts list\n"
     ]
    },
    {
     "name": "stderr",
     "output_type": "stream",
     "text": [
      "100%|██████████| 2434/2434 [00:00<00:00, 36907.73it/s]\n"
     ]
    },
    {
     "name": "stdout",
     "output_type": "stream",
     "text": [
      "Imported Zeeschuimer Data. Saved export to data/csv_dup_rows/20250222_051033_georgkippels.csv\n",
      "✅ Success: data/csv_dup_rows/20250222_051033_georgkippels.csv\n",
      "💾 Saved updated accounts list\n"
     ]
    },
    {
     "name": "stderr",
     "output_type": "stream",
     "text": [
      "100%|██████████| 2214/2214 [00:00<00:00, 45092.60it/s]\n"
     ]
    },
    {
     "name": "stdout",
     "output_type": "stream",
     "text": [
      "Imported Zeeschuimer Data. Saved export to data/csv_dup_rows/20250222_051034_josef_oster.csv\n",
      "✅ Success: data/csv_dup_rows/20250222_051034_josef_oster.csv\n",
      "💾 Saved updated accounts list\n"
     ]
    },
    {
     "name": "stderr",
     "output_type": "stream",
     "text": [
      "100%|██████████| 349/349 [00:00<00:00, 46334.90it/s]"
     ]
    },
    {
     "name": "stdout",
     "output_type": "stream",
     "text": [
      "Imported Zeeschuimer Data. Saved export to data/csv_dup_rows/20250222_051039_leyechristian.csv\n",
      "✅ Success: data/csv_dup_rows/20250222_051039_leyechristian.csv\n",
      "💾 Saved updated accounts list\n"
     ]
    },
    {
     "name": "stderr",
     "output_type": "stream",
     "text": [
      "\n",
      "100%|██████████| 251/251 [00:00<00:00, 35765.94it/s]\n"
     ]
    },
    {
     "name": "stdout",
     "output_type": "stream",
     "text": [
      "Imported Zeeschuimer Data. Saved export to data/csv_dup_rows/20250222_051039_philip.kraemer.csv\n",
      "✅ Success: data/csv_dup_rows/20250222_051039_philip.kraemer.csv\n",
      "💾 Saved updated accounts list\n"
     ]
    },
    {
     "name": "stderr",
     "output_type": "stream",
     "text": [
      "100%|██████████| 3561/3561 [00:00<00:00, 72633.50it/s]\n"
     ]
    },
    {
     "name": "stdout",
     "output_type": "stream",
     "text": [
      "Imported Zeeschuimer Data. Saved export to data/csv_dup_rows/20250222_051041_achim_p.csv\n",
      "✅ Success: data/csv_dup_rows/20250222_051041_achim_p.csv\n",
      "💾 Saved updated accounts list\n"
     ]
    },
    {
     "name": "stderr",
     "output_type": "stream",
     "text": [
      "100%|██████████| 1672/1672 [00:00<00:00, 56409.88it/s]\n"
     ]
    },
    {
     "name": "stdout",
     "output_type": "stream",
     "text": [
      "Imported Zeeschuimer Data. Saved export to data/csv_dup_rows/20250222_051042_susanneferschl.csv\n",
      "✅ Success: data/csv_dup_rows/20250222_051042_susanneferschl.csv\n",
      "💾 Saved updated accounts list\n"
     ]
    },
    {
     "name": "stderr",
     "output_type": "stream",
     "text": [
      "100%|██████████| 693/693 [00:00<00:00, 46720.99it/s]\n"
     ]
    },
    {
     "name": "stdout",
     "output_type": "stream",
     "text": [
      "Imported Zeeschuimer Data. Saved export to data/csv_dup_rows/20250222_051045_nilsgruender.csv\n",
      "✅ Success: data/csv_dup_rows/20250222_051045_nilsgruender.csv\n",
      "💾 Saved updated accounts list\n"
     ]
    },
    {
     "name": "stderr",
     "output_type": "stream",
     "text": [
      "100%|██████████| 1763/1763 [00:00<00:00, 44979.88it/s]\n"
     ]
    },
    {
     "name": "stdout",
     "output_type": "stream",
     "text": [
      "Imported Zeeschuimer Data. Saved export to data/csv_dup_rows/20250222_051047_alexthrom.csv\n",
      "✅ Success: data/csv_dup_rows/20250222_051047_alexthrom.csv\n",
      "💾 Saved updated accounts list\n"
     ]
    },
    {
     "name": "stderr",
     "output_type": "stream",
     "text": [
      "100%|██████████| 1300/1300 [00:00<00:00, 42551.53it/s]\n"
     ]
    },
    {
     "name": "stdout",
     "output_type": "stream",
     "text": [
      "Imported Zeeschuimer Data. Saved export to data/csv_dup_rows/20250222_051051_widmannmauz.csv\n",
      "✅ Success: data/csv_dup_rows/20250222_051051_widmannmauz.csv\n",
      "💾 Saved updated accounts list\n"
     ]
    },
    {
     "name": "stderr",
     "output_type": "stream",
     "text": [
      "100%|██████████| 853/853 [00:00<00:00, 30647.09it/s]\n"
     ]
    },
    {
     "name": "stdout",
     "output_type": "stream",
     "text": [
      "Imported Zeeschuimer Data. Saved export to data/csv_dup_rows/20250222_051054_saranannni.csv\n",
      "✅ Success: data/csv_dup_rows/20250222_051054_saranannni.csv\n",
      "💾 Saved updated accounts list\n"
     ]
    },
    {
     "name": "stderr",
     "output_type": "stream",
     "text": [
      "100%|██████████| 1821/1821 [00:00<00:00, 80348.28it/s]\n"
     ]
    },
    {
     "name": "stdout",
     "output_type": "stream",
     "text": [
      "Imported Zeeschuimer Data. Saved export to data/csv_dup_rows/20250222_051055_henningrehbaum.csv\n",
      "✅ Success: data/csv_dup_rows/20250222_051055_henningrehbaum.csv\n",
      "💾 Saved updated accounts list\n"
     ]
    },
    {
     "name": "stderr",
     "output_type": "stream",
     "text": [
      "100%|██████████| 1182/1182 [00:00<00:00, 53612.63it/s]\n"
     ]
    },
    {
     "name": "stdout",
     "output_type": "stream",
     "text": [
      "Imported Zeeschuimer Data. Saved export to data/csv_dup_rows/20250222_051055_danielrinkert.csv\n",
      "✅ Success: data/csv_dup_rows/20250222_051055_danielrinkert.csv\n",
      "💾 Saved updated accounts list\n"
     ]
    },
    {
     "name": "stderr",
     "output_type": "stream",
     "text": [
      "100%|██████████| 213/213 [00:00<00:00, 61506.83it/s]\n"
     ]
    },
    {
     "name": "stdout",
     "output_type": "stream",
     "text": [
      "Imported Zeeschuimer Data. Saved export to data/csv_dup_rows/20250222_051058_ingo.gaedechens.csv\n",
      "✅ Success: data/csv_dup_rows/20250222_051058_ingo.gaedechens.csv\n",
      "💾 Saved updated accounts list\n"
     ]
    },
    {
     "name": "stderr",
     "output_type": "stream",
     "text": [
      "100%|██████████| 1401/1401 [00:00<00:00, 29881.01it/s]\n"
     ]
    },
    {
     "name": "stdout",
     "output_type": "stream",
     "text": [
      "Imported Zeeschuimer Data. Saved export to data/csv_dup_rows/20250222_051059_englhardtkopf.csv\n",
      "✅ Success: data/csv_dup_rows/20250222_051059_englhardtkopf.csv\n",
      "💾 Saved updated accounts list\n"
     ]
    },
    {
     "name": "stderr",
     "output_type": "stream",
     "text": [
      "100%|██████████| 256/256 [00:00<00:00, 53521.18it/s]\n"
     ]
    },
    {
     "name": "stdout",
     "output_type": "stream",
     "text": [
      "Imported Zeeschuimer Data. Saved export to data/csv_dup_rows/20250222_051103_denise.loop.csv\n",
      "✅ Success: data/csv_dup_rows/20250222_051103_denise.loop.csv\n",
      "💾 Saved updated accounts list\n"
     ]
    },
    {
     "name": "stderr",
     "output_type": "stream",
     "text": [
      "100%|██████████| 48/48 [00:00<00:00, 58237.37it/s]"
     ]
    },
    {
     "name": "stdout",
     "output_type": "stream",
     "text": [
      "Imported Zeeschuimer Data. Saved export to data/csv_dup_rows/20250222_051103_karlheinz.busen.csv\n",
      "✅ Success: data/csv_dup_rows/20250222_051103_karlheinz.busen.csv\n",
      "💾 Saved updated accounts list\n"
     ]
    },
    {
     "name": "stderr",
     "output_type": "stream",
     "text": [
      "\n",
      "100%|██████████| 1339/1339 [00:00<00:00, 52020.39it/s]\n"
     ]
    },
    {
     "name": "stdout",
     "output_type": "stream",
     "text": [
      "Imported Zeeschuimer Data. Saved export to data/csv_dup_rows/20250222_051103_rischwasu.csv\n",
      "✅ Success: data/csv_dup_rows/20250222_051103_rischwasu.csv\n",
      "💾 Saved updated accounts list\n"
     ]
    },
    {
     "name": "stderr",
     "output_type": "stream",
     "text": [
      "100%|██████████| 1439/1439 [00:00<00:00, 26403.74it/s]\n"
     ]
    },
    {
     "name": "stdout",
     "output_type": "stream",
     "text": [
      "Imported Zeeschuimer Data. Saved export to data/csv_dup_rows/20250222_051104_simone.borchardt.csv\n",
      "✅ Success: data/csv_dup_rows/20250222_051104_simone.borchardt.csv\n",
      "💾 Saved updated accounts list\n"
     ]
    },
    {
     "name": "stderr",
     "output_type": "stream",
     "text": [
      "100%|██████████| 1595/1595 [00:00<00:00, 40788.68it/s]\n"
     ]
    },
    {
     "name": "stdout",
     "output_type": "stream",
     "text": [
      "Imported Zeeschuimer Data. Saved export to data/csv_dup_rows/20250222_051108_kerstinvieregge.csv\n",
      "✅ Success: data/csv_dup_rows/20250222_051108_kerstinvieregge.csv\n",
      "💾 Saved updated accounts list\n"
     ]
    },
    {
     "name": "stderr",
     "output_type": "stream",
     "text": [
      "100%|██████████| 552/552 [00:00<00:00, 65170.74it/s]"
     ]
    },
    {
     "name": "stdout",
     "output_type": "stream",
     "text": [
      "Imported Zeeschuimer Data. Saved export to data/csv_dup_rows/20250222_051109_reinhardhouben.csv\n",
      "✅ Success: data/csv_dup_rows/20250222_051109_reinhardhouben.csv\n",
      "💾 Saved updated accounts list\n"
     ]
    },
    {
     "name": "stderr",
     "output_type": "stream",
     "text": [
      "\n",
      "100%|██████████| 1260/1260 [00:00<00:00, 35812.56it/s]\n"
     ]
    },
    {
     "name": "stdout",
     "output_type": "stream",
     "text": [
      "Imported Zeeschuimer Data. Saved export to data/csv_dup_rows/20250222_051109_juergencosse.csv\n",
      "✅ Success: data/csv_dup_rows/20250222_051109_juergencosse.csv\n",
      "💾 Saved updated accounts list\n"
     ]
    },
    {
     "name": "stderr",
     "output_type": "stream",
     "text": [
      "100%|██████████| 1788/1788 [00:00<00:00, 81375.63it/s]\n"
     ]
    },
    {
     "name": "stdout",
     "output_type": "stream",
     "text": [
      "Imported Zeeschuimer Data. Saved export to data/csv_dup_rows/20250222_051113_volkmarklein.csv\n",
      "✅ Success: data/csv_dup_rows/20250222_051113_volkmarklein.csv\n",
      "💾 Saved updated accounts list\n"
     ]
    },
    {
     "name": "stderr",
     "output_type": "stream",
     "text": [
      "100%|██████████| 655/655 [00:00<00:00, 46571.78it/s]\n"
     ]
    },
    {
     "name": "stdout",
     "output_type": "stream",
     "text": [
      "Imported Zeeschuimer Data. Saved export to data/csv_dup_rows/20250222_051116_swantjemichaelsen.csv\n",
      "✅ Success: data/csv_dup_rows/20250222_051116_swantjemichaelsen.csv\n",
      "💾 Saved updated accounts list\n"
     ]
    },
    {
     "name": "stderr",
     "output_type": "stream",
     "text": [
      "100%|██████████| 1766/1766 [00:00<00:00, 49971.60it/s]\n"
     ]
    },
    {
     "name": "stdout",
     "output_type": "stream",
     "text": [
      "Imported Zeeschuimer Data. Saved export to data/csv_dup_rows/20250222_051118_mechthild_heil.csv\n",
      "✅ Success: data/csv_dup_rows/20250222_051118_mechthild_heil.csv\n",
      "💾 Saved updated accounts list\n"
     ]
    },
    {
     "name": "stderr",
     "output_type": "stream",
     "text": [
      "100%|██████████| 39/39 [00:00<00:00, 31475.44it/s]\n"
     ]
    },
    {
     "name": "stdout",
     "output_type": "stream",
     "text": [
      "Imported Zeeschuimer Data. Saved export to data/csv_dup_rows/20250222_051118_claudiatausend.csv\n",
      "✅ Success: data/csv_dup_rows/20250222_051118_claudiatausend.csv\n",
      "💾 Saved updated accounts list\n"
     ]
    },
    {
     "name": "stderr",
     "output_type": "stream",
     "text": [
      "100%|██████████| 862/862 [00:00<00:00, 24470.65it/s]\n"
     ]
    },
    {
     "name": "stdout",
     "output_type": "stream",
     "text": [
      "Imported Zeeschuimer Data. Saved export to data/csv_dup_rows/20250222_051119_chris_schreider.csv\n",
      "✅ Success: data/csv_dup_rows/20250222_051119_chris_schreider.csv\n",
      "💾 Saved updated accounts list\n"
     ]
    },
    {
     "name": "stderr",
     "output_type": "stream",
     "text": [
      "100%|██████████| 166/166 [00:00<00:00, 39135.21it/s]"
     ]
    },
    {
     "name": "stdout",
     "output_type": "stream",
     "text": [
      "Imported Zeeschuimer Data. Saved export to data/csv_dup_rows/20250222_051120_mariana_harder_kuehnel.csv\n",
      "✅ Success: data/csv_dup_rows/20250222_051120_mariana_harder_kuehnel.csv\n",
      "💾 Saved updated accounts list\n"
     ]
    },
    {
     "name": "stderr",
     "output_type": "stream",
     "text": [
      "\n",
      "100%|██████████| 984/984 [00:00<00:00, 33771.61it/s]\n"
     ]
    },
    {
     "name": "stdout",
     "output_type": "stream",
     "text": [
      "Imported Zeeschuimer Data. Saved export to data/csv_dup_rows/20250222_051120_bengtbergt.csv\n",
      "✅ Success: data/csv_dup_rows/20250222_051120_bengtbergt.csv\n",
      "💾 Saved updated accounts list\n"
     ]
    },
    {
     "name": "stderr",
     "output_type": "stream",
     "text": [
      "100%|██████████| 1420/1420 [00:00<00:00, 46116.23it/s]\n"
     ]
    },
    {
     "name": "stdout",
     "output_type": "stream",
     "text": [
      "Imported Zeeschuimer Data. Saved export to data/csv_dup_rows/20250222_051120_bettina_lugk.csv\n",
      "✅ Success: data/csv_dup_rows/20250222_051120_bettina_lugk.csv\n",
      "💾 Saved updated accounts list\n"
     ]
    },
    {
     "name": "stderr",
     "output_type": "stream",
     "text": [
      "100%|██████████| 1033/1033 [00:00<00:00, 41602.73it/s]\n"
     ]
    },
    {
     "name": "stdout",
     "output_type": "stream",
     "text": [
      "Imported Zeeschuimer Data. Saved export to data/csv_dup_rows/20250222_051121_andreas.larem.csv\n",
      "✅ Success: data/csv_dup_rows/20250222_051121_andreas.larem.csv\n",
      "💾 Saved updated accounts list\n"
     ]
    },
    {
     "name": "stderr",
     "output_type": "stream",
     "text": [
      "100%|██████████| 347/347 [00:00<00:00, 38707.04it/s]"
     ]
    },
    {
     "name": "stdout",
     "output_type": "stream",
     "text": [
      "Imported Zeeschuimer Data. Saved export to data/csv_dup_rows/20250222_051124_marlonbroehr.csv\n",
      "✅ Success: data/csv_dup_rows/20250222_051124_marlonbroehr.csv\n",
      "💾 Saved updated accounts list\n"
     ]
    },
    {
     "name": "stderr",
     "output_type": "stream",
     "text": [
      "\n",
      "100%|██████████| 1076/1076 [00:00<00:00, 31333.59it/s]\n"
     ]
    },
    {
     "name": "stdout",
     "output_type": "stream",
     "text": [
      "Imported Zeeschuimer Data. Saved export to data/csv_dup_rows/20250222_051124_dunjakreiser.csv\n",
      "✅ Success: data/csv_dup_rows/20250222_051124_dunjakreiser.csv\n",
      "💾 Saved updated accounts list\n"
     ]
    },
    {
     "name": "stderr",
     "output_type": "stream",
     "text": [
      "100%|██████████| 897/897 [00:00<00:00, 43981.28it/s]\n"
     ]
    },
    {
     "name": "stdout",
     "output_type": "stream",
     "text": [
      "Imported Zeeschuimer Data. Saved export to data/csv_dup_rows/20250222_051128_stueweru.csv\n",
      "✅ Success: data/csv_dup_rows/20250222_051128_stueweru.csv\n",
      "💾 Saved updated accounts list\n"
     ]
    },
    {
     "name": "stderr",
     "output_type": "stream",
     "text": [
      "100%|██████████| 1248/1248 [00:00<00:00, 57067.23it/s]\n"
     ]
    },
    {
     "name": "stdout",
     "output_type": "stream",
     "text": [
      "Imported Zeeschuimer Data. Saved export to data/csv_dup_rows/20250222_051131_sebastianhartmann.spd.csv\n",
      "✅ Success: data/csv_dup_rows/20250222_051131_sebastianhartmann.spd.csv\n",
      "💾 Saved updated accounts list\n"
     ]
    },
    {
     "name": "stderr",
     "output_type": "stream",
     "text": [
      "100%|██████████| 982/982 [00:00<00:00, 31463.13it/s]\n"
     ]
    },
    {
     "name": "stdout",
     "output_type": "stream",
     "text": [
      "Imported Zeeschuimer Data. Saved export to data/csv_dup_rows/20250222_051134_ankehennig_bramsche.csv\n",
      "✅ Success: data/csv_dup_rows/20250222_051134_ankehennig_bramsche.csv\n",
      "💾 Saved updated accounts list\n"
     ]
    },
    {
     "name": "stderr",
     "output_type": "stream",
     "text": [
      "100%|██████████| 1803/1803 [00:00<00:00, 52438.62it/s]\n"
     ]
    },
    {
     "name": "stdout",
     "output_type": "stream",
     "text": [
      "Imported Zeeschuimer Data. Saved export to data/csv_dup_rows/20250222_051137_bubendorfer.csv\n",
      "✅ Success: data/csv_dup_rows/20250222_051137_bubendorfer.csv\n",
      "💾 Saved updated accounts list\n"
     ]
    },
    {
     "name": "stderr",
     "output_type": "stream",
     "text": [
      "100%|██████████| 400/400 [00:00<00:00, 53512.43it/s]\n"
     ]
    },
    {
     "name": "stdout",
     "output_type": "stream",
     "text": [
      "Imported Zeeschuimer Data. Saved export to data/csv_dup_rows/20250222_051138_muellerrosentritt.csv\n",
      "✅ Success: data/csv_dup_rows/20250222_051138_muellerrosentritt.csv\n",
      "💾 Saved updated accounts list\n"
     ]
    },
    {
     "name": "stderr",
     "output_type": "stream",
     "text": [
      "100%|██████████| 545/545 [00:00<00:00, 43824.69it/s]\n"
     ]
    },
    {
     "name": "stdout",
     "output_type": "stream",
     "text": [
      "Imported Zeeschuimer Data. Saved export to data/csv_dup_rows/20250222_051139_henningotte_mdb.csv\n",
      "✅ Success: data/csv_dup_rows/20250222_051139_henningotte_mdb.csv\n",
      "💾 Saved updated accounts list\n"
     ]
    },
    {
     "name": "stderr",
     "output_type": "stream",
     "text": [
      "100%|██████████| 972/972 [00:00<00:00, 49195.89it/s]\n"
     ]
    },
    {
     "name": "stdout",
     "output_type": "stream",
     "text": [
      "Imported Zeeschuimer Data. Saved export to data/csv_dup_rows/20250222_051141_gruenclaudia.csv\n",
      "✅ Success: data/csv_dup_rows/20250222_051141_gruenclaudia.csv\n",
      "💾 Saved updated accounts list\n"
     ]
    },
    {
     "name": "stderr",
     "output_type": "stream",
     "text": [
      "100%|██████████| 819/819 [00:00<00:00, 35762.54it/s]\n"
     ]
    },
    {
     "name": "stdout",
     "output_type": "stream",
     "text": [
      "Imported Zeeschuimer Data. Saved export to data/csv_dup_rows/20250222_051143_tina.rudolph.spd.csv\n",
      "✅ Success: data/csv_dup_rows/20250222_051143_tina.rudolph.spd.csv\n",
      "💾 Saved updated accounts list\n"
     ]
    },
    {
     "name": "stderr",
     "output_type": "stream",
     "text": [
      "100%|██████████| 1187/1187 [00:00<00:00, 39307.42it/s]\n"
     ]
    },
    {
     "name": "stdout",
     "output_type": "stream",
     "text": [
      "Imported Zeeschuimer Data. Saved export to data/csv_dup_rows/20250222_051146_mechthilde.wittmann.csv\n",
      "✅ Success: data/csv_dup_rows/20250222_051146_mechthilde.wittmann.csv\n",
      "💾 Saved updated accounts list\n"
     ]
    },
    {
     "name": "stderr",
     "output_type": "stream",
     "text": [
      "100%|██████████| 971/971 [00:00<00:00, 58812.81it/s]\n"
     ]
    },
    {
     "name": "stdout",
     "output_type": "stream",
     "text": [
      "Imported Zeeschuimer Data. Saved export to data/csv_dup_rows/20250222_051149_christoph.hoffmann.mdb.csv\n",
      "✅ Success: data/csv_dup_rows/20250222_051149_christoph.hoffmann.mdb.csv\n",
      "💾 Saved updated accounts list\n"
     ]
    },
    {
     "name": "stderr",
     "output_type": "stream",
     "text": [
      "100%|██████████| 1017/1017 [00:00<00:00, 47570.06it/s]\n"
     ]
    },
    {
     "name": "stdout",
     "output_type": "stream",
     "text": [
      "Imported Zeeschuimer Data. Saved export to data/csv_dup_rows/20250222_051152_poschmannsabine.csv\n",
      "✅ Success: data/csv_dup_rows/20250222_051152_poschmannsabine.csv\n",
      "💾 Saved updated accounts list\n"
     ]
    },
    {
     "name": "stderr",
     "output_type": "stream",
     "text": [
      "100%|██████████| 415/415 [00:00<00:00, 21322.44it/s]\n"
     ]
    },
    {
     "name": "stdout",
     "output_type": "stream",
     "text": [
      "Imported Zeeschuimer Data. Saved export to data/csv_dup_rows/20250222_051157_cijay_schroeder.csv\n",
      "✅ Success: data/csv_dup_rows/20250222_051157_cijay_schroeder.csv\n",
      "💾 Saved updated accounts list\n"
     ]
    },
    {
     "name": "stderr",
     "output_type": "stream",
     "text": [
      "100%|██████████| 507/507 [00:00<00:00, 36955.83it/s]\n"
     ]
    },
    {
     "name": "stdout",
     "output_type": "stream",
     "text": [
      "Imported Zeeschuimer Data. Saved export to data/csv_dup_rows/20250222_051157_holmleiferik.csv\n",
      "✅ Success: data/csv_dup_rows/20250222_051157_holmleiferik.csv\n",
      "💾 Saved updated accounts list\n"
     ]
    },
    {
     "name": "stderr",
     "output_type": "stream",
     "text": [
      "100%|██████████| 496/496 [00:00<00:00, 54933.19it/s]\n"
     ]
    },
    {
     "name": "stdout",
     "output_type": "stream",
     "text": [
      "Imported Zeeschuimer Data. Saved export to data/csv_dup_rows/20250222_051159_estherdilcher.csv\n",
      "✅ Success: data/csv_dup_rows/20250222_051159_estherdilcher.csv\n",
      "💾 Saved updated accounts list\n"
     ]
    },
    {
     "name": "stderr",
     "output_type": "stream",
     "text": [
      "100%|██████████| 345/345 [00:00<00:00, 31949.72it/s]\n"
     ]
    },
    {
     "name": "stdout",
     "output_type": "stream",
     "text": [
      "Imported Zeeschuimer Data. Saved export to data/csv_dup_rows/20250222_051202_niklaswagener.csv\n",
      "✅ Success: data/csv_dup_rows/20250222_051202_niklaswagener.csv\n",
      "💾 Saved updated accounts list\n"
     ]
    },
    {
     "name": "stderr",
     "output_type": "stream",
     "text": [
      "100%|██████████| 1181/1181 [00:00<00:00, 42160.45it/s]\n"
     ]
    },
    {
     "name": "stdout",
     "output_type": "stream",
     "text": [
      "Imported Zeeschuimer Data. Saved export to data/csv_dup_rows/20250222_051203_mensch_brand.csv\n",
      "✅ Success: data/csv_dup_rows/20250222_051203_mensch_brand.csv\n",
      "💾 Saved updated accounts list\n"
     ]
    },
    {
     "name": "stderr",
     "output_type": "stream",
     "text": [
      "100%|██████████| 1045/1045 [00:00<00:00, 66654.21it/s]\n"
     ]
    },
    {
     "name": "stdout",
     "output_type": "stream",
     "text": [
      "Imported Zeeschuimer Data. Saved export to data/csv_dup_rows/20250222_051206_tillmansmann.csv\n",
      "✅ Success: data/csv_dup_rows/20250222_051206_tillmansmann.csv\n",
      "💾 Saved updated accounts list\n"
     ]
    },
    {
     "name": "stderr",
     "output_type": "stream",
     "text": [
      "100%|██████████| 2173/2173 [00:00<00:00, 42051.41it/s]\n"
     ]
    },
    {
     "name": "stdout",
     "output_type": "stream",
     "text": [
      "Imported Zeeschuimer Data. Saved export to data/csv_dup_rows/20250222_051207_michaelthews.csv\n",
      "✅ Success: data/csv_dup_rows/20250222_051207_michaelthews.csv\n",
      "💾 Saved updated accounts list\n"
     ]
    },
    {
     "name": "stderr",
     "output_type": "stream",
     "text": [
      "100%|██████████| 815/815 [00:00<00:00, 58343.71it/s]\n"
     ]
    },
    {
     "name": "stdout",
     "output_type": "stream",
     "text": [
      "Imported Zeeschuimer Data. Saved export to data/csv_dup_rows/20250222_051212_hesselkatja.csv\n",
      "✅ Success: data/csv_dup_rows/20250222_051212_hesselkatja.csv\n",
      "💾 Saved updated accounts list\n"
     ]
    },
    {
     "name": "stderr",
     "output_type": "stream",
     "text": [
      "100%|██████████| 3531/3531 [00:00<00:00, 100693.41it/s]\n"
     ]
    },
    {
     "name": "stdout",
     "output_type": "stream",
     "text": [
      "Imported Zeeschuimer Data. Saved export to data/csv_dup_rows/20250222_051214_erwin_rueddel.csv\n",
      "✅ Success: data/csv_dup_rows/20250222_051214_erwin_rueddel.csv\n",
      "💾 Saved updated accounts list\n"
     ]
    },
    {
     "name": "stderr",
     "output_type": "stream",
     "text": [
      "100%|██████████| 699/699 [00:00<00:00, 50039.57it/s]\n"
     ]
    },
    {
     "name": "stdout",
     "output_type": "stream",
     "text": [
      "Imported Zeeschuimer Data. Saved export to data/csv_dup_rows/20250222_051218_manuelhoeferlin.csv\n",
      "✅ Success: data/csv_dup_rows/20250222_051218_manuelhoeferlin.csv\n",
      "💾 Saved updated accounts list\n"
     ]
    },
    {
     "name": "stderr",
     "output_type": "stream",
     "text": [
      "100%|██████████| 1379/1379 [00:00<00:00, 54415.62it/s]\n"
     ]
    },
    {
     "name": "stdout",
     "output_type": "stream",
     "text": [
      "Imported Zeeschuimer Data. Saved export to data/csv_dup_rows/20250222_051221_advocatopeter.csv\n",
      "✅ Success: data/csv_dup_rows/20250222_051221_advocatopeter.csv\n",
      "💾 Saved updated accounts list\n"
     ]
    },
    {
     "name": "stderr",
     "output_type": "stream",
     "text": [
      "100%|██████████| 1196/1196 [00:00<00:00, 37711.25it/s]\n"
     ]
    },
    {
     "name": "stdout",
     "output_type": "stream",
     "text": [
      "Imported Zeeschuimer Data. Saved export to data/csv_dup_rows/20250222_051221_ulrich.lange.mdb.csv\n",
      "✅ Success: data/csv_dup_rows/20250222_051221_ulrich.lange.mdb.csv\n",
      "💾 Saved updated accounts list\n"
     ]
    },
    {
     "name": "stderr",
     "output_type": "stream",
     "text": [
      "100%|██████████| 692/692 [00:00<00:00, 19099.14it/s]\n"
     ]
    },
    {
     "name": "stdout",
     "output_type": "stream",
     "text": [
      "Imported Zeeschuimer Data. Saved export to data/csv_dup_rows/20250222_051222_dr.daniela.deridder.csv\n",
      "✅ Success: data/csv_dup_rows/20250222_051222_dr.daniela.deridder.csv\n",
      "💾 Saved updated accounts list\n"
     ]
    },
    {
     "name": "stderr",
     "output_type": "stream",
     "text": [
      "100%|██████████| 937/937 [00:00<00:00, 11134.87it/s]\n"
     ]
    },
    {
     "name": "stdout",
     "output_type": "stream",
     "text": [
      "Imported Zeeschuimer Data. Saved export to data/csv_dup_rows/20250222_051222_carolinwagner.in.csv\n",
      "✅ Success: data/csv_dup_rows/20250222_051222_carolinwagner.in.csv\n",
      "💾 Saved updated accounts list\n"
     ]
    },
    {
     "name": "stderr",
     "output_type": "stream",
     "text": [
      "100%|██████████| 753/753 [00:00<00:00, 42997.13it/s]\n"
     ]
    },
    {
     "name": "stdout",
     "output_type": "stream",
     "text": [
      "Imported Zeeschuimer Data. Saved export to data/csv_dup_rows/20250222_051225_katj_ad.csv\n",
      "✅ Success: data/csv_dup_rows/20250222_051225_katj_ad.csv\n",
      "💾 Saved updated accounts list\n"
     ]
    },
    {
     "name": "stderr",
     "output_type": "stream",
     "text": [
      "100%|██████████| 558/558 [00:00<00:00, 48592.76it/s]\n"
     ]
    },
    {
     "name": "stdout",
     "output_type": "stream",
     "text": [
      "Imported Zeeschuimer Data. Saved export to data/csv_dup_rows/20250222_051227_dr._peter_ramsauer.csv\n",
      "✅ Success: data/csv_dup_rows/20250222_051227_dr._peter_ramsauer.csv\n",
      "💾 Saved updated accounts list\n"
     ]
    },
    {
     "name": "stderr",
     "output_type": "stream",
     "text": [
      "100%|██████████| 757/757 [00:00<00:00, 51973.94it/s]\n"
     ]
    },
    {
     "name": "stdout",
     "output_type": "stream",
     "text": [
      "Imported Zeeschuimer Data. Saved export to data/csv_dup_rows/20250222_051227_martina.stammfibich.mdb.csv\n",
      "✅ Success: data/csv_dup_rows/20250222_051227_martina.stammfibich.mdb.csv\n",
      "💾 Saved updated accounts list\n"
     ]
    },
    {
     "name": "stderr",
     "output_type": "stream",
     "text": [
      "100%|██████████| 150/150 [00:00<00:00, 57820.57it/s]\n"
     ]
    },
    {
     "name": "stdout",
     "output_type": "stream",
     "text": [
      "Imported Zeeschuimer Data. Saved export to data/csv_dup_rows/20250222_051228_stephanmayercsu.csv\n",
      "✅ Success: data/csv_dup_rows/20250222_051228_stephanmayercsu.csv\n",
      "💾 Saved updated accounts list\n"
     ]
    },
    {
     "name": "stderr",
     "output_type": "stream",
     "text": [
      "100%|██████████| 777/777 [00:00<00:00, 46923.45it/s]\n"
     ]
    },
    {
     "name": "stdout",
     "output_type": "stream",
     "text": [
      "Imported Zeeschuimer Data. Saved export to data/csv_dup_rows/20250222_051228_kaczmarekoliver.csv\n",
      "✅ Success: data/csv_dup_rows/20250222_051228_kaczmarekoliver.csv\n",
      "💾 Saved updated accounts list\n"
     ]
    },
    {
     "name": "stderr",
     "output_type": "stream",
     "text": [
      "100%|██████████| 1991/1991 [00:00<00:00, 46474.48it/s]\n"
     ]
    },
    {
     "name": "stdout",
     "output_type": "stream",
     "text": [
      "Imported Zeeschuimer Data. Saved export to data/csv_dup_rows/20250222_051231_muellerchemnitz.csv\n",
      "✅ Success: data/csv_dup_rows/20250222_051231_muellerchemnitz.csv\n",
      "💾 Saved updated accounts list\n"
     ]
    },
    {
     "name": "stderr",
     "output_type": "stream",
     "text": [
      "100%|██████████| 563/563 [00:00<00:00, 40608.65it/s]\n"
     ]
    },
    {
     "name": "stdout",
     "output_type": "stream",
     "text": [
      "Imported Zeeschuimer Data. Saved export to data/csv_dup_rows/20250222_051235_boris.mijatovic.csv\n",
      "✅ Success: data/csv_dup_rows/20250222_051235_boris.mijatovic.csv\n",
      "💾 Saved updated accounts list\n"
     ]
    },
    {
     "name": "stderr",
     "output_type": "stream",
     "text": [
      "100%|██████████| 544/544 [00:00<00:00, 50184.78it/s]\n"
     ]
    },
    {
     "name": "stdout",
     "output_type": "stream",
     "text": [
      "Imported Zeeschuimer Data. Saved export to data/csv_dup_rows/20250222_051237_karl.baer.csv\n",
      "✅ Success: data/csv_dup_rows/20250222_051237_karl.baer.csv\n",
      "💾 Saved updated accounts list\n"
     ]
    },
    {
     "name": "stderr",
     "output_type": "stream",
     "text": [
      "100%|██████████| 463/463 [00:00<00:00, 32248.87it/s]\n"
     ]
    },
    {
     "name": "stdout",
     "output_type": "stream",
     "text": [
      "Imported Zeeschuimer Data. Saved export to data/csv_dup_rows/20250222_051238_stephanie_aeffner.csv\n",
      "✅ Success: data/csv_dup_rows/20250222_051238_stephanie_aeffner.csv\n",
      "💾 Saved updated accounts list\n"
     ]
    },
    {
     "name": "stderr",
     "output_type": "stream",
     "text": [
      "100%|██████████| 1529/1529 [00:00<00:00, 61496.99it/s]\n"
     ]
    },
    {
     "name": "stdout",
     "output_type": "stream",
     "text": [
      "Imported Zeeschuimer Data. Saved export to data/csv_dup_rows/20250222_051239_mbreilmann.csv\n",
      "✅ Success: data/csv_dup_rows/20250222_051239_mbreilmann.csv\n",
      "💾 Saved updated accounts list\n"
     ]
    },
    {
     "name": "stderr",
     "output_type": "stream",
     "text": [
      "100%|██████████| 435/435 [00:00<00:00, 44752.69it/s]"
     ]
    },
    {
     "name": "stdout",
     "output_type": "stream",
     "text": [
      "Imported Zeeschuimer Data. Saved export to data/csv_dup_rows/20250222_051241_judithskudelny.csv\n",
      "✅ Success: data/csv_dup_rows/20250222_051241_judithskudelny.csv\n",
      "💾 Saved updated accounts list\n"
     ]
    },
    {
     "name": "stderr",
     "output_type": "stream",
     "text": [
      "\n",
      "100%|██████████| 1445/1445 [00:00<00:00, 35499.15it/s]\n"
     ]
    },
    {
     "name": "stdout",
     "output_type": "stream",
     "text": [
      "Imported Zeeschuimer Data. Saved export to data/csv_dup_rows/20250222_051241_paul.lehrieder.csv\n",
      "✅ Success: data/csv_dup_rows/20250222_051241_paul.lehrieder.csv\n",
      "💾 Saved updated accounts list\n"
     ]
    },
    {
     "name": "stderr",
     "output_type": "stream",
     "text": [
      "100%|██████████| 622/622 [00:00<00:00, 20508.92it/s]\n"
     ]
    },
    {
     "name": "stdout",
     "output_type": "stream",
     "text": [
      "Imported Zeeschuimer Data. Saved export to data/csv_dup_rows/20250222_051246_der_geissler.csv\n",
      "✅ Success: data/csv_dup_rows/20250222_051246_der_geissler.csv\n",
      "💾 Saved updated accounts list\n"
     ]
    },
    {
     "name": "stderr",
     "output_type": "stream",
     "text": [
      "100%|██████████| 402/402 [00:00<00:00, 48532.33it/s]\n"
     ]
    },
    {
     "name": "stdout",
     "output_type": "stream",
     "text": [
      "Imported Zeeschuimer Data. Saved export to data/csv_dup_rows/20250222_051248_valentin_christian_abel.csv\n",
      "✅ Success: data/csv_dup_rows/20250222_051248_valentin_christian_abel.csv\n",
      "💾 Saved updated accounts list\n"
     ]
    },
    {
     "name": "stderr",
     "output_type": "stream",
     "text": [
      "100%|██████████| 771/771 [00:00<00:00, 67561.02it/s]\n"
     ]
    },
    {
     "name": "stdout",
     "output_type": "stream",
     "text": [
      "Imported Zeeschuimer Data. Saved export to data/csv_dup_rows/20250222_051250_andreas_mattfeldt.csv\n",
      "✅ Success: data/csv_dup_rows/20250222_051250_andreas_mattfeldt.csv\n",
      "💾 Saved updated accounts list\n"
     ]
    },
    {
     "name": "stderr",
     "output_type": "stream",
     "text": [
      "100%|██████████| 489/489 [00:00<00:00, 37411.57it/s]\n"
     ]
    },
    {
     "name": "stdout",
     "output_type": "stream",
     "text": [
      "Imported Zeeschuimer Data. Saved export to data/csv_dup_rows/20250222_051254_lennardoehl.csv\n",
      "✅ Success: data/csv_dup_rows/20250222_051254_lennardoehl.csv\n",
      "💾 Saved updated accounts list\n"
     ]
    },
    {
     "name": "stderr",
     "output_type": "stream",
     "text": [
      "100%|██████████| 709/709 [00:00<00:00, 30167.50it/s]\n"
     ]
    },
    {
     "name": "stdout",
     "output_type": "stream",
     "text": [
      "Imported Zeeschuimer Data. Saved export to data/csv_dup_rows/20250222_051259_linda.altona.csv\n",
      "✅ Success: data/csv_dup_rows/20250222_051259_linda.altona.csv\n",
      "💾 Saved updated accounts list\n"
     ]
    },
    {
     "name": "stderr",
     "output_type": "stream",
     "text": [
      "100%|██████████| 962/962 [00:00<00:00, 34402.40it/s]\n"
     ]
    },
    {
     "name": "stdout",
     "output_type": "stream",
     "text": [
      "Imported Zeeschuimer Data. Saved export to data/csv_dup_rows/20250222_051304_parsa.marvi.csv\n",
      "✅ Success: data/csv_dup_rows/20250222_051304_parsa.marvi.csv\n",
      "💾 Saved updated accounts list\n"
     ]
    },
    {
     "name": "stderr",
     "output_type": "stream",
     "text": [
      "100%|██████████| 611/611 [00:00<00:00, 22848.17it/s]\n"
     ]
    },
    {
     "name": "stdout",
     "output_type": "stream",
     "text": [
      "Imported Zeeschuimer Data. Saved export to data/csv_dup_rows/20250222_051307_heike.engelhardt.csv\n",
      "✅ Success: data/csv_dup_rows/20250222_051307_heike.engelhardt.csv\n",
      "💾 Saved updated accounts list\n"
     ]
    },
    {
     "name": "stderr",
     "output_type": "stream",
     "text": [
      "100%|██████████| 921/921 [00:00<00:00, 41540.71it/s]\n"
     ]
    },
    {
     "name": "stdout",
     "output_type": "stream",
     "text": [
      "Imported Zeeschuimer Data. Saved export to data/csv_dup_rows/20250222_051307_michael.kiessling.mdb.csv\n",
      "✅ Success: data/csv_dup_rows/20250222_051307_michael.kiessling.mdb.csv\n",
      "💾 Saved updated accounts list\n"
     ]
    },
    {
     "name": "stderr",
     "output_type": "stream",
     "text": [
      "100%|██████████| 599/599 [00:00<00:00, 28473.50it/s]\n"
     ]
    },
    {
     "name": "stdout",
     "output_type": "stream",
     "text": [
      "Imported Zeeschuimer Data. Saved export to data/csv_dup_rows/20250222_051309_kevinleiserhohenlohe.csv\n",
      "✅ Success: data/csv_dup_rows/20250222_051309_kevinleiserhohenlohe.csv\n",
      "💾 Saved updated accounts list\n"
     ]
    },
    {
     "name": "stderr",
     "output_type": "stream",
     "text": [
      "100%|██████████| 908/908 [00:00<00:00, 37616.70it/s]\n"
     ]
    },
    {
     "name": "stdout",
     "output_type": "stream",
     "text": [
      "Imported Zeeschuimer Data. Saved export to data/csv_dup_rows/20250222_051311_rimkusandreas.csv\n",
      "✅ Success: data/csv_dup_rows/20250222_051311_rimkusandreas.csv\n",
      "💾 Saved updated accounts list\n"
     ]
    },
    {
     "name": "stderr",
     "output_type": "stream",
     "text": [
      "100%|██████████| 388/388 [00:00<00:00, 30119.56it/s]\n"
     ]
    },
    {
     "name": "stdout",
     "output_type": "stream",
     "text": [
      "Imported Zeeschuimer Data. Saved export to data/csv_dup_rows/20250222_051313_jenspeick.csv\n",
      "✅ Success: data/csv_dup_rows/20250222_051313_jenspeick.csv\n",
      "💾 Saved updated accounts list\n"
     ]
    },
    {
     "name": "stderr",
     "output_type": "stream",
     "text": [
      "100%|██████████| 838/838 [00:00<00:00, 28860.68it/s]\n"
     ]
    },
    {
     "name": "stdout",
     "output_type": "stream",
     "text": [
      "Imported Zeeschuimer Data. Saved export to data/csv_dup_rows/20250222_051316_marialenaweiss.csv\n",
      "✅ Success: data/csv_dup_rows/20250222_051316_marialenaweiss.csv\n",
      "💾 Saved updated accounts list\n"
     ]
    },
    {
     "name": "stderr",
     "output_type": "stream",
     "text": [
      "100%|██████████| 366/366 [00:00<00:00, 56247.81it/s]\n"
     ]
    },
    {
     "name": "stdout",
     "output_type": "stream",
     "text": [
      "Imported Zeeschuimer Data. Saved export to data/csv_dup_rows/20250222_051318_ulrichlechte.csv\n",
      "✅ Success: data/csv_dup_rows/20250222_051318_ulrichlechte.csv\n",
      "💾 Saved updated accounts list\n"
     ]
    },
    {
     "name": "stderr",
     "output_type": "stream",
     "text": [
      "100%|██████████| 643/643 [00:00<00:00, 53925.81it/s]\n"
     ]
    },
    {
     "name": "stdout",
     "output_type": "stream",
     "text": [
      "Imported Zeeschuimer Data. Saved export to data/csv_dup_rows/20250222_051320_christianhaasemdb.csv\n",
      "✅ Success: data/csv_dup_rows/20250222_051320_christianhaasemdb.csv\n",
      "💾 Saved updated accounts list\n"
     ]
    },
    {
     "name": "stderr",
     "output_type": "stream",
     "text": [
      "100%|██████████| 787/787 [00:00<00:00, 63223.85it/s]\n"
     ]
    },
    {
     "name": "stdout",
     "output_type": "stream",
     "text": [
      "Imported Zeeschuimer Data. Saved export to data/csv_dup_rows/20250222_051321_dietmar_nietan.csv\n",
      "✅ Success: data/csv_dup_rows/20250222_051321_dietmar_nietan.csv\n",
      "💾 Saved updated accounts list\n"
     ]
    },
    {
     "name": "stderr",
     "output_type": "stream",
     "text": [
      "100%|██████████| 1097/1097 [00:00<00:00, 85732.01it/s]\n"
     ]
    },
    {
     "name": "stdout",
     "output_type": "stream",
     "text": [
      "Imported Zeeschuimer Data. Saved export to data/csv_dup_rows/20250222_051322_dr.christian_wirth_mdb.csv\n",
      "✅ Success: data/csv_dup_rows/20250222_051322_dr.christian_wirth_mdb.csv\n",
      "💾 Saved updated accounts list\n"
     ]
    },
    {
     "name": "stderr",
     "output_type": "stream",
     "text": [
      "100%|██████████| 1148/1148 [00:00<00:00, 28044.43it/s]\n"
     ]
    },
    {
     "name": "stdout",
     "output_type": "stream",
     "text": [
      "Imported Zeeschuimer Data. Saved export to data/csv_dup_rows/20250222_051322_guenterkrings.csv\n",
      "✅ Success: data/csv_dup_rows/20250222_051322_guenterkrings.csv\n",
      "💾 Saved updated accounts list\n"
     ]
    },
    {
     "name": "stderr",
     "output_type": "stream",
     "text": [
      "100%|██████████| 547/547 [00:00<00:00, 29411.64it/s]\n"
     ]
    },
    {
     "name": "stdout",
     "output_type": "stream",
     "text": [
      "Imported Zeeschuimer Data. Saved export to data/csv_dup_rows/20250222_051326_heikebaehrens.csv\n",
      "✅ Success: data/csv_dup_rows/20250222_051326_heikebaehrens.csv\n",
      "💾 Saved updated accounts list\n"
     ]
    },
    {
     "name": "stderr",
     "output_type": "stream",
     "text": [
      "100%|██████████| 1174/1174 [00:00<00:00, 32599.44it/s]\n"
     ]
    },
    {
     "name": "stdout",
     "output_type": "stream",
     "text": [
      "Imported Zeeschuimer Data. Saved export to data/csv_dup_rows/20250222_051329_christiane_schenderlein.csv\n",
      "✅ Success: data/csv_dup_rows/20250222_051329_christiane_schenderlein.csv\n",
      "💾 Saved updated accounts list\n"
     ]
    },
    {
     "name": "stderr",
     "output_type": "stream",
     "text": [
      "100%|██████████| 1200/1200 [00:00<00:00, 49950.03it/s]\n"
     ]
    },
    {
     "name": "stdout",
     "output_type": "stream",
     "text": [
      "Imported Zeeschuimer Data. Saved export to data/csv_dup_rows/20250222_051333_jm_luczak.csv\n",
      "✅ Success: data/csv_dup_rows/20250222_051333_jm_luczak.csv\n",
      "💾 Saved updated accounts list\n"
     ]
    },
    {
     "name": "stderr",
     "output_type": "stream",
     "text": [
      "100%|██████████| 66/66 [00:00<00:00, 98936.41it/s]\n"
     ]
    },
    {
     "name": "stdout",
     "output_type": "stream",
     "text": [
      "Imported Zeeschuimer Data. Saved export to data/csv_dup_rows/20250222_051333_karstenhilse.csv\n",
      "✅ Success: data/csv_dup_rows/20250222_051333_karstenhilse.csv\n",
      "💾 Saved updated accounts list\n"
     ]
    },
    {
     "name": "stderr",
     "output_type": "stream",
     "text": [
      "100%|██████████| 1059/1059 [00:00<00:00, 44567.43it/s]\n"
     ]
    },
    {
     "name": "stdout",
     "output_type": "stream",
     "text": [
      "Imported Zeeschuimer Data. Saved export to data/csv_dup_rows/20250222_051333_tinosorge.csv\n",
      "✅ Success: data/csv_dup_rows/20250222_051333_tinosorge.csv\n",
      "💾 Saved updated accounts list\n"
     ]
    },
    {
     "name": "stderr",
     "output_type": "stream",
     "text": [
      "100%|██████████| 934/934 [00:00<00:00, 49452.52it/s]\n"
     ]
    },
    {
     "name": "stdout",
     "output_type": "stream",
     "text": [
      "Imported Zeeschuimer Data. Saved export to data/csv_dup_rows/20250222_051335_frauke_heiligenstadt.csv\n",
      "✅ Success: data/csv_dup_rows/20250222_051335_frauke_heiligenstadt.csv\n",
      "💾 Saved updated accounts list\n"
     ]
    },
    {
     "name": "stderr",
     "output_type": "stream",
     "text": [
      "100%|██████████| 687/687 [00:00<00:00, 42254.26it/s]"
     ]
    },
    {
     "name": "stdout",
     "output_type": "stream",
     "text": [
      "Imported Zeeschuimer Data. Saved export to data/csv_dup_rows/20250222_051337_anjareinalter.csv\n",
      "✅ Success: data/csv_dup_rows/20250222_051337_anjareinalter.csv\n",
      "💾 Saved updated accounts list\n"
     ]
    },
    {
     "name": "stderr",
     "output_type": "stream",
     "text": [
      "\n",
      "100%|██████████| 1075/1075 [00:00<00:00, 42403.36it/s]\n"
     ]
    },
    {
     "name": "stdout",
     "output_type": "stream",
     "text": [
      "Imported Zeeschuimer Data. Saved export to data/csv_dup_rows/20250222_051337_rebecca.schamber.spd.csv\n",
      "✅ Success: data/csv_dup_rows/20250222_051337_rebecca.schamber.spd.csv\n",
      "💾 Saved updated accounts list\n"
     ]
    },
    {
     "name": "stderr",
     "output_type": "stream",
     "text": [
      "100%|██████████| 1196/1196 [00:00<00:00, 38536.02it/s]\n"
     ]
    },
    {
     "name": "stdout",
     "output_type": "stream",
     "text": [
      "Imported Zeeschuimer Data. Saved export to data/csv_dup_rows/20250222_051338_mdb.ulrike.bahr.csv\n",
      "✅ Success: data/csv_dup_rows/20250222_051338_mdb.ulrike.bahr.csv\n",
      "💾 Saved updated accounts list\n"
     ]
    },
    {
     "name": "stderr",
     "output_type": "stream",
     "text": [
      "100%|██████████| 992/992 [00:00<00:00, 50396.07it/s]\n"
     ]
    },
    {
     "name": "stdout",
     "output_type": "stream",
     "text": [
      "Imported Zeeschuimer Data. Saved export to data/csv_dup_rows/20250222_051340_gerald.ullrich.csv\n",
      "✅ Success: data/csv_dup_rows/20250222_051340_gerald.ullrich.csv\n",
      "💾 Saved updated accounts list\n"
     ]
    },
    {
     "name": "stderr",
     "output_type": "stream",
     "text": [
      "100%|██████████| 1109/1109 [00:00<00:00, 79378.20it/s]\n"
     ]
    },
    {
     "name": "stdout",
     "output_type": "stream",
     "text": [
      "Imported Zeeschuimer Data. Saved export to data/csv_dup_rows/20250222_051341_andreasbleckmdb.csv\n",
      "✅ Success: data/csv_dup_rows/20250222_051341_andreasbleckmdb.csv\n",
      "💾 Saved updated accounts list\n"
     ]
    },
    {
     "name": "stderr",
     "output_type": "stream",
     "text": [
      "100%|██████████| 457/457 [00:00<00:00, 79419.80it/s]\n"
     ]
    },
    {
     "name": "stdout",
     "output_type": "stream",
     "text": [
      "Imported Zeeschuimer Data. Saved export to data/csv_dup_rows/20250222_051343_renebochmannafdmdb.csv\n",
      "✅ Success: data/csv_dup_rows/20250222_051343_renebochmannafdmdb.csv\n",
      "💾 Saved updated accounts list\n"
     ]
    },
    {
     "name": "stderr",
     "output_type": "stream",
     "text": [
      "100%|██████████| 1046/1046 [00:00<00:00, 35475.97it/s]\n"
     ]
    },
    {
     "name": "stdout",
     "output_type": "stream",
     "text": [
      "Imported Zeeschuimer Data. Saved export to data/csv_dup_rows/20250222_051344_timo.schisanowski.csv\n",
      "✅ Success: data/csv_dup_rows/20250222_051344_timo.schisanowski.csv\n",
      "💾 Saved updated accounts list\n"
     ]
    },
    {
     "name": "stderr",
     "output_type": "stream",
     "text": [
      "100%|██████████| 867/867 [00:00<00:00, 40374.17it/s]\n"
     ]
    },
    {
     "name": "stdout",
     "output_type": "stream",
     "text": [
      "Imported Zeeschuimer Data. Saved export to data/csv_dup_rows/20250222_051347_briannickholz.csv\n",
      "✅ Success: data/csv_dup_rows/20250222_051347_briannickholz.csv\n",
      "💾 Saved updated accounts list\n"
     ]
    },
    {
     "name": "stderr",
     "output_type": "stream",
     "text": [
      "100%|██████████| 1044/1044 [00:00<00:00, 78214.76it/s]"
     ]
    },
    {
     "name": "stdout",
     "output_type": "stream",
     "text": [
      "Imported Zeeschuimer Data. Saved export to data/csv_dup_rows/20250222_051349_olavgutting.csv\n",
      "✅ Success: data/csv_dup_rows/20250222_051349_olavgutting.csv\n",
      "💾 Saved updated accounts list\n"
     ]
    },
    {
     "name": "stderr",
     "output_type": "stream",
     "text": [
      "\n",
      "100%|██████████| 275/275 [00:00<00:00, 44592.65it/s]\n"
     ]
    },
    {
     "name": "stdout",
     "output_type": "stream",
     "text": [
      "Imported Zeeschuimer Data. Saved export to data/csv_dup_rows/20250222_051349_christianpetrymdb.csv\n",
      "✅ Success: data/csv_dup_rows/20250222_051349_christianpetrymdb.csv\n",
      "💾 Saved updated accounts list\n"
     ]
    },
    {
     "name": "stderr",
     "output_type": "stream",
     "text": [
      "100%|██████████| 771/771 [00:00<00:00, 50931.73it/s]\n"
     ]
    },
    {
     "name": "stdout",
     "output_type": "stream",
     "text": [
      "Imported Zeeschuimer Data. Saved export to data/csv_dup_rows/20250222_051350_gabrielekatzmarek.spd.csv\n",
      "✅ Success: data/csv_dup_rows/20250222_051350_gabrielekatzmarek.spd.csv\n",
      "💾 Saved updated accounts list\n"
     ]
    },
    {
     "name": "stderr",
     "output_type": "stream",
     "text": [
      "100%|██████████| 60/60 [00:00<00:00, 54935.22it/s]\n"
     ]
    },
    {
     "name": "stdout",
     "output_type": "stream",
     "text": [
      "Imported Zeeschuimer Data. Saved export to data/csv_dup_rows/20250222_051350_bernd_ruetzel.csv\n",
      "✅ Success: data/csv_dup_rows/20250222_051350_bernd_ruetzel.csv\n",
      "💾 Saved updated accounts list\n",
      "🔥 Error processing data/exports/20250222_005639_marianneschieder.ndjson: Expecting value: line 1 column 1 (char 0)\n",
      "💾 Saved updated accounts list\n"
     ]
    },
    {
     "name": "stderr",
     "output_type": "stream",
     "text": [
      "Traceback (most recent call last):\n",
      "  File \"/var/folders/dg/8_1dqh0j1sq6n3btfr7g__pc0000gn/T/ipykernel_28488/1882261602.py\", line 26, in convert_all_ndjson_to_csv\n",
      "    convert_single_ndjson_to_csv(import_filename, export_filename)\n",
      "  File \"/var/folders/dg/8_1dqh0j1sq6n3btfr7g__pc0000gn/T/ipykernel_28488/2461494619.py\", line 267, in convert_single_ndjson_to_csv\n",
      "    json_line = json.loads(line)\n",
      "  File \"/Users/leobru/anaconda3/envs/bundesposts_scraping/lib/python3.10/json/__init__.py\", line 346, in loads\n",
      "    return _default_decoder.decode(s)\n",
      "  File \"/Users/leobru/anaconda3/envs/bundesposts_scraping/lib/python3.10/json/decoder.py\", line 337, in decode\n",
      "    obj, end = self.raw_decode(s, idx=_w(s, 0).end())\n",
      "  File \"/Users/leobru/anaconda3/envs/bundesposts_scraping/lib/python3.10/json/decoder.py\", line 355, in raw_decode\n",
      "    raise JSONDecodeError(\"Expecting value\", s, err.value) from None\n",
      "json.decoder.JSONDecodeError: Expecting value: line 1 column 1 (char 0)\n",
      "100%|██████████| 72/72 [00:00<00:00, 35378.38it/s]\n"
     ]
    },
    {
     "name": "stdout",
     "output_type": "stream",
     "text": [
      "Imported Zeeschuimer Data. Saved export to data/csv_dup_rows/20250222_051353_alexander.foehr.csv\n",
      "✅ Success: data/csv_dup_rows/20250222_051353_alexander.foehr.csv\n",
      "💾 Saved updated accounts list\n"
     ]
    },
    {
     "name": "stderr",
     "output_type": "stream",
     "text": [
      "100%|██████████| 72/72 [00:00<00:00, 74676.04it/s]\n"
     ]
    },
    {
     "name": "stdout",
     "output_type": "stream",
     "text": [
      "Imported Zeeschuimer Data. Saved export to data/csv_dup_rows/20250222_051353_dielinkekathrin.csv\n",
      "✅ Success: data/csv_dup_rows/20250222_051353_dielinkekathrin.csv\n",
      "💾 Saved updated accounts list\n"
     ]
    },
    {
     "name": "stderr",
     "output_type": "stream",
     "text": [
      "100%|██████████| 72/72 [00:00<00:00, 36904.54it/s]\n"
     ]
    },
    {
     "name": "stdout",
     "output_type": "stream",
     "text": [
      "Imported Zeeschuimer Data. Saved export to data/csv_dup_rows/20250222_051355_marc_henrichmann.csv\n",
      "✅ Success: data/csv_dup_rows/20250222_051355_marc_henrichmann.csv\n",
      "💾 Saved updated accounts list\n"
     ]
    },
    {
     "name": "stderr",
     "output_type": "stream",
     "text": [
      "100%|██████████| 55/55 [00:00<00:00, 32169.39it/s]\n"
     ]
    },
    {
     "name": "stdout",
     "output_type": "stream",
     "text": [
      "Imported Zeeschuimer Data. Saved export to data/csv_dup_rows/20250222_051356_janosch.dahmen.csv\n",
      "✅ Success: data/csv_dup_rows/20250222_051356_janosch.dahmen.csv\n",
      "💾 Saved updated accounts list\n"
     ]
    },
    {
     "name": "stderr",
     "output_type": "stream",
     "text": [
      "100%|██████████| 72/72 [00:00<00:00, 30954.27it/s]\n"
     ]
    },
    {
     "name": "stdout",
     "output_type": "stream",
     "text": [
      "Imported Zeeschuimer Data. Saved export to data/csv_dup_rows/20250222_051357_dirk_brandes.csv\n",
      "✅ Success: data/csv_dup_rows/20250222_051357_dirk_brandes.csv\n",
      "💾 Saved updated accounts list\n"
     ]
    },
    {
     "name": "stderr",
     "output_type": "stream",
     "text": [
      "100%|██████████| 108/108 [00:00<00:00, 31970.13it/s]\n"
     ]
    },
    {
     "name": "stdout",
     "output_type": "stream",
     "text": [
      "Imported Zeeschuimer Data. Saved export to data/csv_dup_rows/20250222_051359_inge.graessle.csv\n",
      "✅ Success: data/csv_dup_rows/20250222_051359_inge.graessle.csv\n",
      "💾 Saved updated accounts list\n"
     ]
    },
    {
     "name": "stderr",
     "output_type": "stream",
     "text": [
      "100%|██████████| 444/444 [00:00<00:00, 39831.27it/s]\n"
     ]
    },
    {
     "name": "stdout",
     "output_type": "stream",
     "text": [
      "Imported Zeeschuimer Data. Saved export to data/csv_dup_rows/20250222_051359_haglkehl.csv\n",
      "✅ Success: data/csv_dup_rows/20250222_051359_haglkehl.csv\n",
      "💾 Saved updated accounts list\n"
     ]
    },
    {
     "name": "stderr",
     "output_type": "stream",
     "text": [
      "100%|██████████| 72/72 [00:00<00:00, 30890.95it/s]\n"
     ]
    },
    {
     "name": "stdout",
     "output_type": "stream",
     "text": [
      "Imported Zeeschuimer Data. Saved export to data/csv_dup_rows/20250222_051400_saschamueller_mdb.csv\n",
      "✅ Success: data/csv_dup_rows/20250222_051400_saschamueller_mdb.csv\n",
      "💾 Saved updated accounts list\n"
     ]
    },
    {
     "name": "stderr",
     "output_type": "stream",
     "text": [
      "100%|██████████| 72/72 [00:00<00:00, 40820.48it/s]\n"
     ]
    },
    {
     "name": "stdout",
     "output_type": "stream",
     "text": [
      "Imported Zeeschuimer Data. Saved export to data/csv_dup_rows/20250222_051401_nicolaisenpetra.csv\n",
      "✅ Success: data/csv_dup_rows/20250222_051401_nicolaisenpetra.csv\n",
      "💾 Saved updated accounts list\n"
     ]
    },
    {
     "name": "stderr",
     "output_type": "stream",
     "text": [
      "100%|██████████| 143/143 [00:00<00:00, 35936.82it/s]\n"
     ]
    },
    {
     "name": "stdout",
     "output_type": "stream",
     "text": [
      "Imported Zeeschuimer Data. Saved export to data/csv_dup_rows/20250222_051401_stefanheck82.csv\n",
      "✅ Success: data/csv_dup_rows/20250222_051401_stefanheck82.csv\n",
      "💾 Saved updated accounts list\n"
     ]
    },
    {
     "name": "stderr",
     "output_type": "stream",
     "text": [
      "100%|██████████| 132/132 [00:00<00:00, 30850.78it/s]\n"
     ]
    },
    {
     "name": "stdout",
     "output_type": "stream",
     "text": [
      "Imported Zeeschuimer Data. Saved export to data/csv_dup_rows/20250222_051401_lehmannspd.csv\n",
      "✅ Success: data/csv_dup_rows/20250222_051401_lehmannspd.csv\n",
      "💾 Saved updated accounts list\n"
     ]
    },
    {
     "name": "stderr",
     "output_type": "stream",
     "text": [
      "100%|██████████| 72/72 [00:00<00:00, 28904.09it/s]\n"
     ]
    },
    {
     "name": "stdout",
     "output_type": "stream",
     "text": [
      "Imported Zeeschuimer Data. Saved export to data/csv_dup_rows/20250222_051402_konradstockmeier.csv\n",
      "✅ Success: data/csv_dup_rows/20250222_051402_konradstockmeier.csv\n",
      "💾 Saved updated accounts list\n"
     ]
    },
    {
     "name": "stderr",
     "output_type": "stream",
     "text": [
      "100%|██████████| 72/72 [00:00<00:00, 52437.90it/s]\n"
     ]
    },
    {
     "name": "stdout",
     "output_type": "stream",
     "text": [
      "Imported Zeeschuimer Data. Saved export to data/csv_dup_rows/20250222_051403_mariakleinschmeink.csv\n",
      "✅ Success: data/csv_dup_rows/20250222_051403_mariakleinschmeink.csv\n",
      "💾 Saved updated accounts list\n"
     ]
    },
    {
     "name": "stderr",
     "output_type": "stream",
     "text": [
      "100%|██████████| 72/72 [00:00<00:00, 47400.70it/s]\n"
     ]
    },
    {
     "name": "stdout",
     "output_type": "stream",
     "text": [
      "Imported Zeeschuimer Data. Saved export to data/csv_dup_rows/20250222_051403_meyer_fdp.csv\n",
      "✅ Success: data/csv_dup_rows/20250222_051403_meyer_fdp.csv\n",
      "💾 Saved updated accounts list\n"
     ]
    },
    {
     "name": "stderr",
     "output_type": "stream",
     "text": [
      "100%|██████████| 72/72 [00:00<00:00, 22614.19it/s]\n"
     ]
    },
    {
     "name": "stdout",
     "output_type": "stream",
     "text": [
      "Imported Zeeschuimer Data. Saved export to data/csv_dup_rows/20250222_051406_bmwiesmann.csv\n",
      "✅ Success: data/csv_dup_rows/20250222_051406_bmwiesmann.csv\n",
      "💾 Saved updated accounts list\n"
     ]
    },
    {
     "name": "stderr",
     "output_type": "stream",
     "text": [
      "100%|██████████| 72/72 [00:00<00:00, 51141.39it/s]\n"
     ]
    },
    {
     "name": "stdout",
     "output_type": "stream",
     "text": [
      "Imported Zeeschuimer Data. Saved export to data/csv_dup_rows/20250222_051408_axelknoerig.csv\n",
      "✅ Success: data/csv_dup_rows/20250222_051408_axelknoerig.csv\n",
      "💾 Saved updated accounts list\n"
     ]
    },
    {
     "name": "stderr",
     "output_type": "stream",
     "text": [
      "100%|██████████| 72/72 [00:00<00:00, 79034.25it/s]\n"
     ]
    },
    {
     "name": "stdout",
     "output_type": "stream",
     "text": [
      "Imported Zeeschuimer Data. Saved export to data/csv_dup_rows/20250222_051409_juergen.braun.mdb.csv\n",
      "✅ Success: data/csv_dup_rows/20250222_051409_juergen.braun.mdb.csv\n",
      "💾 Saved updated accounts list\n"
     ]
    },
    {
     "name": "stderr",
     "output_type": "stream",
     "text": [
      "100%|██████████| 72/72 [00:00<00:00, 13792.64it/s]\n"
     ]
    },
    {
     "name": "stdout",
     "output_type": "stream",
     "text": [
      "Imported Zeeschuimer Data. Saved export to data/csv_dup_rows/20250222_051409_mtodtenh.csv\n",
      "✅ Success: data/csv_dup_rows/20250222_051409_mtodtenh.csv\n",
      "💾 Saved updated accounts list\n"
     ]
    },
    {
     "name": "stderr",
     "output_type": "stream",
     "text": [
      "100%|██████████| 72/72 [00:00<00:00, 7570.38it/s]\n"
     ]
    },
    {
     "name": "stdout",
     "output_type": "stream",
     "text": [
      "Imported Zeeschuimer Data. Saved export to data/csv_dup_rows/20250222_051411_tina_winklmann.csv\n",
      "✅ Success: data/csv_dup_rows/20250222_051411_tina_winklmann.csv\n",
      "💾 Saved updated accounts list\n"
     ]
    },
    {
     "name": "stderr",
     "output_type": "stream",
     "text": [
      "100%|██████████| 72/72 [00:00<00:00, 42100.92it/s]\n"
     ]
    },
    {
     "name": "stdout",
     "output_type": "stream",
     "text": [
      "Imported Zeeschuimer Data. Saved export to data/csv_dup_rows/20250222_051413_ingo.schaefer.nrw.csv\n",
      "✅ Success: data/csv_dup_rows/20250222_051413_ingo.schaefer.nrw.csv\n",
      "💾 Saved updated accounts list\n"
     ]
    },
    {
     "name": "stderr",
     "output_type": "stream",
     "text": [
      "100%|██████████| 72/72 [00:00<00:00, 56205.08it/s]\n"
     ]
    },
    {
     "name": "stdout",
     "output_type": "stream",
     "text": [
      "Imported Zeeschuimer Data. Saved export to data/csv_dup_rows/20250222_051415_nils.schmid.spd.csv\n",
      "✅ Success: data/csv_dup_rows/20250222_051415_nils.schmid.spd.csv\n",
      "💾 Saved updated accounts list\n"
     ]
    },
    {
     "name": "stderr",
     "output_type": "stream",
     "text": [
      "100%|██████████| 72/72 [00:00<00:00, 34851.69it/s]\n"
     ]
    },
    {
     "name": "stdout",
     "output_type": "stream",
     "text": [
      "Imported Zeeschuimer Data. Saved export to data/csv_dup_rows/20250222_051415_gruenebeate.csv\n",
      "✅ Success: data/csv_dup_rows/20250222_051415_gruenebeate.csv\n",
      "💾 Saved updated accounts list\n"
     ]
    },
    {
     "name": "stderr",
     "output_type": "stream",
     "text": [
      "100%|██████████| 72/72 [00:00<00:00, 22105.99it/s]\n"
     ]
    },
    {
     "name": "stdout",
     "output_type": "stream",
     "text": [
      "Imported Zeeschuimer Data. Saved export to data/csv_dup_rows/20250222_051416_dieschmidt.csv\n",
      "✅ Success: data/csv_dup_rows/20250222_051416_dieschmidt.csv\n",
      "💾 Saved updated accounts list\n"
     ]
    },
    {
     "name": "stderr",
     "output_type": "stream",
     "text": [
      "100%|██████████| 72/72 [00:00<00:00, 48287.48it/s]\n"
     ]
    },
    {
     "name": "stdout",
     "output_type": "stream",
     "text": [
      "Imported Zeeschuimer Data. Saved export to data/csv_dup_rows/20250222_051416_avjurisch.csv\n",
      "✅ Success: data/csv_dup_rows/20250222_051416_avjurisch.csv\n",
      "💾 Saved updated accounts list\n"
     ]
    },
    {
     "name": "stderr",
     "output_type": "stream",
     "text": [
      "100%|██████████| 72/72 [00:00<00:00, 9479.84it/s]\n"
     ]
    },
    {
     "name": "stdout",
     "output_type": "stream",
     "text": [
      "Imported Zeeschuimer Data. Saved export to data/csv_dup_rows/20250222_051416_frank.rinck.csv\n",
      "✅ Success: data/csv_dup_rows/20250222_051416_frank.rinck.csv\n",
      "💾 Saved updated accounts list\n"
     ]
    },
    {
     "name": "stderr",
     "output_type": "stream",
     "text": [
      "100%|██████████| 72/72 [00:00<00:00, 11318.54it/s]\n"
     ]
    },
    {
     "name": "stdout",
     "output_type": "stream",
     "text": [
      "Imported Zeeschuimer Data. Saved export to data/csv_dup_rows/20250222_051419_uwekekeritz.csv\n",
      "✅ Success: data/csv_dup_rows/20250222_051419_uwekekeritz.csv\n",
      "💾 Saved updated accounts list\n"
     ]
    },
    {
     "name": "stderr",
     "output_type": "stream",
     "text": [
      "100%|██████████| 72/72 [00:00<00:00, 44832.23it/s]\n"
     ]
    },
    {
     "name": "stdout",
     "output_type": "stream",
     "text": [
      "Imported Zeeschuimer Data. Saved export to data/csv_dup_rows/20250222_051420_markushuempfer.csv\n",
      "✅ Success: data/csv_dup_rows/20250222_051420_markushuempfer.csv\n",
      "💾 Saved updated accounts list\n"
     ]
    },
    {
     "name": "stderr",
     "output_type": "stream",
     "text": [
      "100%|██████████| 71/71 [00:00<00:00, 15161.16it/s]\n"
     ]
    },
    {
     "name": "stdout",
     "output_type": "stream",
     "text": [
      "Imported Zeeschuimer Data. Saved export to data/csv_dup_rows/20250222_051426_uweschmidt.mdb.csv\n",
      "✅ Success: data/csv_dup_rows/20250222_051426_uweschmidt.mdb.csv\n",
      "💾 Saved updated accounts list\n"
     ]
    },
    {
     "name": "stderr",
     "output_type": "stream",
     "text": [
      "100%|██████████| 72/72 [00:00<00:00, 7796.31it/s]\n"
     ]
    },
    {
     "name": "stdout",
     "output_type": "stream",
     "text": [
      "Imported Zeeschuimer Data. Saved export to data/csv_dup_rows/20250222_051428_alois.rainer.mdb.csv\n",
      "✅ Success: data/csv_dup_rows/20250222_051428_alois.rainer.mdb.csv\n",
      "💾 Saved updated accounts list\n"
     ]
    },
    {
     "name": "stderr",
     "output_type": "stream",
     "text": [
      "100%|██████████| 72/72 [00:00<00:00, 9416.88it/s]\n"
     ]
    },
    {
     "name": "stdout",
     "output_type": "stream",
     "text": [
      "Imported Zeeschuimer Data. Saved export to data/csv_dup_rows/20250222_051428_thlieb.csv\n",
      "✅ Success: data/csv_dup_rows/20250222_051428_thlieb.csv\n",
      "💾 Saved updated accounts list\n"
     ]
    },
    {
     "name": "stderr",
     "output_type": "stream",
     "text": [
      "100%|██████████| 72/72 [00:00<00:00, 21435.97it/s]\n"
     ]
    },
    {
     "name": "stdout",
     "output_type": "stream",
     "text": [
      "Imported Zeeschuimer Data. Saved export to data/csv_dup_rows/20250222_051428_holgermannle.csv\n",
      "✅ Success: data/csv_dup_rows/20250222_051428_holgermannle.csv\n",
      "💾 Saved updated accounts list\n"
     ]
    },
    {
     "name": "stderr",
     "output_type": "stream",
     "text": [
      "100%|██████████| 72/72 [00:00<00:00, 15107.80it/s]\n"
     ]
    },
    {
     "name": "stdout",
     "output_type": "stream",
     "text": [
      "Imported Zeeschuimer Data. Saved export to data/csv_dup_rows/20250222_051428_bestphal.csv\n",
      "✅ Success: data/csv_dup_rows/20250222_051428_bestphal.csv\n",
      "💾 Saved updated accounts list\n"
     ]
    },
    {
     "name": "stderr",
     "output_type": "stream",
     "text": [
      "100%|██████████| 815/815 [00:00<00:00, 21317.17it/s]\n"
     ]
    },
    {
     "name": "stdout",
     "output_type": "stream",
     "text": [
      "Imported Zeeschuimer Data. Saved export to data/csv_dup_rows/20250222_051429_dirk.spaniel.csv\n",
      "✅ Success: data/csv_dup_rows/20250222_051429_dirk.spaniel.csv\n",
      "💾 Saved updated accounts list\n"
     ]
    },
    {
     "name": "stderr",
     "output_type": "stream",
     "text": [
      "100%|██████████| 120/120 [00:00<00:00, 15126.87it/s]"
     ]
    },
    {
     "name": "stdout",
     "output_type": "stream",
     "text": [
      "Imported Zeeschuimer Data. Saved export to data/csv_dup_rows/20250222_051432_peggy.ist.da.csv\n",
      "✅ Success: data/csv_dup_rows/20250222_051432_peggy.ist.da.csv\n",
      "💾 Saved updated accounts list\n"
     ]
    },
    {
     "name": "stderr",
     "output_type": "stream",
     "text": [
      "\n",
      "100%|██████████| 1596/1596 [00:00<00:00, 17738.10it/s]\n"
     ]
    },
    {
     "name": "stdout",
     "output_type": "stream",
     "text": [
      "Imported Zeeschuimer Data. Saved export to data/csv_dup_rows/20250222_051432_zanda.martens.csv\n",
      "✅ Success: data/csv_dup_rows/20250222_051432_zanda.martens.csv\n",
      "💾 Saved updated accounts list\n"
     ]
    },
    {
     "name": "stderr",
     "output_type": "stream",
     "text": [
      "100%|██████████| 561/561 [00:00<00:00, 23565.63it/s]\n"
     ]
    },
    {
     "name": "stdout",
     "output_type": "stream",
     "text": [
      "Imported Zeeschuimer Data. Saved export to data/csv_dup_rows/20250222_051434_armingrau.mdb.csv\n",
      "✅ Success: data/csv_dup_rows/20250222_051434_armingrau.mdb.csv\n",
      "💾 Saved updated accounts list\n"
     ]
    },
    {
     "name": "stderr",
     "output_type": "stream",
     "text": [
      "100%|██████████| 577/577 [00:00<00:00, 20600.57it/s]\n"
     ]
    },
    {
     "name": "stdout",
     "output_type": "stream",
     "text": [
      "Imported Zeeschuimer Data. Saved export to data/csv_dup_rows/20250222_051434_gabriela_heinrich.csv\n",
      "✅ Success: data/csv_dup_rows/20250222_051434_gabriela_heinrich.csv\n",
      "💾 Saved updated accounts list\n"
     ]
    },
    {
     "name": "stderr",
     "output_type": "stream",
     "text": [
      "100%|██████████| 1343/1343 [00:00<00:00, 16706.66it/s]\n"
     ]
    },
    {
     "name": "stdout",
     "output_type": "stream",
     "text": [
      "Imported Zeeschuimer Data. Saved export to data/csv_dup_rows/20250222_051434_markus.reichel.cdu.csv\n",
      "✅ Success: data/csv_dup_rows/20250222_051434_markus.reichel.cdu.csv\n",
      "💾 Saved updated accounts list\n"
     ]
    },
    {
     "name": "stderr",
     "output_type": "stream",
     "text": [
      "100%|██████████| 243/243 [00:00<00:00, 22281.35it/s]\n"
     ]
    },
    {
     "name": "stdout",
     "output_type": "stream",
     "text": [
      "Imported Zeeschuimer Data. Saved export to data/csv_dup_rows/20250222_051435_mathias.middelberg.csv\n",
      "✅ Success: data/csv_dup_rows/20250222_051435_mathias.middelberg.csv\n",
      "💾 Saved updated accounts list\n"
     ]
    },
    {
     "name": "stderr",
     "output_type": "stream",
     "text": [
      "100%|██████████| 315/315 [00:00<00:00, 46667.58it/s]\n"
     ]
    },
    {
     "name": "stdout",
     "output_type": "stream",
     "text": [
      "Imported Zeeschuimer Data. Saved export to data/csv_dup_rows/20250222_051435_crueffer_mdb.csv\n",
      "✅ Success: data/csv_dup_rows/20250222_051435_crueffer_mdb.csv\n",
      "💾 Saved updated accounts list\n"
     ]
    },
    {
     "name": "stderr",
     "output_type": "stream",
     "text": [
      "100%|██████████| 227/227 [00:00<00:00, 9113.16it/s]\n"
     ]
    },
    {
     "name": "stdout",
     "output_type": "stream",
     "text": [
      "Imported Zeeschuimer Data. Saved export to data/csv_dup_rows/20250222_051435_anja_schulz_liberal.csv\n",
      "✅ Success: data/csv_dup_rows/20250222_051435_anja_schulz_liberal.csv\n",
      "💾 Saved updated accounts list\n"
     ]
    },
    {
     "name": "stderr",
     "output_type": "stream",
     "text": [
      "100%|██████████| 510/510 [00:00<00:00, 30773.03it/s]\n"
     ]
    },
    {
     "name": "stdout",
     "output_type": "stream",
     "text": [
      "Imported Zeeschuimer Data. Saved export to data/csv_dup_rows/20250222_051436_riexingerbernd.csv\n",
      "✅ Success: data/csv_dup_rows/20250222_051436_riexingerbernd.csv\n",
      "💾 Saved updated accounts list\n"
     ]
    },
    {
     "name": "stderr",
     "output_type": "stream",
     "text": [
      "100%|██████████| 933/933 [00:00<00:00, 29771.28it/s]\n"
     ]
    },
    {
     "name": "stdout",
     "output_type": "stream",
     "text": [
      "Imported Zeeschuimer Data. Saved export to data/csv_dup_rows/20250222_051436_angelikaglockner.csv\n",
      "✅ Success: data/csv_dup_rows/20250222_051436_angelikaglockner.csv\n",
      "💾 Saved updated accounts list\n"
     ]
    },
    {
     "name": "stderr",
     "output_type": "stream",
     "text": [
      "100%|██████████| 935/935 [00:00<00:00, 23817.96it/s]\n"
     ]
    },
    {
     "name": "stdout",
     "output_type": "stream",
     "text": [
      "Imported Zeeschuimer Data. Saved export to data/csv_dup_rows/20250222_051436_franziskakersten.csv\n",
      "✅ Success: data/csv_dup_rows/20250222_051436_franziskakersten.csv\n",
      "💾 Saved updated accounts list\n"
     ]
    },
    {
     "name": "stderr",
     "output_type": "stream",
     "text": [
      "100%|██████████| 528/528 [00:00<00:00, 15543.18it/s]\n"
     ]
    },
    {
     "name": "stdout",
     "output_type": "stream",
     "text": [
      "Imported Zeeschuimer Data. Saved export to data/csv_dup_rows/20250222_051437_dr.bettina.hoffmann.csv\n",
      "✅ Success: data/csv_dup_rows/20250222_051437_dr.bettina.hoffmann.csv\n",
      "💾 Saved updated accounts list\n"
     ]
    },
    {
     "name": "stderr",
     "output_type": "stream",
     "text": [
      "100%|██████████| 737/737 [00:00<00:00, 17885.28it/s]\n"
     ]
    },
    {
     "name": "stdout",
     "output_type": "stream",
     "text": [
      "Imported Zeeschuimer Data. Saved export to data/csv_dup_rows/20250222_051437_mendedirkulrich.csv\n",
      "✅ Success: data/csv_dup_rows/20250222_051437_mendedirkulrich.csv\n",
      "💾 Saved updated accounts list\n"
     ]
    },
    {
     "name": "stderr",
     "output_type": "stream",
     "text": [
      "100%|██████████| 319/319 [00:00<00:00, 15432.33it/s]\n"
     ]
    },
    {
     "name": "stdout",
     "output_type": "stream",
     "text": [
      "Imported Zeeschuimer Data. Saved export to data/csv_dup_rows/20250222_051438_fabianfunke.spd.csv\n",
      "✅ Success: data/csv_dup_rows/20250222_051438_fabianfunke.spd.csv\n",
      "💾 Saved updated accounts list\n"
     ]
    },
    {
     "name": "stderr",
     "output_type": "stream",
     "text": [
      "100%|██████████| 568/568 [00:00<00:00, 23763.53it/s]\n"
     ]
    },
    {
     "name": "stdout",
     "output_type": "stream",
     "text": [
      "Imported Zeeschuimer Data. Saved export to data/csv_dup_rows/20250222_051438_ninascheer_spd.csv\n",
      "✅ Success: data/csv_dup_rows/20250222_051438_ninascheer_spd.csv\n",
      "💾 Saved updated accounts list\n"
     ]
    },
    {
     "name": "stderr",
     "output_type": "stream",
     "text": [
      "100%|██████████| 1139/1139 [00:00<00:00, 9375.55it/s]\n"
     ]
    },
    {
     "name": "stdout",
     "output_type": "stream",
     "text": [
      "Imported Zeeschuimer Data. Saved export to data/csv_dup_rows/20250222_051438_stefan_zierke.csv\n",
      "✅ Success: data/csv_dup_rows/20250222_051438_stefan_zierke.csv\n",
      "💾 Saved updated accounts list\n"
     ]
    },
    {
     "name": "stderr",
     "output_type": "stream",
     "text": [
      "100%|██████████| 456/456 [00:00<00:00, 13895.69it/s]\n"
     ]
    },
    {
     "name": "stdout",
     "output_type": "stream",
     "text": [
      "Imported Zeeschuimer Data. Saved export to data/csv_dup_rows/20250222_051439_katrinuhlig.bn.csv\n",
      "✅ Success: data/csv_dup_rows/20250222_051439_katrinuhlig.bn.csv\n",
      "💾 Saved updated accounts list\n"
     ]
    },
    {
     "name": "stderr",
     "output_type": "stream",
     "text": [
      "100%|██████████| 1147/1147 [00:00<00:00, 32412.78it/s]\n"
     ]
    },
    {
     "name": "stdout",
     "output_type": "stream",
     "text": [
      "Imported Zeeschuimer Data. Saved export to data/csv_dup_rows/20250222_051440_drchristinabaum.csv\n",
      "✅ Success: data/csv_dup_rows/20250222_051440_drchristinabaum.csv\n",
      "💾 Saved updated accounts list\n"
     ]
    },
    {
     "name": "stderr",
     "output_type": "stream",
     "text": [
      "100%|██████████| 185/185 [00:00<00:00, 16543.29it/s]"
     ]
    },
    {
     "name": "stdout",
     "output_type": "stream",
     "text": [
      "Imported Zeeschuimer Data. Saved export to data/csv_dup_rows/20250222_051440_wolfgangstrengmannkuhn.csv\n",
      "✅ Success: data/csv_dup_rows/20250222_051440_wolfgangstrengmannkuhn.csv\n",
      "💾 Saved updated accounts list\n"
     ]
    },
    {
     "name": "stderr",
     "output_type": "stream",
     "text": [
      "\n",
      "100%|██████████| 1093/1093 [00:00<00:00, 5873.76it/s]\n"
     ]
    },
    {
     "name": "stdout",
     "output_type": "stream",
     "text": [
      "Imported Zeeschuimer Data. Saved export to data/csv_dup_rows/20250222_051441_rosemannm.csv\n",
      "✅ Success: data/csv_dup_rows/20250222_051441_rosemannm.csv\n",
      "💾 Saved updated accounts list\n"
     ]
    },
    {
     "name": "stderr",
     "output_type": "stream",
     "text": [
      "100%|██████████| 782/782 [00:00<00:00, 21735.60it/s]\n"
     ]
    },
    {
     "name": "stdout",
     "output_type": "stream",
     "text": [
      "Imported Zeeschuimer Data. Saved export to data/csv_dup_rows/20250222_051442_gerrithuy.afd.csv\n",
      "✅ Success: data/csv_dup_rows/20250222_051442_gerrithuy.afd.csv\n",
      "💾 Saved updated accounts list\n"
     ]
    },
    {
     "name": "stderr",
     "output_type": "stream",
     "text": [
      "100%|██████████| 1202/1202 [00:00<00:00, 31849.50it/s]\n"
     ]
    },
    {
     "name": "stdout",
     "output_type": "stream",
     "text": [
      "Imported Zeeschuimer Data. Saved export to data/csv_dup_rows/20250222_051442_beate_mdb.csv\n",
      "✅ Success: data/csv_dup_rows/20250222_051442_beate_mdb.csv\n",
      "💾 Saved updated accounts list\n"
     ]
    },
    {
     "name": "stderr",
     "output_type": "stream",
     "text": [
      "100%|██████████| 519/519 [00:00<00:00, 23916.89it/s]\n"
     ]
    },
    {
     "name": "stdout",
     "output_type": "stream",
     "text": [
      "Imported Zeeschuimer Data. Saved export to data/csv_dup_rows/20250222_051443_wiebkepapenbrock.csv\n",
      "✅ Success: data/csv_dup_rows/20250222_051443_wiebkepapenbrock.csv\n",
      "💾 Saved updated accounts list\n"
     ]
    },
    {
     "name": "stderr",
     "output_type": "stream",
     "text": [
      "100%|██████████| 32/32 [00:00<00:00, 24767.99it/s]\n"
     ]
    },
    {
     "name": "stdout",
     "output_type": "stream",
     "text": [
      "Imported Zeeschuimer Data. Saved export to data/csv_dup_rows/20250222_051443_markus.herbrand.csv\n",
      "✅ Success: data/csv_dup_rows/20250222_051443_markus.herbrand.csv\n",
      "💾 Saved updated accounts list\n"
     ]
    },
    {
     "name": "stderr",
     "output_type": "stream",
     "text": [
      "100%|██████████| 1348/1348 [00:00<00:00, 25027.43it/s]\n"
     ]
    },
    {
     "name": "stdout",
     "output_type": "stream",
     "text": [
      "Imported Zeeschuimer Data. Saved export to data/csv_dup_rows/20250222_051443_christianhirtemdb.csv\n",
      "✅ Success: data/csv_dup_rows/20250222_051443_christianhirtemdb.csv\n",
      "💾 Saved updated accounts list\n",
      "⚠️ Skipping row 537: Missing Export_Path or IG_handle\n",
      "⚠️ Skipping row 538: Missing Export_Path or IG_handle\n",
      "⚠️ Skipping row 539: Missing Export_Path or IG_handle\n",
      "⚠️ Skipping row 540: Missing Export_Path or IG_handle\n",
      "⚠️ Skipping row 541: Missing Export_Path or IG_handle\n",
      "⚠️ Skipping row 542: Missing Export_Path or IG_handle\n",
      "⚠️ Skipping row 543: Missing Export_Path or IG_handle\n",
      "⚠️ Skipping row 544: Missing Export_Path or IG_handle\n",
      "⚠️ Skipping row 545: Missing Export_Path or IG_handle\n",
      "⚠️ Skipping row 546: Missing Export_Path or IG_handle\n",
      "⚠️ Skipping row 547: Missing Export_Path or IG_handle\n",
      "⚠️ Skipping row 548: Missing Export_Path or IG_handle\n",
      "⚠️ Skipping row 549: Missing Export_Path or IG_handle\n",
      "⚠️ Skipping row 550: Missing Export_Path or IG_handle\n",
      "⚠️ Skipping row 551: Missing Export_Path or IG_handle\n",
      "⚠️ Skipping row 552: Missing Export_Path or IG_handle\n",
      "⚠️ Skipping row 553: Missing Export_Path or IG_handle\n",
      "⚠️ Skipping row 554: Missing Export_Path or IG_handle\n",
      "⚠️ Skipping row 555: Missing Export_Path or IG_handle\n",
      "⚠️ Skipping row 556: Missing Export_Path or IG_handle\n",
      "⚠️ Skipping row 557: Missing Export_Path or IG_handle\n",
      "⚠️ Skipping row 558: Missing Export_Path or IG_handle\n",
      "⚠️ Skipping row 559: Missing Export_Path or IG_handle\n",
      "⚠️ Skipping row 560: Missing Export_Path or IG_handle\n",
      "⚠️ Skipping row 561: Missing Export_Path or IG_handle\n",
      "⚠️ Skipping row 562: Missing Export_Path or IG_handle\n",
      "⚠️ Skipping row 563: Missing Export_Path or IG_handle\n",
      "⚠️ Skipping row 564: Missing Export_Path or IG_handle\n",
      "⚠️ Skipping row 565: Missing Export_Path or IG_handle\n",
      "⚠️ Skipping row 566: Missing Export_Path or IG_handle\n",
      "⚠️ Skipping row 567: Missing Export_Path or IG_handle\n",
      "⚠️ Skipping row 568: Missing Export_Path or IG_handle\n",
      "⚠️ Skipping row 569: Missing Export_Path or IG_handle\n",
      "⚠️ Skipping row 570: Missing Export_Path or IG_handle\n",
      "⚠️ Skipping row 571: Missing Export_Path or IG_handle\n",
      "⚠️ Skipping row 572: Missing Export_Path or IG_handle\n",
      "⚠️ Skipping row 573: Missing Export_Path or IG_handle\n",
      "⚠️ Skipping row 574: Missing Export_Path or IG_handle\n",
      "⚠️ Skipping row 575: Missing Export_Path or IG_handle\n",
      "⚠️ Skipping row 576: Missing Export_Path or IG_handle\n",
      "⚠️ Skipping row 577: Missing Export_Path or IG_handle\n",
      "⚠️ Skipping row 578: Missing Export_Path or IG_handle\n",
      "⚠️ Skipping row 579: Missing Export_Path or IG_handle\n",
      "⚠️ Skipping row 580: Missing Export_Path or IG_handle\n",
      "⚠️ Skipping row 581: Missing Export_Path or IG_handle\n",
      "⚠️ Skipping row 582: Missing Export_Path or IG_handle\n",
      "⚠️ Skipping row 583: Missing Export_Path or IG_handle\n",
      "⚠️ Skipping row 584: Missing Export_Path or IG_handle\n",
      "⚠️ Skipping row 585: Missing Export_Path or IG_handle\n",
      "⚠️ Skipping row 586: Missing Export_Path or IG_handle\n",
      "⚠️ Skipping row 587: Missing Export_Path or IG_handle\n",
      "⚠️ Skipping row 588: Missing Export_Path or IG_handle\n",
      "⚠️ Skipping row 589: Missing Export_Path or IG_handle\n",
      "⚠️ Skipping row 590: Missing Export_Path or IG_handle\n",
      "⚠️ Skipping row 591: Missing Export_Path or IG_handle\n",
      "⚠️ Skipping row 592: Missing Export_Path or IG_handle\n",
      "⚠️ Skipping row 593: Missing Export_Path or IG_handle\n",
      "⚠️ Skipping row 594: Missing Export_Path or IG_handle\n",
      "⚠️ Skipping row 595: Missing Export_Path or IG_handle\n",
      "⚠️ Skipping row 596: Missing Export_Path or IG_handle\n",
      "⚠️ Skipping row 597: Missing Export_Path or IG_handle\n",
      "⚠️ Skipping row 598: Missing Export_Path or IG_handle\n",
      "⚠️ Skipping row 599: Missing Export_Path or IG_handle\n",
      "⚠️ Skipping row 600: Missing Export_Path or IG_handle\n",
      "⚠️ Skipping row 601: Missing Export_Path or IG_handle\n",
      "⚠️ Skipping row 602: Missing Export_Path or IG_handle\n",
      "⚠️ Skipping row 603: Missing Export_Path or IG_handle\n",
      "⚠️ Skipping row 604: Missing Export_Path or IG_handle\n",
      "⚠️ Skipping row 605: Missing Export_Path or IG_handle\n",
      "⚠️ Skipping row 606: Missing Export_Path or IG_handle\n",
      "⚠️ Skipping row 607: Missing Export_Path or IG_handle\n",
      "⚠️ Skipping row 608: Missing Export_Path or IG_handle\n",
      "⚠️ Skipping row 609: Missing Export_Path or IG_handle\n",
      "⚠️ Skipping row 610: Missing Export_Path or IG_handle\n",
      "⚠️ Skipping row 611: Missing Export_Path or IG_handle\n",
      "⚠️ Skipping row 612: Missing Export_Path or IG_handle\n",
      "⚠️ Skipping row 613: Missing Export_Path or IG_handle\n",
      "⚠️ Skipping row 614: Missing Export_Path or IG_handle\n",
      "⚠️ Skipping row 615: Missing Export_Path or IG_handle\n",
      "⚠️ Skipping row 616: Missing Export_Path or IG_handle\n",
      "⚠️ Skipping row 617: Missing Export_Path or IG_handle\n",
      "⚠️ Skipping row 618: Missing Export_Path or IG_handle\n",
      "⚠️ Skipping row 619: Missing Export_Path or IG_handle\n",
      "⚠️ Skipping row 620: Missing Export_Path or IG_handle\n",
      "⚠️ Skipping row 621: Missing Export_Path or IG_handle\n",
      "⚠️ Skipping row 622: Missing Export_Path or IG_handle\n",
      "⚠️ Skipping row 623: Missing Export_Path or IG_handle\n",
      "⚠️ Skipping row 624: Missing Export_Path or IG_handle\n",
      "⚠️ Skipping row 625: Missing Export_Path or IG_handle\n",
      "⚠️ Skipping row 626: Missing Export_Path or IG_handle\n",
      "⚠️ Skipping row 627: Missing Export_Path or IG_handle\n",
      "⚠️ Skipping row 628: Missing Export_Path or IG_handle\n",
      "⚠️ Skipping row 629: Missing Export_Path or IG_handle\n",
      "⚠️ Skipping row 630: Missing Export_Path or IG_handle\n",
      "⚠️ Skipping row 631: Missing Export_Path or IG_handle\n",
      "⚠️ Skipping row 632: Missing Export_Path or IG_handle\n",
      "⚠️ Skipping row 633: Missing Export_Path or IG_handle\n",
      "⚠️ Skipping row 634: Missing Export_Path or IG_handle\n",
      "⚠️ Skipping row 635: Missing Export_Path or IG_handle\n",
      "⚠️ Skipping row 636: Missing Export_Path or IG_handle\n",
      "⚠️ Skipping row 637: Missing Export_Path or IG_handle\n",
      "⚠️ Skipping row 638: Missing Export_Path or IG_handle\n",
      "⚠️ Skipping row 639: Missing Export_Path or IG_handle\n",
      "⚠️ Skipping row 640: Missing Export_Path or IG_handle\n",
      "⚠️ Skipping row 641: Missing Export_Path or IG_handle\n",
      "⚠️ Skipping row 642: Missing Export_Path or IG_handle\n",
      "⚠️ Skipping row 643: Missing Export_Path or IG_handle\n",
      "⚠️ Skipping row 644: Missing Export_Path or IG_handle\n",
      "⚠️ Skipping row 645: Missing Export_Path or IG_handle\n",
      "⚠️ Skipping row 646: Missing Export_Path or IG_handle\n",
      "⚠️ Skipping row 647: Missing Export_Path or IG_handle\n",
      "⚠️ Skipping row 648: Missing Export_Path or IG_handle\n",
      "⚠️ Skipping row 649: Missing Export_Path or IG_handle\n",
      "⚠️ Skipping row 650: Missing Export_Path or IG_handle\n",
      "⚠️ Skipping row 651: Missing Export_Path or IG_handle\n",
      "⚠️ Skipping row 652: Missing Export_Path or IG_handle\n",
      "⚠️ Skipping row 653: Missing Export_Path or IG_handle\n",
      "⚠️ Skipping row 654: Missing Export_Path or IG_handle\n",
      "⚠️ Skipping row 655: Missing Export_Path or IG_handle\n",
      "⚠️ Skipping row 656: Missing Export_Path or IG_handle\n",
      "⚠️ Skipping row 657: Missing Export_Path or IG_handle\n",
      "⚠️ Skipping row 658: Missing Export_Path or IG_handle\n",
      "⚠️ Skipping row 659: Missing Export_Path or IG_handle\n",
      "⚠️ Skipping row 660: Missing Export_Path or IG_handle\n",
      "⚠️ Skipping row 661: Missing Export_Path or IG_handle\n",
      "⚠️ Skipping row 662: Missing Export_Path or IG_handle\n",
      "⚠️ Skipping row 663: Missing Export_Path or IG_handle\n",
      "⚠️ Skipping row 664: Missing Export_Path or IG_handle\n",
      "⚠️ Skipping row 665: Missing Export_Path or IG_handle\n",
      "⚠️ Skipping row 666: Missing Export_Path or IG_handle\n",
      "⚠️ Skipping row 667: Missing Export_Path or IG_handle\n",
      "⚠️ Skipping row 668: Missing Export_Path or IG_handle\n",
      "⚠️ Skipping row 669: Missing Export_Path or IG_handle\n",
      "⚠️ Skipping row 670: Missing Export_Path or IG_handle\n",
      "⚠️ Skipping row 671: Missing Export_Path or IG_handle\n",
      "⚠️ Skipping row 672: Missing Export_Path or IG_handle\n",
      "⚠️ Skipping row 673: Missing Export_Path or IG_handle\n",
      "⚠️ Skipping row 674: Missing Export_Path or IG_handle\n",
      "⚠️ Skipping row 675: Missing Export_Path or IG_handle\n",
      "⚠️ Skipping row 676: Missing Export_Path or IG_handle\n",
      "⚠️ Skipping row 677: Missing Export_Path or IG_handle\n",
      "⚠️ Skipping row 678: Missing Export_Path or IG_handle\n",
      "⚠️ Skipping row 679: Missing Export_Path or IG_handle\n",
      "⚠️ Skipping row 680: Missing Export_Path or IG_handle\n",
      "⚠️ Skipping row 681: Missing Export_Path or IG_handle\n",
      "⚠️ Skipping row 682: Missing Export_Path or IG_handle\n",
      "⚠️ Skipping row 683: Missing Export_Path or IG_handle\n",
      "⚠️ Skipping row 684: Missing Export_Path or IG_handle\n",
      "⚠️ Skipping row 685: Missing Export_Path or IG_handle\n",
      "⚠️ Skipping row 686: Missing Export_Path or IG_handle\n",
      "⚠️ Skipping row 687: Missing Export_Path or IG_handle\n",
      "⚠️ Skipping row 688: Missing Export_Path or IG_handle\n",
      "⚠️ Skipping row 689: Missing Export_Path or IG_handle\n",
      "⚠️ Skipping row 690: Missing Export_Path or IG_handle\n",
      "⚠️ Skipping row 691: Missing Export_Path or IG_handle\n",
      "⚠️ Skipping row 692: Missing Export_Path or IG_handle\n",
      "⚠️ Skipping row 693: Missing Export_Path or IG_handle\n",
      "⚠️ Skipping row 694: Missing Export_Path or IG_handle\n",
      "⚠️ Skipping row 695: Missing Export_Path or IG_handle\n",
      "⚠️ Skipping row 696: Missing Export_Path or IG_handle\n",
      "⚠️ Skipping row 697: Missing Export_Path or IG_handle\n",
      "⚠️ Skipping row 698: Missing Export_Path or IG_handle\n",
      "⚠️ Skipping row 699: Missing Export_Path or IG_handle\n",
      "⚠️ Skipping row 700: Missing Export_Path or IG_handle\n",
      "⚠️ Skipping row 701: Missing Export_Path or IG_handle\n",
      "⚠️ Skipping row 702: Missing Export_Path or IG_handle\n",
      "⚠️ Skipping row 703: Missing Export_Path or IG_handle\n",
      "⚠️ Skipping row 704: Missing Export_Path or IG_handle\n",
      "⚠️ Skipping row 705: Missing Export_Path or IG_handle\n",
      "⚠️ Skipping row 706: Missing Export_Path or IG_handle\n",
      "⚠️ Skipping row 707: Missing Export_Path or IG_handle\n",
      "⚠️ Skipping row 708: Missing Export_Path or IG_handle\n",
      "⚠️ Skipping row 709: Missing Export_Path or IG_handle\n",
      "⚠️ Skipping row 710: Missing Export_Path or IG_handle\n",
      "⚠️ Skipping row 711: Missing Export_Path or IG_handle\n",
      "⚠️ Skipping row 712: Missing Export_Path or IG_handle\n",
      "⚠️ Skipping row 713: Missing Export_Path or IG_handle\n",
      "⚠️ Skipping row 714: Missing Export_Path or IG_handle\n",
      "⚠️ Skipping row 715: Missing Export_Path or IG_handle\n",
      "⚠️ Skipping row 716: Missing Export_Path or IG_handle\n",
      "⚠️ Skipping row 717: Missing Export_Path or IG_handle\n",
      "⚠️ Skipping row 718: Missing Export_Path or IG_handle\n",
      "⚠️ Skipping row 719: Missing Export_Path or IG_handle\n",
      "⚠️ Skipping row 720: Missing Export_Path or IG_handle\n",
      "⚠️ Skipping row 721: Missing Export_Path or IG_handle\n",
      "⚠️ Skipping row 722: Missing Export_Path or IG_handle\n",
      "⚠️ Skipping row 723: Missing Export_Path or IG_handle\n",
      "⚠️ Skipping row 724: Missing Export_Path or IG_handle\n",
      "⚠️ Skipping row 725: Missing Export_Path or IG_handle\n",
      "⚠️ Skipping row 726: Missing Export_Path or IG_handle\n",
      "⚠️ Skipping row 727: Missing Export_Path or IG_handle\n",
      "⚠️ Skipping row 728: Missing Export_Path or IG_handle\n",
      "⚠️ Skipping row 729: Missing Export_Path or IG_handle\n",
      "⚠️ Skipping row 730: Missing Export_Path or IG_handle\n",
      "⚠️ Skipping row 731: Missing Export_Path or IG_handle\n",
      "⚠️ Skipping row 732: Missing Export_Path or IG_handle\n",
      "⚠️ Skipping row 733: Missing Export_Path or IG_handle\n",
      "⚠️ Skipping row 734: Missing Export_Path or IG_handle\n",
      "⚠️ Skipping row 735: Missing Export_Path or IG_handle\n",
      "⚠️ Skipping row 736: Missing Export_Path or IG_handle\n",
      "⚠️ Skipping row 737: Missing Export_Path or IG_handle\n",
      "⚠️ Skipping row 738: Missing Export_Path or IG_handle\n",
      "⚠️ Skipping row 739: Missing Export_Path or IG_handle\n",
      "⚠️ Skipping row 740: Missing Export_Path or IG_handle\n",
      "⚠️ Skipping row 741: Missing Export_Path or IG_handle\n",
      "⚠️ Skipping row 742: Missing Export_Path or IG_handle\n",
      "⚠️ Skipping row 743: Missing Export_Path or IG_handle\n",
      "⚠️ Skipping row 744: Missing Export_Path or IG_handle\n",
      "⚠️ Skipping row 745: Missing Export_Path or IG_handle\n",
      "⚠️ Skipping row 746: Missing Export_Path or IG_handle\n",
      "⚠️ Skipping row 747: Missing Export_Path or IG_handle\n",
      "⚠️ Skipping row 748: Missing Export_Path or IG_handle\n",
      "⚠️ Skipping row 749: Missing Export_Path or IG_handle\n"
     ]
    }
   ],
   "source": [
    "convert_all_ndjson_to_csv(accounts_df)"
   ]
  },
  {
   "cell_type": "markdown",
   "metadata": {},
   "source": [
    "# Deduplicate all CSVs while keeping all unique infos"
   ]
  },
  {
   "cell_type": "code",
   "execution_count": 11,
   "metadata": {},
   "outputs": [],
   "source": [
    "import os"
   ]
  },
  {
   "cell_type": "code",
   "execution_count": 12,
   "metadata": {},
   "outputs": [],
   "source": [
    "# def finish_csvs_and_create_global():\n",
    "#     accounts_with_csvs = pd.read_csv(\"data/csv_dup_rows/accounts_dup_rows.csv\")\n",
    "\n",
    "#     global_posts_path = \"data/global_posts.csv\"\n",
    "\n",
    "#     global_posts_df = pd.DataFrame()\n",
    "\n",
    "#     if os.path.exists(global_posts_path):\n",
    "#         global_posts_df = pd.read_csv(global_posts_path)\n",
    "\n",
    "\n",
    "#     for idx, row in accounts_with_csvs.iterrows():\n",
    "#         handle = row[\"IG_handle\"]\n",
    "#         timestamp = datetime.now().strftime(\"%Y%m%d_%H%M%S\")\n",
    "#         export_filename = f\"data/post_csvs/{timestamp}_{handle}.csv\"   \n",
    "        \n",
    "        \n",
    "#         csv_path = row[\"CSV_Path\"]\n",
    "#         post_df = pd.read_csv(csv_path)\n",
    "#         agg_rules = {col: \"first\" for col in post_df.columns}\n",
    "#         agg_rules[\"image_url\"] = list   \n",
    "#         agg_rules[\"media_url\"] = list\n",
    "#         post_df = post_df.groupby(\"id\", as_index=False).agg(agg_rules)\n",
    "\n",
    "#         post_df.to_csv(export_filename, index=False)\n",
    "#         accounts_with_csvs.at[idx, \"CSV_Path\"] = export_filename\n",
    "#         accounts_with_csvs.to_csv(\"data/accounts_analysis.csv\", index=False)\n",
    "#         print(f\"Deduplicated and stored to {export_filename}\")\n",
    "\n",
    "#         global_posts_df = pd.concat([global_posts_df, post_df], ignore_index=True)\n",
    "#         global_posts_df.to_csv(global_posts_path, index=False)\n",
    "#         print(f\"Appended {export_filename} to global posts\")\n",
    "    \n",
    "    \n",
    "#     print(f\"All deduplications done and all post file paths saved to data/post_csvs/... \\nAll posts stored in global file {global_posts_path}\")\n",
    "    \n",
    "\n",
    "        \n",
    "    "
   ]
  },
  {
   "cell_type": "code",
   "execution_count": 14,
   "metadata": {},
   "outputs": [],
   "source": [
    "def finish_csvs_and_create_global():\n",
    "    accounts_with_csvs = pd.read_csv(\"data/csv_dup_rows/accounts_dup_rows.csv\")\n",
    "    global_posts_path = \"data/global_posts.csv\"\n",
    "    \n",
    "    # Initialize or load global posts\n",
    "    global_posts_df = pd.read_csv(global_posts_path) if Path(global_posts_path).exists() else pd.DataFrame()\n",
    "\n",
    "    for idx, row in accounts_with_csvs.iterrows():\n",
    "        try:\n",
    "            # Validate required fields\n",
    "            if pd.isna(row.get(\"CSV_Path\")) or pd.isna(row.get(\"IG_handle\")):\n",
    "                print(f\"⚠️ Skipping row {idx}: Missing CSV_Path or IG_handle\")\n",
    "                continue\n",
    "                \n",
    "            csv_path = row[\"CSV_Path\"]\n",
    "            handle = row[\"IG_handle\"]\n",
    "\n",
    "            # Validate path exists and is CSV\n",
    "            if not isinstance(csv_path, str) or not csv_path.endswith('.csv'):\n",
    "                print(f\"🔄 Invalid path format for {handle}: {csv_path}\")\n",
    "                continue\n",
    "                \n",
    "            if not Path(csv_path).exists():\n",
    "                print(f\"📂 Missing CSV for {handle} at {csv_path}\")\n",
    "                continue\n",
    "\n",
    "            # Read with validation\n",
    "            try:\n",
    "                post_df = pd.read_csv(csv_path)\n",
    "                if post_df.empty:\n",
    "                    print(f\"📭 Empty CSV for {handle}\")\n",
    "                    continue\n",
    "            except Exception as e:\n",
    "                print(f\"📖 Read error for {handle}: {str(e)}\")\n",
    "                continue\n",
    "\n",
    "            # Safe aggregation\n",
    "            try:\n",
    "                agg_rules = {col: \"first\" for col in post_df.columns}\n",
    "                agg_rules.update({\"image_url\": list, \"media_url\": list})\n",
    "                post_df = post_df.groupby(\"id\", as_index=False).agg(agg_rules)\n",
    "            except KeyError as ke:\n",
    "                print(f\"🔑 Missing column {str(ke)} in {handle}\")\n",
    "                continue\n",
    "\n",
    "            # Generate new path\n",
    "            timestamp = datetime.now().strftime(\"%Y%m%d_%H%M%S\")\n",
    "            export_filename = f\"data/post_csvs/{timestamp}_{handle.strip()}.csv\"\n",
    "            \n",
    "            # Save processed file\n",
    "            post_df.to_csv(export_filename, index=False)\n",
    "            accounts_with_csvs.at[idx, \"CSV_Path\"] = export_filename\n",
    "            \n",
    "            # Update global dataset\n",
    "            global_posts_df = pd.concat([global_posts_df, post_df], ignore_index=True)\n",
    "            print(f\"✅ Processed {handle}\")\n",
    "\n",
    "        except Exception as e:\n",
    "            print(f\"🔥 Critical error with {handle}: {str(e)}\")\n",
    "            traceback.print_exc()\n",
    "\n",
    "    # Save outputs only if successful\n",
    "    global_posts_df.to_csv(global_posts_path, index=False)\n",
    "    accounts_with_csvs.to_csv(\"data/accounts_analysis.csv\", index=False)\n",
    "    print(f\"🏁 Finalized global dataset with {len(global_posts_df)} posts\")"
   ]
  },
  {
   "cell_type": "code",
   "execution_count": 15,
   "metadata": {},
   "outputs": [
    {
     "name": "stdout",
     "output_type": "stream",
     "text": [
      "✅ Processed bundeskanzler\n",
      "✅ Processed abaerbock\n",
      "✅ Processed minister.habeck\n",
      "✅ Processed dorobaer\n",
      "⚠️ Skipping row 4: Missing CSV_Path or IG_handle\n",
      "⚠️ Skipping row 5: Missing CSV_Path or IG_handle\n",
      "⚠️ Skipping row 6: Missing CSV_Path or IG_handle\n",
      "✅ Processed karl_lauterbach_mdb\n",
      "⚠️ Skipping row 8: Missing CSV_Path or IG_handle\n",
      "⚠️ Skipping row 9: Missing CSV_Path or IG_handle\n",
      "✅ Processed sahra_wagenknecht\n",
      "⚠️ Skipping row 11: Missing CSV_Path or IG_handle\n",
      "⚠️ Skipping row 12: Missing CSV_Path or IG_handle\n",
      "✅ Processed amtsbergluise\n",
      "✅ Processed olafscholz\n",
      "⚠️ Skipping row 15: Missing CSV_Path or IG_handle\n",
      "✅ Processed robert.habeck\n",
      "✅ Processed rogerbeckamp\n",
      "✅ Processed gregorgysi\n",
      "⚠️ Skipping row 19: Missing CSV_Path or IG_handle\n",
      "✅ Processed saskiaesken\n",
      "⚠️ Skipping row 21: Missing CSV_Path or IG_handle\n",
      "⚠️ Skipping row 22: Missing CSV_Path or IG_handle\n",
      "⚠️ Skipping row 23: Missing CSV_Path or IG_handle\n",
      "✅ Processed cem.oezdemir\n",
      "✅ Processed ralph_brinkhaus\n",
      "⚠️ Skipping row 26: Missing CSV_Path or IG_handle\n",
      "⚠️ Skipping row 27: Missing CSV_Path or IG_handle\n",
      "⚠️ Skipping row 28: Missing CSV_Path or IG_handle\n",
      "✅ Processed bundestagspraesidentin\n",
      "✅ Processed philipp.amthor\n",
      "✅ Processed braunhelge\n",
      "✅ Processed kuehnikev\n",
      "✅ Processed ricardalang\n",
      "✅ Processed markus_frohnmaier\n",
      "✅ Processed heidireichinnek\n",
      "✅ Processed larsklingbeil\n",
      "✅ Processed armin_laschet\n",
      "✅ Processed beatrix.von.storch\n",
      "⚠️ Skipping row 39: Missing CSV_Path or IG_handle\n",
      "✅ Processed claudiaroth_official\n",
      "✅ Processed juliakloeckner\n",
      "✅ Processed max_lks\n",
      "✅ Processed carsten_linnemann\n",
      "✅ Processed norbert_roettgen\n",
      "✅ Processed emilyvontz\n",
      "✅ Processed nouripour\n",
      "✅ Processed toni_hofreiter\n",
      "✅ Processed rasha_nasr\n",
      "✅ Processed martinsichert\n",
      "✅ Processed paulziemiak\n",
      "✅ Processed _svenlehmann_\n",
      "✅ Processed hubertus_heil\n",
      "✅ Processed emiliafester\n",
      "✅ Processed volkerwissing\n",
      "✅ Processed janine_wissler\n",
      "✅ Processed goeringeckardt\n",
      "✅ Processed clara.buenger\n",
      "✅ Processed konstantin.kuhle\n",
      "✅ Processed j_pahlke\n",
      "✅ Processed hoechstnicole\n",
      "✅ Processed armand_zorn\n",
      "✅ Processed tilmankuban_\n",
      "✅ Processed michael.roth.mdb\n",
      "✅ Processed sebastian.muenzenmaier.afd\n",
      "✅ Processed tessa_ganserer\n",
      "✅ Processed caren.lay\n",
      "✅ Processed jamila_anna\n",
      "✅ Processed nykeslawik\n",
      "✅ Processed johannesvogel\n",
      "✅ Processed lindateuteberg\n",
      "✅ Processed bijan_djirsarai_\n",
      "✅ Processed yeone_rhie\n",
      "✅ Processed bettina.starkwatzinger\n",
      "✅ Processed riaschrdr\n",
      "✅ Processed lars.rohwer.politik\n",
      "✅ Processed michellemuentefering\n",
      "✅ Processed bruno.hoenel\n",
      "✅ Processed lisa.paus\n",
      "✅ Processed konstantinnotz\n",
      "✅ Processed jessi_rosenthal\n",
      "✅ Processed martin.reichardt.afd\n",
      "✅ Processed zoe.gruene\n",
      "✅ Processed siemtje_moeller\n",
      "✅ Processed deryatuerknachbaur\n",
      "✅ Processed silvia_breher\n",
      "✅ Processed bundestagsperli\n",
      "✅ Processed jankorte77\n",
      "✅ Processed carmenwegge\n",
      "✅ Processed lemke.steffi\n",
      "✅ Processed thorsten.frei\n",
      "✅ Processed hannes4future\n",
      "✅ Processed olliluksic\n",
      "✅ Processed goetzfroemming\n",
      "✅ Processed hakandemirnk\n",
      "✅ Processed verenahubertz\n",
      "✅ Processed sgueler\n",
      "✅ Processed matthiasmiersch\n",
      "✅ Processed christianduerr\n",
      "✅ Processed aydanoezoguz\n",
      "✅ Processed nicole_ae_bauer\n",
      "✅ Processed heikeheubachspd\n",
      "✅ Processed johannes.steiniger\n",
      "✅ Processed kai.gehring\n",
      "✅ Processed joanacotar\n",
      "✅ Processed christophplossmdb\n",
      "✅ Processed kassem.tahersaleh\n",
      "✅ Processed helgelindh\n",
      "✅ Processed michaelmueller.berlin\n",
      "✅ Processed sevim_dagdelen_\n",
      "✅ Processed josephineortleb\n",
      "✅ Processed mi.kellner\n",
      "✅ Processed svenja.schulze.nrw\n",
      "✅ Processed dirk_heidenblut\n",
      "✅ Processed martinarenner_linke\n",
      "✅ Processed mario_czaja\n",
      "✅ Processed stumpp_christina\n",
      "✅ Processed lamyakaddor\n",
      "✅ Processed dfoest\n",
      "✅ Processed jensteutrine\n",
      "✅ Processed marc_bernhard\n",
      "✅ Processed thomas.ehrhorn\n",
      "✅ Processed johannes.schraps\n",
      "✅ Processed tim.kluessendorf\n",
      "✅ Processed britta.hasselmann\n",
      "✅ Processed takis_ma2021\n",
      "✅ Processed badumlisa\n",
      "✅ Processed agnieszka_mdb\n",
      "✅ Processed malte.kaufmann\n",
      "✅ Processed natalie.pawlik\n",
      "✅ Processed dirkwiesespd\n",
      "✅ Processed lime_green_leni\n",
      "✅ Processed larscastellucci\n",
      "✅ Processed daniludwigmdb\n",
      "✅ Processed renatekuenast\n",
      "✅ Processed matthiashelferichafd\n",
      "✅ Processed annikloseberlin\n",
      "✅ Processed schoenunterwegs\n",
      "✅ Processed marjavoellers\n",
      "✅ Processed awettesfaiesus\n",
      "✅ Processed hannesgnauck\n",
      "✅ Processed jasminahostert\n",
      "✅ Processed jandieren\n",
      "✅ Processed j.saathoff\n",
      "✅ Processed roderich_kiesewetter\n",
      "✅ Processed maja_wallstein\n",
      "✅ Processed susanne_hennig_wellsow\n",
      "✅ Processed nicolegohlke.mdb\n",
      "✅ Processed ulle_schauws\n",
      "✅ Processed anja.karliczek\n",
      "✅ Processed stephan.protschka.mdb\n",
      "✅ Processed martinhess.afd\n",
      "✅ Processed lenibreymaier\n",
      "✅ Processed atesgurpinar\n",
      "✅ Processed thomasbareiss\n",
      "✅ Processed andreasjung.kn\n",
      "✅ Processed andreas.lenz.bundestag\n",
      "✅ Processed sepp.mueller_mdb\n",
      "✅ Processed reinhard.brandl\n",
      "✅ Processed annaluehrmann\n",
      "✅ Processed schneidercar_spd\n",
      "✅ Processed katja.leikert\n",
      "✅ Processed tobias.lindner.mdb\n",
      "✅ Processed gerohocker\n",
      "✅ Processed silkelaunert\n",
      "✅ Processed soerenpellmann\n",
      "✅ Processed nielsannen\n",
      "✅ Processed amira.mohamedali.offiziell\n",
      "✅ Processed ronjakemmer\n",
      "✅ Processed falko.drossmann\n",
      "✅ Processed macit.spd\n",
      "✅ Processed matthiasseesternpauly\n",
      "✅ Processed kai_whittaker\n",
      "✅ Processed melis_sekmen\n",
      "✅ Processed paula.piechotta\n",
      "✅ Processed andreasaudretsch\n",
      "✅ Processed yvonne_magwas\n",
      "✅ Processed zaklinnastic\n",
      "✅ Processed kay.gottschalk.mdb.111\n",
      "✅ Processed otto_fricke\n",
      "✅ Processed frank.schwabe\n",
      "✅ Processed merle_spellerberg\n",
      "✅ Processed bstrasser\n",
      "✅ Processed emmi_zeulner\n",
      "📖 Read error for janaschimke: No columns to parse from file\n",
      "✅ Processed anjaweisgerber\n",
      "✅ Processed thereallenzii\n",
      "✅ Processed annakassautzki\n",
      "✅ Processed felixschreiner\n",
      "📖 Read error for jensbeeck: No columns to parse from file\n",
      "✅ Processed filiz.polat.mdb\n",
      "✅ Processed marc.biadacz\n",
      "✅ Processed jakob.blankenburg\n",
      "✅ Processed koehler_fdp\n",
      "✅ Processed dietmarbartschmv\n",
      "✅ Processed hendrikhoppenstedt\n",
      "✅ Processed michaeldonthmdb\n",
      "✅ Processed ca.konrad\n",
      "✅ Processed pascalkober\n",
      "✅ Processed kirstenkappertgonther\n",
      "✅ Processed erikvonmalottki\n",
      "✅ Processed debbie.duering\n",
      "✅ Processed kerstingriese\n",
      "✅ Processed gastelmatthias\n",
      "✅ Processed gesine.loetzsch\n",
      "✅ Processed franziskakrumwiede\n",
      "✅ Processed schahinag\n",
      "✅ Processed marcusfaberfdp\n",
      "✅ Processed katja.mast.politik\n",
      "✅ Processed michael_frieser\n",
      "📭 Empty CSV for pschnieder\n",
      "✅ Processed doering.felix\n",
      "✅ Processed ralph_edelhaeusser\n",
      "✅ Processed johannes_arlt\n",
      "✅ Processed fabian.gramling\n",
      "✅ Processed martindiedenhofen\n",
      "✅ Processed thomas__gebhart\n",
      "✅ Processed stegner_smiles\n",
      "✅ Processed catarinadossantos_mdb\n",
      "✅ Processed thomas_heilmann\n",
      "✅ Processed matthiasmieves\n",
      "✅ Processed norbert.kleinwaechter\n",
      "✅ Processed kathrin.henneberger\n",
      "✅ Processed sebastianbrehmmdb\n",
      "✅ Processed hahnflo\n",
      "✅ Processed doromartin_hamburg\n",
      "✅ Processed jens.brandenburg\n",
      "✅ Processed claudia_moll_\n",
      "✅ Processed volkermayerlay\n",
      "✅ Processed jan.metzler\n",
      "✅ Processed ottilie.klein\n",
      "✅ Processed soeren.bartol\n",
      "✅ Processed tbbacherle\n",
      "✅ Processed 0711max\n",
      "✅ Processed max_fksr\n",
      "✅ Processed tobiaspeterkamdb\n",
      "✅ Processed wolfgangstefinger\n",
      "✅ Processed steffen.bilger\n",
      "✅ Processed nina.warken\n",
      "✅ Processed kristine_lutke\n",
      "✅ Processed oezdemir.spd\n",
      "✅ Processed saslearaq\n",
      "✅ Processed isacademartori\n",
      "✅ Processed mareikelottewulf\n",
      "✅ Processed ariane_faescher\n",
      "✅ Processed carolin.bachmann\n",
      "✅ Processed volkerullrich\n",
      "✅ Processed esralimbacher\n",
      "✅ Processed christoph.devries.mdb\n",
      "✅ Processed benner_lukas\n",
      "✅ Processed albert.stegemann\n",
      "✅ Processed springer_rene\n",
      "✅ Processed f_schaeffler\n",
      "✅ Processed floriantoncar\n",
      "✅ Processed sanae_ccaa\n",
      "✅ Processed maximilianmordhorst\n",
      "✅ Processed chantalkopf\n",
      "✅ Processed pete_aum\n",
      "✅ Processed albrecht.glaser\n",
      "✅ Processed katharina.beck\n",
      "✅ Processed stephan.pilsinger\n",
      "✅ Processed jenszspd\n",
      "✅ Processed philipphartewig\n",
      "✅ Processed irene.mihalic\n",
      "✅ Processed daniela_kluckert\n",
      "✅ Processed adomscheitberg\n",
      "✅ Processed car.los.kasper\n",
      "✅ Processed ophelianick\n",
      "✅ Processed baldy.daniel\n",
      "✅ Processed lieblingxhain\n",
      "✅ Processed wiebkeesdar\n",
      "✅ Processed hanna_steinmueller\n",
      "✅ Processed elisabeth_kaiser_th\n",
      "✅ Processed annekoenig_\n",
      "✅ Processed svenja.stadler\n",
      "✅ Processed mario.brandenburg\n",
      "✅ Processed ekin_deligoez\n",
      "✅ Processed nadja_sthamer\n",
      "✅ Processed guelistan.yueksel\n",
      "✅ Processed dieterstier_mdb\n",
      "✅ Processed stefangelbhaar\n",
      "✅ Processed jessica_tatti\n",
      "✅ Processed manuelosna\n",
      "✅ Processed g.akbulut_mdb\n",
      "✅ Processed sarah.ryglewski\n",
      "✅ Processed frank.ullrich.biathlon\n",
      "✅ Processed hanspeter.friedrich\n",
      "✅ Processed michael.kruse.75\n",
      "✅ Processed aschenbergdugnus\n",
      "✅ Processed steffenkotre\n",
      "✅ Processed christmannanna\n",
      "✅ Processed sandra_weeser\n",
      "✅ Processed svenchristiankindler\n",
      "✅ Processed janni_gesenhues\n",
      "✅ Processed metin.hakverdi\n",
      "✅ Processed dieterjanecek\n",
      "✅ Processed petra.pau.direkt\n",
      "✅ Processed markusuhlmdb\n",
      "✅ Processed j_verlinden\n",
      "✅ Processed franziskahoppermann.cdu\n",
      "✅ Processed juergenhardt_mdb\n",
      "✅ Processed robin_wagener\n",
      "✅ Processed florian_ossner\n",
      "✅ Processed matthias.hauer.mdb\n",
      "✅ Processed peterbeyerbundestag\n",
      "✅ Processed klauspeterwillsch\n",
      "✅ Processed helgelimburg\n",
      "✅ Processed stuttgartstefan\n",
      "✅ Processed lina_seitzl\n",
      "✅ Processed sandra_detzer\n",
      "✅ Processed erhard.grundl\n",
      "✅ Processed fiedelseb\n",
      "✅ Processed thomas_rachel_mdb\n",
      "✅ Processed thomashitschler\n",
      "✅ Processed tabearoessner\n",
      "✅ Processed nicotippelt\n",
      "✅ Processed katrinstaffler.mdb\n",
      "✅ Processed stefan.seidler.ssw\n",
      "✅ Processed n_zippelius\n",
      "✅ Processed nicole.westig\n",
      "✅ Processed hacker_thomas\n",
      "✅ Processed klein.karsten\n",
      "✅ Processed andreas.schwarz.mdb\n",
      "✅ Processed dr.christos.pantazis\n",
      "✅ Processed leckert_\n",
      "✅ Processed sonjaeichwede\n",
      "✅ Processed pboehringer\n",
      "✅ Processed stephanthomae\n",
      "✅ Processed ingobodtke\n",
      "✅ Processed olivervogt.de\n",
      "✅ Processed frank.junge\n",
      "✅ Processed irlstorfer.mdb\n",
      "✅ Processed edgar.franke1\n",
      "✅ Processed herr_emmerich\n",
      "✅ Processed fguentzler\n",
      "✅ Processed misbah.s.khan\n",
      "✅ Processed peter_felser\n",
      "✅ Processed baerbelkofler\n",
      "✅ Processed andrea.lindholz\n",
      "✅ Processed nezahatbaradari\n",
      "✅ Processed karo_otte\n",
      "✅ Processed _klausmack_\n",
      "✅ Processed bernharddaldrup\n",
      "✅ Processed ullmannmdb\n",
      "✅ Processed bundesbartz\n",
      "✅ Processed stein.mathias\n",
      "✅ Processed florianmuellercdu\n",
      "✅ Processed dr_espendiller\n",
      "✅ Processed eugen_schmidt_mdb\n",
      "✅ Processed fechnerjohannes\n",
      "✅ Processed danielschneidercuxhaven\n",
      "✅ Processed alexmuellerfdp\n",
      "✅ Processed isabelmackensen\n",
      "✅ Processed jenslehmann.leipzig\n",
      "✅ Processed reutherbernd\n",
      "✅ Processed thomaserndl\n",
      "✅ Processed renataalt_mdb\n",
      "✅ Processed rixsoenke\n",
      "✅ Processed yannickbury\n",
      "✅ Processed alexander.hoffmannmdb\n",
      "✅ Processed till_steffen\n",
      "✅ Processed dennis_rohde\n",
      "✅ Processed hermann.groehe\n",
      "✅ Processed michaelgrossebroemer\n",
      "✅ Processed huberthueppe\n",
      "✅ Processed jowadephul\n",
      "✅ Processed arturauernhammer\n",
      "✅ Processed aniko_teamwunderkerze\n",
      "✅ Processed katrinhellingplahr\n",
      "✅ Processed michaelschrodi\n",
      "✅ Processed seb_roloff\n",
      "✅ Processed katjakeul\n",
      "✅ Processed anne_janssen_26\n",
      "✅ Processed georgkippels\n",
      "✅ Processed josef_oster\n",
      "✅ Processed leyechristian\n",
      "✅ Processed philip.kraemer\n",
      "✅ Processed achim_p\n",
      "✅ Processed susanneferschl\n",
      "✅ Processed nilsgruender\n",
      "✅ Processed alexthrom\n",
      "✅ Processed widmannmauz\n",
      "✅ Processed saranannni\n",
      "✅ Processed henningrehbaum\n",
      "✅ Processed danielrinkert\n",
      "✅ Processed ingo.gaedechens\n",
      "✅ Processed englhardtkopf\n",
      "✅ Processed denise.loop\n",
      "✅ Processed karlheinz.busen\n",
      "✅ Processed rischwasu\n",
      "✅ Processed simone.borchardt\n",
      "✅ Processed kerstinvieregge\n",
      "✅ Processed reinhardhouben\n",
      "✅ Processed juergencosse\n",
      "✅ Processed volkmarklein\n",
      "✅ Processed swantjemichaelsen\n",
      "✅ Processed mechthild_heil\n",
      "✅ Processed claudiatausend\n",
      "✅ Processed chris_schreider\n",
      "✅ Processed mariana_harder_kuehnel\n",
      "✅ Processed bengtbergt\n",
      "✅ Processed bettina_lugk\n",
      "✅ Processed andreas.larem\n",
      "✅ Processed marlonbroehr\n",
      "✅ Processed dunjakreiser\n",
      "✅ Processed stueweru\n",
      "✅ Processed sebastianhartmann.spd\n",
      "✅ Processed ankehennig_bramsche\n",
      "✅ Processed bubendorfer\n",
      "✅ Processed muellerrosentritt\n",
      "✅ Processed henningotte_mdb\n",
      "✅ Processed gruenclaudia\n",
      "✅ Processed tina.rudolph.spd\n",
      "✅ Processed mechthilde.wittmann\n",
      "✅ Processed christoph.hoffmann.mdb\n",
      "✅ Processed poschmannsabine\n",
      "✅ Processed cijay_schroeder\n",
      "✅ Processed holmleiferik\n",
      "✅ Processed estherdilcher\n",
      "✅ Processed niklaswagener\n",
      "✅ Processed mensch_brand\n",
      "✅ Processed tillmansmann\n",
      "✅ Processed michaelthews\n",
      "✅ Processed hesselkatja\n",
      "✅ Processed erwin_rueddel\n",
      "✅ Processed manuelhoeferlin\n",
      "✅ Processed advocatopeter\n",
      "✅ Processed ulrich.lange.mdb\n",
      "✅ Processed dr.daniela.deridder\n",
      "✅ Processed carolinwagner.in\n",
      "✅ Processed katj_ad\n",
      "✅ Processed dr._peter_ramsauer\n",
      "✅ Processed martina.stammfibich.mdb\n",
      "✅ Processed stephanmayercsu\n",
      "✅ Processed kaczmarekoliver\n",
      "✅ Processed muellerchemnitz\n",
      "✅ Processed boris.mijatovic\n",
      "✅ Processed karl.baer\n",
      "✅ Processed stephanie_aeffner\n",
      "✅ Processed mbreilmann\n",
      "✅ Processed judithskudelny\n",
      "✅ Processed paul.lehrieder\n",
      "✅ Processed der_geissler\n",
      "✅ Processed valentin_christian_abel\n",
      "✅ Processed andreas_mattfeldt\n",
      "✅ Processed lennardoehl\n",
      "✅ Processed linda.altona\n",
      "✅ Processed parsa.marvi\n",
      "✅ Processed heike.engelhardt\n",
      "✅ Processed michael.kiessling.mdb\n",
      "✅ Processed kevinleiserhohenlohe\n",
      "✅ Processed rimkusandreas\n",
      "✅ Processed jenspeick\n",
      "✅ Processed marialenaweiss\n",
      "✅ Processed ulrichlechte\n",
      "✅ Processed christianhaasemdb\n",
      "✅ Processed dietmar_nietan\n",
      "✅ Processed dr.christian_wirth_mdb\n",
      "✅ Processed guenterkrings\n",
      "✅ Processed heikebaehrens\n",
      "✅ Processed christiane_schenderlein\n",
      "✅ Processed jm_luczak\n",
      "✅ Processed karstenhilse\n",
      "✅ Processed tinosorge\n",
      "✅ Processed frauke_heiligenstadt\n",
      "✅ Processed anjareinalter\n",
      "✅ Processed rebecca.schamber.spd\n",
      "✅ Processed mdb.ulrike.bahr\n",
      "✅ Processed gerald.ullrich\n",
      "✅ Processed andreasbleckmdb\n",
      "✅ Processed renebochmannafdmdb\n",
      "✅ Processed timo.schisanowski\n",
      "✅ Processed briannickholz\n",
      "✅ Processed olavgutting\n",
      "✅ Processed christianpetrymdb\n",
      "✅ Processed gabrielekatzmarek.spd\n",
      "✅ Processed bernd_ruetzel\n",
      "⚠️ Skipping row 477: Missing CSV_Path or IG_handle\n",
      "✅ Processed alexander.foehr\n",
      "✅ Processed dielinkekathrin\n",
      "✅ Processed marc_henrichmann\n",
      "✅ Processed janosch.dahmen\n",
      "✅ Processed dirk_brandes\n",
      "✅ Processed inge.graessle\n",
      "✅ Processed haglkehl\n",
      "✅ Processed saschamueller_mdb\n",
      "✅ Processed nicolaisenpetra\n",
      "✅ Processed stefanheck82\n",
      "✅ Processed lehmannspd\n",
      "✅ Processed konradstockmeier\n",
      "✅ Processed mariakleinschmeink\n",
      "✅ Processed meyer_fdp\n",
      "✅ Processed bmwiesmann\n",
      "✅ Processed axelknoerig\n",
      "✅ Processed juergen.braun.mdb\n",
      "✅ Processed mtodtenh\n",
      "✅ Processed tina_winklmann\n",
      "✅ Processed ingo.schaefer.nrw\n",
      "✅ Processed nils.schmid.spd\n",
      "✅ Processed gruenebeate\n",
      "✅ Processed dieschmidt\n",
      "✅ Processed avjurisch\n",
      "✅ Processed frank.rinck\n",
      "✅ Processed uwekekeritz\n",
      "✅ Processed markushuempfer\n",
      "✅ Processed uweschmidt.mdb\n",
      "✅ Processed alois.rainer.mdb\n",
      "✅ Processed thlieb\n",
      "✅ Processed holgermannle\n",
      "✅ Processed bestphal\n",
      "✅ Processed dirk.spaniel\n",
      "✅ Processed peggy.ist.da\n",
      "✅ Processed zanda.martens\n",
      "✅ Processed armingrau.mdb\n",
      "✅ Processed gabriela_heinrich\n",
      "✅ Processed markus.reichel.cdu\n",
      "✅ Processed mathias.middelberg\n",
      "✅ Processed crueffer_mdb\n",
      "✅ Processed anja_schulz_liberal\n",
      "✅ Processed riexingerbernd\n",
      "✅ Processed angelikaglockner\n",
      "✅ Processed franziskakersten\n",
      "✅ Processed dr.bettina.hoffmann\n",
      "✅ Processed mendedirkulrich\n",
      "✅ Processed fabianfunke.spd\n",
      "✅ Processed ninascheer_spd\n",
      "✅ Processed stefan_zierke\n",
      "✅ Processed katrinuhlig.bn\n",
      "✅ Processed drchristinabaum\n",
      "✅ Processed wolfgangstrengmannkuhn\n",
      "✅ Processed rosemannm\n",
      "✅ Processed gerrithuy.afd\n",
      "✅ Processed beate_mdb\n",
      "✅ Processed wiebkepapenbrock\n",
      "✅ Processed markus.herbrand\n",
      "✅ Processed christianhirtemdb\n",
      "⚠️ Skipping row 536: Missing CSV_Path or IG_handle\n",
      "⚠️ Skipping row 537: Missing CSV_Path or IG_handle\n",
      "⚠️ Skipping row 538: Missing CSV_Path or IG_handle\n",
      "⚠️ Skipping row 539: Missing CSV_Path or IG_handle\n",
      "⚠️ Skipping row 540: Missing CSV_Path or IG_handle\n",
      "⚠️ Skipping row 541: Missing CSV_Path or IG_handle\n",
      "⚠️ Skipping row 542: Missing CSV_Path or IG_handle\n",
      "⚠️ Skipping row 543: Missing CSV_Path or IG_handle\n",
      "⚠️ Skipping row 544: Missing CSV_Path or IG_handle\n",
      "⚠️ Skipping row 545: Missing CSV_Path or IG_handle\n",
      "⚠️ Skipping row 546: Missing CSV_Path or IG_handle\n",
      "⚠️ Skipping row 547: Missing CSV_Path or IG_handle\n",
      "⚠️ Skipping row 548: Missing CSV_Path or IG_handle\n",
      "⚠️ Skipping row 549: Missing CSV_Path or IG_handle\n",
      "⚠️ Skipping row 550: Missing CSV_Path or IG_handle\n",
      "⚠️ Skipping row 551: Missing CSV_Path or IG_handle\n",
      "⚠️ Skipping row 552: Missing CSV_Path or IG_handle\n",
      "⚠️ Skipping row 553: Missing CSV_Path or IG_handle\n",
      "⚠️ Skipping row 554: Missing CSV_Path or IG_handle\n",
      "⚠️ Skipping row 555: Missing CSV_Path or IG_handle\n",
      "⚠️ Skipping row 556: Missing CSV_Path or IG_handle\n",
      "⚠️ Skipping row 557: Missing CSV_Path or IG_handle\n",
      "⚠️ Skipping row 558: Missing CSV_Path or IG_handle\n",
      "⚠️ Skipping row 559: Missing CSV_Path or IG_handle\n",
      "⚠️ Skipping row 560: Missing CSV_Path or IG_handle\n",
      "⚠️ Skipping row 561: Missing CSV_Path or IG_handle\n",
      "⚠️ Skipping row 562: Missing CSV_Path or IG_handle\n",
      "⚠️ Skipping row 563: Missing CSV_Path or IG_handle\n",
      "⚠️ Skipping row 564: Missing CSV_Path or IG_handle\n",
      "⚠️ Skipping row 565: Missing CSV_Path or IG_handle\n",
      "⚠️ Skipping row 566: Missing CSV_Path or IG_handle\n",
      "⚠️ Skipping row 567: Missing CSV_Path or IG_handle\n",
      "⚠️ Skipping row 568: Missing CSV_Path or IG_handle\n",
      "⚠️ Skipping row 569: Missing CSV_Path or IG_handle\n",
      "⚠️ Skipping row 570: Missing CSV_Path or IG_handle\n",
      "⚠️ Skipping row 571: Missing CSV_Path or IG_handle\n",
      "⚠️ Skipping row 572: Missing CSV_Path or IG_handle\n",
      "⚠️ Skipping row 573: Missing CSV_Path or IG_handle\n",
      "⚠️ Skipping row 574: Missing CSV_Path or IG_handle\n",
      "⚠️ Skipping row 575: Missing CSV_Path or IG_handle\n",
      "⚠️ Skipping row 576: Missing CSV_Path or IG_handle\n",
      "⚠️ Skipping row 577: Missing CSV_Path or IG_handle\n",
      "⚠️ Skipping row 578: Missing CSV_Path or IG_handle\n",
      "⚠️ Skipping row 579: Missing CSV_Path or IG_handle\n",
      "⚠️ Skipping row 580: Missing CSV_Path or IG_handle\n",
      "⚠️ Skipping row 581: Missing CSV_Path or IG_handle\n",
      "⚠️ Skipping row 582: Missing CSV_Path or IG_handle\n",
      "⚠️ Skipping row 583: Missing CSV_Path or IG_handle\n",
      "⚠️ Skipping row 584: Missing CSV_Path or IG_handle\n",
      "⚠️ Skipping row 585: Missing CSV_Path or IG_handle\n",
      "⚠️ Skipping row 586: Missing CSV_Path or IG_handle\n",
      "⚠️ Skipping row 587: Missing CSV_Path or IG_handle\n",
      "⚠️ Skipping row 588: Missing CSV_Path or IG_handle\n",
      "⚠️ Skipping row 589: Missing CSV_Path or IG_handle\n",
      "⚠️ Skipping row 590: Missing CSV_Path or IG_handle\n",
      "⚠️ Skipping row 591: Missing CSV_Path or IG_handle\n",
      "⚠️ Skipping row 592: Missing CSV_Path or IG_handle\n",
      "⚠️ Skipping row 593: Missing CSV_Path or IG_handle\n",
      "⚠️ Skipping row 594: Missing CSV_Path or IG_handle\n",
      "⚠️ Skipping row 595: Missing CSV_Path or IG_handle\n",
      "⚠️ Skipping row 596: Missing CSV_Path or IG_handle\n",
      "⚠️ Skipping row 597: Missing CSV_Path or IG_handle\n",
      "⚠️ Skipping row 598: Missing CSV_Path or IG_handle\n",
      "⚠️ Skipping row 599: Missing CSV_Path or IG_handle\n",
      "⚠️ Skipping row 600: Missing CSV_Path or IG_handle\n",
      "⚠️ Skipping row 601: Missing CSV_Path or IG_handle\n",
      "⚠️ Skipping row 602: Missing CSV_Path or IG_handle\n",
      "⚠️ Skipping row 603: Missing CSV_Path or IG_handle\n",
      "⚠️ Skipping row 604: Missing CSV_Path or IG_handle\n",
      "⚠️ Skipping row 605: Missing CSV_Path or IG_handle\n",
      "⚠️ Skipping row 606: Missing CSV_Path or IG_handle\n",
      "⚠️ Skipping row 607: Missing CSV_Path or IG_handle\n",
      "⚠️ Skipping row 608: Missing CSV_Path or IG_handle\n",
      "⚠️ Skipping row 609: Missing CSV_Path or IG_handle\n",
      "⚠️ Skipping row 610: Missing CSV_Path or IG_handle\n",
      "⚠️ Skipping row 611: Missing CSV_Path or IG_handle\n",
      "⚠️ Skipping row 612: Missing CSV_Path or IG_handle\n",
      "⚠️ Skipping row 613: Missing CSV_Path or IG_handle\n",
      "⚠️ Skipping row 614: Missing CSV_Path or IG_handle\n",
      "⚠️ Skipping row 615: Missing CSV_Path or IG_handle\n",
      "⚠️ Skipping row 616: Missing CSV_Path or IG_handle\n",
      "⚠️ Skipping row 617: Missing CSV_Path or IG_handle\n",
      "⚠️ Skipping row 618: Missing CSV_Path or IG_handle\n",
      "⚠️ Skipping row 619: Missing CSV_Path or IG_handle\n",
      "⚠️ Skipping row 620: Missing CSV_Path or IG_handle\n",
      "⚠️ Skipping row 621: Missing CSV_Path or IG_handle\n",
      "⚠️ Skipping row 622: Missing CSV_Path or IG_handle\n",
      "⚠️ Skipping row 623: Missing CSV_Path or IG_handle\n",
      "⚠️ Skipping row 624: Missing CSV_Path or IG_handle\n",
      "⚠️ Skipping row 625: Missing CSV_Path or IG_handle\n",
      "⚠️ Skipping row 626: Missing CSV_Path or IG_handle\n",
      "⚠️ Skipping row 627: Missing CSV_Path or IG_handle\n",
      "⚠️ Skipping row 628: Missing CSV_Path or IG_handle\n",
      "⚠️ Skipping row 629: Missing CSV_Path or IG_handle\n",
      "⚠️ Skipping row 630: Missing CSV_Path or IG_handle\n",
      "⚠️ Skipping row 631: Missing CSV_Path or IG_handle\n",
      "⚠️ Skipping row 632: Missing CSV_Path or IG_handle\n",
      "⚠️ Skipping row 633: Missing CSV_Path or IG_handle\n",
      "⚠️ Skipping row 634: Missing CSV_Path or IG_handle\n",
      "⚠️ Skipping row 635: Missing CSV_Path or IG_handle\n",
      "⚠️ Skipping row 636: Missing CSV_Path or IG_handle\n",
      "⚠️ Skipping row 637: Missing CSV_Path or IG_handle\n",
      "⚠️ Skipping row 638: Missing CSV_Path or IG_handle\n",
      "⚠️ Skipping row 639: Missing CSV_Path or IG_handle\n",
      "⚠️ Skipping row 640: Missing CSV_Path or IG_handle\n",
      "⚠️ Skipping row 641: Missing CSV_Path or IG_handle\n",
      "⚠️ Skipping row 642: Missing CSV_Path or IG_handle\n",
      "⚠️ Skipping row 643: Missing CSV_Path or IG_handle\n",
      "⚠️ Skipping row 644: Missing CSV_Path or IG_handle\n",
      "⚠️ Skipping row 645: Missing CSV_Path or IG_handle\n",
      "⚠️ Skipping row 646: Missing CSV_Path or IG_handle\n",
      "⚠️ Skipping row 647: Missing CSV_Path or IG_handle\n",
      "⚠️ Skipping row 648: Missing CSV_Path or IG_handle\n",
      "⚠️ Skipping row 649: Missing CSV_Path or IG_handle\n",
      "⚠️ Skipping row 650: Missing CSV_Path or IG_handle\n",
      "⚠️ Skipping row 651: Missing CSV_Path or IG_handle\n",
      "⚠️ Skipping row 652: Missing CSV_Path or IG_handle\n",
      "⚠️ Skipping row 653: Missing CSV_Path or IG_handle\n",
      "⚠️ Skipping row 654: Missing CSV_Path or IG_handle\n",
      "⚠️ Skipping row 655: Missing CSV_Path or IG_handle\n",
      "⚠️ Skipping row 656: Missing CSV_Path or IG_handle\n",
      "⚠️ Skipping row 657: Missing CSV_Path or IG_handle\n",
      "⚠️ Skipping row 658: Missing CSV_Path or IG_handle\n",
      "⚠️ Skipping row 659: Missing CSV_Path or IG_handle\n",
      "⚠️ Skipping row 660: Missing CSV_Path or IG_handle\n",
      "⚠️ Skipping row 661: Missing CSV_Path or IG_handle\n",
      "⚠️ Skipping row 662: Missing CSV_Path or IG_handle\n",
      "⚠️ Skipping row 663: Missing CSV_Path or IG_handle\n",
      "⚠️ Skipping row 664: Missing CSV_Path or IG_handle\n",
      "⚠️ Skipping row 665: Missing CSV_Path or IG_handle\n",
      "⚠️ Skipping row 666: Missing CSV_Path or IG_handle\n",
      "⚠️ Skipping row 667: Missing CSV_Path or IG_handle\n",
      "⚠️ Skipping row 668: Missing CSV_Path or IG_handle\n",
      "⚠️ Skipping row 669: Missing CSV_Path or IG_handle\n",
      "⚠️ Skipping row 670: Missing CSV_Path or IG_handle\n",
      "⚠️ Skipping row 671: Missing CSV_Path or IG_handle\n",
      "⚠️ Skipping row 672: Missing CSV_Path or IG_handle\n",
      "⚠️ Skipping row 673: Missing CSV_Path or IG_handle\n",
      "⚠️ Skipping row 674: Missing CSV_Path or IG_handle\n",
      "⚠️ Skipping row 675: Missing CSV_Path or IG_handle\n",
      "⚠️ Skipping row 676: Missing CSV_Path or IG_handle\n",
      "⚠️ Skipping row 677: Missing CSV_Path or IG_handle\n",
      "⚠️ Skipping row 678: Missing CSV_Path or IG_handle\n",
      "⚠️ Skipping row 679: Missing CSV_Path or IG_handle\n",
      "⚠️ Skipping row 680: Missing CSV_Path or IG_handle\n",
      "⚠️ Skipping row 681: Missing CSV_Path or IG_handle\n",
      "⚠️ Skipping row 682: Missing CSV_Path or IG_handle\n",
      "⚠️ Skipping row 683: Missing CSV_Path or IG_handle\n",
      "⚠️ Skipping row 684: Missing CSV_Path or IG_handle\n",
      "⚠️ Skipping row 685: Missing CSV_Path or IG_handle\n",
      "⚠️ Skipping row 686: Missing CSV_Path or IG_handle\n",
      "⚠️ Skipping row 687: Missing CSV_Path or IG_handle\n",
      "⚠️ Skipping row 688: Missing CSV_Path or IG_handle\n",
      "⚠️ Skipping row 689: Missing CSV_Path or IG_handle\n",
      "⚠️ Skipping row 690: Missing CSV_Path or IG_handle\n",
      "⚠️ Skipping row 691: Missing CSV_Path or IG_handle\n",
      "⚠️ Skipping row 692: Missing CSV_Path or IG_handle\n",
      "⚠️ Skipping row 693: Missing CSV_Path or IG_handle\n",
      "⚠️ Skipping row 694: Missing CSV_Path or IG_handle\n",
      "⚠️ Skipping row 695: Missing CSV_Path or IG_handle\n",
      "⚠️ Skipping row 696: Missing CSV_Path or IG_handle\n",
      "⚠️ Skipping row 697: Missing CSV_Path or IG_handle\n",
      "⚠️ Skipping row 698: Missing CSV_Path or IG_handle\n",
      "⚠️ Skipping row 699: Missing CSV_Path or IG_handle\n",
      "⚠️ Skipping row 700: Missing CSV_Path or IG_handle\n",
      "⚠️ Skipping row 701: Missing CSV_Path or IG_handle\n",
      "⚠️ Skipping row 702: Missing CSV_Path or IG_handle\n",
      "⚠️ Skipping row 703: Missing CSV_Path or IG_handle\n",
      "⚠️ Skipping row 704: Missing CSV_Path or IG_handle\n",
      "⚠️ Skipping row 705: Missing CSV_Path or IG_handle\n",
      "⚠️ Skipping row 706: Missing CSV_Path or IG_handle\n",
      "⚠️ Skipping row 707: Missing CSV_Path or IG_handle\n",
      "⚠️ Skipping row 708: Missing CSV_Path or IG_handle\n",
      "⚠️ Skipping row 709: Missing CSV_Path or IG_handle\n",
      "⚠️ Skipping row 710: Missing CSV_Path or IG_handle\n",
      "⚠️ Skipping row 711: Missing CSV_Path or IG_handle\n",
      "⚠️ Skipping row 712: Missing CSV_Path or IG_handle\n",
      "⚠️ Skipping row 713: Missing CSV_Path or IG_handle\n",
      "⚠️ Skipping row 714: Missing CSV_Path or IG_handle\n",
      "⚠️ Skipping row 715: Missing CSV_Path or IG_handle\n",
      "⚠️ Skipping row 716: Missing CSV_Path or IG_handle\n",
      "⚠️ Skipping row 717: Missing CSV_Path or IG_handle\n",
      "⚠️ Skipping row 718: Missing CSV_Path or IG_handle\n",
      "⚠️ Skipping row 719: Missing CSV_Path or IG_handle\n",
      "⚠️ Skipping row 720: Missing CSV_Path or IG_handle\n",
      "⚠️ Skipping row 721: Missing CSV_Path or IG_handle\n",
      "⚠️ Skipping row 722: Missing CSV_Path or IG_handle\n",
      "⚠️ Skipping row 723: Missing CSV_Path or IG_handle\n",
      "⚠️ Skipping row 724: Missing CSV_Path or IG_handle\n",
      "⚠️ Skipping row 725: Missing CSV_Path or IG_handle\n",
      "⚠️ Skipping row 726: Missing CSV_Path or IG_handle\n",
      "⚠️ Skipping row 727: Missing CSV_Path or IG_handle\n",
      "⚠️ Skipping row 728: Missing CSV_Path or IG_handle\n",
      "⚠️ Skipping row 729: Missing CSV_Path or IG_handle\n",
      "⚠️ Skipping row 730: Missing CSV_Path or IG_handle\n",
      "⚠️ Skipping row 731: Missing CSV_Path or IG_handle\n",
      "⚠️ Skipping row 732: Missing CSV_Path or IG_handle\n",
      "⚠️ Skipping row 733: Missing CSV_Path or IG_handle\n",
      "⚠️ Skipping row 734: Missing CSV_Path or IG_handle\n",
      "⚠️ Skipping row 735: Missing CSV_Path or IG_handle\n",
      "⚠️ Skipping row 736: Missing CSV_Path or IG_handle\n",
      "⚠️ Skipping row 737: Missing CSV_Path or IG_handle\n",
      "⚠️ Skipping row 738: Missing CSV_Path or IG_handle\n",
      "⚠️ Skipping row 739: Missing CSV_Path or IG_handle\n",
      "⚠️ Skipping row 740: Missing CSV_Path or IG_handle\n",
      "⚠️ Skipping row 741: Missing CSV_Path or IG_handle\n",
      "⚠️ Skipping row 742: Missing CSV_Path or IG_handle\n",
      "⚠️ Skipping row 743: Missing CSV_Path or IG_handle\n",
      "⚠️ Skipping row 744: Missing CSV_Path or IG_handle\n",
      "⚠️ Skipping row 745: Missing CSV_Path or IG_handle\n",
      "⚠️ Skipping row 746: Missing CSV_Path or IG_handle\n",
      "⚠️ Skipping row 747: Missing CSV_Path or IG_handle\n",
      "⚠️ Skipping row 748: Missing CSV_Path or IG_handle\n",
      "🏁 Finalized global dataset with 532882 posts\n"
     ]
    }
   ],
   "source": [
    "finish_csvs_and_create_global()"
   ]
  },
  {
   "cell_type": "code",
   "execution_count": 17,
   "metadata": {},
   "outputs": [
    {
     "name": "stderr",
     "output_type": "stream",
     "text": [
      "/var/folders/dg/8_1dqh0j1sq6n3btfr7g__pc0000gn/T/ipykernel_28488/88907028.py:1: DtypeWarning: Columns (0) have mixed types. Specify dtype option on import or set low_memory=False.\n",
      "  global_posts_df = pd.read_csv(\"data/global_posts.csv\")\n"
     ]
    },
    {
     "data": {
      "text/html": [
       "<div>\n",
       "<style scoped>\n",
       "    .dataframe tbody tr th:only-of-type {\n",
       "        vertical-align: middle;\n",
       "    }\n",
       "\n",
       "    .dataframe tbody tr th {\n",
       "        vertical-align: top;\n",
       "    }\n",
       "\n",
       "    .dataframe thead th {\n",
       "        text-align: right;\n",
       "    }\n",
       "</style>\n",
       "<table border=\"1\" class=\"dataframe\">\n",
       "  <thead>\n",
       "    <tr style=\"text-align: right;\">\n",
       "      <th></th>\n",
       "      <th>Unnamed: 0</th>\n",
       "      <th>id</th>\n",
       "      <th>thread_id</th>\n",
       "      <th>parent_id</th>\n",
       "      <th>body</th>\n",
       "      <th>author</th>\n",
       "      <th>author_fullname</th>\n",
       "      <th>author_avatar_url</th>\n",
       "      <th>timestamp</th>\n",
       "      <th>type</th>\n",
       "      <th>url</th>\n",
       "      <th>image_url</th>\n",
       "      <th>media_url</th>\n",
       "      <th>hashtags</th>\n",
       "      <th>num_likes</th>\n",
       "      <th>num_comments</th>\n",
       "      <th>num_media</th>\n",
       "      <th>location_name</th>\n",
       "      <th>location_latlong</th>\n",
       "      <th>location_city</th>\n",
       "      <th>unix_timestamp</th>\n",
       "      <th>media_n</th>\n",
       "      <th>media_filename</th>\n",
       "    </tr>\n",
       "  </thead>\n",
       "  <tbody>\n",
       "    <tr>\n",
       "      <th>0</th>\n",
       "      <td>452</td>\n",
       "      <td>C--xuvlogWQ</td>\n",
       "      <td>C--xuvlogWQ</td>\n",
       "      <td>C--xuvlogWQ</td>\n",
       "      <td>Wenn jemand in Schwierigkeiten steckt, dann pa...</td>\n",
       "      <td>bundeskanzler</td>\n",
       "      <td>Olaf Scholz</td>\n",
       "      <td>https://scontent-fra3-2.cdninstagram.com/v/t51...</td>\n",
       "      <td>2024-08-22 19:42:13</td>\n",
       "      <td>video</td>\n",
       "      <td>https://www.instagram.com/p/C--xuvlogWQ</td>\n",
       "      <td>['https://scontent-fra5-1.cdninstagram.com/v/t...</td>\n",
       "      <td>['https://scontent-fra3-2.cdninstagram.com/o1/...</td>\n",
       "      <td>MeyerWerft,Papenburg,Werft,Schiffsbau,Bundeska...</td>\n",
       "      <td>3809.0</td>\n",
       "      <td>646.0</td>\n",
       "      <td>1.0</td>\n",
       "      <td>NaN</td>\n",
       "      <td>NaN</td>\n",
       "      <td>NaN</td>\n",
       "      <td>1.724349e+09</td>\n",
       "      <td>0.0</td>\n",
       "      <td>C--xuvlogWQ</td>\n",
       "    </tr>\n",
       "    <tr>\n",
       "      <th>1</th>\n",
       "      <td>469</td>\n",
       "      <td>C-2Z4wfouLq</td>\n",
       "      <td>C-2Z4wfouLq</td>\n",
       "      <td>C-2Z4wfouLq</td>\n",
       "      <td>Zusammenhalt und ein gutes Miteinander – dafür...</td>\n",
       "      <td>bundeskanzler</td>\n",
       "      <td>Olaf Scholz</td>\n",
       "      <td>https://scontent-fra3-2.cdninstagram.com/v/t51...</td>\n",
       "      <td>2024-08-19 13:37:06</td>\n",
       "      <td>mixed</td>\n",
       "      <td>https://www.instagram.com/p/C-2Z4wfouLq</td>\n",
       "      <td>['https://scontent-fra3-2.cdninstagram.com/v/t...</td>\n",
       "      <td>['https://scontent-fra3-2.cdninstagram.com/v/t...</td>\n",
       "      <td>Stoppelmarkt,Vechta,Jahrmarkt,Bundeskanzler,Ka...</td>\n",
       "      <td>7956.0</td>\n",
       "      <td>363.0</td>\n",
       "      <td>7.0</td>\n",
       "      <td>NaN</td>\n",
       "      <td>NaN</td>\n",
       "      <td>NaN</td>\n",
       "      <td>1.724067e+09</td>\n",
       "      <td>0.0</td>\n",
       "      <td>C-2Z4wfouLq_0</td>\n",
       "    </tr>\n",
       "    <tr>\n",
       "      <th>2</th>\n",
       "      <td>464</td>\n",
       "      <td>C-3A9ERomNm</td>\n",
       "      <td>C-3A9ERomNm</td>\n",
       "      <td>C-3A9ERomNm</td>\n",
       "      <td>Aida und Mouhamed sind als Teenager aus Äthiop...</td>\n",
       "      <td>bundeskanzler</td>\n",
       "      <td>Olaf Scholz</td>\n",
       "      <td>https://scontent-fra3-2.cdninstagram.com/v/t51...</td>\n",
       "      <td>2024-08-19 19:18:28</td>\n",
       "      <td>photo</td>\n",
       "      <td>https://www.instagram.com/p/C-3A9ERomNm</td>\n",
       "      <td>['https://scontent-fra5-1.cdninstagram.com/v/t...</td>\n",
       "      <td>['https://scontent-fra5-1.cdninstagram.com/v/t...</td>\n",
       "      <td>Einbürgerung,Einwanderungsgesetz,Bremen,Bundes...</td>\n",
       "      <td>10972.0</td>\n",
       "      <td>611.0</td>\n",
       "      <td>5.0</td>\n",
       "      <td>NaN</td>\n",
       "      <td>NaN</td>\n",
       "      <td>NaN</td>\n",
       "      <td>1.724088e+09</td>\n",
       "      <td>0.0</td>\n",
       "      <td>C-3A9ERomNm_0</td>\n",
       "    </tr>\n",
       "    <tr>\n",
       "      <th>3</th>\n",
       "      <td>463</td>\n",
       "      <td>C-4WayMIhLP</td>\n",
       "      <td>C-4WayMIhLP</td>\n",
       "      <td>C-4WayMIhLP</td>\n",
       "      <td>Kilmerstuten, frisch gezapftes Bier, Karussell...</td>\n",
       "      <td>bundeskanzler</td>\n",
       "      <td>Olaf Scholz</td>\n",
       "      <td>https://scontent-fra3-2.cdninstagram.com/v/t51...</td>\n",
       "      <td>2024-08-20 07:51:16</td>\n",
       "      <td>video</td>\n",
       "      <td>https://www.instagram.com/p/C-4WayMIhLP</td>\n",
       "      <td>['https://scontent-fra3-2.cdninstagram.com/v/t...</td>\n",
       "      <td>['https://scontent-fra3-2.cdninstagram.com/o1/...</td>\n",
       "      <td>Stoppelmarkt,Vechta,Bundeskanzler,Kanzler,Olaf...</td>\n",
       "      <td>6561.0</td>\n",
       "      <td>403.0</td>\n",
       "      <td>1.0</td>\n",
       "      <td>NaN</td>\n",
       "      <td>NaN</td>\n",
       "      <td>NaN</td>\n",
       "      <td>1.724133e+09</td>\n",
       "      <td>0.0</td>\n",
       "      <td>C-4WayMIhLP</td>\n",
       "    </tr>\n",
       "    <tr>\n",
       "      <th>4</th>\n",
       "      <td>459</td>\n",
       "      <td>C-5MEWio9OQ</td>\n",
       "      <td>C-5MEWio9OQ</td>\n",
       "      <td>C-5MEWio9OQ</td>\n",
       "      <td>Schon heute stecken in einem E-Auto mindestens...</td>\n",
       "      <td>bundeskanzler</td>\n",
       "      <td>Olaf Scholz</td>\n",
       "      <td>https://scontent-fra3-2.cdninstagram.com/v/t51...</td>\n",
       "      <td>2024-08-20 15:34:04</td>\n",
       "      <td>mixed</td>\n",
       "      <td>https://www.instagram.com/p/C-5MEWio9OQ</td>\n",
       "      <td>['https://scontent-fra5-1.cdninstagram.com/v/t...</td>\n",
       "      <td>['https://scontent-fra5-1.cdninstagram.com/v/t...</td>\n",
       "      <td>InnovateTogether,TSMC,Halbleiter,Semiconductor...</td>\n",
       "      <td>2843.0</td>\n",
       "      <td>284.0</td>\n",
       "      <td>4.0</td>\n",
       "      <td>NaN</td>\n",
       "      <td>NaN</td>\n",
       "      <td>NaN</td>\n",
       "      <td>1.724161e+09</td>\n",
       "      <td>0.0</td>\n",
       "      <td>C-5MEWio9OQ_0</td>\n",
       "    </tr>\n",
       "  </tbody>\n",
       "</table>\n",
       "</div>"
      ],
      "text/plain": [
       "  Unnamed: 0           id    thread_id    parent_id  \\\n",
       "0        452  C--xuvlogWQ  C--xuvlogWQ  C--xuvlogWQ   \n",
       "1        469  C-2Z4wfouLq  C-2Z4wfouLq  C-2Z4wfouLq   \n",
       "2        464  C-3A9ERomNm  C-3A9ERomNm  C-3A9ERomNm   \n",
       "3        463  C-4WayMIhLP  C-4WayMIhLP  C-4WayMIhLP   \n",
       "4        459  C-5MEWio9OQ  C-5MEWio9OQ  C-5MEWio9OQ   \n",
       "\n",
       "                                                body         author  \\\n",
       "0  Wenn jemand in Schwierigkeiten steckt, dann pa...  bundeskanzler   \n",
       "1  Zusammenhalt und ein gutes Miteinander – dafür...  bundeskanzler   \n",
       "2  Aida und Mouhamed sind als Teenager aus Äthiop...  bundeskanzler   \n",
       "3  Kilmerstuten, frisch gezapftes Bier, Karussell...  bundeskanzler   \n",
       "4  Schon heute stecken in einem E-Auto mindestens...  bundeskanzler   \n",
       "\n",
       "  author_fullname                                  author_avatar_url  \\\n",
       "0     Olaf Scholz  https://scontent-fra3-2.cdninstagram.com/v/t51...   \n",
       "1     Olaf Scholz  https://scontent-fra3-2.cdninstagram.com/v/t51...   \n",
       "2     Olaf Scholz  https://scontent-fra3-2.cdninstagram.com/v/t51...   \n",
       "3     Olaf Scholz  https://scontent-fra3-2.cdninstagram.com/v/t51...   \n",
       "4     Olaf Scholz  https://scontent-fra3-2.cdninstagram.com/v/t51...   \n",
       "\n",
       "             timestamp   type                                      url  \\\n",
       "0  2024-08-22 19:42:13  video  https://www.instagram.com/p/C--xuvlogWQ   \n",
       "1  2024-08-19 13:37:06  mixed  https://www.instagram.com/p/C-2Z4wfouLq   \n",
       "2  2024-08-19 19:18:28  photo  https://www.instagram.com/p/C-3A9ERomNm   \n",
       "3  2024-08-20 07:51:16  video  https://www.instagram.com/p/C-4WayMIhLP   \n",
       "4  2024-08-20 15:34:04  mixed  https://www.instagram.com/p/C-5MEWio9OQ   \n",
       "\n",
       "                                           image_url  \\\n",
       "0  ['https://scontent-fra5-1.cdninstagram.com/v/t...   \n",
       "1  ['https://scontent-fra3-2.cdninstagram.com/v/t...   \n",
       "2  ['https://scontent-fra5-1.cdninstagram.com/v/t...   \n",
       "3  ['https://scontent-fra3-2.cdninstagram.com/v/t...   \n",
       "4  ['https://scontent-fra5-1.cdninstagram.com/v/t...   \n",
       "\n",
       "                                           media_url  \\\n",
       "0  ['https://scontent-fra3-2.cdninstagram.com/o1/...   \n",
       "1  ['https://scontent-fra3-2.cdninstagram.com/v/t...   \n",
       "2  ['https://scontent-fra5-1.cdninstagram.com/v/t...   \n",
       "3  ['https://scontent-fra3-2.cdninstagram.com/o1/...   \n",
       "4  ['https://scontent-fra5-1.cdninstagram.com/v/t...   \n",
       "\n",
       "                                            hashtags  num_likes  num_comments  \\\n",
       "0  MeyerWerft,Papenburg,Werft,Schiffsbau,Bundeska...     3809.0         646.0   \n",
       "1  Stoppelmarkt,Vechta,Jahrmarkt,Bundeskanzler,Ka...     7956.0         363.0   \n",
       "2  Einbürgerung,Einwanderungsgesetz,Bremen,Bundes...    10972.0         611.0   \n",
       "3  Stoppelmarkt,Vechta,Bundeskanzler,Kanzler,Olaf...     6561.0         403.0   \n",
       "4  InnovateTogether,TSMC,Halbleiter,Semiconductor...     2843.0         284.0   \n",
       "\n",
       "   num_media location_name location_latlong  location_city  unix_timestamp  \\\n",
       "0        1.0           NaN              NaN            NaN    1.724349e+09   \n",
       "1        7.0           NaN              NaN            NaN    1.724067e+09   \n",
       "2        5.0           NaN              NaN            NaN    1.724088e+09   \n",
       "3        1.0           NaN              NaN            NaN    1.724133e+09   \n",
       "4        4.0           NaN              NaN            NaN    1.724161e+09   \n",
       "\n",
       "   media_n media_filename  \n",
       "0      0.0    C--xuvlogWQ  \n",
       "1      0.0  C-2Z4wfouLq_0  \n",
       "2      0.0  C-3A9ERomNm_0  \n",
       "3      0.0    C-4WayMIhLP  \n",
       "4      0.0  C-5MEWio9OQ_0  "
      ]
     },
     "execution_count": 17,
     "metadata": {},
     "output_type": "execute_result"
    }
   ],
   "source": [
    "global_posts_df = pd.read_csv(\"data/global_posts.csv\")\n",
    "global_posts_df.head()"
   ]
  },
  {
   "cell_type": "code",
   "execution_count": 28,
   "metadata": {},
   "outputs": [
    {
     "data": {
      "text/plain": [
       "532882"
      ]
     },
     "execution_count": 28,
     "metadata": {},
     "output_type": "execute_result"
    }
   ],
   "source": [
    "len(global_posts_df[\"body\"])"
   ]
  },
  {
   "cell_type": "code",
   "execution_count": 31,
   "metadata": {},
   "outputs": [
    {
     "data": {
      "text/plain": [
       "'39756671.0 words consisting of 297790588.0 characters'"
      ]
     },
     "execution_count": 31,
     "metadata": {},
     "output_type": "execute_result"
    }
   ],
   "source": [
    "word_count = global_posts_df[\"body\"].str.split().str.len().sum()\n",
    "char_count = global_posts_df[\"body\"].str.len().sum()\n",
    "f\"{word_count} words consisting of {char_count} characters\""
   ]
  },
  {
   "cell_type": "code",
   "execution_count": 20,
   "metadata": {},
   "outputs": [],
   "source": [
    "accounts_df = pd.read_csv(\"data/accounts_analysis.csv\")"
   ]
  },
  {
   "cell_type": "code",
   "execution_count": 22,
   "metadata": {},
   "outputs": [
    {
     "data": {
      "text/plain": [
       "560942"
      ]
     },
     "execution_count": 22,
     "metadata": {},
     "output_type": "execute_result"
    }
   ],
   "source": [
    "accounts_df[\"ZS_count\"].sum()"
   ]
  },
  {
   "cell_type": "code",
   "execution_count": 25,
   "metadata": {},
   "outputs": [
    {
     "data": {
      "text/plain": [
       "583604"
      ]
     },
     "execution_count": 25,
     "metadata": {},
     "output_type": "execute_result"
    }
   ],
   "source": [
    "accounts_df[\"IG_count\"].sum()"
   ]
  },
  {
   "cell_type": "code",
   "execution_count": 23,
   "metadata": {},
   "outputs": [
    {
     "data": {
      "text/plain": [
       "10557"
      ]
     },
     "execution_count": 23,
     "metadata": {},
     "output_type": "execute_result"
    }
   ],
   "source": [
    "accounts_df[\"ZS_count\"].max()"
   ]
  },
  {
   "cell_type": "code",
   "execution_count": 26,
   "metadata": {},
   "outputs": [
    {
     "data": {
      "text/plain": [
       "748.9212283044059"
      ]
     },
     "execution_count": 26,
     "metadata": {},
     "output_type": "execute_result"
    }
   ],
   "source": [
    "accounts_df[\"ZS_count\"].mean()"
   ]
  },
  {
   "cell_type": "code",
   "execution_count": 27,
   "metadata": {},
   "outputs": [
    {
     "data": {
      "text/plain": [
       "610.0"
      ]
     },
     "execution_count": 27,
     "metadata": {},
     "output_type": "execute_result"
    }
   ],
   "source": [
    "accounts_df[\"ZS_count\"].median()"
   ]
  },
  {
   "cell_type": "code",
   "execution_count": null,
   "metadata": {},
   "outputs": [],
   "source": []
  },
  {
   "cell_type": "code",
   "execution_count": null,
   "metadata": {},
   "outputs": [],
   "source": []
  }
 ],
 "metadata": {
  "kernelspec": {
   "display_name": "bundesposts_scraping",
   "language": "python",
   "name": "bundesposts_scraping"
  },
  "language_info": {
   "codemirror_mode": {
    "name": "ipython",
    "version": 3
   },
   "file_extension": ".py",
   "mimetype": "text/x-python",
   "name": "python",
   "nbconvert_exporter": "python",
   "pygments_lexer": "ipython3",
   "version": "3.10.16"
  }
 },
 "nbformat": 4,
 "nbformat_minor": 2
}
